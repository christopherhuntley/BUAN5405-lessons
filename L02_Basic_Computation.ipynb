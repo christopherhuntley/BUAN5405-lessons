{
 "cells": [
  {
   "cell_type": "markdown",
   "metadata": {},
   "source": [
    "<img src=\"https://github.com/christopherhuntley/BUAN5405-docs/blob/master/Slides/img/Dolan.png?raw=true\" style=\"width:180px; float:right\">\n",
    "\n",
    "# Basic Computation\n",
    "_Variables, Expressions, and Statements_"
   ]
  },
  {
   "cell_type": "markdown",
   "metadata": {},
   "source": [
    "# Learning Objectives\n",
    "\n",
    "## Theory / Be able to explain ...\n",
    "- aaa\n",
    "\n",
    "## Skills / Know how to  ...\n",
    "- bbb\n",
    "\n",
    "**What follows is adapted from Chapter 2 of the _Python For Everybody_ book. If you have not read it, then please do so before continuting on.**"
   ]
  },
  {
   "cell_type": "markdown",
   "metadata": {},
   "source": [
    "## Just the Highlights\n",
    "HIGHLIGHT VIDEO GOES HERE"
   ]
  },
  {
   "cell_type": "markdown",
   "metadata": {},
   "source": [
    "## Data, Information, and Knowledge\n",
    "The concepts in this lesson actually go all the way back to ancient times, when philosophers studied how they thought about ... thought. Plato, for example, spent significant time on the idea of [essentialism](https://en.wikipedia.org/wiki/Essentialism): the idea that **every entity (physical or conceptual) has an essential form** that defines its substance. That form has **features** that characterize facts that distinguish it from other entities. Entities also have **functions** that they carry out in the world. These essential forms and functions together define **types** or **categories** that are considered eternal, at which point philosophy starts to become theology ...\n",
    "\n",
    "Today, we still use this basic framework to model the world around us, though with slightly different terminology:\n",
    "\n",
    "- **Data** refers to facts. Each fact has a **value** that captures substance instead of importance or meaning. The number 42 can mean lots of things to different people. If you are a Monty Python fan then perhaps you remember it from _The Hitchiker's Guide to the Galaxy_. If you are baseball fan then it could mean Mariano Rivera or Jackie Robinson. Or it could just be the answer to \"What's 6 times 9?\" ... 42 of course, but only you are in base 13. \n",
    "- **Information** refers to facts that have an identified **meaning** and **structure**. When associating facts to entities the facts are given names, kind of like attaching sticky labels, so we know how each fact relates to the entity. For example we can say that 42 is the _Uniform Number_ (feature) of _Jackie Robinson, the famous baseball player_ (entity and essential type). Data can also have types, just like entities do. Is it 42 or \"42\" or 42.0? It matters a lot, at least to a data scientist. However, it's hard to tell without knowing how it is to be interpretted. \n",
    "- **Knowledge** refers to functionality: the ability to use information to do things. A knowledgable person can do a lot of things, once they have the necessary information. A less knowldgeable person might not be able to anything useful, even if given perfect information. In Python, the programs that we write are knowledge. It's how we get the computer to do what we want it to do. \n",
    "\n",
    "As you may have noticed, each of these things builds on the ones before it. We can of course continue on to wisdom (knowing what to do at a given time) and virtue (knowing right vs wrong), but it seems that we're getting back to theology again instead of science."
   ]
  },
  {
   "cell_type": "markdown",
   "metadata": {},
   "source": [
    "## Values and Types\n",
    "In Python a **value** is a representation of a fact. Each value has a **data type** that defines what kinds of facts it can represent and how it can be used.\n",
    "\n",
    "Returning to the example from the last section, let's consider 42, which can be represented as:\n",
    "- \"42\", a string of text characters\n",
    "- 42, an integer number between 41 and 43\n",
    "- 42.0, a rational number \n",
    "- 41.99999 (repeating forever)\n",
    "\n",
    "Depending on the data type 42 could come about many ways:\n",
    "- If it is text then we can _literally_ extract it from a sentence. \n",
    "- If it is an integer then it might be the number of people at a holiday party.\n",
    "- If it is a rational number then it may the result of 420/10. \n",
    "- If it is a real number then it could be the value of the calculation 7.0 / 3.0 * 18.0, which is _of course_ 41.99999 (repeating). \n",
    "\n",
    "Let's see what Python thinks about this:"
   ]
  },
  {
   "cell_type": "code",
   "execution_count": 1,
   "metadata": {},
   "outputs": [
    {
     "data": {
      "text/plain": [
       "str"
      ]
     },
     "execution_count": 1,
     "metadata": {},
     "output_type": "execute_result"
    }
   ],
   "source": [
    "type(\"42\")"
   ]
  },
  {
   "cell_type": "code",
   "execution_count": 2,
   "metadata": {},
   "outputs": [
    {
     "data": {
      "text/plain": [
       "int"
      ]
     },
     "execution_count": 2,
     "metadata": {},
     "output_type": "execute_result"
    }
   ],
   "source": [
    "type(42)"
   ]
  },
  {
   "cell_type": "code",
   "execution_count": 5,
   "metadata": {},
   "outputs": [
    {
     "data": {
      "text/plain": [
       "float"
      ]
     },
     "execution_count": 5,
     "metadata": {},
     "output_type": "execute_result"
    }
   ],
   "source": [
    "type(42.0)"
   ]
  },
  {
   "cell_type": "code",
   "execution_count": 6,
   "metadata": {},
   "outputs": [
    {
     "data": {
      "text/plain": [
       "float"
      ]
     },
     "execution_count": 6,
     "metadata": {},
     "output_type": "execute_result"
    }
   ],
   "source": [
    "type(21.0 / 6.0 * 12.0)"
   ]
  },
  {
   "cell_type": "markdown",
   "metadata": {},
   "source": [
    "Well, 3 out of 4 isn't too bad. It turns out that Python needs a little help to work with actual real numbers. Until then we'll just have to make do with the `float` data type.\n",
    "\n",
    "So what do these things mean exactly:\n",
    "- `str` represents literal text\n",
    "- `int` represents any integer number\n",
    "- `float` represents any floating point (rational) number\n",
    "\n",
    "There are, of course lots of data types built into Python, but we can make do with these three for now. \n",
    "\n",
    "### Pulse Check ...\n",
    "For each of the following calculations, try to guess the result _before_ running the cell. Then explain what happened. If the result surprised you, say why. As always, don't worry so much about being right for now. To find out the right answers watch the video. "
   ]
  },
  {
   "cell_type": "code",
   "execution_count": 16,
   "metadata": {},
   "outputs": [
    {
     "data": {
      "text/plain": [
       "int"
      ]
     },
     "execution_count": 16,
     "metadata": {},
     "output_type": "execute_result"
    }
   ],
   "source": [
    "type(7*6)"
   ]
  },
  {
   "cell_type": "code",
   "execution_count": null,
   "metadata": {},
   "outputs": [],
   "source": [
    "YOUR ANSWER HERE"
   ]
  },
  {
   "cell_type": "code",
   "execution_count": 14,
   "metadata": {},
   "outputs": [
    {
     "data": {
      "text/plain": [
       "float"
      ]
     },
     "execution_count": 14,
     "metadata": {},
     "output_type": "execute_result"
    }
   ],
   "source": [
    "type(42/6)"
   ]
  },
  {
   "cell_type": "markdown",
   "metadata": {},
   "source": [
    "YOUR ANSWER HERE"
   ]
  },
  {
   "cell_type": "code",
   "execution_count": 8,
   "metadata": {},
   "outputs": [
    {
     "ename": "TypeError",
     "evalue": "unsupported operand type(s) for /: 'str' and 'int'",
     "output_type": "error",
     "traceback": [
      "\u001b[0;31m---------------------------------------------------------------------------\u001b[0m",
      "\u001b[0;31mTypeError\u001b[0m                                 Traceback (most recent call last)",
      "\u001b[0;32m<ipython-input-8-987b3858d50e>\u001b[0m in \u001b[0;36m<module>\u001b[0;34m\u001b[0m\n\u001b[0;32m----> 1\u001b[0;31m \u001b[0;34m\"42\"\u001b[0m\u001b[0;34m/\u001b[0m\u001b[0;36m6\u001b[0m\u001b[0;34m\u001b[0m\u001b[0;34m\u001b[0m\u001b[0m\n\u001b[0m",
      "\u001b[0;31mTypeError\u001b[0m: unsupported operand type(s) for /: 'str' and 'int'"
     ]
    }
   ],
   "source": [
    "\"42\"/6"
   ]
  },
  {
   "cell_type": "markdown",
   "metadata": {},
   "source": [
    "YOUR ANSWER HERE"
   ]
  },
  {
   "cell_type": "code",
   "execution_count": 11,
   "metadata": {},
   "outputs": [
    {
     "data": {
      "text/plain": [
       "'424242424242'"
      ]
     },
     "execution_count": 11,
     "metadata": {},
     "output_type": "execute_result"
    }
   ],
   "source": [
    "\"42\"*6"
   ]
  },
  {
   "cell_type": "markdown",
   "metadata": {},
   "source": [
    "YOUR ANSWER HERE"
   ]
  },
  {
   "cell_type": "code",
   "execution_count": 12,
   "metadata": {},
   "outputs": [
    {
     "ename": "TypeError",
     "evalue": "can't multiply sequence by non-int of type 'float'",
     "output_type": "error",
     "traceback": [
      "\u001b[0;31m---------------------------------------------------------------------------\u001b[0m",
      "\u001b[0;31mTypeError\u001b[0m                                 Traceback (most recent call last)",
      "\u001b[0;32m<ipython-input-12-b46fc8dcf48e>\u001b[0m in \u001b[0;36m<module>\u001b[0;34m\u001b[0m\n\u001b[0;32m----> 1\u001b[0;31m \u001b[0;34m\"42\"\u001b[0m\u001b[0;34m*\u001b[0m\u001b[0;36m6.0\u001b[0m\u001b[0;34m\u001b[0m\u001b[0;34m\u001b[0m\u001b[0m\n\u001b[0m",
      "\u001b[0;31mTypeError\u001b[0m: can't multiply sequence by non-int of type 'float'"
     ]
    }
   ],
   "source": [
    "\"42\"*6.0"
   ]
  },
  {
   "cell_type": "markdown",
   "metadata": {},
   "source": [
    "YOUR ANSWER HERE"
   ]
  },
  {
   "cell_type": "markdown",
   "metadata": {},
   "source": [
    "DATA TYPE DEMO HERE"
   ]
  },
  {
   "cell_type": "markdown",
   "metadata": {},
   "source": [
    "## Type Conversions\n",
    "There are times when we might want to convert a value from one type or another. For that we use type conversion **functions** that come built into Python. For example:"
   ]
  },
  {
   "cell_type": "code",
   "execution_count": 20,
   "metadata": {},
   "outputs": [
    {
     "data": {
      "text/plain": [
       "int"
      ]
     },
     "execution_count": 20,
     "metadata": {},
     "output_type": "execute_result"
    }
   ],
   "source": [
    "type(int(\"42\"))"
   ]
  },
  {
   "cell_type": "code",
   "execution_count": 21,
   "metadata": {},
   "outputs": [
    {
     "data": {
      "text/plain": [
       "str"
      ]
     },
     "execution_count": 21,
     "metadata": {},
     "output_type": "execute_result"
    }
   ],
   "source": [
    "type(str(42))"
   ]
  },
  {
   "cell_type": "code",
   "execution_count": 22,
   "metadata": {},
   "outputs": [
    {
     "data": {
      "text/plain": [
       "str"
      ]
     },
     "execution_count": 22,
     "metadata": {},
     "output_type": "execute_result"
    }
   ],
   "source": [
    "type(str(int(42.0)))"
   ]
  },
  {
   "cell_type": "markdown",
   "metadata": {},
   "source": [
    "**How can you tell these are functions?**  \n",
    "Anytime you see a name followed by a left parenthesis (`(`), Python assumes you are trying to call a function. **The parentheses come in pairs.** As long as each left parenthesis is matched by one (and only one) right parenthesis (`)`), Python will find and call the function from among its many libraries. Also, note that **function calls can be nested inside each other**, with the innermost function call executed first."
   ]
  },
  {
   "cell_type": "markdown",
   "metadata": {},
   "source": [
    "### Pulse Check ...\n",
    "Use type conversions to 'fix' the broken calculations below. Make each cell return a `float` data type."
   ]
  },
  {
   "cell_type": "markdown",
   "metadata": {},
   "source": [
    "**\"42\"/6**"
   ]
  },
  {
   "cell_type": "code",
   "execution_count": null,
   "metadata": {},
   "outputs": [],
   "source": [
    "\"42\"/6"
   ]
  },
  {
   "cell_type": "markdown",
   "metadata": {},
   "source": [
    "**\"42\"*6**"
   ]
  },
  {
   "cell_type": "code",
   "execution_count": null,
   "metadata": {},
   "outputs": [],
   "source": [
    "\"42\"*6"
   ]
  },
  {
   "cell_type": "markdown",
   "metadata": {},
   "source": [
    "**\"42\"*6.0**"
   ]
  },
  {
   "cell_type": "code",
   "execution_count": null,
   "metadata": {},
   "outputs": [],
   "source": [
    "\"42\"*6.0"
   ]
  },
  {
   "cell_type": "markdown",
   "metadata": {},
   "source": [
    "TYPE CONVERSION DEMO HERE"
   ]
  },
  {
   "cell_type": "markdown",
   "metadata": {},
   "source": [
    "## Variables\n",
    "Remember those sticky labels we talked about in the section on _Data, Information, and Knowledge_ at the start of this lesson? These are what we call **variables**. A variable is a **name** we can use to refer to a value. It represents the smallest possible unit of information. However, just as we can move sticky notes around, so we can change what value a variable is referring to. That turns out to be pretty useful, as you will see in a moment. \n",
    "\n",
    "Variables references get set (or changed) through assignment:\n",
    "```python\n",
    "uniform_number = 42\n",
    "player_name = \"Jackie Robinson\"\n",
    "print(player_name + \" wore number \" + str(uniform_number))\n",
    "\n",
    "player_name = \"Mariano Rivera\"\n",
    "print(player_name + \" wore number \" + str(uniform_number))\n",
    "\n",
    "```\n",
    "Let's try it, but first predict what the above code will do."
   ]
  },
  {
   "cell_type": "markdown",
   "metadata": {},
   "source": [
    "YOUR PREDICTION HERE."
   ]
  },
  {
   "cell_type": "code",
   "execution_count": 26,
   "metadata": {},
   "outputs": [
    {
     "name": "stdout",
     "output_type": "stream",
     "text": [
      "Jackie Robinson wore number 42\n",
      "Mariano Rivera wore number 42\n"
     ]
    }
   ],
   "source": [
    "uniform_number = 42\n",
    "player_name = \"Jackie Robinson\"\n",
    "print(player_name + \" wore number \" + str(uniform_number))\n",
    "\n",
    "player_name = \"Mariano Rivera\"\n",
    "print(player_name + \" wore number \" + str(uniform_number))"
   ]
  },
  {
   "cell_type": "markdown",
   "metadata": {},
   "source": [
    "There is actually a lot going on here. \n",
    "\n",
    "1. The variable `uniform_number` is used to refer to the integer `42`. If this is the first time we've used the variable `uniform_number` then it creates the variable name as well. \n",
    "2. The variable `player_name` is used to refer to the string `Jackie Robinson`. This does the same thing for the variable `player_name`. \n",
    "3. The code prints out `Jackie Robinson wore number 42`. This uses the two variables to construct the output string before printing. In order to append the number 42 to the end, we had to convert it to a string. \n",
    "4. The variable `player_name` is updated to refer to the string `Mariano Rivera`. This changes the value of the `player_name` variable. The old value, `Jackie Robinson` is forgotten. There is no way to refer to it anymore. \n",
    "5. The code prints out `Mariano Rivera wore number 42`. This uses the updated variable but with exact the same code as in #3.\n",
    "\n",
    "### Variable Assignment\n",
    "Before moving on to how we select variable names, it's worth nothing that even the assignment operation like `player_name = \"Jackie Robinson\"` is a multi-step process:\n",
    "\n",
    "1. The value to the right of the equal sign is calculated if needed.\n",
    "2. If the variable to the left of the equal sign doesn't exist yet, then define it. If does exist then recall it so you can use it again. \n",
    "3. The variable is set to refer to the value on the right. \n",
    "\n",
    "Consider the following example, which shows several possible variations on variable assignment:"
   ]
  },
  {
   "cell_type": "code",
   "execution_count": 27,
   "metadata": {},
   "outputs": [
    {
     "name": "stdout",
     "output_type": "stream",
     "text": [
      "Mariano Rivera\n",
      "Jackie Robinson\n"
     ]
    }
   ],
   "source": [
    "first_name = \"Jackie\"\n",
    "last_name = \"Robinson\"\n",
    "person1 = first_name + \" \" + last_name\n",
    "person2 = person1\n",
    "person1 = \"Mariano Rivera\"\n",
    "print(person1)\n",
    "print(person2)"
   ]
  },
  {
   "cell_type": "markdown",
   "metadata": {},
   "source": [
    "Take your time to make sure you understand each line _given the lines above it_: \n",
    "- lines 1 and 2: create and set new variables `first_name` and `last_name`\n",
    "- line 3: calculate `first_name + \" \" + last_name`, create the variable `person1` and then assign it the value calculated to the right of the `=`\n",
    "- line 4: recall the value of `person1` and assign it to the new variable `person2`\n",
    "- line 5: update the value of `person1` to `Mariano Rivera`\n",
    "- line 6: print the value of `person1`\n",
    "- line 7: print the value of `person2`\n",
    "\n",
    "Note that even though in line 5 we updated `person1` to `Mariano Rivera`, the value of `person2` remained `Jackie Robinson`, just as it was before. This is how things tend to work in Python, though we will eventually see some exceptions when we discuss mutable data structures like lists and dictionaries. "
   ]
  },
  {
   "cell_type": "markdown",
   "metadata": {},
   "source": [
    "### Variable Naming\n",
    "\n",
    ">There are only two hard problems in Computer Science: naming things and cache invalidation. --Phil Karlton\n",
    "\n",
    "In order to use variables we have to give them names. A few basic principles apply, regardless of the language:\n",
    "\n",
    "- **Each name has to be unique** in the context they are being used. We can't, for example, have the same name for two different entities. We can label two different entities with the same name, but never at the same time. Variable assignment only allows one value at a time. \n",
    "- **Names should be descriptive** enough that we, the programmers, know what each one stands for. Otherwise we can't follow each other's code without a road map, and who's got time for that? Even if we are the only ones to ever see the code, once a program gets larger than a couple dozen lines or so, it can get hard to remember everything. You want it to fit nicely in your head. \n",
    "- **Names should also be short** enough that fat fingered typists can use them without lots of typos. \n",
    "\n",
    "The official [Python Language Definition](https://docs.python.org/3/reference/index.html) includes [some other rules](https://docs.python.org/3/reference/lexical_analysis.html#identifiers):\n",
    "- names can include letters, numbers, and underscores\n",
    "- names cannot start with a number\n",
    "- names can be any length, but anything over 79 characters may not work in older versions of Python\n",
    "- names must include at least one letter or an underscore (note: `_` is a special variable in Jupyter)\n",
    "\n",
    "These are some bad examples of variable names in Python:\n",
    "- `x`, `c`, `fizz`, `buzz`, `name` are not very descriptive. Only use these for very short sections of code where the meanings can easily be deduced by context.\n",
    "- `this_is_the_theme_for_garrys_show` is certainly descriptive if it refers to the theme some from the _Garry Shandling Show_ but it may also be a bit long and too specific. What if Garry had chosen to rename his theme song? All our code would be trashed. \n",
    "- `in`, `for`,`def`, etc. are keywords. They are already taken.\n",
    "- `My Drive` has spaces in it. Python can't tell that `My` and `Drive` are part of the same name. Use underscores (`_`) between the words instead. \n",
    "- `My_Drive` also is bad form. In Python **variables should be lower case letters only.** Python will accept capital letters, but other programmers will complain. It's just not done. \n",
    "- `dollar$` is a bad name because it includes an illegal character. Leave that stuff for other languages. Python wants it clean. \n",
    "\n",
    "While this section is about variable names, **many of these same rules also apply to just everything else**:\n",
    "- Functions\n",
    "- Files\n",
    "- Data types\n",
    "- Libaries and modules\n",
    "- ...\n",
    "\n",
    "There are a couple notable exceptions, though:\n",
    "- CONSTANTS (i.e., variables that don't actually vary) should be in `ALL_CAPS_WITH_UNDERSCORES`\n",
    "- Third-party data types (a.k.a., `classes`) should use `CamelCaseNaming` where the first letter of each word is capitalized and there are no underscores. \n",
    "\n",
    "These are nonstandard because they are _intended_ to stand out. That they don't follow the rules clues us in that they have special meanings and uses.    \n",
    "\n",
    "For more about Python naming conventions, take a peek at the official [Style Guide for Python Code](https://www.python.org/dev/peps/pep-0008/#naming-conventions), also known as PEP-8."
   ]
  },
  {
   "cell_type": "markdown",
   "metadata": {},
   "source": [
    "## Statements, Expressions, Operators, Literals, and Punctuation\n",
    "\n",
    "Sometimes you can learn a lot from just one line of code. For example, let's revisit a line from the section on variable assignment:\n",
    "```python\n",
    "person1 = first_name + \" \" + last_name\n",
    "```\n",
    "\n",
    "In this one line we see a **statement**, an **operator**, and **an expression**. (Actually, there are three expressions, but who's counting?)\n",
    "- the entire line of code `person1 = first_name + \" \" + last_name` is one **statement**\n",
    "- the assignment **operator** is denoted by the equals sign `=`\n",
    "- the calculation `first_name + \" \" + last_name` is an **expression**\n",
    "\n",
    "**A statement is the Python equivalent of a sentence.** It's one sytactically complete thought (for the programmer) or one syntactically complete unit of code to execute (for Python). Each time we ask the computer to do something, we give it a statement. If we give the computer a sequence of statement then it executes them one at a time in the order they are given. \n",
    "\n",
    "Just as sentences in human language have syntactic structure (parts of speak), so do Python statements. In fact the precise grammar for all legal Python statements is defined in one surprisingly short document, [Python Language Definition](https://docs.python.org/3/reference/index.html). The grammar rules defined there break each sentence down into expressions, operations, and punctuation. Everything is covered in fine detail. Consider, for example, how Python defines integer number:   \n",
    "![Integer Grammar Rule](img/L2_1_Integer_Grammar.png)  \n",
    "While the notation (called BNR grammar, first used to design Fortran) is pretty arcane, just know that these 10 rules (one per line) together describe every possible integer in every possible format recognized by Python. \n",
    "\n",
    "**An expression is anything that can be executed to produce a value.** So, each calculation like `1+1` or `first_name + \" \" + last_name` is an expression but so is recalling the value of a variable like `first_name` or `last_name`. They each produce a value. That's their _function_. The _form_ of an expression is always some combination of variables, values, and operators. The values may themselves be expressions, and so it goes, with Python breaking down expressions into smaller and smaller expressions, until it arrives at so-called **literal** values (a.k.a., tokens). **Literals** are things like numbers or text strings that cannot be broken down into smaller parts without affecting their values. \n",
    "\n",
    "**An operator is a calculation, typically represented by a symbol like `+` or `%`.** In order for operators to be useful in expressions they have to be applied to one or more **operands** according to a specific pattern. For example the assignment operator _always_ applies the same pattern: _`variable`_ `=` _`expression`_. As we learned before, the expression on the right is always evaluated first and then assigned to the variable on the left. \n",
    "\n",
    "Since operations are just a special kind of expressions, they can be can also be broken down itnot smaller and smaller parts. When doing so we need to know operations to evaluate first. For that we can use the same [PEMDAS rule](https://en.wikipedia.org/wiki/Order_of_operations) you likely learned in middle school. Operations are evaluated **left to right** _except_ ...\n",
    "- operations inside **parentheses** (or other grouping operation) must be evaluated before ...\n",
    "- **exponents** and roots, which must be evaluated before ...\n",
    "- **multiplication** and **division**, which must be evaluated before ...\n",
    "- **addition** and **subtraction**\n",
    "\n",
    "Thus, `3*6+1/2` evaluates to 18.5 while `3*(6+1)/2` evaluates to 10.5. If in doubt about how an expression is going to be evaluated, use parentheses to force it to go the way you want it to go. \n",
    "\n",
    "**Punctuation is everything else we need to structure our statements.** We haven't seen much of that yet but we will. Besides **white space** (which we learned about in lesson 1) we will also use dots `.`, colons `:`, parentheses `()`, brackets `[]` and other symbols as hints to help Python break statements down into their various parts. "
   ]
  },
  {
   "cell_type": "markdown",
   "metadata": {},
   "source": [
    "## Code Comments"
   ]
  },
  {
   "cell_type": "markdown",
   "metadata": {},
   "source": [
    "## Literate Programming"
   ]
  },
  {
   "cell_type": "markdown",
   "metadata": {},
   "source": [
    "## Debugging Tips"
   ]
  },
  {
   "cell_type": "markdown",
   "metadata": {},
   "source": [
    "## Exercises"
   ]
  },
  {
   "cell_type": "markdown",
   "metadata": {},
   "source": [
    "## Submit your work to GitHub\n",
    "1. Save this Notebook.\n",
    "2. Commit your changes and save/push to GitHub."
   ]
  },
  {
   "cell_type": "code",
   "execution_count": null,
   "metadata": {},
   "outputs": [],
   "source": []
  }
 ],
 "metadata": {
  "kernelspec": {
   "display_name": "Python 3",
   "language": "python",
   "name": "python3"
  },
  "language_info": {
   "codemirror_mode": {
    "name": "ipython",
    "version": 3
   },
   "file_extension": ".py",
   "mimetype": "text/x-python",
   "name": "python",
   "nbconvert_exporter": "python",
   "pygments_lexer": "ipython3",
   "version": "3.7.7"
  }
 },
 "nbformat": 4,
 "nbformat_minor": 4
}
