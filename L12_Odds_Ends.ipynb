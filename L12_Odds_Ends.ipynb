{
 "cells": [
  {
   "cell_type": "markdown",
   "metadata": {},
   "source": [
    "<img src=\"https://github.com/christopherhuntley/BUAN5405-docs/blob/master/Slides/img/Dolan.png?raw=true\" width=\"180px\" align=\"right\">\n",
    "\n",
    "# Lesson 12: Odds and Ends\n",
    "_Tuples inside of lists inside of dictionaries ..._"
   ]
  },
  {
   "cell_type": "markdown",
   "metadata": {},
   "source": [
    "# Learning Objectives\n",
    "\n",
    "## Theory / Be able to explain ...\n",
    "- How ReST API requests can be used to collect data from web services\n",
    "- The tree structure of JSON data\n",
    "- The purpose of the `date`, `datetime`, and `time` modules\n",
    "- How datetime data can be used in pandas\n",
    "\n",
    "## Skills / Know how to  ...\n",
    "- Retrieve data from a ReST API or web URL.\n",
    "- Parse JSON data using Python operators and functions\n",
    "- Create and use time series data in DataFrames\n",
    "\n",
    "**This is new content you won't find in the Py4E book. It is, however, somewhat related to the JSON materials in Chapter 13.**"
   ]
  },
  {
   "cell_type": "markdown",
   "metadata": {},
   "source": [
    "## So long, farewell, auf Wiedersehen, good night\n",
    "> This is the end, beautiful friend -- _The Doors_\n",
    "\n",
    "Now that we have pandas in our quiver, it would seem like \"what else do we need to know?\" Quite a lot actually. DataFrames and Series bring together so many best practices that programmers have earned and learned over the past decades. However, pandas does not say much about the types of data we pour into our DataFrames. For that we will often need to pull in other libraries with even more data types, many of which build on top of pandas or numpy to make our lives that much better. We will briefly cover two such data types: JSON trees and Time Series. \n",
    "\n",
    "Except for your final project, with this lesson we have reached the end of the course. I hope you have gotten what you needed while you were here. It's been fun putting all this together for you and I hope to see you in person sometime soon. \n",
    "\n",
    "Now it's your turn. You know just enough Python to learn the rest. If you want to get better then keep your hands on the keyboards working on your own projects. If happen to be on our Slack, then try out the `#python-slashes` channel to post your best one-liners. I heard a rumour that there might even be a prize for the best one. "
   ]
  },
  {
   "cell_type": "markdown",
   "metadata": {},
   "source": [
    "## ReST APIs and JSON Data\n",
    "In order to work with _really big data_ one usually has to gather it straight from the cloud. There is no concept of files, filenames, and filepaths in such an environment. Instead, we use **APIs** that provide **endpoints**, **query strings**, and ... **JSON data**. \n",
    "\n",
    "An Application Programming Interface (API) provides a standard set of functions (and perhaps a few configuration constants like security keys) for delivering a service. While there are APIs for lots of uses, the relevant ones for a data scientist are likely to be [ReST APIs](https://en.wikipedia.org/wiki/Representational_state_transfer). A ReST API uses the https protocol (i.e., the web) with specially-crafted request **endpoints** that tell the service what you want. Each endpoint combines a https command (GET, POST, PUT, PATCH, and DELETE) with a URL pattern indicating what data or other resource is being accessed. For example, the following ReST API call asks GitHub for details about this very notebook.  "
   ]
  },
  {
   "cell_type": "code",
   "execution_count": 1,
   "metadata": {},
   "outputs": [
    {
     "data": {
      "text/plain": [
       "'[{\"sha\":\"ce2df1273cbd6918729cc51bb7aeb1b9640d7ffd\",\"node_id\":\"MDY6Q29tbWl0MjY5NzA5NTA2OmNlMmRmMTI3M2NiZDY5MTg3MjljYzUxYmI3YWViMWI5NjQwZDdmZmQ=\",\"commit\":{\"author\":{\"name\":\"Christopher Huntley\",\"email\":\"christopher.huntley@gmail.com\",\"date\":\"2020-06-20T20:21:50Z\"},\"committer\":{\"name\":\"Christopher Huntley\",\"email\":\"christopher.huntley@gmail.com\",\"date\":\"2020-06-20T20:21:50Z\"},\"message\":\"Almost done with Lesson 12\",\"tree\":{\"sha\":\"6dd90e59b1b198d0735c723bb196691e47cd4ee1\",\"url\":\"https://api.github.com/repos/christopherhuntley/BUAN5405-lessons/git/trees/6dd90e59b1b198d0735c723bb196691e47cd4ee1\"},\"url\":\"https://api.github.com/repos/christopherhuntley/BUAN5405-lessons/git/commits/ce2df1273cbd6918729cc51bb7aeb1b9640d7ffd\",\"comment_count\":0,\"verification\":{\"verified\":false,\"reason\":\"unsigned\",\"signature\":null,\"payload\":null}},\"url\":\"https://api.github.com/repos/christopherhuntley/BUAN5405-lessons/commits/ce2df1273cbd6918729cc51bb7aeb1b9640d7ffd\",\"html_url\":\"https://github.com/christopherhuntley/BUAN5405-lessons/commit/ce2df1273cbd6918729cc51bb7aeb1b9640d7ffd\",\"comments_url\":\"https://api.github.com/repos/christopherhuntley/BUAN5405-lessons/commits/ce2df1273cbd6918729cc51bb7aeb1b9640d7ffd/comments\",\"author\":{\"login\":\"christopherhuntley\",\"id\":6188254,\"node_id\":\"MDQ6VXNlcjYxODgyNTQ=\",\"avatar_url\":\"https://avatars1.githubusercontent.com/u/6188254?v=4\",\"gravatar_id\":\"\",\"url\":\"https://api.github.com/users/christopherhuntley\",\"html_url\":\"https://github.com/christopherhuntley\",\"followers_url\":\"https://api.github.com/users/christopherhuntley/followers\",\"following_url\":\"https://api.github.com/users/christopherhuntley/following{/other_user}\",\"gists_url\":\"https://api.github.com/users/christopherhuntley/gists{/gist_id}\",\"starred_url\":\"https://api.github.com/users/christopherhuntley/starred{/owner}{/repo}\",\"subscriptions_url\":\"https://api.github.com/users/christopherhuntley/subscriptions\",\"organizations_url\":\"https://api.github.com/users/christopherhuntley/orgs\",\"repos_url\":\"https://api.github.com/users/christopherhuntley/repos\",\"events_url\":\"https://api.github.com/users/christopherhuntley/events{/privacy}\",\"received_events_url\":\"https://api.github.com/users/christopherhuntley/received_events\",\"type\":\"User\",\"site_admin\":false},\"committer\":{\"login\":\"christopherhuntley\",\"id\":6188254,\"node_id\":\"MDQ6VXNlcjYxODgyNTQ=\",\"avatar_url\":\"https://avatars1.githubusercontent.com/u/6188254?v=4\",\"gravatar_id\":\"\",\"url\":\"https://api.github.com/users/christopherhuntley\",\"html_url\":\"https://github.com/christopherhuntley\",\"followers_url\":\"https://api.github.com/users/christopherhuntley/followers\",\"following_url\":\"https://api.github.com/users/christopherhuntley/following{/other_user}\",\"gists_url\":\"https://api.github.com/users/christopherhuntley/gists{/gist_id}\",\"starred_url\":\"https://api.github.com/users/christopherhuntley/starred{/owner}{/repo}\",\"subscriptions_url\":\"https://api.github.com/users/christopherhuntley/subscriptions\",\"organizations_url\":\"https://api.github.com/users/christopherhuntley/orgs\",\"repos_url\":\"https://api.github.com/users/christopherhuntley/repos\",\"events_url\":\"https://api.github.com/users/christopherhuntley/events{/privacy}\",\"received_events_url\":\"https://api.github.com/users/christopherhuntley/received_events\",\"type\":\"User\",\"site_admin\":false},\"parents\":[{\"sha\":\"0bf100e8516507e5d1cf4dcc69ef4e0facbb3f35\",\"url\":\"https://api.github.com/repos/christopherhuntley/BUAN5405-lessons/commits/0bf100e8516507e5d1cf4dcc69ef4e0facbb3f35\",\"html_url\":\"https://github.com/christopherhuntley/BUAN5405-lessons/commit/0bf100e8516507e5d1cf4dcc69ef4e0facbb3f35\"}]},{\"sha\":\"0bf100e8516507e5d1cf4dcc69ef4e0facbb3f35\",\"node_id\":\"MDY6Q29tbWl0MjY5NzA5NTA2OjBiZjEwMGU4NTE2NTA3ZTVkMWNmNGRjYzY5ZWY0ZTBmYWNiYjNmMzU=\",\"commit\":{\"author\":{\"name\":\"Christopher Huntley\",\"email\":\"christopher.huntley@gmail.com\",\"date\":\"2020-06-20T15:45:53Z\"},\"committer\":{\"name\":\"Christopher Huntley\",\"email\":\"christopher.huntley@gmail.com\",\"date\":\"2020-06-20T15:45:53Z\"},\"message\":\"Added JSON section to Odds and Ends\",\"tree\":{\"sha\":\"6c47280acf1d5337a7c7feeb96fe1aef8b5724a2\",\"url\":\"https://api.github.com/repos/christopherhuntley/BUAN5405-lessons/git/trees/6c47280acf1d5337a7c7feeb96fe1aef8b5724a2\"},\"url\":\"https://api.github.com/repos/christopherhuntley/BUAN5405-lessons/git/commits/0bf100e8516507e5d1cf4dcc69ef4e0facbb3f35\",\"comment_count\":0,\"verification\":{\"verified\":false,\"reason\":\"unsigned\",\"signature\":null,\"payload\":null}},\"url\":\"https://api.github.com/repos/christopherhuntley/BUAN5405-lessons/commits/0bf100e8516507e5d1cf4dcc69ef4e0facbb3f35\",\"html_url\":\"https://github.com/christopherhuntley/BUAN5405-lessons/commit/0bf100e8516507e5d1cf4dcc69ef4e0facbb3f35\",\"comments_url\":\"https://api.github.com/repos/christopherhuntley/BUAN5405-lessons/commits/0bf100e8516507e5d1cf4dcc69ef4e0facbb3f35/comments\",\"author\":{\"login\":\"christopherhuntley\",\"id\":6188254,\"node_id\":\"MDQ6VXNlcjYxODgyNTQ=\",\"avatar_url\":\"https://avatars1.githubusercontent.com/u/6188254?v=4\",\"gravatar_id\":\"\",\"url\":\"https://api.github.com/users/christopherhuntley\",\"html_url\":\"https://github.com/christopherhuntley\",\"followers_url\":\"https://api.github.com/users/christopherhuntley/followers\",\"following_url\":\"https://api.github.com/users/christopherhuntley/following{/other_user}\",\"gists_url\":\"https://api.github.com/users/christopherhuntley/gists{/gist_id}\",\"starred_url\":\"https://api.github.com/users/christopherhuntley/starred{/owner}{/repo}\",\"subscriptions_url\":\"https://api.github.com/users/christopherhuntley/subscriptions\",\"organizations_url\":\"https://api.github.com/users/christopherhuntley/orgs\",\"repos_url\":\"https://api.github.com/users/christopherhuntley/repos\",\"events_url\":\"https://api.github.com/users/christopherhuntley/events{/privacy}\",\"received_events_url\":\"https://api.github.com/users/christopherhuntley/received_events\",\"type\":\"User\",\"site_admin\":false},\"committer\":{\"login\":\"christopherhuntley\",\"id\":6188254,\"node_id\":\"MDQ6VXNlcjYxODgyNTQ=\",\"avatar_url\":\"https://avatars1.githubusercontent.com/u/6188254?v=4\",\"gravatar_id\":\"\",\"url\":\"https://api.github.com/users/christopherhuntley\",\"html_url\":\"https://github.com/christopherhuntley\",\"followers_url\":\"https://api.github.com/users/christopherhuntley/followers\",\"following_url\":\"https://api.github.com/users/christopherhuntley/following{/other_user}\",\"gists_url\":\"https://api.github.com/users/christopherhuntley/gists{/gist_id}\",\"starred_url\":\"https://api.github.com/users/christopherhuntley/starred{/owner}{/repo}\",\"subscriptions_url\":\"https://api.github.com/users/christopherhuntley/subscriptions\",\"organizations_url\":\"https://api.github.com/users/christopherhuntley/orgs\",\"repos_url\":\"https://api.github.com/users/christopherhuntley/repos\",\"events_url\":\"https://api.github.com/users/christopherhuntley/events{/privacy}\",\"received_events_url\":\"https://api.github.com/users/christopherhuntley/received_events\",\"type\":\"User\",\"site_admin\":false},\"parents\":[{\"sha\":\"ad17f6f381572c27aed837c98806bff49c9091ba\",\"url\":\"https://api.github.com/repos/christopherhuntley/BUAN5405-lessons/commits/ad17f6f381572c27aed837c98806bff49c9091ba\",\"html_url\":\"https://github.com/christopherhuntley/BUAN5405-lessons/commit/ad17f6f381572c27aed837c98806bff49c9091ba\"}]},{\"sha\":\"81943548d82515962b3d01b8c2774393804fff15\",\"node_id\":\"MDY6Q29tbWl0MjY5NzA5NTA2OjgxOTQzNTQ4ZDgyNTE1OTYyYjNkMDFiOGMyNzc0MzkzODA0ZmZmMTU=\",\"commit\":{\"author\":{\"name\":\"Christopher Huntley\",\"email\":\"christopher.huntley@gmail.com\",\"date\":\"2020-06-20T05:42:17Z\"},\"committer\":{\"name\":\"Christopher Huntley\",\"email\":\"christopher.huntley@gmail.com\",\"date\":\"2020-06-20T05:42:17Z\"},\"message\":\"Swapped assignment order and added intro to Lesson 12.\",\"tree\":{\"sha\":\"56519bc74c9a60615fd8af348d1e4144c77f3beb\",\"url\":\"https://api.github.com/repos/christopherhuntley/BUAN5405-lessons/git/trees/56519bc74c9a60615fd8af348d1e4144c77f3beb\"},\"url\":\"https://api.github.com/repos/christopherhuntley/BUAN5405-lessons/git/commits/81943548d82515962b3d01b8c2774393804fff15\",\"comment_count\":0,\"verification\":{\"verified\":false,\"reason\":\"unsigned\",\"signature\":null,\"payload\":null}},\"url\":\"https://api.github.com/repos/christopherhuntley/BUAN5405-lessons/commits/81943548d82515962b3d01b8c2774393804fff15\",\"html_url\":\"https://github.com/christopherhuntley/BUAN5405-lessons/commit/81943548d82515962b3d01b8c2774393804fff15\",\"comments_url\":\"https://api.github.com/repos/christopherhuntley/BUAN5405-lessons/commits/81943548d82515962b3d01b8c2774393804fff15/comments\",\"author\":{\"login\":\"christopherhuntley\",\"id\":6188254,\"node_id\":\"MDQ6VXNlcjYxODgyNTQ=\",\"avatar_url\":\"https://avatars1.githubusercontent.com/u/6188254?v=4\",\"gravatar_id\":\"\",\"url\":\"https://api.github.com/users/christopherhuntley\",\"html_url\":\"https://github.com/christopherhuntley\",\"followers_url\":\"https://api.github.com/users/christopherhuntley/followers\",\"following_url\":\"https://api.github.com/users/christopherhuntley/following{/other_user}\",\"gists_url\":\"https://api.github.com/users/christopherhuntley/gists{/gist_id}\",\"starred_url\":\"https://api.github.com/users/christopherhuntley/starred{/owner}{/repo}\",\"subscriptions_url\":\"https://api.github.com/users/christopherhuntley/subscriptions\",\"organizations_url\":\"https://api.github.com/users/christopherhuntley/orgs\",\"repos_url\":\"https://api.github.com/users/christopherhuntley/repos\",\"events_url\":\"https://api.github.com/users/christopherhuntley/events{/privacy}\",\"received_events_url\":\"https://api.github.com/users/christopherhuntley/received_events\",\"type\":\"User\",\"site_admin\":false},\"committer\":{\"login\":\"christopherhuntley\",\"id\":6188254,\"node_id\":\"MDQ6VXNlcjYxODgyNTQ=\",\"avatar_url\":\"https://avatars1.githubusercontent.com/u/6188254?v=4\",\"gravatar_id\":\"\",\"url\":\"https://api.github.com/users/christopherhuntley\",\"html_url\":\"https://github.com/christopherhuntley\",\"followers_url\":\"https://api.github.com/users/christopherhuntley/followers\",\"following_url\":\"https://api.github.com/users/christopherhuntley/following{/other_user}\",\"gists_url\":\"https://api.github.com/users/christopherhuntley/gists{/gist_id}\",\"starred_url\":\"https://api.github.com/users/christopherhuntley/starred{/owner}{/repo}\",\"subscriptions_url\":\"https://api.github.com/users/christopherhuntley/subscriptions\",\"organizations_url\":\"https://api.github.com/users/christopherhuntley/orgs\",\"repos_url\":\"https://api.github.com/users/christopherhuntley/repos\",\"events_url\":\"https://api.github.com/users/christopherhuntley/events{/privacy}\",\"received_events_url\":\"https://api.github.com/users/christopherhuntley/received_events\",\"type\":\"User\",\"site_admin\":false},\"parents\":[{\"sha\":\"1d0aab19350e49b0cdf234ca7e4b3f19122ec19a\",\"url\":\"https://api.github.com/repos/christopherhuntley/BUAN5405-lessons/commits/1d0aab19350e49b0cdf234ca7e4b3f19122ec19a\",\"html_url\":\"https://github.com/christopherhuntley/BUAN5405-lessons/commit/1d0aab19350e49b0cdf234ca7e4b3f19122ec19a\"}]}]'"
      ]
     },
     "execution_count": 1,
     "metadata": {},
     "output_type": "execute_result"
    }
   ],
   "source": [
    "import requests\n",
    "\n",
    "raw_json = requests.get(\"https://api.github.com/repos/christopherhuntley/BUAN5405-lessons/commits?path=L12_Odds_Ends.ipynb\")\n",
    "raw_json.text"
   ]
  },
  {
   "cell_type": "markdown",
   "metadata": {},
   "source": [
    "\n",
    "Lovely, isn't it? This is raw data in **JavaScript Object Notation (JSON)** format, which has become the lingua franca of data over the web. We can make it a little prettier using Python's built-in `json` library."
   ]
  },
  {
   "cell_type": "code",
   "execution_count": 2,
   "metadata": {},
   "outputs": [
    {
     "name": "stdout",
     "output_type": "stream",
     "text": [
      "[\n",
      "    {\n",
      "        \"sha\": \"ce2df1273cbd6918729cc51bb7aeb1b9640d7ffd\",\n",
      "        \"node_id\": \"MDY6Q29tbWl0MjY5NzA5NTA2OmNlMmRmMTI3M2NiZDY5MTg3MjljYzUxYmI3YWViMWI5NjQwZDdmZmQ=\",\n",
      "        \"commit\": {\n",
      "            \"author\": {\n",
      "                \"name\": \"Christopher Huntley\",\n",
      "                \"email\": \"christopher.huntley@gmail.com\",\n",
      "                \"date\": \"2020-06-20T20:21:50Z\"\n",
      "            },\n",
      "            \"committer\": {\n",
      "                \"name\": \"Christopher Huntley\",\n",
      "                \"email\": \"christopher.huntley@gmail.com\",\n",
      "                \"date\": \"2020-06-20T20:21:50Z\"\n",
      "            },\n",
      "            \"message\": \"Almost done with Lesson 12\",\n",
      "            \"tree\": {\n",
      "                \"sha\": \"6dd90e59b1b198d0735c723bb196691e47cd4ee1\",\n",
      "                \"url\": \"https://api.github.com/repos/christopherhuntley/BUAN5405-lessons/git/trees/6dd90e59b1b198d0735c723bb196691e47cd4ee1\"\n",
      "            },\n",
      "            \"url\": \"https://api.github.com/repos/christopherhuntley/BUAN5405-lessons/git/commits/ce2df1273cbd6918729cc51bb7aeb1b9640d7ffd\",\n",
      "            \"comment_count\": 0,\n",
      "            \"verification\": {\n",
      "                \"verified\": false,\n",
      "                \"reason\": \"unsigned\",\n",
      "                \"signature\": null,\n",
      "                \"payload\": null\n",
      "            }\n",
      "        },\n",
      "        \"url\": \"https://api.github.com/repos/christopherhuntley/BUAN5405-lessons/commits/ce2df1273cbd6918729cc51bb7aeb1b9640d7ffd\",\n",
      "        \"html_url\": \"https://github.com/christopherhuntley/BUAN5405-lessons/commit/ce2df1273cbd6918729cc51bb7aeb1b9640d7ffd\",\n",
      "        \"comments_url\": \"https://api.github.com/repos/christopherhuntley/BUAN5405-lessons/commits/ce2df1273cbd6918729cc51bb7aeb1b9640d7ffd/comments\",\n",
      "        \"author\": {\n",
      "            \"login\": \"christopherhuntley\",\n",
      "            \"id\": 6188254,\n",
      "            \"node_id\": \"MDQ6VXNlcjYxODgyNTQ=\",\n",
      "            \"avatar_url\": \"https://avatars1.githubusercontent.com/u/6188254?v=4\",\n",
      "            \"gravatar_id\": \"\",\n",
      "            \"url\": \"https://api.github.com/users/christopherhuntley\",\n",
      "            \"html_url\": \"https://github.com/christopherhuntley\",\n",
      "            \"followers_url\": \"https://api.github.com/users/christopherhuntley/followers\",\n",
      "            \"following_url\": \"https://api.github.com/users/christopherhuntley/following{/other_user}\",\n",
      "            \"gists_url\": \"https://api.github.com/users/christopherhuntley/gists{/gist_id}\",\n",
      "            \"starred_url\": \"https://api.github.com/users/christopherhuntley/starred{/owner}{/repo}\",\n",
      "            \"subscriptions_url\": \"https://api.github.com/users/christopherhuntley/subscriptions\",\n",
      "            \"organizations_url\": \"https://api.github.com/users/christopherhuntley/orgs\",\n",
      "            \"repos_url\": \"https://api.github.com/users/christopherhuntley/repos\",\n",
      "            \"events_url\": \"https://api.github.com/users/christopherhuntley/events{/privacy}\",\n",
      "            \"received_events_url\": \"https://api.github.com/users/christopherhuntley/received_events\",\n",
      "            \"type\": \"User\",\n",
      "            \"site_admin\": false\n",
      "        },\n",
      "        \"committer\": {\n",
      "            \"login\": \"christopherhuntley\",\n",
      "            \"id\": 6188254,\n",
      "            \"node_id\": \"MDQ6VXNlcjYxODgyNTQ=\",\n",
      "            \"avatar_url\": \"https://avatars1.githubusercontent.com/u/6188254?v=4\",\n",
      "            \"gravatar_id\": \"\",\n",
      "            \"url\": \"https://api.github.com/users/christopherhuntley\",\n",
      "            \"html_url\": \"https://github.com/christopherhuntley\",\n",
      "            \"followers_url\": \"https://api.github.com/users/christopherhuntley/followers\",\n",
      "            \"following_url\": \"https://api.github.com/users/christopherhuntley/following{/other_user}\",\n",
      "            \"gists_url\": \"https://api.github.com/users/christopherhuntley/gists{/gist_id}\",\n",
      "            \"starred_url\": \"https://api.github.com/users/christopherhuntley/starred{/owner}{/repo}\",\n",
      "            \"subscriptions_url\": \"https://api.github.com/users/christopherhuntley/subscriptions\",\n",
      "            \"organizations_url\": \"https://api.github.com/users/christopherhuntley/orgs\",\n",
      "            \"repos_url\": \"https://api.github.com/users/christopherhuntley/repos\",\n",
      "            \"events_url\": \"https://api.github.com/users/christopherhuntley/events{/privacy}\",\n",
      "            \"received_events_url\": \"https://api.github.com/users/christopherhuntley/received_events\",\n",
      "            \"type\": \"User\",\n",
      "            \"site_admin\": false\n",
      "        },\n",
      "        \"parents\": [\n",
      "            {\n",
      "                \"sha\": \"0bf100e8516507e5d1cf4dcc69ef4e0facbb3f35\",\n",
      "                \"url\": \"https://api.github.com/repos/christopherhuntley/BUAN5405-lessons/commits/0bf100e8516507e5d1cf4dcc69ef4e0facbb3f35\",\n",
      "                \"html_url\": \"https://github.com/christopherhuntley/BUAN5405-lessons/commit/0bf100e8516507e5d1cf4dcc69ef4e0facbb3f35\"\n",
      "            }\n",
      "        ]\n",
      "    },\n",
      "    {\n",
      "        \"sha\": \"0bf100e8516507e5d1cf4dcc69ef4e0facbb3f35\",\n",
      "        \"node_id\": \"MDY6Q29tbWl0MjY5NzA5NTA2OjBiZjEwMGU4NTE2NTA3ZTVkMWNmNGRjYzY5ZWY0ZTBmYWNiYjNmMzU=\",\n",
      "        \"commit\": {\n",
      "            \"author\": {\n",
      "                \"name\": \"Christopher Huntley\",\n",
      "                \"email\": \"christopher.huntley@gmail.com\",\n",
      "                \"date\": \"2020-06-20T15:45:53Z\"\n",
      "            },\n",
      "            \"committer\": {\n",
      "                \"name\": \"Christopher Huntley\",\n",
      "                \"email\": \"christopher.huntley@gmail.com\",\n",
      "                \"date\": \"2020-06-20T15:45:53Z\"\n",
      "            },\n",
      "            \"message\": \"Added JSON section to Odds and Ends\",\n",
      "            \"tree\": {\n",
      "                \"sha\": \"6c47280acf1d5337a7c7feeb96fe1aef8b5724a2\",\n",
      "                \"url\": \"https://api.github.com/repos/christopherhuntley/BUAN5405-lessons/git/trees/6c47280acf1d5337a7c7feeb96fe1aef8b5724a2\"\n",
      "            },\n",
      "            \"url\": \"https://api.github.com/repos/christopherhuntley/BUAN5405-lessons/git/commits/0bf100e8516507e5d1cf4dcc69ef4e0facbb3f35\",\n",
      "            \"comment_count\": 0,\n",
      "            \"verification\": {\n",
      "                \"verified\": false,\n",
      "                \"reason\": \"unsigned\",\n",
      "                \"signature\": null,\n",
      "                \"payload\": null\n",
      "            }\n",
      "        },\n",
      "        \"url\": \"https://api.github.com/repos/christopherhuntley/BUAN5405-lessons/commits/0bf100e8516507e5d1cf4dcc69ef4e0facbb3f35\",\n",
      "        \"html_url\": \"https://github.com/christopherhuntley/BUAN5405-lessons/commit/0bf100e8516507e5d1cf4dcc69ef4e0facbb3f35\",\n",
      "        \"comments_url\": \"https://api.github.com/repos/christopherhuntley/BUAN5405-lessons/commits/0bf100e8516507e5d1cf4dcc69ef4e0facbb3f35/comments\",\n",
      "        \"author\": {\n",
      "            \"login\": \"christopherhuntley\",\n",
      "            \"id\": 6188254,\n",
      "            \"node_id\": \"MDQ6VXNlcjYxODgyNTQ=\",\n",
      "            \"avatar_url\": \"https://avatars1.githubusercontent.com/u/6188254?v=4\",\n",
      "            \"gravatar_id\": \"\",\n",
      "            \"url\": \"https://api.github.com/users/christopherhuntley\",\n",
      "            \"html_url\": \"https://github.com/christopherhuntley\",\n",
      "            \"followers_url\": \"https://api.github.com/users/christopherhuntley/followers\",\n",
      "            \"following_url\": \"https://api.github.com/users/christopherhuntley/following{/other_user}\",\n",
      "            \"gists_url\": \"https://api.github.com/users/christopherhuntley/gists{/gist_id}\",\n",
      "            \"starred_url\": \"https://api.github.com/users/christopherhuntley/starred{/owner}{/repo}\",\n",
      "            \"subscriptions_url\": \"https://api.github.com/users/christopherhuntley/subscriptions\",\n",
      "            \"organizations_url\": \"https://api.github.com/users/christopherhuntley/orgs\",\n",
      "            \"repos_url\": \"https://api.github.com/users/christopherhuntley/repos\",\n",
      "            \"events_url\": \"https://api.github.com/users/christopherhuntley/events{/privacy}\",\n",
      "            \"received_events_url\": \"https://api.github.com/users/christopherhuntley/received_events\",\n",
      "            \"type\": \"User\",\n",
      "            \"site_admin\": false\n",
      "        },\n",
      "        \"committer\": {\n",
      "            \"login\": \"christopherhuntley\",\n",
      "            \"id\": 6188254,\n",
      "            \"node_id\": \"MDQ6VXNlcjYxODgyNTQ=\",\n",
      "            \"avatar_url\": \"https://avatars1.githubusercontent.com/u/6188254?v=4\",\n",
      "            \"gravatar_id\": \"\",\n",
      "            \"url\": \"https://api.github.com/users/christopherhuntley\",\n",
      "            \"html_url\": \"https://github.com/christopherhuntley\",\n",
      "            \"followers_url\": \"https://api.github.com/users/christopherhuntley/followers\",\n",
      "            \"following_url\": \"https://api.github.com/users/christopherhuntley/following{/other_user}\",\n",
      "            \"gists_url\": \"https://api.github.com/users/christopherhuntley/gists{/gist_id}\",\n",
      "            \"starred_url\": \"https://api.github.com/users/christopherhuntley/starred{/owner}{/repo}\",\n",
      "            \"subscriptions_url\": \"https://api.github.com/users/christopherhuntley/subscriptions\",\n",
      "            \"organizations_url\": \"https://api.github.com/users/christopherhuntley/orgs\",\n",
      "            \"repos_url\": \"https://api.github.com/users/christopherhuntley/repos\",\n",
      "            \"events_url\": \"https://api.github.com/users/christopherhuntley/events{/privacy}\",\n",
      "            \"received_events_url\": \"https://api.github.com/users/christopherhuntley/received_events\",\n",
      "            \"type\": \"User\",\n",
      "            \"site_admin\": false\n",
      "        },\n",
      "        \"parents\": [\n",
      "            {\n",
      "                \"sha\": \"ad17f6f381572c27aed837c98806bff49c9091ba\",\n",
      "                \"url\": \"https://api.github.com/repos/christopherhuntley/BUAN5405-lessons/commits/ad17f6f381572c27aed837c98806bff49c9091ba\",\n",
      "                \"html_url\": \"https://github.com/christopherhuntley/BUAN5405-lessons/commit/ad17f6f381572c27aed837c98806bff49c9091ba\"\n",
      "            }\n",
      "        ]\n",
      "    },\n",
      "    {\n",
      "        \"sha\": \"81943548d82515962b3d01b8c2774393804fff15\",\n",
      "        \"node_id\": \"MDY6Q29tbWl0MjY5NzA5NTA2OjgxOTQzNTQ4ZDgyNTE1OTYyYjNkMDFiOGMyNzc0MzkzODA0ZmZmMTU=\",\n",
      "        \"commit\": {\n",
      "            \"author\": {\n",
      "                \"name\": \"Christopher Huntley\",\n",
      "                \"email\": \"christopher.huntley@gmail.com\",\n",
      "                \"date\": \"2020-06-20T05:42:17Z\"\n",
      "            },\n",
      "            \"committer\": {\n",
      "                \"name\": \"Christopher Huntley\",\n",
      "                \"email\": \"christopher.huntley@gmail.com\",\n",
      "                \"date\": \"2020-06-20T05:42:17Z\"\n",
      "            },\n",
      "            \"message\": \"Swapped assignment order and added intro to Lesson 12.\",\n",
      "            \"tree\": {\n",
      "                \"sha\": \"56519bc74c9a60615fd8af348d1e4144c77f3beb\",\n",
      "                \"url\": \"https://api.github.com/repos/christopherhuntley/BUAN5405-lessons/git/trees/56519bc74c9a60615fd8af348d1e4144c77f3beb\"\n",
      "            },\n",
      "            \"url\": \"https://api.github.com/repos/christopherhuntley/BUAN5405-lessons/git/commits/81943548d82515962b3d01b8c2774393804fff15\",\n",
      "            \"comment_count\": 0,\n",
      "            \"verification\": {\n",
      "                \"verified\": false,\n",
      "                \"reason\": \"unsigned\",\n",
      "                \"signature\": null,\n",
      "                \"payload\": null\n",
      "            }\n",
      "        },\n",
      "        \"url\": \"https://api.github.com/repos/christopherhuntley/BUAN5405-lessons/commits/81943548d82515962b3d01b8c2774393804fff15\",\n",
      "        \"html_url\": \"https://github.com/christopherhuntley/BUAN5405-lessons/commit/81943548d82515962b3d01b8c2774393804fff15\",\n",
      "        \"comments_url\": \"https://api.github.com/repos/christopherhuntley/BUAN5405-lessons/commits/81943548d82515962b3d01b8c2774393804fff15/comments\",\n",
      "        \"author\": {\n",
      "            \"login\": \"christopherhuntley\",\n",
      "            \"id\": 6188254,\n",
      "            \"node_id\": \"MDQ6VXNlcjYxODgyNTQ=\",\n",
      "            \"avatar_url\": \"https://avatars1.githubusercontent.com/u/6188254?v=4\",\n",
      "            \"gravatar_id\": \"\",\n",
      "            \"url\": \"https://api.github.com/users/christopherhuntley\",\n",
      "            \"html_url\": \"https://github.com/christopherhuntley\",\n",
      "            \"followers_url\": \"https://api.github.com/users/christopherhuntley/followers\",\n",
      "            \"following_url\": \"https://api.github.com/users/christopherhuntley/following{/other_user}\",\n",
      "            \"gists_url\": \"https://api.github.com/users/christopherhuntley/gists{/gist_id}\",\n",
      "            \"starred_url\": \"https://api.github.com/users/christopherhuntley/starred{/owner}{/repo}\",\n",
      "            \"subscriptions_url\": \"https://api.github.com/users/christopherhuntley/subscriptions\",\n",
      "            \"organizations_url\": \"https://api.github.com/users/christopherhuntley/orgs\",\n",
      "            \"repos_url\": \"https://api.github.com/users/christopherhuntley/repos\",\n",
      "            \"events_url\": \"https://api.github.com/users/christopherhuntley/events{/privacy}\",\n",
      "            \"received_events_url\": \"https://api.github.com/users/christopherhuntley/received_events\",\n",
      "            \"type\": \"User\",\n",
      "            \"site_admin\": false\n",
      "        },\n",
      "        \"committer\": {\n",
      "            \"login\": \"christopherhuntley\",\n",
      "            \"id\": 6188254,\n",
      "            \"node_id\": \"MDQ6VXNlcjYxODgyNTQ=\",\n",
      "            \"avatar_url\": \"https://avatars1.githubusercontent.com/u/6188254?v=4\",\n",
      "            \"gravatar_id\": \"\",\n",
      "            \"url\": \"https://api.github.com/users/christopherhuntley\",\n",
      "            \"html_url\": \"https://github.com/christopherhuntley\",\n",
      "            \"followers_url\": \"https://api.github.com/users/christopherhuntley/followers\",\n",
      "            \"following_url\": \"https://api.github.com/users/christopherhuntley/following{/other_user}\",\n",
      "            \"gists_url\": \"https://api.github.com/users/christopherhuntley/gists{/gist_id}\",\n",
      "            \"starred_url\": \"https://api.github.com/users/christopherhuntley/starred{/owner}{/repo}\",\n",
      "            \"subscriptions_url\": \"https://api.github.com/users/christopherhuntley/subscriptions\",\n",
      "            \"organizations_url\": \"https://api.github.com/users/christopherhuntley/orgs\",\n",
      "            \"repos_url\": \"https://api.github.com/users/christopherhuntley/repos\",\n",
      "            \"events_url\": \"https://api.github.com/users/christopherhuntley/events{/privacy}\",\n",
      "            \"received_events_url\": \"https://api.github.com/users/christopherhuntley/received_events\",\n",
      "            \"type\": \"User\",\n",
      "            \"site_admin\": false\n",
      "        },\n",
      "        \"parents\": [\n",
      "            {\n",
      "                \"sha\": \"1d0aab19350e49b0cdf234ca7e4b3f19122ec19a\",\n",
      "                \"url\": \"https://api.github.com/repos/christopherhuntley/BUAN5405-lessons/commits/1d0aab19350e49b0cdf234ca7e4b3f19122ec19a\",\n",
      "                \"html_url\": \"https://github.com/christopherhuntley/BUAN5405-lessons/commit/1d0aab19350e49b0cdf234ca7e4b3f19122ec19a\"\n",
      "            }\n",
      "        ]\n",
      "    }\n",
      "]\n"
     ]
    }
   ],
   "source": [
    "# raw_json was retrieved above.\n",
    "import json \n",
    "\n",
    "github_data = json.loads(raw_json.text)  # convert to native Python objects\n",
    "print(json.dumps(github_data, indent=4)) # pretty-print the JSON tree"
   ]
  },
  {
   "cell_type": "markdown",
   "metadata": {},
   "source": [
    "While still not easy on the eyes, we can now at least start to make out the data structure. It looks to be a hierarchy (or **tree**) of **nested lists and dictionaries,** one inside another. In fact, that's exactly what it is. The `json` library's `loads()` function converted everything into native Python for us.  (Strangely, we had to convert it back to JSON using `dumps()` in order to pretty print it.)\n",
    "\n",
    "Once we have the data in a Python-native tree format, it's pretty easy to traverse it to do things. We can refer to each **node** (item in the tree) using `[]` notation. We can determine a node's type of data (`list`, `dict`, `int`, `float`, `string`, `bytes`) using the `type()` or `instance_of()` functions. We can even select just the parts of the tree we want using slices. Though we won't do it here, we can even iterate through the tree searching for nodes of interest."
   ]
  },
  {
   "cell_type": "code",
   "execution_count": 3,
   "metadata": {},
   "outputs": [
    {
     "name": "stdout",
     "output_type": "stream",
     "text": [
      "The root of the tree is a <class 'list'> with 3 items.\n",
      "The first branch is a <class 'dict'> with 3 items.\n",
      "The commit message for the last commit was Almost done with Lesson 12\n",
      "The committer was \n",
      " {\n",
      "    \"login\": \"christopherhuntley\",\n",
      "    \"id\": 6188254,\n",
      "    \"node_id\": \"MDQ6VXNlcjYxODgyNTQ=\",\n",
      "    \"avatar_url\": \"https://avatars1.githubusercontent.com/u/6188254?v=4\",\n",
      "    \"gravatar_id\": \"\",\n",
      "    \"url\": \"https://api.github.com/users/christopherhuntley\",\n",
      "    \"html_url\": \"https://github.com/christopherhuntley\",\n",
      "    \"followers_url\": \"https://api.github.com/users/christopherhuntley/followers\",\n",
      "    \"following_url\": \"https://api.github.com/users/christopherhuntley/following{/other_user}\",\n",
      "    \"gists_url\": \"https://api.github.com/users/christopherhuntley/gists{/gist_id}\",\n",
      "    \"starred_url\": \"https://api.github.com/users/christopherhuntley/starred{/owner}{/repo}\",\n",
      "    \"subscriptions_url\": \"https://api.github.com/users/christopherhuntley/subscriptions\",\n",
      "    \"organizations_url\": \"https://api.github.com/users/christopherhuntley/orgs\",\n",
      "    \"repos_url\": \"https://api.github.com/users/christopherhuntley/repos\",\n",
      "    \"events_url\": \"https://api.github.com/users/christopherhuntley/events{/privacy}\",\n",
      "    \"received_events_url\": \"https://api.github.com/users/christopherhuntley/received_events\",\n",
      "    \"type\": \"User\",\n",
      "    \"site_admin\": false\n",
      "}\n"
     ]
    }
   ],
   "source": [
    "print(\"The root of the tree is a\", type(github_data), \"with\",len(github_data), \"items.\") # ReST JSONs are always dicts or lists ...\n",
    "print(\"The first branch is a\", type(github_data[0]), \"with\",len(github_data), \"items.\")  # With nested dicts/lists inside; each list/dict is a branch of the tree\n",
    "print(\"The commit message for the last commit was\", github_data[0]['commit']['message']) # And the commit message is a leaf\n",
    "print(\"The committer was \\n\",json.dumps(github_data[0]['committer'],indent=4))           # We can also take a cutting from the tree home with us."
   ]
  },
  {
   "cell_type": "markdown",
   "metadata": {},
   "source": [
    "---\n",
    "## Time Series\n",
    "A **time series** is a data vector (pandas Series) **indexed by time** instead of by position. We can bundle several series together with a pandas DataFrame. First, we need to consider how Python handles time. \n",
    "\n",
    "### The `date`, `datetime`, and `time` modules\n",
    "Standard library’s [`date`](https://docs.python.org/3/library/datetime.html#date-objects) and [`datetime`](https://docs.python.org/3/library/datetime.html#module-datetime) modules know all about creating and converting dates and times."
   ]
  },
  {
   "cell_type": "code",
   "execution_count": 4,
   "metadata": {},
   "outputs": [
    {
     "name": "stdout",
     "output_type": "stream",
     "text": [
      "2020-06-20\n",
      "2020-06-20 17:06:22.567970\n",
      "5\n"
     ]
    }
   ],
   "source": [
    "from datetime import date, datetime\n",
    "print(date.today())             # today's date\n",
    "print(datetime.now())           # the current time\n",
    "print(datetime.now().weekday()) # the day of the week (Monday = 0)"
   ]
  },
  {
   "cell_type": "markdown",
   "metadata": {},
   "source": [
    "The standard `time` module handles time arithmetic, timezones, formatting, etc. Try not to get it confused with `datetime.time`.\n",
    "\n",
    "Fun fact: Time is stored as a floating point number, the number of seconds since midnight of January 1, 1970."
   ]
  },
  {
   "cell_type": "code",
   "execution_count": 5,
   "metadata": {},
   "outputs": [
    {
     "name": "stdout",
     "output_type": "stream",
     "text": [
      "1592687195.7804039 \tseconds\n",
      "26544786.596340064 \tminutes\n",
      "442413.1099390011 \thours\n",
      "18433.879580791712 \tdays\n",
      "50.46921172016896 \tyears\n"
     ]
    }
   ],
   "source": [
    "import time\n",
    "right_now = time.time() # the current time in seconds since midnight January 1, 1970\n",
    "print(right_now, \"\\tseconds\")\n",
    "print(right_now/60, \"\\tminutes\")\n",
    "print(right_now/(60*60), \"\\thours\")\n",
    "print(right_now/(60*60*24), \"\\tdays\")\n",
    "print(right_now/(60*60*24*365.25), \"\\tyears\")"
   ]
  },
  {
   "cell_type": "markdown",
   "metadata": {},
   "source": [
    "Neat, eh? However, **most of the time you probably want `datetime.time`**."
   ]
  },
  {
   "cell_type": "markdown",
   "metadata": {},
   "source": [
    "### pandas `DatetimeIndex` data type\n",
    "pandas arrays (`Series` or `DataFrame`) can be indexed using timestamps instead of numbers or string labels. That makes slicing and dicing time pretty easy."
   ]
  },
  {
   "cell_type": "code",
   "execution_count": 6,
   "metadata": {},
   "outputs": [
    {
     "data": {
      "text/plain": [
       "2017-09-18    158.67\n",
       "2017-09-19    158.73\n",
       "2017-09-20    156.07\n",
       "2017-09-21    153.39\n",
       "2017-09-22    151.89\n",
       "Freq: D, dtype: float64"
      ]
     },
     "execution_count": 6,
     "metadata": {},
     "output_type": "execute_result"
    }
   ],
   "source": [
    "import pandas as pd\n",
    "aapl_5d = pd.Series(\n",
    "    [158.67,158.73,156.07,153.39,151.89],\n",
    "    index=pd.date_range('2017-9-18',periods=5,freq='D'))\n",
    "aapl_5d"
   ]
  },
  {
   "cell_type": "markdown",
   "metadata": {},
   "source": [
    "Note that `pd.date_range()` works just like `range()` but with `datetimes` instead of integers. The data type of the index is `DatetimeIndex`."
   ]
  },
  {
   "cell_type": "code",
   "execution_count": 7,
   "metadata": {},
   "outputs": [
    {
     "data": {
      "text/plain": [
       "pandas.core.indexes.datetimes.DatetimeIndex"
      ]
     },
     "execution_count": 7,
     "metadata": {},
     "output_type": "execute_result"
    }
   ],
   "source": [
    "type(aapl_5d.index)"
   ]
  },
  {
   "cell_type": "markdown",
   "metadata": {},
   "source": [
    "Here's a more realistic time series with irregularly-spaced dates that uses pandas's `to_datetime()` function to ensure that the birthdates and inaugurated dates are interpreted correctly."
   ]
  },
  {
   "cell_type": "code",
   "execution_count": 8,
   "metadata": {},
   "outputs": [
    {
     "data": {
      "text/html": [
       "<div>\n",
       "<style scoped>\n",
       "    .dataframe tbody tr th:only-of-type {\n",
       "        vertical-align: middle;\n",
       "    }\n",
       "\n",
       "    .dataframe tbody tr th {\n",
       "        vertical-align: top;\n",
       "    }\n",
       "\n",
       "    .dataframe thead th {\n",
       "        text-align: right;\n",
       "    }\n",
       "</style>\n",
       "<table border=\"1\" class=\"dataframe\">\n",
       "  <thead>\n",
       "    <tr style=\"text-align: right;\">\n",
       "      <th></th>\n",
       "      <th>name</th>\n",
       "      <th>inaugurated</th>\n",
       "    </tr>\n",
       "    <tr>\n",
       "      <th>birthdate</th>\n",
       "      <th></th>\n",
       "      <th></th>\n",
       "    </tr>\n",
       "  </thead>\n",
       "  <tbody>\n",
       "    <tr>\n",
       "      <th>1732-02-22</th>\n",
       "      <td>George Washington</td>\n",
       "      <td>1789-04-30</td>\n",
       "    </tr>\n",
       "    <tr>\n",
       "      <th>1735-10-30</th>\n",
       "      <td>John Adams</td>\n",
       "      <td>1797-03-04</td>\n",
       "    </tr>\n",
       "    <tr>\n",
       "      <th>1743-04-13</th>\n",
       "      <td>Thomas Jefferson</td>\n",
       "      <td>1801-03-04</td>\n",
       "    </tr>\n",
       "    <tr>\n",
       "      <th>1751-03-16</th>\n",
       "      <td>James Madison</td>\n",
       "      <td>1809-03-04</td>\n",
       "    </tr>\n",
       "  </tbody>\n",
       "</table>\n",
       "</div>"
      ],
      "text/plain": [
       "                         name inaugurated\n",
       "birthdate                                \n",
       "1732-02-22  George Washington  1789-04-30\n",
       "1735-10-30         John Adams  1797-03-04\n",
       "1743-04-13   Thomas Jefferson  1801-03-04\n",
       "1751-03-16      James Madison  1809-03-04"
      ]
     },
     "execution_count": 8,
     "metadata": {},
     "output_type": "execute_result"
    }
   ],
   "source": [
    "presidents = [ {'birthdate':pd.to_datetime('1732-02-22'),'name': \"George Washington\", 'inaugurated': pd.to_datetime('1789-04-30')},\n",
    "               {'birthdate':pd.to_datetime('1735-10-30'),'name': \"John Adams\", 'inaugurated': pd.to_datetime('1797-03-04')},\n",
    "               {'birthdate':pd.to_datetime('1743-04-13'),'name': \"Thomas Jefferson\", 'inaugurated': pd.to_datetime('1801-03-04')},\n",
    "               {'birthdate':pd.to_datetime('1751-03-16'),'name': \"James Madison\", 'inaugurated': pd.to_datetime('1809-03-04')} ]\n",
    "pres_df = pd.DataFrame.from_records(presidents, index='birthdate')\n",
    "pres_df"
   ]
  },
  {
   "cell_type": "markdown",
   "metadata": {},
   "source": [
    "We can also, of course, index the time series after creating the DataFrame. "
   ]
  },
  {
   "cell_type": "code",
   "execution_count": 9,
   "metadata": {},
   "outputs": [
    {
     "data": {
      "text/html": [
       "<div>\n",
       "<style scoped>\n",
       "    .dataframe tbody tr th:only-of-type {\n",
       "        vertical-align: middle;\n",
       "    }\n",
       "\n",
       "    .dataframe tbody tr th {\n",
       "        vertical-align: top;\n",
       "    }\n",
       "\n",
       "    .dataframe thead th {\n",
       "        text-align: right;\n",
       "    }\n",
       "</style>\n",
       "<table border=\"1\" class=\"dataframe\">\n",
       "  <thead>\n",
       "    <tr style=\"text-align: right;\">\n",
       "      <th></th>\n",
       "      <th>birthdate</th>\n",
       "      <th>name</th>\n",
       "    </tr>\n",
       "    <tr>\n",
       "      <th>inaugurated</th>\n",
       "      <th></th>\n",
       "      <th></th>\n",
       "    </tr>\n",
       "  </thead>\n",
       "  <tbody>\n",
       "    <tr>\n",
       "      <th>1789-04-30</th>\n",
       "      <td>1732-02-22</td>\n",
       "      <td>George Washington</td>\n",
       "    </tr>\n",
       "    <tr>\n",
       "      <th>1797-03-04</th>\n",
       "      <td>1735-10-30</td>\n",
       "      <td>John Adams</td>\n",
       "    </tr>\n",
       "    <tr>\n",
       "      <th>1801-03-04</th>\n",
       "      <td>1743-04-13</td>\n",
       "      <td>Thomas Jefferson</td>\n",
       "    </tr>\n",
       "    <tr>\n",
       "      <th>1809-03-04</th>\n",
       "      <td>1751-03-16</td>\n",
       "      <td>James Madison</td>\n",
       "    </tr>\n",
       "  </tbody>\n",
       "</table>\n",
       "</div>"
      ],
      "text/plain": [
       "             birthdate               name\n",
       "inaugurated                              \n",
       "1789-04-30  1732-02-22  George Washington\n",
       "1797-03-04  1735-10-30         John Adams\n",
       "1801-03-04  1743-04-13   Thomas Jefferson\n",
       "1809-03-04  1751-03-16      James Madison"
      ]
     },
     "execution_count": 9,
     "metadata": {},
     "output_type": "execute_result"
    }
   ],
   "source": [
    "pres_df = pd.DataFrame.from_records(presidents) # note no index column specified\n",
    "pres_df.set_index('inaugurated', inplace=True)\n",
    "pres_df"
   ]
  },
  {
   "cell_type": "markdown",
   "metadata": {},
   "source": [
    "## Reading Time Series from CSV Files\n",
    "While pandas's I/O module often surprises us by guessing data types correctly the first time, there are a couple of settings you are likely to want to use when reading time series from CSV files like this one.  \n",
    "```csv\n",
    "name, birthdate,inaugurated\n",
    "\"George Washington\",'1732-02-22','1789-04-30'\n",
    "\"John Adams\",'1735-10-30','1797-03-04'\n",
    "\"Thomas Jefferson\",'1743-04-13','1801-03-04'\n",
    "\"James Madison\",'1751-03-16','1809-03-04'\n",
    "```"
   ]
  },
  {
   "cell_type": "code",
   "execution_count": 10,
   "metadata": {},
   "outputs": [
    {
     "data": {
      "text/html": [
       "<div>\n",
       "<style scoped>\n",
       "    .dataframe tbody tr th:only-of-type {\n",
       "        vertical-align: middle;\n",
       "    }\n",
       "\n",
       "    .dataframe tbody tr th {\n",
       "        vertical-align: top;\n",
       "    }\n",
       "\n",
       "    .dataframe thead th {\n",
       "        text-align: right;\n",
       "    }\n",
       "</style>\n",
       "<table border=\"1\" class=\"dataframe\">\n",
       "  <thead>\n",
       "    <tr style=\"text-align: right;\">\n",
       "      <th></th>\n",
       "      <th>name</th>\n",
       "      <th>inaugurated</th>\n",
       "    </tr>\n",
       "    <tr>\n",
       "      <th>birthdate</th>\n",
       "      <th></th>\n",
       "      <th></th>\n",
       "    </tr>\n",
       "  </thead>\n",
       "  <tbody>\n",
       "    <tr>\n",
       "      <th>1732-02-22</th>\n",
       "      <td>George Washington</td>\n",
       "      <td>1789-04-30</td>\n",
       "    </tr>\n",
       "    <tr>\n",
       "      <th>1735-10-30</th>\n",
       "      <td>John Adams</td>\n",
       "      <td>1797-03-04</td>\n",
       "    </tr>\n",
       "    <tr>\n",
       "      <th>1743-04-13</th>\n",
       "      <td>Thomas Jefferson</td>\n",
       "      <td>1801-03-04</td>\n",
       "    </tr>\n",
       "    <tr>\n",
       "      <th>1751-03-16</th>\n",
       "      <td>James Madison</td>\n",
       "      <td>1809-03-04</td>\n",
       "    </tr>\n",
       "  </tbody>\n",
       "</table>\n",
       "</div>"
      ],
      "text/plain": [
       "                         name inaugurated\n",
       " birthdate                               \n",
       "1732-02-22  George Washington  1789-04-30\n",
       "1735-10-30         John Adams  1797-03-04\n",
       "1743-04-13   Thomas Jefferson  1801-03-04\n",
       "1751-03-16      James Madison  1809-03-04"
      ]
     },
     "execution_count": 10,
     "metadata": {},
     "output_type": "execute_result"
    }
   ],
   "source": [
    "pres_df = pd.read_csv(\"https://raw.githubusercontent.com/christopherhuntley/BUAN5405-lessons/master/presidents.csv\", index_col=1,parse_dates=[1,2])\n",
    "pres_df"
   ]
  },
  {
   "cell_type": "markdown",
   "metadata": {},
   "source": [
    " - `index_col` setting is to force pandas to use `birthdate` as the index. In this case `birthdate` was in the second column.\n",
    " - `parse_dates` tells pandas to the indicated columns as dates before inserting into the DataFrame. "
   ]
  },
  {
   "cell_type": "markdown",
   "metadata": {},
   "source": [
    "### Time Slicing"
   ]
  },
  {
   "cell_type": "markdown",
   "metadata": {},
   "source": [
    "`DatetimeIndex` is sliceable just like integer indexes. "
   ]
  },
  {
   "cell_type": "code",
   "execution_count": 11,
   "metadata": {},
   "outputs": [
    {
     "data": {
      "text/html": [
       "<div>\n",
       "<style scoped>\n",
       "    .dataframe tbody tr th:only-of-type {\n",
       "        vertical-align: middle;\n",
       "    }\n",
       "\n",
       "    .dataframe tbody tr th {\n",
       "        vertical-align: top;\n",
       "    }\n",
       "\n",
       "    .dataframe thead th {\n",
       "        text-align: right;\n",
       "    }\n",
       "</style>\n",
       "<table border=\"1\" class=\"dataframe\">\n",
       "  <thead>\n",
       "    <tr style=\"text-align: right;\">\n",
       "      <th></th>\n",
       "      <th>name</th>\n",
       "      <th>inaugurated</th>\n",
       "    </tr>\n",
       "    <tr>\n",
       "      <th>birthdate</th>\n",
       "      <th></th>\n",
       "      <th></th>\n",
       "    </tr>\n",
       "  </thead>\n",
       "  <tbody>\n",
       "    <tr>\n",
       "      <th>1743-04-13</th>\n",
       "      <td>Thomas Jefferson</td>\n",
       "      <td>1801-03-04</td>\n",
       "    </tr>\n",
       "    <tr>\n",
       "      <th>1751-03-16</th>\n",
       "      <td>James Madison</td>\n",
       "      <td>1809-03-04</td>\n",
       "    </tr>\n",
       "  </tbody>\n",
       "</table>\n",
       "</div>"
      ],
      "text/plain": [
       "                        name inaugurated\n",
       " birthdate                              \n",
       "1743-04-13  Thomas Jefferson  1801-03-04\n",
       "1751-03-16     James Madison  1809-03-04"
      ]
     },
     "execution_count": 11,
     "metadata": {},
     "output_type": "execute_result"
    }
   ],
   "source": [
    "pres_df['1740-01-01':]"
   ]
  },
  {
   "cell_type": "markdown",
   "metadata": {},
   "source": [
    "### Easy Peasy Plots\n",
    "The `plot()` method works just fine with `datetimes`, which are all just numbers after all. "
   ]
  },
  {
   "cell_type": "code",
   "execution_count": 12,
   "metadata": {},
   "outputs": [
    {
     "data": {
      "text/plain": [
       "<matplotlib.axes._subplots.AxesSubplot at 0x117dd4690>"
      ]
     },
     "execution_count": 12,
     "metadata": {},
     "output_type": "execute_result"
    },
    {
     "data": {
      "image/png": "[encoded data removed]",
      "text/plain": [
       "<Figure size 432x288 with 1 Axes>"
      ]
     },
     "metadata": {
      "needs_background": "light"
     },
     "output_type": "display_data"
    }
   ],
   "source": [
    "pres_df.plot()"
   ]
  },
  {
   "cell_type": "markdown",
   "metadata": {},
   "source": [
    "---\n",
    "## Exercises\n",
    "**1. The code below retrieves a JSON tree with information about _Space Jam_, the 1996 Looney Tunes classic. Run the cell to make sure you have the most up-to-date copy of the `spacejam` data. Write your own code using the `spacejam` data to answer the following questions:**\n",
    "- What was the film's budget?\n",
    "- Is the movie a thriller?\n",
    "- What character does Michael Jordan play?\n",
    "- Who appeared uncredited?\n",
    "- How many crew members were there?\n",
    "\n",
    "For an extra challenge answer each of these questions by traversing the tree programmatically (with iteration or recursion) instead of using hardwired lookups like `spacejam[0]['cast'][0]`. "
   ]
  },
  {
   "cell_type": "code",
   "execution_count": 13,
   "metadata": {},
   "outputs": [],
   "source": [
    "import json\n",
    "import requests\n",
    "\n",
    "# spacejam.json is adapted from data downloaded from the TMDB api\n",
    "spacejam = json.loads(requests.get(\"https://raw.githubusercontent.com/christopherhuntley/BUAN5405-lessons/master/spacejam.json\").text)"
   ]
  },
  {
   "cell_type": "code",
   "execution_count": null,
   "metadata": {},
   "outputs": [],
   "source": [
    "# YOUR CODE HERE"
   ]
  },
  {
   "cell_type": "markdown",
   "metadata": {},
   "source": [
    "**2. Write a program to retrieve longitudinal [COVID-19 case data](https://colab.research.google.com/github/christopherhuntley/BUAN5405-lessons/blob/master/L12_Odds_Ends.ipynb) from CoronaTracker, identify the date with the highest count of new infections, and plot new infections over time.**"
   ]
  },
  {
   "cell_type": "code",
   "execution_count": null,
   "metadata": {},
   "outputs": [],
   "source": [
    "# YOUR CODE HERE"
   ]
  }
 ],
 "metadata": {
  "kernelspec": {
   "display_name": "Python 3",
   "language": "python",
   "name": "python3"
  },
  "language_info": {
   "codemirror_mode": {
    "name": "ipython",
    "version": 3
   },
   "file_extension": ".py",
   "mimetype": "text/x-python",
   "name": "python",
   "nbconvert_exporter": "python",
   "pygments_lexer": "ipython3",
   "version": "3.7.7"
  }
 },
 "nbformat": 4,
 "nbformat_minor": 4
}
