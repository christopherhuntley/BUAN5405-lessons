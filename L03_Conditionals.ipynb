{
 "cells": [
  {
   "cell_type": "markdown",
   "metadata": {},
   "source": [
    "<img src=\"https://github.com/christopherhuntley/BUAN5405-docs/blob/master/Slides/img/Dolan.png?raw=true\" width=\"180px\" align=\"right\">\n",
    "\n",
    "# Lesson 3: Conditional Execution\n",
    "_The many forms of \"it depends\"_"
   ]
  },
  {
   "cell_type": "markdown",
   "metadata": {},
   "source": [
    "# Learning Objectives\n",
    "\n",
    "## Theory / Be able to explain ...\n",
    "- The four elements of programming logic that underlie every computer language\n",
    "- How boolean expressions work in various ways\n",
    "- The various forms of `if` statements\n",
    "- Defensive programming to head off crashes and other bugs\n",
    "\n",
    "## Skills / Know how to  ...\n",
    "- Determine whether an expression is True or False\n",
    "- Use `and`, `or`, and `not` to build complex boolean expressions\n",
    "- Use `if` statements to implement conditional code\n",
    "- Use guards and exception handling to bulletproof code\n",
    "\n",
    "**What follows is adapted from Chapter 3 of the _Python For Everybody_ book. If you have not read it, then please do so before continuing on.**\n",
    "\n",
    "**COLAB NOTE: SOMETIMES GOOGLE COLAB \"FOLDS\" EMPTY CODE CELLS TO HIDE THEM. WHENEVER IT DOES THAT, CLICK TO REVEAL THEM.**"
   ]
  },
  {
   "cell_type": "markdown",
   "metadata": {},
   "source": [
    "## Just the Highlights\n",
    "HIGHLIGHT VIDEO GOES HERE"
   ]
  },
  {
   "cell_type": "markdown",
   "metadata": {},
   "source": [
    "---\n",
    "## Structured Programming\n",
    "\n",
    "> “Simplicity is a great virtue but it requires hard work to achieve it and education to appreciate it. And to make matters worse: complexity sells better.” -- Edsger Dijkstra\n",
    "\n",
    "Back in the computer science dinosaur times when everybody wore white coats there were lesser dinosaurs and then there were giants that made the earth shake as they went about their daily business. Computer scientists like Alan Turing, John von Neumann, Grace Hopper, Doug Englebart, Alan Kay, Donald Knuth, Leonard Kleinrock, Seymour Cray, and CJ Date were often thinking decades ahead of anybody else. Consider, for example, the _Mother of All Demos_ (read about on [Wikipedia](https://en.wikipedia.org/wiki/The_Mother_of_All_Demos), watch on [Youtube](https://www.youtube.com/watch?v=JQ8ZiT1sn88)), in which Doug Englebart demonstrated a graphical user interface (with windows, a mouse, and hyperlinks), video conferencing over what would later be called the Internet, Google Doc-style collaborative word processing, and Git-like revision control _**in 1968**_. They may been dinosaurs but they certainly weren't dumb.\n",
    "\n",
    "About the same time as Englebart's earthquake of a demo, Edsger Dijkstra developed (and proved!) the theory of Structured Programming that underlies **every** general purpose programming language, then and now. Structured programming is about programming logic, of which there are 4 fundamental elements:\n",
    "\n",
    "- **blocks** of statements to be executed one after another\n",
    "- **conditionals** that select one block of statements over others (based on selection criteria)\n",
    "- **loops** that repeat a block of statements some number of times (subject to stopping criterion)\n",
    "- **subroutines** that allow us to parameterize (template) and reuse (call) logical blocks whenever we need it\n",
    "\n",
    "In Lesson 2 we learned how to use blocks. In this lesson we will cover conditionals before moving on to functions (subroutines) in Lesson 4 and iteration (loops) in Lesson 5. "
   ]
  },
  {
   "cell_type": "markdown",
   "metadata": {},
   "source": [
    "----\n",
    "## Boolean Expressions\n",
    "Conditional execution allows a block of code to run only when **given conditions** are true. We'll start with that last part, determining what is true or false.\n",
    "\n",
    "A **boolean expression** always evaluates to either `True` or `False`. The values `True` and `False` comprise their own special data type called `bool`:"
   ]
  },
  {
   "cell_type": "code",
   "execution_count": 1,
   "metadata": {},
   "outputs": [
    {
     "data": {
      "text/plain": [
       "bool"
      ]
     },
     "execution_count": 1,
     "metadata": {},
     "output_type": "execute_result"
    }
   ],
   "source": [
    "type(True)"
   ]
  },
  {
   "cell_type": "markdown",
   "metadata": {},
   "source": [
    "Notice that there are no quotes used. They are not string literals (\"True\" and \"False\") or numbers (1 and 0). They are just `True` and `False`.\n",
    "\n",
    "Boolean expressions commonly come about through comparisons:"
   ]
  },
  {
   "cell_type": "code",
   "execution_count": 2,
   "metadata": {},
   "outputs": [
    {
     "data": {
      "text/plain": [
       "True"
      ]
     },
     "execution_count": 2,
     "metadata": {},
     "output_type": "execute_result"
    }
   ],
   "source": [
    "2 > 1"
   ]
  },
  {
   "cell_type": "code",
   "execution_count": 3,
   "metadata": {},
   "outputs": [
    {
     "data": {
      "text/plain": [
       "False"
      ]
     },
     "execution_count": 3,
     "metadata": {},
     "output_type": "execute_result"
    }
   ],
   "source": [
    "2 < 1"
   ]
  },
  {
   "cell_type": "code",
   "execution_count": 4,
   "metadata": {},
   "outputs": [
    {
     "data": {
      "text/plain": [
       "bool"
      ]
     },
     "execution_count": 4,
     "metadata": {},
     "output_type": "execute_result"
    }
   ],
   "source": [
    "type(2>1)"
   ]
  },
  {
   "cell_type": "markdown",
   "metadata": {},
   "source": [
    "Python provides a full suite of **comparison operators**:"
   ]
  },
  {
   "cell_type": "code",
   "execution_count": 5,
   "metadata": {},
   "outputs": [
    {
     "name": "stdout",
     "output_type": "stream",
     "text": [
      "Is 1 equal to 2?\t\t\t False\n",
      "Is 1 not equal to 2?\t\t\t True\n",
      "Is 1 greater than  2?\t\t\t False\n",
      "Is 1 less than 2?\t\t\t True\n",
      "Is 1 greater than or equal to 2?\t False\n",
      "Is 1 less than or equal to 2?\t\t True\n",
      "Is 1 identical to 2?\t\t\t False\n",
      "Is 1 not identical to 2?\t\t True\n"
     ]
    }
   ],
   "source": [
    "print(\"Is 1 equal to 2?\\t\\t\\t\", 1 == 2)\n",
    "print(\"Is 1 not equal to 2?\\t\\t\\t\",1 != 2)\n",
    "print(\"Is 1 greater than  2?\\t\\t\\t\",1 > 2)\n",
    "print(\"Is 1 less than 2?\\t\\t\\t\",1 < 2)\n",
    "print(\"Is 1 greater than or equal to 2?\\t\",1 >= 2)\n",
    "print(\"Is 1 less than or equal to 2?\\t\\t\",1 <= 2)\n",
    "print(\"Is 1 identical to 2?\\t\\t\\t\",1 is 2)\n",
    "print(\"Is 1 not identical to 2?\\t\\t\",1 is not 2)"
   ]
  },
  {
   "cell_type": "markdown",
   "metadata": {},
   "source": [
    "It's a common newbie mistake to confuse `==` (on the first line) with `=`. The expression `1 == 2` tests equivalence of `1` and `2`, while the statement `1 = 2` tries (and fails) to make `1` equal `2`. "
   ]
  },
  {
   "cell_type": "code",
   "execution_count": 6,
   "metadata": {},
   "outputs": [
    {
     "ename": "SyntaxError",
     "evalue": "can't assign to literal (<ipython-input-6-c0ab9e3898ea>, line 1)",
     "output_type": "error",
     "traceback": [
      "\u001b[0;36m  File \u001b[0;32m\"<ipython-input-6-c0ab9e3898ea>\"\u001b[0;36m, line \u001b[0;32m1\u001b[0m\n\u001b[0;31m    1 = 2\u001b[0m\n\u001b[0m         ^\u001b[0m\n\u001b[0;31mSyntaxError\u001b[0m\u001b[0;31m:\u001b[0m can't assign to literal\n"
     ]
    }
   ],
   "source": [
    "1 = 2"
   ]
  },
  {
   "cell_type": "markdown",
   "metadata": {},
   "source": [
    "The next few operators are pretty much what you'd expect until we get to `is` and `is not`. The `is` operator is asking if the entity on the left is exactly the **same entity** as one the right? For numbers and strings this is the same as `==`. For lists, dictionaries and a few other data types we'll learn about later in this course, this won't _always_ be true. (Side note: you may be wondering about the `\\t`s mixed in with the print statements. Those are tab characters. We'll see them again in Lesson 6.)\n",
    "\n",
    "**Comparisons are not the only kind of boolean expression,** of course. Just about any expression can evaluate to `True` or `False`. We can test that out using the `bool` conversion function. \n",
    "\n",
    "**In practice only [a few specific things](https://docs.python.org/3.3/library/stdtypes.html?highlight=frozenset#truth-value-testing) evaluate to `False`:**"
   ]
  },
  {
   "cell_type": "code",
   "execution_count": 7,
   "metadata": {},
   "outputs": [
    {
     "data": {
      "text/plain": [
       "False"
      ]
     },
     "execution_count": 7,
     "metadata": {},
     "output_type": "execute_result"
    }
   ],
   "source": [
    "bool(False) # duh"
   ]
  },
  {
   "cell_type": "code",
   "execution_count": 8,
   "metadata": {},
   "outputs": [
    {
     "data": {
      "text/plain": [
       "False"
      ]
     },
     "execution_count": 8,
     "metadata": {},
     "output_type": "execute_result"
    }
   ],
   "source": [
    "bool(None) # None or nothing"
   ]
  },
  {
   "cell_type": "code",
   "execution_count": 9,
   "metadata": {},
   "outputs": [
    {
     "data": {
      "text/plain": [
       "False"
      ]
     },
     "execution_count": 9,
     "metadata": {},
     "output_type": "execute_result"
    }
   ],
   "source": [
    "bool(0) # the number 0 or 0.0 or equivalent"
   ]
  },
  {
   "cell_type": "code",
   "execution_count": 10,
   "metadata": {},
   "outputs": [
    {
     "data": {
      "text/plain": [
       "False"
      ]
     },
     "execution_count": 10,
     "metadata": {},
     "output_type": "execute_result"
    }
   ],
   "source": [
    "bool([]) # empty lists, dictionaries, or tuples"
   ]
  },
  {
   "cell_type": "code",
   "execution_count": 11,
   "metadata": {},
   "outputs": [
    {
     "data": {
      "text/plain": [
       "False"
      ]
     },
     "execution_count": 11,
     "metadata": {},
     "output_type": "execute_result"
    }
   ],
   "source": [
    "bool(\"\") # empty strings like \"\" and '' and ''''''"
   ]
  },
  {
   "cell_type": "markdown",
   "metadata": {},
   "source": [
    "**Anything else evaluates to `True`:**"
   ]
  },
  {
   "cell_type": "code",
   "execution_count": 12,
   "metadata": {},
   "outputs": [
    {
     "data": {
      "text/plain": [
       "True"
      ]
     },
     "execution_count": 12,
     "metadata": {},
     "output_type": "execute_result"
    }
   ],
   "source": [
    "bool(10) # any number that isn't 0"
   ]
  },
  {
   "cell_type": "code",
   "execution_count": 13,
   "metadata": {},
   "outputs": [
    {
     "data": {
      "text/plain": [
       "True"
      ]
     },
     "execution_count": 13,
     "metadata": {},
     "output_type": "execute_result"
    }
   ],
   "source": [
    "bool([\"a\",\"b\",\"c\"]) # a non-empty list, dictionary, or tuple"
   ]
  },
  {
   "cell_type": "code",
   "execution_count": 14,
   "metadata": {},
   "outputs": [
    {
     "data": {
      "text/plain": [
       "True"
      ]
     },
     "execution_count": 14,
     "metadata": {},
     "output_type": "execute_result"
    }
   ],
   "source": [
    "bool(\"False\") # a non-empty string "
   ]
  },
  {
   "cell_type": "markdown",
   "metadata": {},
   "source": [
    "#### Boolean Assignment\n",
    "Since `True` and `False` are just values, we can use them in assignment statements like any other expression:"
   ]
  },
  {
   "cell_type": "code",
   "execution_count": 15,
   "metadata": {},
   "outputs": [
    {
     "name": "stdout",
     "output_type": "stream",
     "text": [
      "True\n",
      "False\n"
     ]
    }
   ],
   "source": [
    "x = (3 < 5)\n",
    "print(x)\n",
    "\n",
    "x = (3 < 1)\n",
    "print(x)"
   ]
  },
  {
   "cell_type": "markdown",
   "metadata": {},
   "source": [
    "### Logical Operators: Conjunction, Disjunction, and Negation\n",
    "There are three logical operators: conjunction `and`, disjunction `or`, and negation `not`. We use them to build more complex boolean expressions from simpler ones.  "
   ]
  },
  {
   "cell_type": "code",
   "execution_count": 16,
   "metadata": {},
   "outputs": [
    {
     "data": {
      "text/plain": [
       "True"
      ]
     },
     "execution_count": 16,
     "metadata": {},
     "output_type": "execute_result"
    }
   ],
   "source": [
    "True or False"
   ]
  },
  {
   "cell_type": "code",
   "execution_count": 17,
   "metadata": {},
   "outputs": [
    {
     "data": {
      "text/plain": [
       "False"
      ]
     },
     "execution_count": 17,
     "metadata": {},
     "output_type": "execute_result"
    }
   ],
   "source": [
    "True and False"
   ]
  },
  {
   "cell_type": "code",
   "execution_count": 18,
   "metadata": {},
   "outputs": [
    {
     "data": {
      "text/plain": [
       "False"
      ]
     },
     "execution_count": 18,
     "metadata": {},
     "output_type": "execute_result"
    }
   ],
   "source": [
    "not True"
   ]
  },
  {
   "cell_type": "markdown",
   "metadata": {},
   "source": [
    "We can visualize the possibilties with a _truth table_:\n",
    "\n",
    "| x     | y     | (x and y) | (x or y) | not x | \n",
    "| :----:|:-----:|:-------:| :----: | :---: |\n",
    "| True  | True  | True    | True   | False |\n",
    "| True  | False | False   | True   | False |\n",
    "| False | True  | False   | True   | True  |\n",
    "| False | False | False   | False  | True  |\n",
    "\n",
    "We can, of course, combine these three operators further to handle more complex logic. Here are some more possibilities:\n",
    "\n",
    "| x     | y     |  (not x and y) | (not x and not y) | (not x or y) |  (not x or not y) | not (not x or not y)|\n",
    "|:-----:|:-----:| :---------:  | :------------:  | :-------:  |  :-----------:  | :-----------------: |\n",
    "| True  | True  |  False       |  False          | True       |  False          | True                |\n",
    "| True  | False |  False       |  False          | False      |  True           | False               |\n",
    "| False | True  |  True        |  False          | True       |  True           | False               |\n",
    "| False | False |  False       |  True           | False      |  True           | False               |\n",
    "\n",
    "#### A Curious Aside\n",
    "Some of you may have noticed that **(x and y)** from the first table is always equal to **not (not x or not y)** in the second table. It turns out that **we don't actually need the `or` operator.** We can model any boolean logic we like with just `not` and `and`. In fact, we can go a step further and combine `not` and `and` into a single operator that electrical engineers call [NAND](https://www.electronics-tutorials.ws/logic/logic_5.html). Without the NAND operator it would be _a lot_ harder to create the tiny microchips that you find in basically everything today.   \n",
    "\n",
    "#### Short-Circuiting\n",
    "No matter how long or complex a boolean expression is, Python will always do its best to evaluate it as efficiently as it can. That means using a couple of useful **short-circuiting** rules:\n",
    "\n",
    "- If **_x_** is true then **(_x_ or _y_)** is true regardless of **_y_** \n",
    "- If **_x_** is false then **(_x_ and _y_)** is false regardless of **_y_**\n",
    "\n",
    "In either case Python does not bother to evaluate **_y_**, which can save a lot of time if **_y_** is a complex expression that takes a long time to evaluate. We'll come back to this idea when discussing using **guards** to prevent logic and runtime errors. "
   ]
  },
  {
   "cell_type": "markdown",
   "metadata": {},
   "source": [
    "#### `bool` is Usually Optional\n",
    "In any statement where Python expects to see a boolean expression, it will call `bool` for you if needed. So, strictly speaking, `and` and `or` and `not` don't actually need boolean operands. It makes for some getting used to but the following are all 100% legal Python: "
   ]
  },
  {
   "cell_type": "code",
   "execution_count": 19,
   "metadata": {},
   "outputs": [
    {
     "data": {
      "text/plain": [
       "True"
      ]
     },
     "execution_count": 19,
     "metadata": {},
     "output_type": "execute_result"
    }
   ],
   "source": [
    "15 and True"
   ]
  },
  {
   "cell_type": "code",
   "execution_count": 20,
   "metadata": {},
   "outputs": [
    {
     "data": {
      "text/plain": [
       "0"
      ]
     },
     "execution_count": 20,
     "metadata": {},
     "output_type": "execute_result"
    }
   ],
   "source": [
    "15 and 0"
   ]
  },
  {
   "cell_type": "code",
   "execution_count": 21,
   "metadata": {},
   "outputs": [
    {
     "data": {
      "text/plain": [
       "15"
      ]
     },
     "execution_count": 21,
     "metadata": {},
     "output_type": "execute_result"
    }
   ],
   "source": [
    "15 or 0"
   ]
  },
  {
   "cell_type": "code",
   "execution_count": 22,
   "metadata": {},
   "outputs": [
    {
     "data": {
      "text/plain": [
       "False"
      ]
     },
     "execution_count": 22,
     "metadata": {},
     "output_type": "execute_result"
    }
   ],
   "source": [
    "(True and 15) == (15 and True)"
   ]
  },
  {
   "cell_type": "code",
   "execution_count": 23,
   "metadata": {},
   "outputs": [
    {
     "data": {
      "text/plain": [
       "False"
      ]
     },
     "execution_count": 23,
     "metadata": {},
     "output_type": "execute_result"
    }
   ],
   "source": [
    "(True or 15) == (15 or True)"
   ]
  },
  {
   "cell_type": "code",
   "execution_count": 24,
   "metadata": {},
   "outputs": [
    {
     "data": {
      "text/plain": [
       "False"
      ]
     },
     "execution_count": 24,
     "metadata": {},
     "output_type": "execute_result"
    }
   ],
   "source": [
    "not 15"
   ]
  },
  {
   "cell_type": "code",
   "execution_count": 25,
   "metadata": {},
   "outputs": [
    {
     "data": {
      "text/plain": [
       "True"
      ]
     },
     "execution_count": 25,
     "metadata": {},
     "output_type": "execute_result"
    }
   ],
   "source": [
    "not 0"
   ]
  },
  {
   "cell_type": "code",
   "execution_count": 26,
   "metadata": {},
   "outputs": [
    {
     "data": {
      "text/plain": [
       "True"
      ]
     },
     "execution_count": 26,
     "metadata": {},
     "output_type": "execute_result"
    }
   ],
   "source": [
    "'False' and True or False"
   ]
  },
  {
   "cell_type": "markdown",
   "metadata": {},
   "source": [
    "You might want to puzzle through these on your own. Together they tell us a lot about how `and`, `or`, and `not` are really implemented by Python.  "
   ]
  },
  {
   "cell_type": "markdown",
   "metadata": {},
   "source": [
    "### Pulse Check ...\n",
    "For each of the expressions below, predict whether it is equivalent to `True` or `False`. Then **create and run** a new code cell just under each prediction to see if you got it right. The code cell for the first expression has been done for you as an example. "
   ]
  },
  {
   "cell_type": "markdown",
   "metadata": {},
   "source": [
    "**(2 < 3) and (3 < 6)**"
   ]
  },
  {
   "cell_type": "markdown",
   "metadata": {},
   "source": [
    "YOUR PREDICTION"
   ]
  },
  {
   "cell_type": "code",
   "execution_count": null,
   "metadata": {},
   "outputs": [],
   "source": [
    "(2 < 3) and (3 < 6)"
   ]
  },
  {
   "cell_type": "markdown",
   "metadata": {},
   "source": [
    "**(2 < 3) == (3 < 6)**"
   ]
  },
  {
   "cell_type": "markdown",
   "metadata": {},
   "source": [
    "YOUR PREDICTION"
   ]
  },
  {
   "cell_type": "markdown",
   "metadata": {},
   "source": [
    "**(2 < 3) and not (3 < 6)**"
   ]
  },
  {
   "cell_type": "markdown",
   "metadata": {},
   "source": [
    "YOUR PREDICTION"
   ]
  },
  {
   "cell_type": "markdown",
   "metadata": {},
   "source": [
    "**not((2 < 3) and not (3 < 6))**"
   ]
  },
  {
   "cell_type": "markdown",
   "metadata": {},
   "source": [
    "YOUR PREDICTION"
   ]
  },
  {
   "cell_type": "markdown",
   "metadata": {},
   "source": [
    "**bool(\"0\")**"
   ]
  },
  {
   "cell_type": "markdown",
   "metadata": {},
   "source": [
    "YOUR PREDICTION"
   ]
  },
  {
   "cell_type": "markdown",
   "metadata": {},
   "source": [
    "**bool(0) < bool(-1)**"
   ]
  },
  {
   "cell_type": "markdown",
   "metadata": {},
   "source": [
    "YOUR PREDICTION"
   ]
  },
  {
   "cell_type": "markdown",
   "metadata": {},
   "source": [
    "EXPRESSIONS DEMO HERE"
   ]
  },
  {
   "cell_type": "markdown",
   "metadata": {},
   "source": [
    "----\n",
    "## Conditionals: The Many Forms of `if` Statements\n",
    "\n",
    "In principle the `if` statement is very compact. Here is **everything** the [Python docs](https://docs.python.org/3/reference/compound_stmts.html#the-if-statement) tell us about it.\n",
    "\n",
    ">![If Statement Grammar](img/L3_1_if_Statement.png)\n",
    "\n",
    "What more could we possibly want to know, right? Hmmm. Let's unpack it to look at the various forms it might take.\n",
    "\n",
    "### The `if` Form\n",
    "In theory all we need is some way to check a boolean expression before running some code. If the boolean evaluates to `True` then run the code. Otherwise, just don't. \n",
    "\n",
    "`if` statements always follow the same pattern:\n",
    "```python\n",
    "if boolean_expression :\n",
    "    block\n",
    "```\n",
    "where \n",
    "- `boolean_expression` is a boolean expression\n",
    "- `block` is sequence of one or more statements (which Python calls a \"suite\")\n",
    "- the `if`, colon `:`, and indentation `   ` are required for Python to recognize this as an `if` statement\n",
    "\n",
    "For example, this conditional statement prints out the value of `1/x` but only if x is not zero:\n",
    "\n",
    "```python\n",
    "if x != 0:\n",
    "   print(1/x)\n",
    "```\n",
    "\n",
    "### The `if` ... `else` Form \n",
    "Sometimes we want to specify an alternate \"catch all\" logic block for when the `boolean_expression` is `False`:\n",
    "\n",
    "```python\n",
    "if boolean_expression :\n",
    "    success_block\n",
    "else:\n",
    "    failure_block\n",
    "```\n",
    "Note that indentation and a colon are again being used to separate one clause of our statement from the next. All statements inside the `success_block` and `failure_block` have to be indented to the same degree so that they line up exactly. If any of these statements themselves require indentation then they add indentation to whatever was needed to define the block. We'll see how that works when we get to **nested conditionals**. \n",
    "\n",
    "Continuing our `1/x` example, we might want to handle the `x == 0` case:\n",
    "```python\n",
    "if x != 0:\n",
    "   print(1/x)\n",
    "else: \n",
    "   print(\"Cannot divide by zero\")\n",
    "```\n",
    "\n",
    "### The `if` ... `elif` ... `else` Form\n",
    "There are times when we want to consider three or more possible conditions. For that we use one or more `elif` clauses.\n",
    "\n",
    "```python\n",
    "if boolean1 :\n",
    "    block1\n",
    "elif boolean2 :\n",
    "    block2\n",
    "else:\n",
    "    block_else\n",
    "``` \n",
    "We can have as many `elif` clauses as we like. We can even leave off the `else`:\n",
    "\n",
    "```python\n",
    "if boolean1 :\n",
    "    block1\n",
    "elif boolean2 :\n",
    "    block2\n",
    "```\n",
    "\n",
    "Take note that the form without the `else` is subtly different. With `if ... elif ... else` there are three possible outcomes:\n",
    "- `block1` executes\n",
    "- `block2` executes\n",
    "- `block_else` executes\n",
    "\n",
    "When we omit the `else` clause there are **also** three possibilities: \n",
    "- `block1` executes\n",
    "- `block2` executes\n",
    "- **nothing** executes\n",
    "\n",
    "Once again, this is subtle but it can cause unexpected bugs. One solution is to _always_ have an `else` clause if there is an `elif`. But what if we don't actually want a catch all block? For that we can use the `pass` keyword to indicate, you guessed it, _do nothing_. \n",
    "\n",
    "```python\n",
    "if boolean1 :\n",
    "    block1\n",
    "elif boolean2 :\n",
    "    block2\n",
    "else:\n",
    "    pass\n",
    "```\n",
    "That at least makes the logic explicit so we aren't haunted by bugs in an `else` clause that isn't there. \n",
    "\n",
    "#### Note about short-circuited conditionals\n",
    "Regardless of the form used, `if` statements work a lot like boolean expressions. They only execute clauses until it finds one to execute. It then ignores the rest. So, if `boolean1` is `True` then Python doesn't care to evaluate `boolean2`, etc. Instead, it just runs `block1` and goes about its business. We'll make use of this later, so be prepared to come back here again. \n"
   ]
  },
  {
   "cell_type": "markdown",
   "metadata": {},
   "source": [
    "### Nested Conditionals\n",
    "Since every conditional statement has one or more blocks, which themselves contain more statements, we can **nest** an `if` statement inside another one like this:\n",
    "\n",
    "```python\n",
    "if type(x) == int or type(x) == float:\n",
    "    if x != 0:\n",
    "       print(1/x)\n",
    "    else: \n",
    "       print(\"Cannot divide by zero\")\n",
    "else:\n",
    "    print(\"x must be a number\")\n",
    "```\n",
    "\n",
    "The inner `if` statement is indented like any other statement in the block, moving over to the right of the outer `if` statement. \n",
    "\n",
    "Some people find nested conditionals confusing. We can _unnest_ them using `elif` clauses, like so:\n",
    "```python\n",
    "if type(x) == int or type(x) == float and x != 0:\n",
    "    print(1/x)\n",
    "elif type(x) == int or type(x) == float: \n",
    "    print(\"Cannot divide by zero\")\n",
    "else:\n",
    "    print(\"x must be a number\")\n",
    "```\n",
    "\n",
    "Hmmm, that seems pretty inefficient. We can simplify it a bit by reordering the clauses to take advantage of **short-circuiting**:\n",
    "```python\n",
    "if type(x) != int and type(x) != float:\n",
    "    print(\"x must be a number\")\n",
    "elif x == 0 : \n",
    "    print(\"Cannot divide by zero\")\n",
    "else:\n",
    "    print(1/x)\n",
    "```\n",
    "That is both simpler, less redundant, and less prone to bugs. It does, however, take a little getting used to. It's part of a general practice called **defensive programming** that we will elaborate on in the Pro Tips section at the end of the lesson. "
   ]
  },
  {
   "cell_type": "markdown",
   "metadata": {},
   "source": [
    "### Pulse Check ...\n",
    "For each of the following conditionals explain the result."
   ]
  },
  {
   "cell_type": "code",
   "execution_count": null,
   "metadata": {},
   "outputs": [],
   "source": [
    "if school = \"Fairfield\":\n",
    "    mascot = \"Stags\"\n",
    "else: \n",
    "    mascot = \"Pioneers\"\n",
    "print (\"Go \" + mascot + \"!\")"
   ]
  },
  {
   "cell_type": "markdown",
   "metadata": {},
   "source": [
    "YOUR ANSWER HERE"
   ]
  },
  {
   "cell_type": "code",
   "execution_count": null,
   "metadata": {},
   "outputs": [],
   "source": [
    "school = \"Sacred Heart\"\n",
    "if school = \"Fairfield\":\n",
    "    mascot = \"Stags\"\n",
    "else: \n",
    "    mascot = \"Pioneers\"\n",
    "print (\"Go \" + mascot + \"!\")"
   ]
  },
  {
   "cell_type": "markdown",
   "metadata": {},
   "source": [
    "YOUR ANSWER HERE"
   ]
  },
  {
   "cell_type": "code",
   "execution_count": null,
   "metadata": {},
   "outputs": [],
   "source": [
    "school = \"Sacred Heart\"\n",
    "if school == \"Fairfield\":\n",
    "    mascot = \"Stags\"\n",
    "else: \n",
    "    mascot = \"Pioneers\"\n",
    "print (\"Go \" + mascot + \"!\")"
   ]
  },
  {
   "cell_type": "markdown",
   "metadata": {},
   "source": [
    "YOUR ANSWER HERE"
   ]
  },
  {
   "cell_type": "code",
   "execution_count": null,
   "metadata": {},
   "outputs": [],
   "source": [
    "school = \"Sacred Heart\"\n",
    "print(\"Go \" + (\"Stags\" if school else \"Pioneers\") + \"!\")"
   ]
  },
  {
   "cell_type": "markdown",
   "metadata": {},
   "source": [
    "YOUR ANSWER HERE"
   ]
  },
  {
   "cell_type": "code",
   "execution_count": null,
   "metadata": {},
   "outputs": [],
   "source": [
    "CONDITIONALS DEMO HERE"
   ]
  },
  {
   "cell_type": "markdown",
   "metadata": {},
   "source": [
    "---\n",
    "## Pro Tips\n",
    "\n",
    "### Conditional Expressions\n",
    "There are times when it is convenient to make the **value** of something conditional. For that we use a conditional expression: \n",
    "\n",
    "```python\n",
    "expression_success if condition else expression_failure\n",
    "```\n",
    "\n",
    "Conditional expressions are not statements. They just allow calculations to vary one way or another. \n",
    "\n",
    "With conditional expressions, we can directly assign the value just like we did with boolean assignment earlier in the lesson:\n",
    "```python\n",
    "x = \"y >= 0\" if y >= 0 else \"y < 0\"\n",
    "```\n",
    "\n",
    "It's shorter and makes certain one-line codes possible that would be a pain to do any other way. Conditional expressions are even nestable, making it possible to handle more than two outcomes (like an `elif`). \n",
    "\n",
    "### Defensive Programming\n",
    "\n",
    "Defensive programming is an approach to programming that was originally intended to avoid security bugs and system crashes. The idea is to detect and mitigate all of the things that could make a bit of code fail (crash or produce an incorrect outcome). \n",
    "\n",
    "The general pattern is something like this:\n",
    "```python\n",
    "if conditions_that_might_cause_a_failure:\n",
    "    fail_gracefully\n",
    "else:\n",
    "    execute_normally\n",
    "```\n",
    "\n",
    "It seems like common sense, right? Nonetheless, most people still don't bother to put in safeguards. For example, let's say that we want to print out a warning if the ratio `y/x` is greater than 1. The naive way is like this:\n",
    "\n",
    "```python\n",
    "if (y/x > 1):\n",
    "    print(\"Warning! y/x > 1\")\n",
    "```\n",
    "It's pretty straightforward but also wrong. We didn't consider the possibility that `x` might be 0 and cause the ratio `y/x` to become undefined. Bingo, that's a potential runtime error and a system crash. Oops. \n",
    "\n",
    "We will learn a few ways to \"bulletproof\" code like this in the next few lessons, starting with **guards** and **exception handling**.\n",
    "    \n",
    "#### Boolean Guards\n",
    "One of the most \"dangerous\" times for your code are inside conditionals like `y/x > 1`. We are so often focused on the \"normal\" case that we forget about the exceptions. \n",
    "\n",
    "A **guard** is a quick and easy way to short-circuit a boolean expression with an `and` operation. In the ratio example the following would have done the trick:\n",
    "```python\n",
    "if x !=0 and y/x > 1:\n",
    "    print(\"Warning! y/x > 1\")\n",
    "```\n",
    "By inserting the `x != 0` check before the ratio check `y/x > 1` the conditional will short-circuit if `x` is 0. This avoids the possibility of a \"divide by zero\" runtime error entirely.\n",
    "\n",
    "#### Handling Exceptions \n",
    "Another way to deal with potential runtime errors is with a `try ... except` handler:\n",
    "\n",
    "```python\n",
    "try:\n",
    "    some_potentially_buggy_code\n",
    "except:\n",
    "    what_to_do_if_a_runtime_error_occurs\n",
    "```\n",
    "\n",
    "In this case we don't even bother to predict what could go wrong. Instead, we ask Python to let us know if a runtime error happens so we can mitigate the damage (and hopefully forestall a crash or something even worse). \n",
    "\n",
    "You may be wondering: **why do we even bother with guards if we can just handle exceptions this way?** Because `try ... except` does not guarantee that the damage _can_ be mitigated after a runtime error. So to be sure, it's best to use guards to prevent what you can and then `try ... except` for everything else. "
   ]
  },
  {
   "cell_type": "markdown",
   "metadata": {},
   "source": [
    "---\n",
    "## Exercises"
   ]
  },
  {
   "cell_type": "markdown",
   "metadata": {},
   "source": [
    "1. Extend the `waist2hip_ratio` calculation from Lesson 2 to indicate body shape. \n",
    "- Copy your `waist2_hip_ratio` code from Lesson 2. \n",
    "- Add an input() statement to ask for the person's `gender`. \n",
    "- Add logic to return print \"Pear\" or \"Apple\" depending on the ratio and `gender`. See [here](https://abcnews.go.com/Health/Fitness/story?id=5590968) for details.\n",
    "- Be sure to account for possible runtime errors, making the code fail gracefully. \n",
    "- Comments might be nice too. \n",
    "\n",
    "(Note: Determining body shape can be offensive to some people. However, we are not here to judge you or anybody else. Please do not use _your_ body measurements to test your code. This is a programming exercise with some light conditional logic. Nothing more is intended or implied.)"
   ]
  },
  {
   "cell_type": "code",
   "execution_count": null,
   "metadata": {},
   "outputs": [],
   "source": [
    "EXERCISE 1 CODE HERE."
   ]
  },
  {
   "cell_type": "markdown",
   "metadata": {},
   "source": [
    "2. Fix this conditional expression so that it makes logical sense. \n",
    "```python\n",
    "'hi ' + 'there' if nearby else 'over there' + ', how are you?'\n",
    "```\n",
    "Assume that `nearby` is either `True` or `False`. Also, use comments to document your assumptions.  \n",
    "\n",
    "Hints: \n",
    "- The expression is not runnable without adding code.\n",
    "- Test your code for both the case when `nearby` is `True` and when `nearby` is `False`.\n",
    "- PEMDAS applies to conditional expressions too."
   ]
  },
  {
   "cell_type": "code",
   "execution_count": null,
   "metadata": {},
   "outputs": [],
   "source": [
    "EXERCISE 2 CODE HERE."
   ]
  },
  {
   "cell_type": "markdown",
   "metadata": {},
   "source": [
    "## Submit your work to GitHub\n",
    "1. Save this Notebook.\n",
    "2. Commit your changes and save/push to GitHub."
   ]
  },
  {
   "cell_type": "code",
   "execution_count": null,
   "metadata": {},
   "outputs": [],
   "source": []
  }
 ],
 "metadata": {
  "kernelspec": {
   "display_name": "Python 3",
   "language": "python",
   "name": "python3"
  },
  "language_info": {
   "codemirror_mode": {
    "name": "ipython",
    "version": 3
   },
   "file_extension": ".py",
   "mimetype": "text/x-python",
   "name": "python",
   "nbconvert_exporter": "python",
   "pygments_lexer": "ipython3",
   "version": "3.7.7"
  }
 },
 "nbformat": 4,
 "nbformat_minor": 4
}
