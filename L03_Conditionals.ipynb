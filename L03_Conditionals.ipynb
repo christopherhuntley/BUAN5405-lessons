{
 "cells": [
  {
   "cell_type": "markdown",
   "metadata": {},
   "source": [
    "<img src=\"https://github.com/christopherhuntley/BUAN5405-docs/blob/master/Slides/img/Dolan.png?raw=true\" style=\"width:180px; float:right\">\n",
    "\n",
    "# Lesson 3: Conditional Execution\n",
    "_The many forms of \"it depends\"_"
   ]
  },
  {
   "cell_type": "markdown",
   "metadata": {},
   "source": [
    "# Learning Objectives\n",
    "\n",
    "## Theory / Be able to explain ...\n",
    "- aaa\n",
    "\n",
    "## Skills / Know how to  ...\n",
    "- aaa\n",
    "\n",
    "**What follows is adapted from Chapter 3 of the _Python For Everybody_ book. If you have not read it, then please do so before continuting on.**\n",
    "\n",
    "**COLAB NOTE: SOMETIMES GOOGLE COLAB \"FOLDS\" EMPTY CODE CELLS TO HIDE THEM. WHENEVER IT DOES THAT, CLICK TO REVEAL THEM.**"
   ]
  },
  {
   "cell_type": "markdown",
   "metadata": {},
   "source": [
    "## Structured Programming\n",
    "Back in the computer science dinosaur times when everybody wore white coats there were lesser dinosaurs and then there were giants that made the earth shake as they went about their daily business. Computer scientists like Alan Turing, John von Neumann, Grace Hopper, Doug Englebart, Alan Kay, Donald Knuth, Leonard Kleinrock, and others were often thinking decades ahead of anybody else. Consider, for example, the _Mother of All Demos_ (read about on [Wikipedia](https://en.wikipedia.org/wiki/The_Mother_of_All_Demos), watch on [Youtube](https://www.youtube.com/watch?v=JQ8ZiT1sn88)), in which Doug Englebart demonstrated a graphical user interface (with windows, a mouse, and hyperlinks), video conferencing over what would later be called the Internet, Google Doc-style collabrative word processing, and Git-like revision control _**in 1968**_. They may been dinosaurs but they certainly weren't dumb.\n",
    "\n",
    "About the same time as Englebart's earthquake of a demo,  Edsger Dijkstra, developed (and proved!) the theory of Structured Programming that underlies **every** general purpose programming language, then and now. Structured programming is about programming logic, of which there are 4 fundamental elements:\n",
    "\n",
    "- **blocks** of statements to be executed one after another\n",
    "- **conditionals** that select one block of statements over others (based on selection criteria)\n",
    "- **loops** that repeat a block of statements some number of times (subject to stopping criterion)\n",
    "- **subroutines** that allow us to parameterize (template) and reuse (call) logical blocks whenever we need it\n",
    "\n",
    "In Lesson 2 we learned how to use blocks. In this lesson we will cover conditionals before moving on to functions (subtroutines) in Lesson 4 and iteration (loops) in Lesson 5. "
   ]
  },
  {
   "cell_type": "markdown",
   "metadata": {},
   "source": [
    "## Boolean Expressions\n",
    "Conditional execution allows a block of code to run only when **given conditions** are true. We'll start with that last part, determining what is true or false.\n",
    "\n",
    "A **boolean expression** always evaluates to either `True` or `False`. The values `True` and `False` comprise their own special data type called `bool`:"
   ]
  },
  {
   "cell_type": "code",
   "execution_count": 1,
   "metadata": {},
   "outputs": [
    {
     "data": {
      "text/plain": [
       "bool"
      ]
     },
     "execution_count": 1,
     "metadata": {},
     "output_type": "execute_result"
    }
   ],
   "source": [
    "type(True)"
   ]
  },
  {
   "cell_type": "markdown",
   "metadata": {},
   "source": [
    "Notice that there are no quotes used. They are not string literals (\"True\" and \"False\") or numbers (1 and 0). They are just `True` and `False`.\n",
    "\n",
    "Boolean expressions commonly come about through comparisons:"
   ]
  },
  {
   "cell_type": "code",
   "execution_count": 2,
   "metadata": {},
   "outputs": [
    {
     "data": {
      "text/plain": [
       "True"
      ]
     },
     "execution_count": 2,
     "metadata": {},
     "output_type": "execute_result"
    }
   ],
   "source": [
    "2 > 1"
   ]
  },
  {
   "cell_type": "code",
   "execution_count": 3,
   "metadata": {},
   "outputs": [
    {
     "data": {
      "text/plain": [
       "False"
      ]
     },
     "execution_count": 3,
     "metadata": {},
     "output_type": "execute_result"
    }
   ],
   "source": [
    "2 < 1"
   ]
  },
  {
   "cell_type": "code",
   "execution_count": 4,
   "metadata": {},
   "outputs": [
    {
     "data": {
      "text/plain": [
       "bool"
      ]
     },
     "execution_count": 4,
     "metadata": {},
     "output_type": "execute_result"
    }
   ],
   "source": [
    "type(2>1)"
   ]
  },
  {
   "cell_type": "markdown",
   "metadata": {},
   "source": [
    "Python provides a full suite of **comparison operators**:"
   ]
  },
  {
   "cell_type": "code",
   "execution_count": 5,
   "metadata": {},
   "outputs": [
    {
     "name": "stdout",
     "output_type": "stream",
     "text": [
      "Is 1 equal to 2?\t\t\t False\n",
      "Is 1 not equal to 2?\t\t\t True\n",
      "Is 1 greater than  2?\t\t\t False\n",
      "Is 1 less than oo 2?\t\t\t True\n",
      "Is 1 greater than or equal to 2?\t False\n",
      "Is 1 less than or equal to 2?\t\t True\n",
      "Is 1 identical to 2?\t\t\t False\n",
      "Is 1 not identical to 2?\t\t True\n"
     ]
    }
   ],
   "source": [
    "print(\"Is 1 equal to 2?\\t\\t\\t\", 1 == 2)\n",
    "print(\"Is 1 not equal to 2?\\t\\t\\t\",1 != 2)\n",
    "print(\"Is 1 greater than  2?\\t\\t\\t\",1 > 2)\n",
    "print(\"Is 1 less than oo 2?\\t\\t\\t\",1 < 2)\n",
    "print(\"Is 1 greater than or equal to 2?\\t\",1 >= 2)\n",
    "print(\"Is 1 less than or equal to 2?\\t\\t\",1 <= 2)\n",
    "print(\"Is 1 identical to 2?\\t\\t\\t\",1 is 2)\n",
    "print(\"Is 1 not identical to 2?\\t\\t\",1 is not 2)"
   ]
  },
  {
   "cell_type": "markdown",
   "metadata": {},
   "source": [
    "It's a common newbie mistake to confuse `==` (on the first line) with `=`. The expression `1 == 2` tests equivalence of `1` and `2`, while the statement `1 = 2` tries (and fails) to make `1` equal `2`. "
   ]
  },
  {
   "cell_type": "code",
   "execution_count": 6,
   "metadata": {},
   "outputs": [
    {
     "ename": "SyntaxError",
     "evalue": "can't assign to literal (<ipython-input-6-c0ab9e3898ea>, line 1)",
     "output_type": "error",
     "traceback": [
      "\u001b[0;36m  File \u001b[0;32m\"<ipython-input-6-c0ab9e3898ea>\"\u001b[0;36m, line \u001b[0;32m1\u001b[0m\n\u001b[0;31m    1 = 2\u001b[0m\n\u001b[0m         ^\u001b[0m\n\u001b[0;31mSyntaxError\u001b[0m\u001b[0;31m:\u001b[0m can't assign to literal\n"
     ]
    }
   ],
   "source": [
    "1 = 2"
   ]
  },
  {
   "cell_type": "markdown",
   "metadata": {},
   "source": [
    "The next few operators are pretty much what you'd expect until we get to `is` and `is not`. The `is` operator is asking if the entity on the left is exactly the **same entity** as one the right? For numbers and strings this is the same as `==`. For lists, dictionaries and a few other data types we'll learn about later in this course, this won't _always_ be true. \n",
    "\n",
    "**Comparisons are not the only kind of boolean expression,** of course. Just about any expression can evaluate to `True` or `False`. We can test that out using the `bool` conversion function. \n",
    "\n",
    "**In practice only [a few specific things](https://docs.python.org/3.3/library/stdtypes.html?highlight=frozenset#truth-value-testing) evaluate to `False`:**"
   ]
  },
  {
   "cell_type": "code",
   "execution_count": 7,
   "metadata": {},
   "outputs": [
    {
     "data": {
      "text/plain": [
       "False"
      ]
     },
     "execution_count": 7,
     "metadata": {},
     "output_type": "execute_result"
    }
   ],
   "source": [
    "bool(False) # duh"
   ]
  },
  {
   "cell_type": "code",
   "execution_count": 8,
   "metadata": {},
   "outputs": [
    {
     "data": {
      "text/plain": [
       "False"
      ]
     },
     "execution_count": 8,
     "metadata": {},
     "output_type": "execute_result"
    }
   ],
   "source": [
    "bool(None) # None or nothing"
   ]
  },
  {
   "cell_type": "code",
   "execution_count": 9,
   "metadata": {},
   "outputs": [
    {
     "data": {
      "text/plain": [
       "False"
      ]
     },
     "execution_count": 9,
     "metadata": {},
     "output_type": "execute_result"
    }
   ],
   "source": [
    "bool(0) # the number 0 or 0.0 or equivalent"
   ]
  },
  {
   "cell_type": "code",
   "execution_count": 10,
   "metadata": {},
   "outputs": [
    {
     "data": {
      "text/plain": [
       "False"
      ]
     },
     "execution_count": 10,
     "metadata": {},
     "output_type": "execute_result"
    }
   ],
   "source": [
    "bool([]) # empty lists, dictionaries, or tuples"
   ]
  },
  {
   "cell_type": "code",
   "execution_count": 11,
   "metadata": {},
   "outputs": [
    {
     "data": {
      "text/plain": [
       "False"
      ]
     },
     "execution_count": 11,
     "metadata": {},
     "output_type": "execute_result"
    }
   ],
   "source": [
    "bool(\"\") # empty strings like \"\" and '' and ''''''"
   ]
  },
  {
   "cell_type": "markdown",
   "metadata": {},
   "source": [
    "**Anything else evaluates to `True`:**"
   ]
  },
  {
   "cell_type": "code",
   "execution_count": 12,
   "metadata": {},
   "outputs": [
    {
     "data": {
      "text/plain": [
       "True"
      ]
     },
     "execution_count": 12,
     "metadata": {},
     "output_type": "execute_result"
    }
   ],
   "source": [
    "bool(10) # any number that isn't 0"
   ]
  },
  {
   "cell_type": "code",
   "execution_count": 13,
   "metadata": {},
   "outputs": [
    {
     "data": {
      "text/plain": [
       "True"
      ]
     },
     "execution_count": 13,
     "metadata": {},
     "output_type": "execute_result"
    }
   ],
   "source": [
    "bool([\"a\",\"b\",\"c\"]) # a non-empty list, dictionary, or tuple"
   ]
  },
  {
   "cell_type": "code",
   "execution_count": 14,
   "metadata": {},
   "outputs": [
    {
     "data": {
      "text/plain": [
       "True"
      ]
     },
     "execution_count": 14,
     "metadata": {},
     "output_type": "execute_result"
    }
   ],
   "source": [
    "bool(\"False\") # a non-empty string "
   ]
  },
  {
   "cell_type": "markdown",
   "metadata": {},
   "source": [
    "### Logical Operators: Conjunction, Disjunction, and Negation\n",
    "There are three logical operators: conjuction `and`, disjunction `or`, and negation `not`. We use them to build more complex boolean expressions from simpler ones.  "
   ]
  },
  {
   "cell_type": "code",
   "execution_count": 15,
   "metadata": {},
   "outputs": [
    {
     "data": {
      "text/plain": [
       "True"
      ]
     },
     "execution_count": 15,
     "metadata": {},
     "output_type": "execute_result"
    }
   ],
   "source": [
    "True or False"
   ]
  },
  {
   "cell_type": "code",
   "execution_count": 16,
   "metadata": {},
   "outputs": [
    {
     "data": {
      "text/plain": [
       "False"
      ]
     },
     "execution_count": 16,
     "metadata": {},
     "output_type": "execute_result"
    }
   ],
   "source": [
    "True and False"
   ]
  },
  {
   "cell_type": "code",
   "execution_count": 17,
   "metadata": {},
   "outputs": [
    {
     "data": {
      "text/plain": [
       "False"
      ]
     },
     "execution_count": 17,
     "metadata": {},
     "output_type": "execute_result"
    }
   ],
   "source": [
    "not True"
   ]
  },
  {
   "cell_type": "markdown",
   "metadata": {},
   "source": [
    "We can visualize the possibilties with a _truth table_:\n",
    "\n",
    "| x     | y     | (x and y) | (x or y) | not x | \n",
    "| :----:|:-----:|:-------:| :----: | :---: |\n",
    "| True  | True  | True    | True   | False |\n",
    "| True  | False | False   | True   | False |\n",
    "| False | True  | False   | True   | True  |\n",
    "| False | False | False   | False  | True  |\n",
    "\n",
    "We can, of course, combine these three operators further to handle more complex logic. Here are some more possibilities:\n",
    "\n",
    "| x     | y     |  (not x and y) | (not x and not y) | (not x or y) |  (not x or not y) | not (not x or not y)|\n",
    "|:-----:|:-----:| :---------:  | :------------:  | :-------:  |  :-----------:  | :-----------------: |\n",
    "| True  | True  |  False       |  False          | True       |  False          | True                |\n",
    "| True  | False |  False       |  False          | False      |  True           | False               |\n",
    "| False | True  |  True        |  False          | True       |  True           | False               |\n",
    "| False | False |  False       |  False          | False      |  True           | False               |\n",
    "\n",
    "#### A Curious Aside\n",
    "Some of you may have noticed that **(x and y)** from the first table is always equal to **not (not x or not y)** in the second table. It turns out that **we don't actually need the `or` operator.** We can model any boolean logic we like with just `not` and `and`. In fact, we can go a step further and combine `not` and `and` into a single operator that electrical engineers call [NAND](https://www.electronics-tutorials.ws/logic/logic_5.html). Without the NAND operator it would be _a lot_ harder to create the tiny microchips that you find in basically everything today.   \n",
    "\n",
    "#### Short-Circuiting\n",
    "No matter how long or complex a boolean expression is, Python will always do it's best to evaluate it as efficiently as it can. That means using a couple of useful **short-circuiting** rules:\n",
    "\n",
    "- If **_x_** is true then **(_x_ or _y_)** is true regardless of **_y_** \n",
    "- If **_x_** is false then **(_x_ and _y_)** is false regardless of **_y_**\n",
    "\n",
    "In either case Python does not bother to evaluate **_y_**, which can save a lot of time if **_y_** is an complex expression that take a long time to evaluate. We'll come back to this idea when discuss using **guards** to prevent logic and runtime errors. "
   ]
  },
  {
   "cell_type": "markdown",
   "metadata": {},
   "source": [
    "#### `bool` is Usually Optional\n",
    "In any statement where Python expects to see a boolean expression, it will call `bool` for you if needed. So, strictly speaking, `and` and `or` and `not` don't actually need boolean operands. It makes for some getting used to but the following are all 100% legal Python: "
   ]
  },
  {
   "cell_type": "code",
   "execution_count": 18,
   "metadata": {},
   "outputs": [
    {
     "data": {
      "text/plain": [
       "True"
      ]
     },
     "execution_count": 18,
     "metadata": {},
     "output_type": "execute_result"
    }
   ],
   "source": [
    "15 and True"
   ]
  },
  {
   "cell_type": "code",
   "execution_count": 19,
   "metadata": {},
   "outputs": [
    {
     "data": {
      "text/plain": [
       "0"
      ]
     },
     "execution_count": 19,
     "metadata": {},
     "output_type": "execute_result"
    }
   ],
   "source": [
    "15 and 0"
   ]
  },
  {
   "cell_type": "code",
   "execution_count": 20,
   "metadata": {},
   "outputs": [
    {
     "data": {
      "text/plain": [
       "15"
      ]
     },
     "execution_count": 20,
     "metadata": {},
     "output_type": "execute_result"
    }
   ],
   "source": [
    "15 or 0"
   ]
  },
  {
   "cell_type": "code",
   "execution_count": 21,
   "metadata": {},
   "outputs": [
    {
     "data": {
      "text/plain": [
       "False"
      ]
     },
     "execution_count": 21,
     "metadata": {},
     "output_type": "execute_result"
    }
   ],
   "source": [
    "(True and 15) == (15 and True)"
   ]
  },
  {
   "cell_type": "code",
   "execution_count": 22,
   "metadata": {},
   "outputs": [
    {
     "data": {
      "text/plain": [
       "False"
      ]
     },
     "execution_count": 22,
     "metadata": {},
     "output_type": "execute_result"
    }
   ],
   "source": [
    "(True or 15) == (15 or True)"
   ]
  },
  {
   "cell_type": "code",
   "execution_count": 23,
   "metadata": {},
   "outputs": [
    {
     "data": {
      "text/plain": [
       "False"
      ]
     },
     "execution_count": 23,
     "metadata": {},
     "output_type": "execute_result"
    }
   ],
   "source": [
    "not 15"
   ]
  },
  {
   "cell_type": "code",
   "execution_count": 24,
   "metadata": {},
   "outputs": [
    {
     "data": {
      "text/plain": [
       "True"
      ]
     },
     "execution_count": 24,
     "metadata": {},
     "output_type": "execute_result"
    }
   ],
   "source": [
    "not 0"
   ]
  },
  {
   "cell_type": "code",
   "execution_count": 25,
   "metadata": {},
   "outputs": [
    {
     "data": {
      "text/plain": [
       "True"
      ]
     },
     "execution_count": 25,
     "metadata": {},
     "output_type": "execute_result"
    }
   ],
   "source": [
    "'False' and True or False"
   ]
  },
  {
   "cell_type": "markdown",
   "metadata": {},
   "source": [
    "You might want to puzzle through these on your own. Together they tell us a lot about how `and`, `or`, and `not` are really implemented by Python.  "
   ]
  },
  {
   "cell_type": "markdown",
   "metadata": {},
   "source": [
    "### Pulse Check ...\n",
    "For each of the expressions below, predict whether it is equivalent to `True` or `False`. Then create and run a new code cell just under each prediction to see if you got it right. The code cell for the first expression has been done for you as an example. "
   ]
  },
  {
   "cell_type": "markdown",
   "metadata": {},
   "source": [
    "**(2 < 3) and (3 < 6)**"
   ]
  },
  {
   "cell_type": "markdown",
   "metadata": {},
   "source": [
    "YOUR PREDICTION"
   ]
  },
  {
   "cell_type": "code",
   "execution_count": null,
   "metadata": {},
   "outputs": [],
   "source": [
    "(2 < 3) and (3 < 6)"
   ]
  },
  {
   "cell_type": "markdown",
   "metadata": {},
   "source": [
    "**(2 < 3) == (3 < 6)**"
   ]
  },
  {
   "cell_type": "markdown",
   "metadata": {},
   "source": [
    "YOUR PREDICTION"
   ]
  },
  {
   "cell_type": "markdown",
   "metadata": {},
   "source": [
    "**(2 < 3) and not (3 < 6)**"
   ]
  },
  {
   "cell_type": "markdown",
   "metadata": {},
   "source": [
    "YOUR PREDICTION"
   ]
  },
  {
   "cell_type": "markdown",
   "metadata": {},
   "source": [
    "**not((2 < 3) and not (3 < 6))**"
   ]
  },
  {
   "cell_type": "markdown",
   "metadata": {},
   "source": [
    "YOUR PREDICTION"
   ]
  },
  {
   "cell_type": "markdown",
   "metadata": {},
   "source": [
    "**bool(\"0\")**"
   ]
  },
  {
   "cell_type": "markdown",
   "metadata": {},
   "source": [
    "YOUR PREDICTION"
   ]
  },
  {
   "cell_type": "markdown",
   "metadata": {},
   "source": [
    "**bool(0) < bool(-1)**"
   ]
  },
  {
   "cell_type": "markdown",
   "metadata": {},
   "source": [
    "YOUR PREDICTION"
   ]
  },
  {
   "cell_type": "markdown",
   "metadata": {},
   "source": [
    "## The Many Forms of `if` Statements\n",
    "\n",
    "### `if` \n",
    "### `if` ... `else`\n",
    "### `if` ... `elif` ... `else`\n",
    "### `if` ... `elif` (but no `else`)"
   ]
  },
  {
   "cell_type": "markdown",
   "metadata": {},
   "source": [
    "### Nested Conditionals"
   ]
  },
  {
   "cell_type": "markdown",
   "metadata": {},
   "source": [
    "### Shortcut Conditionals\n",
    "_expression1_ `if` _condition_ `else` _expression2_"
   ]
  },
  {
   "cell_type": "markdown",
   "metadata": {},
   "source": [
    "### Pulse Check ..."
   ]
  },
  {
   "cell_type": "markdown",
   "metadata": {},
   "source": [
    "## Handling Exceptions\n",
    "### Boolean Guards"
   ]
  },
  {
   "cell_type": "markdown",
   "metadata": {},
   "source": [
    "## Debugging Tips"
   ]
  },
  {
   "cell_type": "markdown",
   "metadata": {},
   "source": [
    "## Exercise"
   ]
  }
 ],
 "metadata": {
  "kernelspec": {
   "display_name": "Python 3",
   "language": "python",
   "name": "python3"
  },
  "language_info": {
   "codemirror_mode": {
    "name": "ipython",
    "version": 3
   },
   "file_extension": ".py",
   "mimetype": "text/x-python",
   "name": "python",
   "nbconvert_exporter": "python",
   "pygments_lexer": "ipython3",
   "version": "3.7.7"
  }
 },
 "nbformat": 4,
 "nbformat_minor": 4
}
