{
 "cells": [
  {
   "cell_type": "markdown",
   "metadata": {},
   "source": [
    "<img src=\"https://github.com/christopherhuntley/BUAN5405-docs/blob/master/Slides/img/Dolan.png?raw=true\" width=\"180px\" align=\"right\">\n",
    "\n",
    "# Lesson 11: pandas DataFrames\n",
    "_The Swiss Army Knife of Data Science_"
   ]
  },
  {
   "cell_type": "markdown",
   "metadata": {},
   "source": [
    "# Learning Objectives\n",
    "## Theory / Be able to explain ...\n",
    "- The fundamental structure and characteristics of data tables\n",
    "- Row-dominant vs column-dominant table design\n",
    "- The features of pandas `Series` and `DataFrame` objects\n",
    "- Column assignment for row-by-row calculations\n",
    "- Functions and methods of DataFrame objects\n",
    "\n",
    "## Skills / Know how to  ...\n",
    "- Structure data tables with nested lists and dictionaries\n",
    "- Create `Series` and `DataFrame` objects from lists and dictionaries\n",
    "- Read/write DataFrame objects from/to external data stores\n",
    "- Create/modify DataFrame columns from existing columns\n",
    "- Select data with `[]`, `loc[]`, and `iloc[]`\n",
    "- Generate descriptive stats and plots from a DataFrame\n",
    "\n",
    "**This is new content you won't find in the Py4E book. Consider it a preview of your next course in Python for analytics. All roads eventually lead to pandas DataFrames.**"
   ]
  },
  {
   "cell_type": "markdown",
   "metadata": {},
   "source": [
    "## Datasets, Data Tables, and DataFrames ...\n",
    "> \"A rose by any other name would smell as sweet\" -- _Romeo and Juliet_\n",
    "\n",
    "Science applications have always been a key driver of computer innovation. The first really useful digital computers were developed to support physics research. The architect was John von Neumann, a biologist and mathematician. Even today, some of the hardest work that computers do is in the biosciences. And as every middle school Earth Science student will tell you, that means collecting data, drawing inferences, and validating results. \n",
    "\n",
    "Here we will focus on the start of that process, collecting data into coherent **datasets**, which are almost always in tabular form, indexed by order or perhaps a timestamp. \n",
    "\n",
    "In Python the right tool for working with datasets is **pandas**, which combines:\n",
    "- the integrity protections of a relational database\n",
    "- the flexibility of a spreadsheet\n",
    "- the raw computational power of numpy or matlab\n",
    "- the expressiveness of a high end data visualization package\n",
    "\n",
    "We will start with a look at data tables _without_ pandas. Then we'll see how pandas makes them so much more expressive and powerful. "
   ]
  },
  {
   "cell_type": "markdown",
   "metadata": {},
   "source": [
    "---\n",
    "## Data Tables\n",
    "In traditional usage a data table has the following structure that owes a lot to the form, function, and type discussion from Lesson 2: \n",
    "- Tables have rows and columns\n",
    "- Each row records data for one entity (observation or instance)\n",
    "- Each column represents a feature or measurement from the observation\n",
    "- Data in each column are of the same type\n",
    "- No row has any \"extra\" or \"repeated\" data or columns \n",
    "- The rows are indexed (by date, order, or otherwise) for fast and easy retrieval"
   ]
  },
  {
   "cell_type": "markdown",
   "metadata": {},
   "source": [
    "While we have seemingly always thought of data tables this way, it wasn't until E. F. Codd's work in the early 1970s that these notions became best practice. Today, of course, these six rules are the foundation of the relational database model used throughout the world to keep data safe. \n",
    "\n",
    "When implementing these rules, there are two approaches that are functionally equivalent yet distinctly different in feel. \n",
    "- **Row dominant** data structures record data one row at a time. Each row is a **record**, with one field per feature.  \n",
    "- **Column dominant** data structures store data one column at a time. Each column is a **vector** of data for one feature. \n",
    "\n",
    "The choice of which approach to adopt is largely up to the programmer, of course, but it can be influenced by the programming language. Languages that are often used by **engineers**, like C/C++ and SQL, tend toward row dominance. On the other hand, languages that are used more by **scientists and mathematicians**, like R or Fortran, are more column-oriented. \n",
    "\n",
    "Fortunately Python can go either way, depending on how we choose to structure the data. "
   ]
  },
  {
   "cell_type": "markdown",
   "metadata": {},
   "source": [
    "### Lists of Dictionaries (Row Dominance)\n",
    "If data is to be added row by row, entity by entity, then the most natural way to structure the data is with a `list` of `dict`s with a standardized key for each feature."
   ]
  },
  {
   "cell_type": "code",
   "execution_count": 1,
   "metadata": {},
   "outputs": [],
   "source": [
    "# a list of dicts (records)\n",
    "presidents_by_row = [ {'birthdate':'1732-02-22','name': \"George Washington\", 'inaugurated': '1789-04-30'},\n",
    "                      {'birthdate':'1735-10-30','name': \"John Adams\", 'inaugurated': '1797-03-04'},\n",
    "                      {'birthdate':'1743-04-13','name': \"Thomas Jefferson\", 'inaugurated': '1801-03-04'}]\n",
    "\n",
    "# appending a more dicts as data becomes available\n",
    "presidents_by_row += [ {'birthdate':'1751-03-16','name': \"James Madison\", 'inaugurated': '1809-03-04'},\n",
    "                       {'birthdate':'1758-04-28','name': \"James Monroe\", 'inaugurated': '1817-03-04'}]"
   ]
  },
  {
   "cell_type": "markdown",
   "metadata": {},
   "source": [
    "Again, if you are recording things in the order they occur (like a system log or baseball game statistics), then this is the way to do it. However, let's assume that you want to get just one column from the table. For that we'd need to use something like a list comprehension:"
   ]
  },
  {
   "cell_type": "code",
   "execution_count": 2,
   "metadata": {},
   "outputs": [],
   "source": [
    "inauguration_dates = [p['inaugurated'] for p in presidents_by_row]"
   ]
  },
  {
   "cell_type": "markdown",
   "metadata": {},
   "source": [
    "### Dictionaries of Lists (Column Dominance)\n",
    "Statisticians who work with data _after_ it has been collected tend to prefer the column-dominant approach, which we can implement with a `dict` of `list`s. "
   ]
  },
  {
   "cell_type": "code",
   "execution_count": 3,
   "metadata": {},
   "outputs": [],
   "source": [
    "presidents_by_col = {'birthdate': ['1732-02-22','1735-10-30','1743-04-13','1751-03-16'],\n",
    "                     'name': [\"George Washington\",\"John Adams\",\"Thomas Jefferson\",\"James Madison\"],\n",
    "                     'inaugurated': ['1789-04-30','1797-03-04','1801-03-04','1809-03-04']}"
   ]
  },
  {
   "cell_type": "markdown",
   "metadata": {},
   "source": [
    "Each column has a name and an array of data of the same type,  one element per entity. This makes it really super easy to process each column separately for things like histograms, averages, etc. Further, as long as we take care with the length and ordering of the lists, it makes adding new columns as easy as adding a new key to a dictionary (because that's exactly how we would do it). \n",
    "\n",
    "However, it gets trickier when adding a new row of data. Then we have to modify the list for each column. If we forget a column then we could corrupt our data. "
   ]
  },
  {
   "cell_type": "code",
   "execution_count": 4,
   "metadata": {},
   "outputs": [],
   "source": [
    "new_president = {'birthdate':'1758-04-28','name': \"James Monroe\", 'inaugurated': '1817-03-04'}\n",
    "\n",
    "presidents_by_col['birthdate']   += [new_president['birthdate']]\n",
    "presidents_by_col['name']        += [new_president['name']]\n",
    "presidents_by_col['inaugurated'] += [new_president['inaugurated']]"
   ]
  },
  {
   "cell_type": "markdown",
   "metadata": {},
   "source": [
    "--- \n",
    "## The pandas `Series`\n",
    "A pandas `Series` represents a 1-dimensional vector of data such that\n",
    "- Each element is of the same type\n",
    "- The elements are indexed by a hashable type\n",
    "\n",
    "In our data table analogy, a `Series` is a single column of data with an **index** for fast access and to keep things in the proper order. We'll come back to the properties of an index, but first let's consider a couple examples. "
   ]
  },
  {
   "cell_type": "code",
   "execution_count": 5,
   "metadata": {},
   "outputs": [
    {
     "data": {
      "text/plain": [
       "0    1732-02-22\n",
       "1    1735-10-30\n",
       "2    1743-04-13\n",
       "3    1751-03-16\n",
       "dtype: object"
      ]
     },
     "execution_count": 5,
     "metadata": {},
     "output_type": "execute_result"
    }
   ],
   "source": [
    "import pandas as pd\n",
    "birthdates = pd.Series(['1732-02-22','1735-10-30','1743-04-13','1751-03-16'])\n",
    "birthdates"
   ]
  },
  {
   "cell_type": "markdown",
   "metadata": {},
   "source": [
    "Some observations:\n",
    "- We imported the pandas library using the customary `pd` alias. Usually you would do this at the very top of your Jupyter notebooks. \n",
    "- The `Series` is generated from a list of birthdates\n",
    "- pandas add an index, numbered from 0, to allow us to keep the birthdates in order\n",
    "- Each item in the series is of the same (generic) `object` data type\n",
    "\n",
    "If we like we can give the `Series` a name. We can also change the data type from `object` to `datetime`. "
   ]
  },
  {
   "cell_type": "code",
   "execution_count": 6,
   "metadata": {},
   "outputs": [
    {
     "data": {
      "text/plain": [
       "0   1732-02-22\n",
       "1   1735-10-30\n",
       "2   1743-04-13\n",
       "3   1751-03-16\n",
       "Name: birthdates, dtype: datetime64[ns]"
      ]
     },
     "execution_count": 6,
     "metadata": {},
     "output_type": "execute_result"
    }
   ],
   "source": [
    "birthdates.name = 'birthdates'    # Set the `name` property\n",
    "pd.to_datetime(birthdates)        # Convert all data to datetime"
   ]
  },
  {
   "cell_type": "markdown",
   "metadata": {},
   "source": [
    "### pandas Indexes\n",
    "While the index values used in the above examples are integers, they don't have to be. We can index using any **hashable** data type, just like dictionary keys. So, if we wanted to index based on strings, that is perfectly fine. "
   ]
  },
  {
   "cell_type": "code",
   "execution_count": 7,
   "metadata": {},
   "outputs": [
    {
     "data": {
      "text/plain": [
       "George Washington   1732-02-22\n",
       "John Adams          1735-10-30\n",
       "Thomas Jefferson    1743-04-13\n",
       "James Madison       1751-03-16\n",
       "dtype: datetime64[ns]"
      ]
     },
     "execution_count": 7,
     "metadata": {},
     "output_type": "execute_result"
    }
   ],
   "source": [
    "birthdates = pd.Series(['1732-02-22','1735-10-30','1743-04-13','1751-03-16'], \n",
    "                       index=[\"George Washington\",\"John Adams\",\"Thomas Jefferson\",\"James Madison\"], \n",
    "                       dtype='datetime64[ns]')\n",
    "birthdates"
   ]
  },
  {
   "cell_type": "markdown",
   "metadata": {},
   "source": [
    "One thing that pandas won't do for us (unless we ask) is to enforce unique indexes. Multiple rows can have the same index values. \n",
    "\n",
    "Also, note that the index is **not** considered data. It is merely a way to label and look up data from the array. This will become clearer when we work with multiple columns in a `DataFrame`."
   ]
  },
  {
   "cell_type": "markdown",
   "metadata": {},
   "source": [
    "---\n",
    "## The pandas `DataFrame`\n",
    "A data frame is equivalent to column-dominant (dictionary of lists) data tables. It is a standard data type in R as `data.frame`. In pandas we use `DataFrame`. It has all of the properties and functions of a pandas `Series` but with support for multiple columns (and more).\n",
    "\n",
    "We can create `DataFrame` objects by\n",
    "- Creating an empty dataframe and adding columns _or rows_ as desired\n",
    "- Converting from a list of dictionaries or a dictionary of lists \n",
    "- Importing from a file or url\n",
    "We can also, of course, convert back to any of these, including writing data to a file or url. "
   ]
  },
  {
   "cell_type": "markdown",
   "metadata": {},
   "source": [
    "### Building a `DataFrame` from Scratch\n",
    "To create an empty DataFrame we can just call the `pd.DataFrame()` constructor function. "
   ]
  },
  {
   "cell_type": "code",
   "execution_count": 8,
   "metadata": {},
   "outputs": [
    {
     "data": {
      "text/html": [
       "<div>\n",
       "<style scoped>\n",
       "    .dataframe tbody tr th:only-of-type {\n",
       "        vertical-align: middle;\n",
       "    }\n",
       "\n",
       "    .dataframe tbody tr th {\n",
       "        vertical-align: top;\n",
       "    }\n",
       "\n",
       "    .dataframe thead th {\n",
       "        text-align: right;\n",
       "    }\n",
       "</style>\n",
       "<table border=\"1\" class=\"dataframe\">\n",
       "  <thead>\n",
       "    <tr style=\"text-align: right;\">\n",
       "      <th></th>\n",
       "    </tr>\n",
       "  </thead>\n",
       "  <tbody>\n",
       "  </tbody>\n",
       "</table>\n",
       "</div>"
      ],
      "text/plain": [
       "Empty DataFrame\n",
       "Columns: []\n",
       "Index: []"
      ]
     },
     "execution_count": 8,
     "metadata": {},
     "output_type": "execute_result"
    }
   ],
   "source": [
    "df = pd.DataFrame()\n",
    "df"
   ]
  },
  {
   "cell_type": "markdown",
   "metadata": {},
   "source": [
    "We can define empty columns by specifying them in the constructor and even add more later. "
   ]
  },
  {
   "cell_type": "code",
   "execution_count": 9,
   "metadata": {},
   "outputs": [
    {
     "data": {
      "text/html": [
       "<div>\n",
       "<style scoped>\n",
       "    .dataframe tbody tr th:only-of-type {\n",
       "        vertical-align: middle;\n",
       "    }\n",
       "\n",
       "    .dataframe tbody tr th {\n",
       "        vertical-align: top;\n",
       "    }\n",
       "\n",
       "    .dataframe thead th {\n",
       "        text-align: right;\n",
       "    }\n",
       "</style>\n",
       "<table border=\"1\" class=\"dataframe\">\n",
       "  <thead>\n",
       "    <tr style=\"text-align: right;\">\n",
       "      <th></th>\n",
       "      <th>birthdate</th>\n",
       "      <th>name</th>\n",
       "      <th>inaugurated</th>\n",
       "    </tr>\n",
       "  </thead>\n",
       "  <tbody>\n",
       "  </tbody>\n",
       "</table>\n",
       "</div>"
      ],
      "text/plain": [
       "Empty DataFrame\n",
       "Columns: [birthdate, name, inaugurated]\n",
       "Index: []"
      ]
     },
     "execution_count": 9,
     "metadata": {},
     "output_type": "execute_result"
    }
   ],
   "source": [
    "df = pd.DataFrame(columns = [\"birthdate\",\"name\"])\n",
    "df['inaugurated'] = ''  # Add a column like we'd add to a list\n",
    "df"
   ]
  },
  {
   "cell_type": "markdown",
   "metadata": {},
   "source": [
    "To add rows we use `append()`. We can append multiple rows at a time using the list of dictionaries technique. "
   ]
  },
  {
   "cell_type": "code",
   "execution_count": 10,
   "metadata": {},
   "outputs": [
    {
     "data": {
      "text/html": [
       "<div>\n",
       "<style scoped>\n",
       "    .dataframe tbody tr th:only-of-type {\n",
       "        vertical-align: middle;\n",
       "    }\n",
       "\n",
       "    .dataframe tbody tr th {\n",
       "        vertical-align: top;\n",
       "    }\n",
       "\n",
       "    .dataframe thead th {\n",
       "        text-align: right;\n",
       "    }\n",
       "</style>\n",
       "<table border=\"1\" class=\"dataframe\">\n",
       "  <thead>\n",
       "    <tr style=\"text-align: right;\">\n",
       "      <th></th>\n",
       "      <th>birthdate</th>\n",
       "      <th>name</th>\n",
       "      <th>inaugurated</th>\n",
       "    </tr>\n",
       "  </thead>\n",
       "  <tbody>\n",
       "    <tr>\n",
       "      <th>0</th>\n",
       "      <td>1732-02-22</td>\n",
       "      <td>George Washington</td>\n",
       "      <td>1789-04-30</td>\n",
       "    </tr>\n",
       "    <tr>\n",
       "      <th>1</th>\n",
       "      <td>1735-10-30</td>\n",
       "      <td>John Adams</td>\n",
       "      <td>1797-03-04</td>\n",
       "    </tr>\n",
       "    <tr>\n",
       "      <th>2</th>\n",
       "      <td>1743-04-13</td>\n",
       "      <td>Thomas Jefferson</td>\n",
       "      <td>1801-03-04</td>\n",
       "    </tr>\n",
       "    <tr>\n",
       "      <th>3</th>\n",
       "      <td>1751-03-16</td>\n",
       "      <td>James Madison</td>\n",
       "      <td>1809-03-04</td>\n",
       "    </tr>\n",
       "    <tr>\n",
       "      <th>4</th>\n",
       "      <td>1758-04-28</td>\n",
       "      <td>James Monroe</td>\n",
       "      <td>1817-03-04</td>\n",
       "    </tr>\n",
       "  </tbody>\n",
       "</table>\n",
       "</div>"
      ],
      "text/plain": [
       "    birthdate               name inaugurated\n",
       "0  1732-02-22  George Washington  1789-04-30\n",
       "1  1735-10-30         John Adams  1797-03-04\n",
       "2  1743-04-13   Thomas Jefferson  1801-03-04\n",
       "3  1751-03-16      James Madison  1809-03-04\n",
       "4  1758-04-28       James Monroe  1817-03-04"
      ]
     },
     "execution_count": 10,
     "metadata": {},
     "output_type": "execute_result"
    }
   ],
   "source": [
    "df=df.append(presidents_by_row)\n",
    "df"
   ]
  },
  {
   "cell_type": "markdown",
   "metadata": {},
   "source": [
    "To add columns we use the same assignment-based technique as before, just this time with a list of data:"
   ]
  },
  {
   "cell_type": "code",
   "execution_count": 11,
   "metadata": {},
   "outputs": [
    {
     "data": {
      "text/html": [
       "<div>\n",
       "<style scoped>\n",
       "    .dataframe tbody tr th:only-of-type {\n",
       "        vertical-align: middle;\n",
       "    }\n",
       "\n",
       "    .dataframe tbody tr th {\n",
       "        vertical-align: top;\n",
       "    }\n",
       "\n",
       "    .dataframe thead th {\n",
       "        text-align: right;\n",
       "    }\n",
       "</style>\n",
       "<table border=\"1\" class=\"dataframe\">\n",
       "  <thead>\n",
       "    <tr style=\"text-align: right;\">\n",
       "      <th></th>\n",
       "      <th>birthdate</th>\n",
       "      <th>name</th>\n",
       "      <th>inaugurated</th>\n",
       "      <th>Spouse</th>\n",
       "    </tr>\n",
       "  </thead>\n",
       "  <tbody>\n",
       "    <tr>\n",
       "      <th>0</th>\n",
       "      <td>1732-02-22</td>\n",
       "      <td>George Washington</td>\n",
       "      <td>1789-04-30</td>\n",
       "      <td>Martha Washington</td>\n",
       "    </tr>\n",
       "    <tr>\n",
       "      <th>1</th>\n",
       "      <td>1735-10-30</td>\n",
       "      <td>John Adams</td>\n",
       "      <td>1797-03-04</td>\n",
       "      <td>Abigail Adams</td>\n",
       "    </tr>\n",
       "    <tr>\n",
       "      <th>2</th>\n",
       "      <td>1743-04-13</td>\n",
       "      <td>Thomas Jefferson</td>\n",
       "      <td>1801-03-04</td>\n",
       "      <td>Martha Jefferson</td>\n",
       "    </tr>\n",
       "    <tr>\n",
       "      <th>3</th>\n",
       "      <td>1751-03-16</td>\n",
       "      <td>James Madison</td>\n",
       "      <td>1809-03-04</td>\n",
       "      <td>Dolly Madison</td>\n",
       "    </tr>\n",
       "    <tr>\n",
       "      <th>4</th>\n",
       "      <td>1758-04-28</td>\n",
       "      <td>James Monroe</td>\n",
       "      <td>1817-03-04</td>\n",
       "      <td>Elizabeth Monroe</td>\n",
       "    </tr>\n",
       "  </tbody>\n",
       "</table>\n",
       "</div>"
      ],
      "text/plain": [
       "    birthdate               name inaugurated             Spouse\n",
       "0  1732-02-22  George Washington  1789-04-30  Martha Washington\n",
       "1  1735-10-30         John Adams  1797-03-04      Abigail Adams\n",
       "2  1743-04-13   Thomas Jefferson  1801-03-04   Martha Jefferson\n",
       "3  1751-03-16      James Madison  1809-03-04      Dolly Madison\n",
       "4  1758-04-28       James Monroe  1817-03-04   Elizabeth Monroe"
      ]
     },
     "execution_count": 11,
     "metadata": {},
     "output_type": "execute_result"
    }
   ],
   "source": [
    "df['Spouse']=['Martha Washington','Abigail Adams', 'Martha Jefferson', 'Dolly Madison','Elizabeth Monroe']\n",
    "df"
   ]
  },
  {
   "cell_type": "markdown",
   "metadata": {},
   "source": [
    "#### Indexes are not Data Columns\n",
    "Notice in the examples that the index column does not have a name. That's because pandas does not consider it data. It's part of the design of the table. **If you want a column to also act as the index, then add a duplicate column and mark it as the index afterwards.**"
   ]
  },
  {
   "cell_type": "markdown",
   "metadata": {},
   "source": [
    "### Converting from Nested Collections\n",
    "While it is nice to know that we can build up from scratch, often we will already have the dataset in hand and just want to convert it all at once. We can do that using either of our data table formats. Each of the two DataFrames below are equivalent. "
   ]
  },
  {
   "cell_type": "code",
   "execution_count": 12,
   "metadata": {},
   "outputs": [
    {
     "data": {
      "text/html": [
       "<div>\n",
       "<style scoped>\n",
       "    .dataframe tbody tr th:only-of-type {\n",
       "        vertical-align: middle;\n",
       "    }\n",
       "\n",
       "    .dataframe tbody tr th {\n",
       "        vertical-align: top;\n",
       "    }\n",
       "\n",
       "    .dataframe thead th {\n",
       "        text-align: right;\n",
       "    }\n",
       "</style>\n",
       "<table border=\"1\" class=\"dataframe\">\n",
       "  <thead>\n",
       "    <tr style=\"text-align: right;\">\n",
       "      <th></th>\n",
       "      <th>birthdate</th>\n",
       "      <th>name</th>\n",
       "      <th>inaugurated</th>\n",
       "    </tr>\n",
       "  </thead>\n",
       "  <tbody>\n",
       "    <tr>\n",
       "      <th>0</th>\n",
       "      <td>1732-02-22</td>\n",
       "      <td>George Washington</td>\n",
       "      <td>1789-04-30</td>\n",
       "    </tr>\n",
       "    <tr>\n",
       "      <th>1</th>\n",
       "      <td>1735-10-30</td>\n",
       "      <td>John Adams</td>\n",
       "      <td>1797-03-04</td>\n",
       "    </tr>\n",
       "    <tr>\n",
       "      <th>2</th>\n",
       "      <td>1743-04-13</td>\n",
       "      <td>Thomas Jefferson</td>\n",
       "      <td>1801-03-04</td>\n",
       "    </tr>\n",
       "    <tr>\n",
       "      <th>3</th>\n",
       "      <td>1751-03-16</td>\n",
       "      <td>James Madison</td>\n",
       "      <td>1809-03-04</td>\n",
       "    </tr>\n",
       "    <tr>\n",
       "      <th>4</th>\n",
       "      <td>1758-04-28</td>\n",
       "      <td>James Monroe</td>\n",
       "      <td>1817-03-04</td>\n",
       "    </tr>\n",
       "  </tbody>\n",
       "</table>\n",
       "</div>"
      ],
      "text/plain": [
       "    birthdate               name inaugurated\n",
       "0  1732-02-22  George Washington  1789-04-30\n",
       "1  1735-10-30         John Adams  1797-03-04\n",
       "2  1743-04-13   Thomas Jefferson  1801-03-04\n",
       "3  1751-03-16      James Madison  1809-03-04\n",
       "4  1758-04-28       James Monroe  1817-03-04"
      ]
     },
     "execution_count": 12,
     "metadata": {},
     "output_type": "execute_result"
    }
   ],
   "source": [
    "df_by_row = pd.DataFrame(presidents_by_row)\n",
    "df_by_row"
   ]
  },
  {
   "cell_type": "code",
   "execution_count": 13,
   "metadata": {},
   "outputs": [
    {
     "data": {
      "text/html": [
       "<div>\n",
       "<style scoped>\n",
       "    .dataframe tbody tr th:only-of-type {\n",
       "        vertical-align: middle;\n",
       "    }\n",
       "\n",
       "    .dataframe tbody tr th {\n",
       "        vertical-align: top;\n",
       "    }\n",
       "\n",
       "    .dataframe thead th {\n",
       "        text-align: right;\n",
       "    }\n",
       "</style>\n",
       "<table border=\"1\" class=\"dataframe\">\n",
       "  <thead>\n",
       "    <tr style=\"text-align: right;\">\n",
       "      <th></th>\n",
       "      <th>birthdate</th>\n",
       "      <th>name</th>\n",
       "      <th>inaugurated</th>\n",
       "    </tr>\n",
       "  </thead>\n",
       "  <tbody>\n",
       "    <tr>\n",
       "      <th>0</th>\n",
       "      <td>1732-02-22</td>\n",
       "      <td>George Washington</td>\n",
       "      <td>1789-04-30</td>\n",
       "    </tr>\n",
       "    <tr>\n",
       "      <th>1</th>\n",
       "      <td>1735-10-30</td>\n",
       "      <td>John Adams</td>\n",
       "      <td>1797-03-04</td>\n",
       "    </tr>\n",
       "    <tr>\n",
       "      <th>2</th>\n",
       "      <td>1743-04-13</td>\n",
       "      <td>Thomas Jefferson</td>\n",
       "      <td>1801-03-04</td>\n",
       "    </tr>\n",
       "    <tr>\n",
       "      <th>3</th>\n",
       "      <td>1751-03-16</td>\n",
       "      <td>James Madison</td>\n",
       "      <td>1809-03-04</td>\n",
       "    </tr>\n",
       "    <tr>\n",
       "      <th>4</th>\n",
       "      <td>1758-04-28</td>\n",
       "      <td>James Monroe</td>\n",
       "      <td>1817-03-04</td>\n",
       "    </tr>\n",
       "  </tbody>\n",
       "</table>\n",
       "</div>"
      ],
      "text/plain": [
       "    birthdate               name inaugurated\n",
       "0  1732-02-22  George Washington  1789-04-30\n",
       "1  1735-10-30         John Adams  1797-03-04\n",
       "2  1743-04-13   Thomas Jefferson  1801-03-04\n",
       "3  1751-03-16      James Madison  1809-03-04\n",
       "4  1758-04-28       James Monroe  1817-03-04"
      ]
     },
     "execution_count": 13,
     "metadata": {},
     "output_type": "execute_result"
    }
   ],
   "source": [
    "df_by_col = pd.DataFrame(presidents_by_col)\n",
    "df_by_col"
   ]
  },
  {
   "cell_type": "markdown",
   "metadata": {},
   "source": [
    "### The pandas I/O Tools\n",
    "The pandas [I/O API](https://pandas.pydata.org/pandas-docs/stable/user_guide/io.html) provides an impressive array of options for reading and writing DataFrames from/to external data sources. We will only consider one of the more commonly used ones. To learn about the others, [RTFM](https://en.wikipedia.org/wiki/RTFM) the pandas I/O docs. We all do it, just about every time we have to import or export something in pandas. \n",
    "> ![pandas io](img/L11_pandas_io.png)\n",
    "\n",
    "#### Reading CSV Files with `read_csv()`\n",
    "The most common way to import data into pandas is with `read_csv()`, a function that reads tables in Comma Separated Values (CSV) format. It comes with a long list of parameters that we can pass as configuration arguments. The only required one is the first, `filepath`.\n",
    "- `filepath` is a local file system path, url, or a text stream. It tells the function where to find the data. In the remaining parameter descriptions we will assume that we are reading from a file, but the meaning is the same for the other sources. \n",
    "- `delimiter` sets the character used to separate columns. The default is a comma but we can use `\\tab` or any other single character we choose. If we don't want to choose we can leave it with the default or set the `delim_whitespace` argument to True.\n",
    "- `header` indicates what line (row) of the file to look for column names (headers). The default is to look on the first line of the file.\n",
    "- `names` allows us to override whatever column names are provided in file. \n",
    "- `index_col` sets the column to use for the DataFrame index. We can supply either the column name (string) or its position (int). The default is `None`, which tells pandas to inidex it for us with 0, 1, 2, etc.\n",
    "- `use_cols` allows us to skip some columns we don't want by supplying a `list` of the ones we do want. As with `index_col` we can use names or positions.\n",
    "- `dtype` sets the data type for a column by name by passing a dictionary of data types. We can also tell it to use the same data type for all columns.\n",
    "- `parse_dates` indicates which columns (including the index) to treat as `datetime` values. \n",
    "\n",
    "And many, many more. "
   ]
  },
  {
   "cell_type": "markdown",
   "metadata": {},
   "source": [
    "---\n",
    "## Column (Per-Row) Assignment \n",
    "\n",
    "One we have the data in a DataFrame we can create new columns from existing columns like this:"
   ]
  },
  {
   "cell_type": "code",
   "execution_count": 14,
   "metadata": {},
   "outputs": [
    {
     "data": {
      "text/html": [
       "<div>\n",
       "<style scoped>\n",
       "    .dataframe tbody tr th:only-of-type {\n",
       "        vertical-align: middle;\n",
       "    }\n",
       "\n",
       "    .dataframe tbody tr th {\n",
       "        vertical-align: top;\n",
       "    }\n",
       "\n",
       "    .dataframe thead th {\n",
       "        text-align: right;\n",
       "    }\n",
       "</style>\n",
       "<table border=\"1\" class=\"dataframe\">\n",
       "  <thead>\n",
       "    <tr style=\"text-align: right;\">\n",
       "      <th></th>\n",
       "      <th>birthdate</th>\n",
       "      <th>name</th>\n",
       "      <th>inaugurated</th>\n",
       "      <th>age_at_inauguration</th>\n",
       "    </tr>\n",
       "  </thead>\n",
       "  <tbody>\n",
       "    <tr>\n",
       "      <th>0</th>\n",
       "      <td>1732-02-22</td>\n",
       "      <td>George Washington</td>\n",
       "      <td>1789-04-30</td>\n",
       "      <td>57.185489</td>\n",
       "    </tr>\n",
       "    <tr>\n",
       "      <th>1</th>\n",
       "      <td>1735-10-30</td>\n",
       "      <td>John Adams</td>\n",
       "      <td>1797-03-04</td>\n",
       "      <td>61.344285</td>\n",
       "    </tr>\n",
       "    <tr>\n",
       "      <th>2</th>\n",
       "      <td>1743-04-13</td>\n",
       "      <td>Thomas Jefferson</td>\n",
       "      <td>1801-03-04</td>\n",
       "      <td>57.889117</td>\n",
       "    </tr>\n",
       "    <tr>\n",
       "      <th>3</th>\n",
       "      <td>1751-03-16</td>\n",
       "      <td>James Madison</td>\n",
       "      <td>1809-03-04</td>\n",
       "      <td>57.965777</td>\n",
       "    </tr>\n",
       "    <tr>\n",
       "      <th>4</th>\n",
       "      <td>1758-04-28</td>\n",
       "      <td>James Monroe</td>\n",
       "      <td>1817-03-04</td>\n",
       "      <td>58.847365</td>\n",
       "    </tr>\n",
       "  </tbody>\n",
       "</table>\n",
       "</div>"
      ],
      "text/plain": [
       "   birthdate               name inaugurated  age_at_inauguration\n",
       "0 1732-02-22  George Washington  1789-04-30            57.185489\n",
       "1 1735-10-30         John Adams  1797-03-04            61.344285\n",
       "2 1743-04-13   Thomas Jefferson  1801-03-04            57.889117\n",
       "3 1751-03-16      James Madison  1809-03-04            57.965777\n",
       "4 1758-04-28       James Monroe  1817-03-04            58.847365"
      ]
     },
     "execution_count": 14,
     "metadata": {},
     "output_type": "execute_result"
    }
   ],
   "source": [
    "presidents_df = pd.DataFrame(presidents_by_row)\n",
    "\n",
    "# convert the birthdates and inauguration dates to datetime values\n",
    "presidents_df['birthdate'] = pd.to_datetime(presidents_df['birthdate'])\n",
    "presidents_df['inaugurated'] = pd.to_datetime(presidents_df['inaugurated'])\n",
    "\n",
    "# Calculate the age in years as a float\n",
    "presidents_df['age_at_inauguration'] = (presidents_df['inaugurated'] - presidents_df['birthdate']).dt.days/(365.25)\n",
    "presidents_df"
   ]
  },
  {
   "cell_type": "markdown",
   "metadata": {},
   "source": [
    "A few remarks:\n",
    "- Whenever a column is referenced on the left of the `=`, pandas assumes we want to change each value in the column. It will repeat the assignment for each row. The expression of the right right of the `=` can refer to any or all of the columns in the DataFrame. \n",
    "- Here we are converting each birthdate and inauguration date to proper Python dates so we can do date arithmetic. \n",
    "- The difference between the two dates is then converted to years and added as the new column `age_at_inauguration`."
   ]
  },
  {
   "cell_type": "markdown",
   "metadata": {},
   "source": [
    "---\n",
    "## Slicing, `loc[]`, and `iloc[]`\n",
    "### Selections with `[]`\n",
    "We have already seen what the `[]` operator does when given a DataFrame. If given the name of a column it always returns a `Series`. "
   ]
  },
  {
   "cell_type": "code",
   "execution_count": 15,
   "metadata": {},
   "outputs": [
    {
     "data": {
      "text/plain": [
       "0   1789-04-30\n",
       "1   1797-03-04\n",
       "2   1801-03-04\n",
       "3   1809-03-04\n",
       "4   1817-03-04\n",
       "Name: inaugurated, dtype: datetime64[ns]"
      ]
     },
     "execution_count": 15,
     "metadata": {},
     "output_type": "execute_result"
    }
   ],
   "source": [
    "presidents_df['inaugurated']"
   ]
  },
  {
   "cell_type": "markdown",
   "metadata": {},
   "source": [
    "We cannot, however, select the same column by position:"
   ]
  },
  {
   "cell_type": "code",
   "execution_count": 16,
   "metadata": {},
   "outputs": [
    {
     "ename": "KeyError",
     "evalue": "2",
     "output_type": "error",
     "traceback": [
      "\u001b[0;31m---------------------------------------------------------------------------\u001b[0m",
      "\u001b[0;31mKeyError\u001b[0m                                  Traceback (most recent call last)",
      "\u001b[0;32m~/anaconda3/lib/python3.7/site-packages/pandas/core/indexes/base.py\u001b[0m in \u001b[0;36mget_loc\u001b[0;34m(self, key, method, tolerance)\u001b[0m\n\u001b[1;32m   2645\u001b[0m             \u001b[0;32mtry\u001b[0m\u001b[0;34m:\u001b[0m\u001b[0;34m\u001b[0m\u001b[0;34m\u001b[0m\u001b[0m\n\u001b[0;32m-> 2646\u001b[0;31m                 \u001b[0;32mreturn\u001b[0m \u001b[0mself\u001b[0m\u001b[0;34m.\u001b[0m\u001b[0m_engine\u001b[0m\u001b[0;34m.\u001b[0m\u001b[0mget_loc\u001b[0m\u001b[0;34m(\u001b[0m\u001b[0mkey\u001b[0m\u001b[0;34m)\u001b[0m\u001b[0;34m\u001b[0m\u001b[0;34m\u001b[0m\u001b[0m\n\u001b[0m\u001b[1;32m   2647\u001b[0m             \u001b[0;32mexcept\u001b[0m \u001b[0mKeyError\u001b[0m\u001b[0;34m:\u001b[0m\u001b[0;34m\u001b[0m\u001b[0;34m\u001b[0m\u001b[0m\n",
      "\u001b[0;32mpandas/_libs/index.pyx\u001b[0m in \u001b[0;36mpandas._libs.index.IndexEngine.get_loc\u001b[0;34m()\u001b[0m\n",
      "\u001b[0;32mpandas/_libs/index.pyx\u001b[0m in \u001b[0;36mpandas._libs.index.IndexEngine.get_loc\u001b[0;34m()\u001b[0m\n",
      "\u001b[0;32mpandas/_libs/hashtable_class_helper.pxi\u001b[0m in \u001b[0;36mpandas._libs.hashtable.PyObjectHashTable.get_item\u001b[0;34m()\u001b[0m\n",
      "\u001b[0;32mpandas/_libs/hashtable_class_helper.pxi\u001b[0m in \u001b[0;36mpandas._libs.hashtable.PyObjectHashTable.get_item\u001b[0;34m()\u001b[0m\n",
      "\u001b[0;31mKeyError\u001b[0m: 2",
      "\nDuring handling of the above exception, another exception occurred:\n",
      "\u001b[0;31mKeyError\u001b[0m                                  Traceback (most recent call last)",
      "\u001b[0;32m<ipython-input-16-0f1a9767ebc3>\u001b[0m in \u001b[0;36m<module>\u001b[0;34m\u001b[0m\n\u001b[0;32m----> 1\u001b[0;31m \u001b[0mpresidents_df\u001b[0m\u001b[0;34m[\u001b[0m\u001b[0;36m2\u001b[0m\u001b[0;34m]\u001b[0m\u001b[0;34m\u001b[0m\u001b[0;34m\u001b[0m\u001b[0m\n\u001b[0m",
      "\u001b[0;32m~/anaconda3/lib/python3.7/site-packages/pandas/core/frame.py\u001b[0m in \u001b[0;36m__getitem__\u001b[0;34m(self, key)\u001b[0m\n\u001b[1;32m   2798\u001b[0m             \u001b[0;32mif\u001b[0m \u001b[0mself\u001b[0m\u001b[0;34m.\u001b[0m\u001b[0mcolumns\u001b[0m\u001b[0;34m.\u001b[0m\u001b[0mnlevels\u001b[0m \u001b[0;34m>\u001b[0m \u001b[0;36m1\u001b[0m\u001b[0;34m:\u001b[0m\u001b[0;34m\u001b[0m\u001b[0;34m\u001b[0m\u001b[0m\n\u001b[1;32m   2799\u001b[0m                 \u001b[0;32mreturn\u001b[0m \u001b[0mself\u001b[0m\u001b[0;34m.\u001b[0m\u001b[0m_getitem_multilevel\u001b[0m\u001b[0;34m(\u001b[0m\u001b[0mkey\u001b[0m\u001b[0;34m)\u001b[0m\u001b[0;34m\u001b[0m\u001b[0;34m\u001b[0m\u001b[0m\n\u001b[0;32m-> 2800\u001b[0;31m             \u001b[0mindexer\u001b[0m \u001b[0;34m=\u001b[0m \u001b[0mself\u001b[0m\u001b[0;34m.\u001b[0m\u001b[0mcolumns\u001b[0m\u001b[0;34m.\u001b[0m\u001b[0mget_loc\u001b[0m\u001b[0;34m(\u001b[0m\u001b[0mkey\u001b[0m\u001b[0;34m)\u001b[0m\u001b[0;34m\u001b[0m\u001b[0;34m\u001b[0m\u001b[0m\n\u001b[0m\u001b[1;32m   2801\u001b[0m             \u001b[0;32mif\u001b[0m \u001b[0mis_integer\u001b[0m\u001b[0;34m(\u001b[0m\u001b[0mindexer\u001b[0m\u001b[0;34m)\u001b[0m\u001b[0;34m:\u001b[0m\u001b[0;34m\u001b[0m\u001b[0;34m\u001b[0m\u001b[0m\n\u001b[1;32m   2802\u001b[0m                 \u001b[0mindexer\u001b[0m \u001b[0;34m=\u001b[0m \u001b[0;34m[\u001b[0m\u001b[0mindexer\u001b[0m\u001b[0;34m]\u001b[0m\u001b[0;34m\u001b[0m\u001b[0;34m\u001b[0m\u001b[0m\n",
      "\u001b[0;32m~/anaconda3/lib/python3.7/site-packages/pandas/core/indexes/base.py\u001b[0m in \u001b[0;36mget_loc\u001b[0;34m(self, key, method, tolerance)\u001b[0m\n\u001b[1;32m   2646\u001b[0m                 \u001b[0;32mreturn\u001b[0m \u001b[0mself\u001b[0m\u001b[0;34m.\u001b[0m\u001b[0m_engine\u001b[0m\u001b[0;34m.\u001b[0m\u001b[0mget_loc\u001b[0m\u001b[0;34m(\u001b[0m\u001b[0mkey\u001b[0m\u001b[0;34m)\u001b[0m\u001b[0;34m\u001b[0m\u001b[0;34m\u001b[0m\u001b[0m\n\u001b[1;32m   2647\u001b[0m             \u001b[0;32mexcept\u001b[0m \u001b[0mKeyError\u001b[0m\u001b[0;34m:\u001b[0m\u001b[0;34m\u001b[0m\u001b[0;34m\u001b[0m\u001b[0m\n\u001b[0;32m-> 2648\u001b[0;31m                 \u001b[0;32mreturn\u001b[0m \u001b[0mself\u001b[0m\u001b[0;34m.\u001b[0m\u001b[0m_engine\u001b[0m\u001b[0;34m.\u001b[0m\u001b[0mget_loc\u001b[0m\u001b[0;34m(\u001b[0m\u001b[0mself\u001b[0m\u001b[0;34m.\u001b[0m\u001b[0m_maybe_cast_indexer\u001b[0m\u001b[0;34m(\u001b[0m\u001b[0mkey\u001b[0m\u001b[0;34m)\u001b[0m\u001b[0;34m)\u001b[0m\u001b[0;34m\u001b[0m\u001b[0;34m\u001b[0m\u001b[0m\n\u001b[0m\u001b[1;32m   2649\u001b[0m         \u001b[0mindexer\u001b[0m \u001b[0;34m=\u001b[0m \u001b[0mself\u001b[0m\u001b[0;34m.\u001b[0m\u001b[0mget_indexer\u001b[0m\u001b[0;34m(\u001b[0m\u001b[0;34m[\u001b[0m\u001b[0mkey\u001b[0m\u001b[0;34m]\u001b[0m\u001b[0;34m,\u001b[0m \u001b[0mmethod\u001b[0m\u001b[0;34m=\u001b[0m\u001b[0mmethod\u001b[0m\u001b[0;34m,\u001b[0m \u001b[0mtolerance\u001b[0m\u001b[0;34m=\u001b[0m\u001b[0mtolerance\u001b[0m\u001b[0;34m)\u001b[0m\u001b[0;34m\u001b[0m\u001b[0;34m\u001b[0m\u001b[0m\n\u001b[1;32m   2650\u001b[0m         \u001b[0;32mif\u001b[0m \u001b[0mindexer\u001b[0m\u001b[0;34m.\u001b[0m\u001b[0mndim\u001b[0m \u001b[0;34m>\u001b[0m \u001b[0;36m1\u001b[0m \u001b[0;32mor\u001b[0m \u001b[0mindexer\u001b[0m\u001b[0;34m.\u001b[0m\u001b[0msize\u001b[0m \u001b[0;34m>\u001b[0m \u001b[0;36m1\u001b[0m\u001b[0;34m:\u001b[0m\u001b[0;34m\u001b[0m\u001b[0;34m\u001b[0m\u001b[0m\n",
      "\u001b[0;32mpandas/_libs/index.pyx\u001b[0m in \u001b[0;36mpandas._libs.index.IndexEngine.get_loc\u001b[0;34m()\u001b[0m\n",
      "\u001b[0;32mpandas/_libs/index.pyx\u001b[0m in \u001b[0;36mpandas._libs.index.IndexEngine.get_loc\u001b[0;34m()\u001b[0m\n",
      "\u001b[0;32mpandas/_libs/hashtable_class_helper.pxi\u001b[0m in \u001b[0;36mpandas._libs.hashtable.PyObjectHashTable.get_item\u001b[0;34m()\u001b[0m\n",
      "\u001b[0;32mpandas/_libs/hashtable_class_helper.pxi\u001b[0m in \u001b[0;36mpandas._libs.hashtable.PyObjectHashTable.get_item\u001b[0;34m()\u001b[0m\n",
      "\u001b[0;31mKeyError\u001b[0m: 2"
     ]
    }
   ],
   "source": [
    "presidents_df[2]"
   ]
  },
  {
   "cell_type": "markdown",
   "metadata": {},
   "source": [
    "That's okay. We can just use the column names. \n",
    "\n",
    "However, **how do we retrieve _rows_ of data?** For that we need to use slicing, which always operates on row indexes. If the index is integer valued then we use the position of the row we want plus the next row (which we don't want). If the index is a string or other categorical type then the end point is included in the slice. "
   ]
  },
  {
   "cell_type": "code",
   "execution_count": 17,
   "metadata": {},
   "outputs": [
    {
     "data": {
      "text/html": [
       "<div>\n",
       "<style scoped>\n",
       "    .dataframe tbody tr th:only-of-type {\n",
       "        vertical-align: middle;\n",
       "    }\n",
       "\n",
       "    .dataframe tbody tr th {\n",
       "        vertical-align: top;\n",
       "    }\n",
       "\n",
       "    .dataframe thead th {\n",
       "        text-align: right;\n",
       "    }\n",
       "</style>\n",
       "<table border=\"1\" class=\"dataframe\">\n",
       "  <thead>\n",
       "    <tr style=\"text-align: right;\">\n",
       "      <th></th>\n",
       "      <th>birthdate</th>\n",
       "      <th>name</th>\n",
       "      <th>inaugurated</th>\n",
       "      <th>age_at_inauguration</th>\n",
       "    </tr>\n",
       "  </thead>\n",
       "  <tbody>\n",
       "    <tr>\n",
       "      <th>2</th>\n",
       "      <td>1743-04-13</td>\n",
       "      <td>Thomas Jefferson</td>\n",
       "      <td>1801-03-04</td>\n",
       "      <td>57.889117</td>\n",
       "    </tr>\n",
       "    <tr>\n",
       "      <th>3</th>\n",
       "      <td>1751-03-16</td>\n",
       "      <td>James Madison</td>\n",
       "      <td>1809-03-04</td>\n",
       "      <td>57.965777</td>\n",
       "    </tr>\n",
       "  </tbody>\n",
       "</table>\n",
       "</div>"
      ],
      "text/plain": [
       "   birthdate              name inaugurated  age_at_inauguration\n",
       "2 1743-04-13  Thomas Jefferson  1801-03-04            57.889117\n",
       "3 1751-03-16     James Madison  1809-03-04            57.965777"
      ]
     },
     "execution_count": 17,
     "metadata": {},
     "output_type": "execute_result"
    }
   ],
   "source": [
    "presidents_df[2:4]"
   ]
  },
  {
   "cell_type": "markdown",
   "metadata": {},
   "source": [
    "If we want a particular value in a column, then we select the column and row like this:"
   ]
  },
  {
   "cell_type": "code",
   "execution_count": 18,
   "metadata": {},
   "outputs": [
    {
     "data": {
      "text/plain": [
       "Timestamp('1801-03-04 00:00:00')"
      ]
     },
     "execution_count": 18,
     "metadata": {},
     "output_type": "execute_result"
    }
   ],
   "source": [
    "presidents_df['inaugurated'][2]"
   ]
  },
  {
   "cell_type": "markdown",
   "metadata": {},
   "source": [
    "We can even slice the columns like a list. "
   ]
  },
  {
   "cell_type": "code",
   "execution_count": 19,
   "metadata": {},
   "outputs": [
    {
     "data": {
      "text/plain": [
       "2   1801-03-04\n",
       "3   1809-03-04\n",
       "4   1817-03-04\n",
       "Name: inaugurated, dtype: datetime64[ns]"
      ]
     },
     "execution_count": 19,
     "metadata": {},
     "output_type": "execute_result"
    }
   ],
   "source": [
    "presidents_df['inaugurated'][2:]"
   ]
  },
  {
   "cell_type": "markdown",
   "metadata": {},
   "source": [
    "As if the name DataFrame (as in R) was not enough of a clue, the above demonstration is what poker players would call a \"tell\" about the views of the pandas developers in the \"row vs column\" debate.  When using bracket selectors, the column comes before the row. **By default, pandas is column-dominant.**"
   ]
  },
  {
   "cell_type": "markdown",
   "metadata": {},
   "source": [
    "### Selections with `iloc[]` and `loc[]`\n",
    "If we want to slice a piece out of a DataFrame using both rows and columns, then we need to use the `iloc[]` and `loc[]` operators. Both operators extend the usual `[]` operator to deal with pandas's unique way of handling data. They are \"called\" using dot notation like a method but are really operators. \n",
    "\n",
    "The `iloc[]` operator works with positions:\n",
    "```python\n",
    "dataframe.iloc[ row_slice, col_slice ]\n",
    "```\n",
    "where `row_slice` or `col_slice` can be any of the following\n",
    "- a single integer position\n",
    "- a start : end slice object\n",
    "- a list of integer positions\n",
    "- a boolean array of selections\n",
    "- a function that returns one of the above\n",
    "\n",
    "That's a lot of possibilities. Let's try some of them out. "
   ]
  },
  {
   "cell_type": "code",
   "execution_count": 20,
   "metadata": {},
   "outputs": [
    {
     "data": {
      "text/plain": [
       "2   1801-03-04\n",
       "3   1809-03-04\n",
       "Name: inaugurated, dtype: datetime64[ns]"
      ]
     },
     "execution_count": 20,
     "metadata": {},
     "output_type": "execute_result"
    }
   ],
   "source": [
    "presidents_df.iloc[2:4,2]     # rows 2 and 3, column 2"
   ]
  },
  {
   "cell_type": "code",
   "execution_count": 21,
   "metadata": {},
   "outputs": [
    {
     "data": {
      "text/plain": [
       "0   1789-04-30\n",
       "2   1801-03-04\n",
       "Name: inaugurated, dtype: datetime64[ns]"
      ]
     },
     "execution_count": 21,
     "metadata": {},
     "output_type": "execute_result"
    }
   ],
   "source": [
    "presidents_df.iloc[[0,2],2]   # rows 0 and 2, column 2"
   ]
  },
  {
   "cell_type": "code",
   "execution_count": 22,
   "metadata": {},
   "outputs": [
    {
     "data": {
      "text/html": [
       "<div>\n",
       "<style scoped>\n",
       "    .dataframe tbody tr th:only-of-type {\n",
       "        vertical-align: middle;\n",
       "    }\n",
       "\n",
       "    .dataframe tbody tr th {\n",
       "        vertical-align: top;\n",
       "    }\n",
       "\n",
       "    .dataframe thead th {\n",
       "        text-align: right;\n",
       "    }\n",
       "</style>\n",
       "<table border=\"1\" class=\"dataframe\">\n",
       "  <thead>\n",
       "    <tr style=\"text-align: right;\">\n",
       "      <th></th>\n",
       "      <th>name</th>\n",
       "      <th>inaugurated</th>\n",
       "      <th>age_at_inauguration</th>\n",
       "    </tr>\n",
       "  </thead>\n",
       "  <tbody>\n",
       "    <tr>\n",
       "      <th>0</th>\n",
       "      <td>George Washington</td>\n",
       "      <td>1789-04-30</td>\n",
       "      <td>57.185489</td>\n",
       "    </tr>\n",
       "    <tr>\n",
       "      <th>2</th>\n",
       "      <td>Thomas Jefferson</td>\n",
       "      <td>1801-03-04</td>\n",
       "      <td>57.889117</td>\n",
       "    </tr>\n",
       "  </tbody>\n",
       "</table>\n",
       "</div>"
      ],
      "text/plain": [
       "                name inaugurated  age_at_inauguration\n",
       "0  George Washington  1789-04-30            57.185489\n",
       "2   Thomas Jefferson  1801-03-04            57.889117"
      ]
     },
     "execution_count": 22,
     "metadata": {},
     "output_type": "execute_result"
    }
   ],
   "source": [
    "presidents_df.iloc[[0,2],-3:]  # rows 0 and 2, last 3 columns"
   ]
  },
  {
   "cell_type": "code",
   "execution_count": 23,
   "metadata": {},
   "outputs": [
    {
     "data": {
      "text/html": [
       "<div>\n",
       "<style scoped>\n",
       "    .dataframe tbody tr th:only-of-type {\n",
       "        vertical-align: middle;\n",
       "    }\n",
       "\n",
       "    .dataframe tbody tr th {\n",
       "        vertical-align: top;\n",
       "    }\n",
       "\n",
       "    .dataframe thead th {\n",
       "        text-align: right;\n",
       "    }\n",
       "</style>\n",
       "<table border=\"1\" class=\"dataframe\">\n",
       "  <thead>\n",
       "    <tr style=\"text-align: right;\">\n",
       "      <th></th>\n",
       "      <th>birthdate</th>\n",
       "      <th>name</th>\n",
       "      <th>inaugurated</th>\n",
       "      <th>age_at_inauguration</th>\n",
       "    </tr>\n",
       "  </thead>\n",
       "  <tbody>\n",
       "    <tr>\n",
       "      <th>0</th>\n",
       "      <td>1732-02-22</td>\n",
       "      <td>George Washington</td>\n",
       "      <td>1789-04-30</td>\n",
       "      <td>57.185489</td>\n",
       "    </tr>\n",
       "    <tr>\n",
       "      <th>1</th>\n",
       "      <td>1735-10-30</td>\n",
       "      <td>John Adams</td>\n",
       "      <td>1797-03-04</td>\n",
       "      <td>61.344285</td>\n",
       "    </tr>\n",
       "    <tr>\n",
       "      <th>3</th>\n",
       "      <td>1751-03-16</td>\n",
       "      <td>James Madison</td>\n",
       "      <td>1809-03-04</td>\n",
       "      <td>57.965777</td>\n",
       "    </tr>\n",
       "    <tr>\n",
       "      <th>4</th>\n",
       "      <td>1758-04-28</td>\n",
       "      <td>James Monroe</td>\n",
       "      <td>1817-03-04</td>\n",
       "      <td>58.847365</td>\n",
       "    </tr>\n",
       "  </tbody>\n",
       "</table>\n",
       "</div>"
      ],
      "text/plain": [
       "   birthdate               name inaugurated  age_at_inauguration\n",
       "0 1732-02-22  George Washington  1789-04-30            57.185489\n",
       "1 1735-10-30         John Adams  1797-03-04            61.344285\n",
       "3 1751-03-16      James Madison  1809-03-04            57.965777\n",
       "4 1758-04-28       James Monroe  1817-03-04            58.847365"
      ]
     },
     "execution_count": 23,
     "metadata": {},
     "output_type": "execute_result"
    }
   ],
   "source": [
    "presidents_df.iloc[[True, True, False, True, True]] # Everybody but Jefferson"
   ]
  },
  {
   "cell_type": "markdown",
   "metadata": {},
   "source": [
    "**The `loc[]` operator works just like `iloc[]` except that it uses indexes and column names.**"
   ]
  },
  {
   "cell_type": "code",
   "execution_count": 24,
   "metadata": {},
   "outputs": [
    {
     "data": {
      "text/html": [
       "<div>\n",
       "<style scoped>\n",
       "    .dataframe tbody tr th:only-of-type {\n",
       "        vertical-align: middle;\n",
       "    }\n",
       "\n",
       "    .dataframe tbody tr th {\n",
       "        vertical-align: top;\n",
       "    }\n",
       "\n",
       "    .dataframe thead th {\n",
       "        text-align: right;\n",
       "    }\n",
       "</style>\n",
       "<table border=\"1\" class=\"dataframe\">\n",
       "  <thead>\n",
       "    <tr style=\"text-align: right;\">\n",
       "      <th></th>\n",
       "      <th>name</th>\n",
       "      <th>inaugurated</th>\n",
       "      <th>age_at_inauguration</th>\n",
       "    </tr>\n",
       "  </thead>\n",
       "  <tbody>\n",
       "    <tr>\n",
       "      <th>2</th>\n",
       "      <td>Thomas Jefferson</td>\n",
       "      <td>1801-03-04</td>\n",
       "      <td>57.889117</td>\n",
       "    </tr>\n",
       "    <tr>\n",
       "      <th>3</th>\n",
       "      <td>James Madison</td>\n",
       "      <td>1809-03-04</td>\n",
       "      <td>57.965777</td>\n",
       "    </tr>\n",
       "    <tr>\n",
       "      <th>4</th>\n",
       "      <td>James Monroe</td>\n",
       "      <td>1817-03-04</td>\n",
       "      <td>58.847365</td>\n",
       "    </tr>\n",
       "  </tbody>\n",
       "</table>\n",
       "</div>"
      ],
      "text/plain": [
       "               name inaugurated  age_at_inauguration\n",
       "2  Thomas Jefferson  1801-03-04            57.889117\n",
       "3     James Madison  1809-03-04            57.965777\n",
       "4      James Monroe  1817-03-04            58.847365"
      ]
     },
     "execution_count": 24,
     "metadata": {},
     "output_type": "execute_result"
    }
   ],
   "source": [
    "presidents_df.loc[2:4,'name':]"
   ]
  },
  {
   "cell_type": "markdown",
   "metadata": {},
   "source": [
    "If the indexes are not integers, then use them like strings. "
   ]
  },
  {
   "cell_type": "markdown",
   "metadata": {},
   "source": [
    "---\n",
    "## Functions & Methods\n",
    "pandas [functions](https://pandas.pydata.org/pandas-docs/stable/reference/general_functions.html) produce new DataFrames. Many (e.g., `concat()`) have method equivalents (e.g., `append()`) that operate in place. There are a few operations, however, that only exist as functions. A few of the more interesting ones:\n",
    "- `merge()` does a SQL-style join on two DataFrames using the indexes as keys.\n",
    "- `pivot_table()` generates a spreadsheet-style pivot table.\n",
    "- `cut()` bins values into discrete intervals.\n",
    "\n",
    "As a general rule, any function that you can use in Excel also works as a [DataFrame method](https://pandas.pydata.org/pandas-docs/stable/reference/frame.html). But of course pandas does a lot more as well. \n",
    "> ![pandas methods](img/L11_pandas_methods.png)\n",
    "\n",
    "We won't go through all of them; just read the docs. However, there are two methods that warrant a shout out."
   ]
  },
  {
   "cell_type": "markdown",
   "metadata": {},
   "source": [
    "### The `describe()` Method for Descriptive Stats\n",
    "If you want to get a quick and dirty statistical summary of your data before more in-depth analysis, just call the `describe()` method. "
   ]
  },
  {
   "cell_type": "code",
   "execution_count": 25,
   "metadata": {},
   "outputs": [
    {
     "data": {
      "text/html": [
       "<div>\n",
       "<style scoped>\n",
       "    .dataframe tbody tr th:only-of-type {\n",
       "        vertical-align: middle;\n",
       "    }\n",
       "\n",
       "    .dataframe tbody tr th {\n",
       "        vertical-align: top;\n",
       "    }\n",
       "\n",
       "    .dataframe thead th {\n",
       "        text-align: right;\n",
       "    }\n",
       "</style>\n",
       "<table border=\"1\" class=\"dataframe\">\n",
       "  <thead>\n",
       "    <tr style=\"text-align: right;\">\n",
       "      <th></th>\n",
       "      <th>age_at_inauguration</th>\n",
       "    </tr>\n",
       "  </thead>\n",
       "  <tbody>\n",
       "    <tr>\n",
       "      <th>count</th>\n",
       "      <td>5.000000</td>\n",
       "    </tr>\n",
       "    <tr>\n",
       "      <th>mean</th>\n",
       "      <td>58.646407</td>\n",
       "    </tr>\n",
       "    <tr>\n",
       "      <th>std</th>\n",
       "      <td>1.619410</td>\n",
       "    </tr>\n",
       "    <tr>\n",
       "      <th>min</th>\n",
       "      <td>57.185489</td>\n",
       "    </tr>\n",
       "    <tr>\n",
       "      <th>25%</th>\n",
       "      <td>57.889117</td>\n",
       "    </tr>\n",
       "    <tr>\n",
       "      <th>50%</th>\n",
       "      <td>57.965777</td>\n",
       "    </tr>\n",
       "    <tr>\n",
       "      <th>75%</th>\n",
       "      <td>58.847365</td>\n",
       "    </tr>\n",
       "    <tr>\n",
       "      <th>max</th>\n",
       "      <td>61.344285</td>\n",
       "    </tr>\n",
       "  </tbody>\n",
       "</table>\n",
       "</div>"
      ],
      "text/plain": [
       "       age_at_inauguration\n",
       "count             5.000000\n",
       "mean             58.646407\n",
       "std               1.619410\n",
       "min              57.185489\n",
       "25%              57.889117\n",
       "50%              57.965777\n",
       "75%              58.847365\n",
       "max              61.344285"
      ]
     },
     "execution_count": 25,
     "metadata": {},
     "output_type": "execute_result"
    }
   ],
   "source": [
    "presidents_df.describe()"
   ]
  },
  {
   "cell_type": "markdown",
   "metadata": {},
   "source": [
    "### The `plot()` Method for Generating Plots\n",
    "Some people need to see data in plots instead of just statistical summaries. For that use the [`plot()` method](https://pandas.pydata.org/pandas-docs/stable/reference/api/pandas.DataFrame.plot.html#pandas.DataFrame.plot), which is built on top of [matplotlib](https://matplotlib.org/), an impressive plotting library that deserves its own lesson. Instead, we will just consider a relatively simple example. \n",
    "\n",
    "Let's plot `age_at_inauguration` as a bar chart. Other options include line charts, histograms, box plots, pie charts, scatter plots, and a few others. "
   ]
  },
  {
   "cell_type": "code",
   "execution_count": 26,
   "metadata": {},
   "outputs": [
    {
     "data": {
      "text/plain": [
       "<matplotlib.axes._subplots.AxesSubplot at 0x11d6f0c50>"
      ]
     },
     "execution_count": 26,
     "metadata": {},
     "output_type": "execute_result"
    },
    {
     "data": {
      "image/png": "[encoded data removed]",
      "text/plain": [
       "<Figure size 720x576 with 1 Axes>"
      ]
     },
     "metadata": {
      "needs_background": "light"
     },
     "output_type": "display_data"
    }
   ],
   "source": [
    "ax = presidents_df.plot('name','age_at_inauguration',figsize=(10,8), kind='bar', ylim=(55,65))\n",
    "ax.set_ylabel('Years')\n",
    "ax"
   ]
  },
  {
   "cell_type": "markdown",
   "metadata": {},
   "source": [
    "Most of the time the default options are pretty good, at least for a rough plot. However, if you want to get really fancy -- we added a y axis label, for example -- the `plot()` method returns a `maplotlib.axes` object that you can configure further before the plot is rendered by Jupyter. For configuration options consult the [matplotlib.axes docs](https://matplotlib.org/api/axes_api.html#matplotlib.axes.Axes). "
   ]
  },
  {
   "cell_type": "markdown",
   "metadata": {},
   "source": [
    "---\n",
    "## Exercise\n",
    "**1. Read data from [w2h_data.csv](https://raw.githubusercontent.com/christopherhuntley/BUAN5405-lessons/master/w2h_data.csv). Use column assignment to create a new column called `'w2h_result'` with the results of running your `waist2hip_ratio()` function on each row.** Be sure to display the DataFrame as an expression at the end of your code."
   ]
  },
  {
   "cell_type": "code",
   "execution_count": null,
   "metadata": {},
   "outputs": [],
   "source": [
    "# YOUR CODE HERE"
   ]
  },
  {
   "cell_type": "markdown",
   "metadata": {},
   "source": [
    "**2. Read data from the [ehresp_2015.csv](https://raw.githubusercontent.com/christopherhuntley/BUAN5405-lessons/master/ehresp_2015.csv) dataset. Then use the `describe()` method to better understand the columns. Finally, choose two columns that you think might be correlated and draw a scatter plot to show the correlation.** \n",
    "- For more info about the source of the dataset, please read the [info file](https://github.com/christopherhuntley/BUAN5405-lessons/blob/master/EHResp2015_info.txt). You can look for the data dictionary online; it might help you pick out columns to plot.\n",
    "- Display the first 20 rows for the two columns of your plot. \n",
    "- Use the three cells provided. "
   ]
  },
  {
   "cell_type": "code",
   "execution_count": null,
   "metadata": {},
   "outputs": [],
   "source": [
    "# YOUR CODE HERE TO LOAD AND DESCRIBE DATA FROM THE FILE"
   ]
  },
  {
   "cell_type": "code",
   "execution_count": null,
   "metadata": {},
   "outputs": [],
   "source": [
    "# YOUR CODE HERE TO DISPLAY 20-ROW SAMPLE OF PLOTTED COLUMNS "
   ]
  },
  {
   "cell_type": "code",
   "execution_count": null,
   "metadata": {},
   "outputs": [],
   "source": [
    "# YOUR CODE HERE TO DISPLAY A SCATTER PLOT"
   ]
  }
 ],
 "metadata": {
  "kernelspec": {
   "display_name": "Python 3",
   "language": "python",
   "name": "python3"
  },
  "language_info": {
   "codemirror_mode": {
    "name": "ipython",
    "version": 3
   },
   "file_extension": ".py",
   "mimetype": "text/x-python",
   "name": "python",
   "nbconvert_exporter": "python",
   "pygments_lexer": "ipython3",
   "version": "3.7.7"
  }
 },
 "nbformat": 4,
 "nbformat_minor": 4
}
