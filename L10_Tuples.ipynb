{
 "cells": [
  {
   "cell_type": "markdown",
   "metadata": {},
   "source": [
    "<img src=\"https://github.com/christopherhuntley/BUAN5405-docs/blob/master/Slides/img/Dolan.png?raw=true\" width=\"180px\" align=\"right\">\n",
    "\n",
    "# Lesson 10: Tuples\n",
    "_The label maker of Python data types_"
   ]
  },
  {
   "cell_type": "markdown",
   "metadata": {},
   "source": [
    "# Learning Objectives\n",
    "\n",
    "## Theory / Be able to explain ...\n",
    "- The uses and features of tuple collections\n",
    "- The role of immutable iterators to prevent crashes and security bugs\n",
    "- How tuple assignment works \n",
    "\n",
    "## Skills / Know how to  ...\n",
    "- Create tuples from literals or other sequences\n",
    "- Use tuple assignment to iterate over `dicts`\n",
    "- Create dictionaries with `zip()` technique\n",
    "\n",
    "**What follows is adapted from Chapter 10 of the _Python For Everybody_ book. If you have not read it, then please do so before continuing on.**"
   ]
  },
  {
   "cell_type": "markdown",
   "metadata": {},
   "source": [
    "## Why Immutable Collections?\n",
    "As we said when discussing key hashing in the last lesson, there are good reasons why one might want immutable types like strings or numbers. But, why would we want a data type that immutable sequences? We can't add new values. We can't change values. We can't delete them. All we can do is create a tuple literal and then use it ... somehow. Is this really better than a list? No, it's not. It's just different. \n",
    "\n",
    "In this brief lesson we will review a few properties and uses for tuples that can make your code a lot easier and safer to use. \n",
    "\n",
    "## Tuple Literals\n",
    "Any comma separated sequence of values (without `[]` or `{}` brackets) is a tuple. We usually enclose the tuple with parentheses so it stands out, but we don't have to. "
   ]
  },
  {
   "cell_type": "code",
   "execution_count": 1,
   "metadata": {},
   "outputs": [
    {
     "data": {
      "text/plain": [
       "('one', 'two', 'three')"
      ]
     },
     "execution_count": 1,
     "metadata": {},
     "output_type": "execute_result"
    }
   ],
   "source": [
    "numbers = 'one', 'two','three' \n",
    "numbers"
   ]
  },
  {
   "cell_type": "markdown",
   "metadata": {},
   "source": [
    "We can, of course, generate tuples from strings, lists, or other iterable types. "
   ]
  },
  {
   "cell_type": "code",
   "execution_count": 2,
   "metadata": {},
   "outputs": [
    {
     "data": {
      "text/plain": [
       "('a', 'b', 'c', 'd')"
      ]
     },
     "execution_count": 2,
     "metadata": {},
     "output_type": "execute_result"
    }
   ],
   "source": [
    "letters = tuple(\"abcd\") # string --> tuple\n",
    "letters"
   ]
  },
  {
   "cell_type": "code",
   "execution_count": 3,
   "metadata": {},
   "outputs": [
    {
     "data": {
      "text/plain": [
       "['a', 'b', 'c', 'd']"
      ]
     },
     "execution_count": 3,
     "metadata": {},
     "output_type": "execute_result"
    }
   ],
   "source": [
    "letters = list(letters) # tuple --> list\n",
    "letters"
   ]
  },
  {
   "cell_type": "code",
   "execution_count": 4,
   "metadata": {},
   "outputs": [
    {
     "data": {
      "text/plain": [
       "('a', 'b', 'c', 'd')"
      ]
     },
     "execution_count": 4,
     "metadata": {},
     "output_type": "execute_result"
    }
   ],
   "source": [
    "letters = tuple(letters) # list --> tuple\n",
    "letters"
   ]
  },
  {
   "cell_type": "code",
   "execution_count": 5,
   "metadata": {},
   "outputs": [
    {
     "data": {
      "text/plain": [
       "\"('a', 'b', 'c', 'd')\""
      ]
     },
     "execution_count": 5,
     "metadata": {},
     "output_type": "execute_result"
    }
   ],
   "source": [
    "letters = str(letters)"
   ]
  },
  {
   "cell_type": "markdown",
   "metadata": {},
   "source": [
    "Oops. That made a string but it's the wrong string. We needed `letters = ''.join(letters)` instead. "
   ]
  },
  {
   "cell_type": "markdown",
   "metadata": {},
   "source": [
    "## Tuples are Comparable and Sortable \n",
    "While we can sort the items in a list, we cannot sort collections of lists because there is no way to compare one list with another. By the time you finished the comparison, one or the other of the lists may have changed, making the sort order invalid. We can, however, sort lists of tuples. The tuple-to-tuple comparison is [lexicographic](https://docs.python.org/3/reference/expressions.html#comparisons), as with strings. "
   ]
  },
  {
   "cell_type": "code",
   "execution_count": 6,
   "metadata": {},
   "outputs": [
    {
     "data": {
      "text/plain": [
       "[('1', '2', '3', '4'), ('one', 'two', 'three', 'four')]"
      ]
     },
     "execution_count": 6,
     "metadata": {},
     "output_type": "execute_result"
    }
   ],
   "source": [
    "number_tuples = [(\"one\", \"two\",\"three\",\"four\"), (\"1\",\"2\",\"3\",\"4\")]\n",
    "number_tuples.sort()\n",
    "number_tuples"
   ]
  },
  {
   "cell_type": "markdown",
   "metadata": {},
   "source": [
    "## Tuples as Composite Keys\n",
    "When creating databases, creating keys out of multiple columns is unavoidable though perhaps inconvenient. We can do the same thing with dictionary keys by converting each part of the key to a string and then concatenating them all together. Or, we could just use a tuple. Recall that a dictionary key can be any immutable type ... like a tuple."
   ]
  },
  {
   "cell_type": "code",
   "execution_count": 7,
   "metadata": {},
   "outputs": [
    {
     "data": {
      "text/plain": [
       "{(1, 'George', 'Washington'): '1732-02-22',\n",
       " (2, 'John', 'Adams'): '1735-10-30',\n",
       " (3, 'Thomas', 'Jefferson'): '1743-04-13'}"
      ]
     },
     "execution_count": 7,
     "metadata": {},
     "output_type": "execute_result"
    }
   ],
   "source": [
    "birthdays = {(1, \"George\",\"Washington\"): '1732-02-22', (2, \"John\",\"Adams\"): '1735-10-30', (3, \"Thomas\", \"Jefferson\") : '1743-04-13' }\n",
    "birthdays"
   ]
  },
  {
   "cell_type": "markdown",
   "metadata": {},
   "source": [
    "## No More (Accidentally) Infinite Loops\n",
    "Recall the infinite loop problem in Lesson 8?\n",
    "```python\n",
    "\n",
    "# The Infinite Loop Code\n",
    "def add_0(lst):\n",
    "    lst += [0]\n",
    "\n",
    "x = [1,2,3,4]\n",
    "for i in x:\n",
    "    add_0(x)\n",
    "    print(x)\n",
    "```\n",
    "We fixed it by making a shallow copy of x in the header to the `for` loop. However, there was another, **even safer** way to do it: just use a tuple for the loop iterator."
   ]
  },
  {
   "cell_type": "code",
   "execution_count": 8,
   "metadata": {},
   "outputs": [
    {
     "name": "stdout",
     "output_type": "stream",
     "text": [
      "[1, 2, 3, 4, 0]\n",
      "[1, 2, 3, 4, 0, 0]\n",
      "[1, 2, 3, 4, 0, 0, 0]\n",
      "[1, 2, 3, 4, 0, 0, 0, 0]\n"
     ]
    }
   ],
   "source": [
    "# The (No Longer) Infinite Loop Code\n",
    "def add_0(lst):\n",
    "    lst += [0]\n",
    "\n",
    "x = [1,2,3,4]\n",
    "for i in tuple(x):\n",
    "    add_0(x)\n",
    "    print(x)"
   ]
  },
  {
   "cell_type": "markdown",
   "metadata": {},
   "source": [
    "Because tuples are always immutable there is never any risk that a loop will accidentally modify its iterator. You will find lots and lots of tuples used this way in high security applications where cracking (i.e., black hat hacking) is a constant threat. "
   ]
  },
  {
   "cell_type": "markdown",
   "metadata": {},
   "source": [
    "## Pro Tips\n",
    "### Tuple Assignment\n",
    "Tuples allow a unique sort of assignment statement where there are **multiple variables on the left side of the `=` sign:**"
   ]
  },
  {
   "cell_type": "code",
   "execution_count": 9,
   "metadata": {},
   "outputs": [
    {
     "name": "stdout",
     "output_type": "stream",
     "text": [
      "2 3 4\n",
      "3 3\n"
     ]
    }
   ],
   "source": [
    "x,y,z = [2,3,4]\n",
    "print(x,y,z)\n",
    "\n",
    "x += 1\n",
    "\n",
    "a,b = y,x\n",
    "print(a,b)"
   ]
  },
  {
   "cell_type": "markdown",
   "metadata": {},
   "source": [
    "The values on the right can be any kind of sequence, as long the number of items is the same as the tuple on the left.  "
   ]
  },
  {
   "cell_type": "markdown",
   "metadata": {},
   "source": [
    "This may seem like a useless feature until you use it to iterate over dictionary items:"
   ]
  },
  {
   "cell_type": "code",
   "execution_count": 10,
   "metadata": {},
   "outputs": [
    {
     "name": "stdout",
     "output_type": "stream",
     "text": [
      "Washington 1732-02-22\n",
      "Jefferson 1743-04-13\n",
      "Lincoln 1809-02-12\n"
     ]
    }
   ],
   "source": [
    "birthdays = {'Washington':'1732-02-22','Jefferson':'1743-04-13','Lincoln':'1809-02-12'}\n",
    "for president, bday in birthdays.items():\n",
    "    print(president,bday)"
   ]
  },
  {
   "cell_type": "markdown",
   "metadata": {},
   "source": [
    "### That One Weird Zip Trick\n",
    "the `zip()` function converts several sequences of the same length into an iterator of tuples, where the each tuple is composed of items from the corresponding positions in the sequences. "
   ]
  },
  {
   "cell_type": "code",
   "execution_count": 11,
   "metadata": {},
   "outputs": [
    {
     "data": {
      "text/plain": [
       "[('1732-02-22', 'Washington'),\n",
       " ('1743-04-13', 'Jefferson'),\n",
       " ('1809-02-12', 'Lincoln')]"
      ]
     },
     "execution_count": 11,
     "metadata": {},
     "output_type": "execute_result"
    }
   ],
   "source": [
    "bdays = ['1732-02-22','1743-04-13','1809-02-12']\n",
    "presidents = ['Washington','Jefferson','Lincoln']\n",
    "\n",
    "z = zip(bdays,presidents)\n",
    "list(z)"
   ]
  },
  {
   "cell_type": "markdown",
   "metadata": {},
   "source": [
    "This can be very useful for generating dictionaries. Let one of the sequences be a list of keys and the other a list of values. When used with the `dict()` constructor we now have a quick and efficient way to zip the keys and values together into a single dict."
   ]
  },
  {
   "cell_type": "code",
   "execution_count": 12,
   "metadata": {},
   "outputs": [
    {
     "data": {
      "text/plain": [
       "{'1732-02-22': 'Washington',\n",
       " '1743-04-13': 'Jefferson',\n",
       " '1809-02-12': 'Lincoln'}"
      ]
     },
     "execution_count": 12,
     "metadata": {},
     "output_type": "execute_result"
    }
   ],
   "source": [
    "# bdays is the keys list\n",
    "# presidents is the values list\n",
    "dict(zip(bdays,presidents))"
   ]
  },
  {
   "cell_type": "markdown",
   "metadata": {},
   "source": [
    "## Exercises\n",
    "**1. Explain why the code below works to swap the values of `a` and `b`.**"
   ]
  },
  {
   "cell_type": "code",
   "execution_count": 13,
   "metadata": {},
   "outputs": [
    {
     "name": "stdout",
     "output_type": "stream",
     "text": [
      "2 1\n"
     ]
    }
   ],
   "source": [
    "a = 1\n",
    "b = 2\n",
    "a,b = b,a   # swap a and b\n",
    "print(a,b)  # confirm the swap"
   ]
  },
  {
   "cell_type": "markdown",
   "metadata": {},
   "source": [
    "WHY DOES THIS ^^^ WORK?"
   ]
  },
  {
   "cell_type": "markdown",
   "metadata": {},
   "source": [
    "**2. Write code to swap `a` and `b` _without_ using tuple assignment.**"
   ]
  },
  {
   "cell_type": "code",
   "execution_count": null,
   "metadata": {},
   "outputs": [],
   "source": [
    "# YOUR CODE HERE"
   ]
  }
 ],
 "metadata": {
  "kernelspec": {
   "display_name": "Python 3",
   "language": "python",
   "name": "python3"
  },
  "language_info": {
   "codemirror_mode": {
    "name": "ipython",
    "version": 3
   },
   "file_extension": ".py",
   "mimetype": "text/x-python",
   "name": "python",
   "nbconvert_exporter": "python",
   "pygments_lexer": "ipython3",
   "version": "3.7.7"
  }
 },
 "nbformat": 4,
 "nbformat_minor": 4
}
