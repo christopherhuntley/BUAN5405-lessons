{
 "cells": [
  {
   "cell_type": "markdown",
   "metadata": {},
   "source": [
    "<img src=\"https://github.com/christopherhuntley/BUAN5405-docs/blob/master/Slides/img/Dolan.png?raw=true\" style=\"width:180px; float:right\">\n",
    "\n",
    "# Course Onboarding\n",
    "_Everything you need to know and do before the first day of class_\n"
   ]
  },
  {
   "cell_type": "markdown",
   "metadata": {},
   "source": [
    "## Where am I and how did I get here?\n",
    "Welcome to [Jupyter](https://jupyter.org/), a web based coding environment for Python, R, SQL, Markdown, and a bunch of other languages we use in the Business Analytics courses. This document is what is called a _notebook_, which is composed of _cells_ that flow vertically from top to bottom. Each cell is either formatted text or code. \n",
    "\n",
    "**Text cells** use Markdown notations to format the text. For example, to make `text look like computer code` we wrap it in _backticks_ like this: \\`text look like computer code\\`. (On most keybaords the backtick character is just above the tab key.) We can also create section bookmarkable titles, insert hyperlinks, create fancy tables, and all sorts of things. In fact the syllabus for this course as well as everyhting else on the class website is written in Markdown. For more, take a spin through GitHub's [Mastering Markdown Guide](https://guides.github.com/features/mastering-markdown/). Or, you could just double-click on a text cell to see the Markdown; to make it \"pretty\" again, just double-click a second time. It toggles like a light switch.  \n",
    "\n",
    "**Code cells** can be identified by the little boxes `[]` that may or may not have numbers in them. The cells have runnable progamming code in them. Select the cell and hit the \"play\" button to run it. Any output produced will appear just below the code. You'll also note that the `[]` box has a number inside. The number tells us wht order the cells were run. If you re-run a cell then the number inside automatically updates. \n",
    "\n",
    "You may be wondering why we would choose to use these weird sorts of documents for our online lessons. It's pretty simple, really. First, they allow you to write, run and share code without installing any software. Second it makes all code visible, with nothing hidden from you. Want to see well written code? Then just read the notebooks! It's all there. \n",
    "\n",
    "__The rest of this document asks you to perform a few tasks designed to introduce the course, sign up for some of the online tools, and set up your workspace in Jupyter.__\n",
    "\n",
    "-------"
   ]
  },
  {
   "cell_type": "markdown",
   "metadata": {},
   "source": [
    "## 1. Meet Your professor and set expectations."
   ]
  },
  {
   "cell_type": "code",
   "execution_count": 2,
   "metadata": {},
   "outputs": [
    {
     "data": {
      "text/html": [
       "<div style=\"position: relative;padding-bottom: 56.25%;height: 0;\"><iframe style=\"position: absolute;top: 0;left: 0;width: 100%;height: 100%;\" rel=\"0\" modestbranding=\"1\"  src=https://www.youtube.com/embed/YkDLv6CtEnc frameborder=\"0\" allow=\"accelerometer; autoplay; encrypted-media; gyroscope; picture-in-picture\" allowfullscreen></iframe></div>"
      ],
      "text/plain": [
       "<IPython.core.display.HTML object>"
      ]
     },
     "execution_count": 2,
     "metadata": {},
     "output_type": "execute_result"
    }
   ],
   "source": [
    "# This code displays a Youtube video with a programmable URL. \n",
    "\n",
    "from IPython.display import HTML\n",
    "\n",
    "#youtube_url = \"https://www.youtube.com/embed/pmlkEazfFgQ\"\n",
    "youtube_url = \"https://www.youtube.com/embed/YkDLv6CtEnc\"\n",
    "\n",
    "HTML(f'<div style=\"position: relative;padding-bottom: 56.25%;height: 0;\"><iframe style=\"position: absolute;top: 0;left: 0;width: 100%;height: 100%;\" rel=\"0\" modestbranding=\"1\"  src={youtube_url} frameborder=\"0\" allow=\"accelerometer; autoplay; encrypted-media; gyroscope; picture-in-picture\" allowfullscreen></iframe></div>')"
   ]
  },
  {
   "cell_type": "markdown",
   "metadata": {},
   "source": [
    "## 2. Sign up for [GitHub](https://github.com) using your `@student.fairfield.edu` email account.\n",
    "Note: you'll need to use your student email account to ensure you get upgraded to a \"pro\" account. If you already have a GitHub account then please create a new one just for your Business Analytics coursework. You will be asked for your GitHub account 'handle' in the next step. "
   ]
  },
  {
   "cell_type": "markdown",
   "metadata": {},
   "source": [
    "# 3. Fill out [this short survey](https://docs.google.com/forms/d/e/1FAIpQLSchNC-Xs1OlaQ1Bucbf0QcvCwvrjOSasf-2n9JHcrITCddH_g/viewform?usp=sf_link)\n",
    "Your answers will be shared (programmatically, of course) with the rest of the class.\n",
    "# 4. Sign up for the Fairfield Dolan Slack Workspace.\n",
    "* INSTRUCTIONS FROM Phil. \n",
    "* Post an introductory message in the `#buan5405` channel stating i) your name, ii) your academic program (MBA, etc.), and iii) what you hope to get out of this course."
   ]
  },
  {
   "cell_type": "markdown",
   "metadata": {},
   "source": [
    "# 5. Set up your Lesson notebook repository.\n",
    "To keep things simple, we will keep all your lessons in a \"repository\" folder that we will update each week with new lessons. The folder will exist both in your Jupyter workspace and at GitHub. The Jupyter copy is editable and runnable so you can do your work. The GitHub copy is the permanent home for your work. If something ever happens to your workspace, you can always recreate (clone) it from GitHub! Sounds great, right? Sure is, but there is also a little bit of bookkeeping work needed to keep the two copies in sync. We'll see how to do that later. "
   ]
  },
  {
   "cell_type": "markdown",
   "metadata": {},
   "source": [
    "MORE TO COME."
   ]
  }
 ],
 "metadata": {
  "kernelspec": {
   "display_name": "Python 3",
   "language": "python",
   "name": "python3"
  },
  "language_info": {
   "codemirror_mode": {
    "name": "ipython",
    "version": 3
   },
   "file_extension": ".py",
   "mimetype": "text/x-python",
   "name": "python",
   "nbconvert_exporter": "python",
   "pygments_lexer": "ipython3",
   "version": "3.7.7"
  }
 },
 "nbformat": 4,
 "nbformat_minor": 4
}
