{
 "cells": [
  {
   "cell_type": "markdown",
   "metadata": {},
   "source": [
    "<img src=\"https://github.com/christopherhuntley/BUAN5405-docs/blob/master/Slides/img/Dolan.png?raw=true\" width=\"180px\" align=\"right\">\n",
    "\n",
    "# Lesson 9: Dictionaries\n",
    "_Associative arrays by another name_"
   ]
  },
  {
   "cell_type": "markdown",
   "metadata": {},
   "source": [
    "# Learning Objectives\n",
    "\n",
    "## Theory / Be able to explain ...\n",
    "- The purpose and usage of associative arrays\n",
    "- Python dictionaries as associative arrays\n",
    "- Hashing and it's implications for dictionary keys\n",
    "\n",
    "## Skills / Know how to  ...\n",
    "- Display the hash for any dictionary key\n",
    "- Iterate over dictionary items, keys, and values \n",
    "- Generate dictionaries from keys and values\n",
    "- Use a dictionary comprehension for efficient dictionary generation\n",
    "\n",
    "**What follows is adapted from Chapter 9 of the _Python For Everybody_ book. If you have not read it, then please do so before continuing on.**"
   ]
  },
  {
   "cell_type": "markdown",
   "metadata": {},
   "source": [
    "## The Magic of Associative Arrays\n",
    ">“A very little key will open a very heavy door.” -― Charles Dickens, _Hunted Down_\n",
    "\n",
    "After so many years of programming in C, I found myself using it for basically everything, until one day in 1994 I was asked by a very wise boss to try [AWK](https://en.wikipedia.org/wiki/AWK). AWK was a text processing language developed at Bell Labs in the 1970s by the same team that created C and Unix. It was designed to be a tiny domain-specific language for working with streaming text data. One would feed data to an AWK script one line at a time. AWK would then output text to an output file, also one line at a time. It could, of course, remember things from one line to the next, allowing it to accumulate information along the way. \n",
    "\n",
    "Soon I was using AWK for lots of text processing tasks. One notable application was to translate mainframe data into SQL code for loading into a relational database. Data would come in one line at a time and then right into the database. I think I got at least one promotion from just this one parlor trick. A year or so later, in late 1995 or early 1996, I used the same trick to develop a dashboarding web app that was cobbled together with AWK and bash scripts. No Perl. No Python. No PHP. No Java. Just AWK and bash on a Unix command line. I am still amazed that it worked but we never had a crash or any other bug reported.   \n",
    "\n",
    "One of the reasons why I loved AWK so much was a feature called \"associative arrays\" where we could index a variable length array with text **keys** instead of integers. We could even mix keys with integer indexes if we liked. This meant that, for example, I could have an array of birthdays indexed by people's names. Or vice versa if that was what I wanted.  Or, I could create a histogram for words in a file with two lines of code. The potential uses seemed endless. Nothing coud have been more convenient for a wannabe smart and lazy programmer. \n",
    "\n",
    "The Python equivalent of an associative array is a **dictionary**. It does many of the same things as a list but with keys instead of positions. Like associative arrays, there are an endless array of uses. If you have ever pulled data from a web API or added a Series to a DataFrame then you have used something like a dictionary. It's just how it's done. "
   ]
  },
  {
   "cell_type": "markdown",
   "metadata": {},
   "source": [
    "---\n",
    "## Dictionaries as Collections of Key-Value Pairs\n",
    "Python dictionaries have the type `dict`. Here's a brief example, followed by a few notes."
   ]
  },
  {
   "cell_type": "code",
   "execution_count": 1,
   "metadata": {},
   "outputs": [
    {
     "name": "stdout",
     "output_type": "stream",
     "text": [
      "Washington was born 1732-02-22\n",
      "Jefferson was born 1743-04-13\n",
      "Lincoln was born 1809-02-12\n",
      "Madison was born 1751-03-16\n"
     ]
    }
   ],
   "source": [
    "birthdays = {'Washington':'1732-02-22','Jefferson':'1743-04-13','Lincoln':'1809-02-12'}\n",
    "birthdays['Madison']='1751-03-16'\n",
    "for president in birthdays:\n",
    "    print(president,\"was born\", birthdays[president])"
   ]
  },
  {
   "cell_type": "markdown",
   "metadata": {},
   "source": [
    "- `dict` literals work like `list` literals except they use curly brackets `{}` instead of square brackets `[]`.\n",
    "- `dict` indexes use **keys** of any **Hashable** type (more about this in a minute) instead of just integers. \n",
    "- the bracket operator `[]` is used for retrieving specific values, just like a list. \n",
    "- Dictionaries are mutable. We can add or remove key-value pairs as needed. The `+=` operator doesn't work though.  "
   ]
  },
  {
   "cell_type": "code",
   "execution_count": 2,
   "metadata": {},
   "outputs": [
    {
     "ename": "TypeError",
     "evalue": "unsupported operand type(s) for +=: 'dict' and 'dict'",
     "output_type": "error",
     "traceback": [
      "\u001b[0;31m---------------------------------------------------------------------------\u001b[0m",
      "\u001b[0;31mTypeError\u001b[0m                                 Traceback (most recent call last)",
      "\u001b[0;32m<ipython-input-2-747fa0da6398>\u001b[0m in \u001b[0;36m<module>\u001b[0;34m\u001b[0m\n\u001b[0;32m----> 1\u001b[0;31m \u001b[0mbirthdays\u001b[0m \u001b[0;34m+=\u001b[0m \u001b[0;34m{\u001b[0m\u001b[0;34m'Adams Sr.'\u001b[0m\u001b[0;34m:\u001b[0m\u001b[0;34m'1735-10-30'\u001b[0m\u001b[0;34m}\u001b[0m\u001b[0;34m\u001b[0m\u001b[0;34m\u001b[0m\u001b[0m\n\u001b[0m",
      "\u001b[0;31mTypeError\u001b[0m: unsupported operand type(s) for +=: 'dict' and 'dict'"
     ]
    }
   ],
   "source": [
    "birthdays += {'Adams Sr.':'1735-10-30'}"
   ]
  },
  {
   "cell_type": "markdown",
   "metadata": {},
   "source": [
    "### Hashing\n",
    "To ensure data integrity, dictionary keys are required to be:\n",
    "- **Unique**: If two items have the same key, then how do we know which is which?\n",
    "- **Immutable**: If we can change the value of a key (e.g., via aliasing) then how does the dictionary let everybody know about it?\n",
    "- **Printable**: If not printable/visible, then how can we humans use them safely? \n",
    "\n",
    "When passed an object, a **hashing** function generates a _printable_ **hash** or **digest** value that is _almost_ guaranteed to be unique. The odds of \"collision\" (i.e., two objects with the same hash) is very, very, very remote. Further, if the object being hashed is itself immutable then we have met all three requirements for dictionary keys:\n",
    "\n",
    "1. Each key has a unique hash. If two keys are the same then they generate the same hash.\n",
    "2. Because the key is required to be immutable, then so is the hash.\n",
    "3. Hashes are printable as (typically) very long strings of characters or digits. So, even if the key itself isn't printable, its hash is. \n",
    "\n",
    "Besides its obvious integrity advantages, hashing of keys is also highly very efficient. Since hashes are convertable to strings, we can sort them just like integer indexes. That makes using a key to lookup a value just as efficient as using an integer index to look up a value in a list. (Ever used a primary key or index to speed up a SQL query? That's exactly the same thing.)\n",
    "\n",
    "While the precise hashing function may vary from data type to data type, the [default] uses a version of the Fowler-Noll-Vo algorithm which is outside the scope of this course. However, we can call the `hash()` standard library function on any immutable object with 100% predictable results:   "
   ]
  },
  {
   "cell_type": "code",
   "execution_count": 3,
   "metadata": {},
   "outputs": [
    {
     "name": "stdout",
     "output_type": "stream",
     "text": [
      "1\n",
      "691752902764107778\n",
      "2898137004286176830\n",
      "2898137004286176830\n",
      "2528502973977326415\n",
      "33387613\n"
     ]
    },
    {
     "ename": "TypeError",
     "evalue": "unhashable type: 'list'",
     "output_type": "error",
     "traceback": [
      "\u001b[0;31m---------------------------------------------------------------------------\u001b[0m",
      "\u001b[0;31mTypeError\u001b[0m                                 Traceback (most recent call last)",
      "\u001b[0;32m<ipython-input-3-ba994757e183>\u001b[0m in \u001b[0;36m<module>\u001b[0;34m\u001b[0m\n\u001b[1;32m      5\u001b[0m \u001b[0mprint\u001b[0m\u001b[0;34m(\u001b[0m\u001b[0mhash\u001b[0m\u001b[0;34m(\u001b[0m \u001b[0;34m(\u001b[0m\u001b[0;36m1\u001b[0m\u001b[0;34m,\u001b[0m\u001b[0;36m2\u001b[0m\u001b[0;34m,\u001b[0m\u001b[0;36m3\u001b[0m\u001b[0;34m)\u001b[0m \u001b[0;34m)\u001b[0m\u001b[0;34m)\u001b[0m                   \u001b[0;31m# tuple, which is immutable\u001b[0m\u001b[0;34m\u001b[0m\u001b[0;34m\u001b[0m\u001b[0m\n\u001b[1;32m      6\u001b[0m \u001b[0mprint\u001b[0m\u001b[0;34m(\u001b[0m\u001b[0mhash\u001b[0m\u001b[0;34m(\u001b[0m \u001b[0mhash\u001b[0m \u001b[0;34m)\u001b[0m\u001b[0;34m)\u001b[0m                      \u001b[0;31m# the hash function object\u001b[0m\u001b[0;34m\u001b[0m\u001b[0;34m\u001b[0m\u001b[0m\n\u001b[0;32m----> 7\u001b[0;31m \u001b[0mprint\u001b[0m\u001b[0;34m(\u001b[0m\u001b[0mhash\u001b[0m\u001b[0;34m(\u001b[0m \u001b[0;34m[\u001b[0m\u001b[0;36m1\u001b[0m\u001b[0;34m,\u001b[0m\u001b[0;36m2\u001b[0m\u001b[0;34m,\u001b[0m\u001b[0;36m3\u001b[0m\u001b[0;34m]\u001b[0m \u001b[0;34m)\u001b[0m\u001b[0;34m)\u001b[0m                   \u001b[0;31m# list; oops that's mutable!\u001b[0m\u001b[0;34m\u001b[0m\u001b[0;34m\u001b[0m\u001b[0m\n\u001b[0m",
      "\u001b[0;31mTypeError\u001b[0m: unhashable type: 'list'"
     ]
    }
   ],
   "source": [
    "print(hash( 1 ))                         # int\n",
    "print(hash( 2.3 ))                       # float\n",
    "print(hash( \"Mary Had a Little Lamb\" ))  # string\n",
    "print(hash( b'Mary Had a Little Lamb' )) # bytes (same as string)\n",
    "print(hash( (1,2,3) ))                   # tuple, which is immutable\n",
    "print(hash( hash ))                      # the hash function object\n",
    "print(hash( [1,2,3] ))                   # list; oops that's mutable!"
   ]
  },
  {
   "cell_type": "markdown",
   "metadata": {},
   "source": [
    "### Dictionary Traversal\n",
    "When iterating over a `dict`, we can use one of three iterator _view_ methods that return list-like sequences:\n",
    "- `keys()` which returns all keys\n",
    "- `values()` which returns all the values\n",
    "- `items()` which returns all the key-value pairs (a.k.a., \"items\")\n",
    "\n",
    "When used in a `for` loop the default is to use the `keys()` iterator:"
   ]
  },
  {
   "cell_type": "code",
   "execution_count": 4,
   "metadata": {},
   "outputs": [
    {
     "name": "stdout",
     "output_type": "stream",
     "text": [
      "Washington was born 1732-02-22\n",
      "Jefferson was born 1743-04-13\n",
      "Lincoln was born 1809-02-12\n",
      "Madison was born 1751-03-16\n",
      "---\n",
      "Washington was born 1751-03-16\n",
      "Jefferson was born 1751-03-16\n",
      "Lincoln was born 1751-03-16\n",
      "Madison was born 1751-03-16\n"
     ]
    }
   ],
   "source": [
    "# the default iteration order\n",
    "for president in birthdays:\n",
    "    print(president,\"was born\", birthdays[president])\n",
    "print(\"---\")\n",
    "# explcitly iterating over keys()\n",
    "for key in birthdays.keys():\n",
    "    print(key,\"was born\", birthdays[president])"
   ]
  },
  {
   "cell_type": "markdown",
   "metadata": {},
   "source": [
    "However, we can also iterator over items or even values, though wit somewhat differing results."
   ]
  },
  {
   "cell_type": "code",
   "execution_count": 5,
   "metadata": {},
   "outputs": [
    {
     "name": "stdout",
     "output_type": "stream",
     "text": [
      "('Washington', '1732-02-22')\n",
      "('Jefferson', '1743-04-13')\n",
      "('Lincoln', '1809-02-12')\n",
      "('Madison', '1751-03-16')\n",
      "---\n",
      "1732-02-22\n",
      "1743-04-13\n",
      "1809-02-12\n",
      "1751-03-16\n"
     ]
    }
   ],
   "source": [
    "# iterating over items; each item is a tuple\n",
    "for item in birthdays.items():\n",
    "    print(item)\n",
    "print(\"---\")\n",
    "# iterating over values()\n",
    "for v in birthdays.values():\n",
    "    print(v)"
   ]
  },
  {
   "cell_type": "markdown",
   "metadata": {},
   "source": [
    "You may have noticed that the order is the same each time. As of Python 3.6, each iterator will always follow the order in which the keys were inserted into the dictionary. "
   ]
  },
  {
   "cell_type": "markdown",
   "metadata": {},
   "source": [
    "### Pulse Check ...\n",
    "**Use the [`dict()` function](https://docs.python.org/3/library/stdtypes.html#dict) to create a new dictionary called `presidents` that reverses the keys and values of the `birthdays` dictionary.** Each key should be a birthdate and each value should the associated president's last name. "
   ]
  },
  {
   "cell_type": "code",
   "execution_count": null,
   "metadata": {},
   "outputs": [],
   "source": [
    "# YOUR CODE HERE"
   ]
  },
  {
   "cell_type": "markdown",
   "metadata": {},
   "source": [
    "---\n",
    "## Pro Tips"
   ]
  },
  {
   "cell_type": "markdown",
   "metadata": {},
   "source": [
    "### Generating `dict`s\n",
    "In the examples so far, all of our `dict`s have been created from literals or the `dict()` function. However, dictionaries can be created in lots of curious ways. Just about any iteration process that generates paired sequences of keys and values can be used to create and populate a dictionary. "
   ]
  },
  {
   "cell_type": "code",
   "execution_count": 6,
   "metadata": {},
   "outputs": [
    {
     "data": {
      "text/plain": [
       "{'Washington': '1732-02-22', 'Jefferson': '1743-04-13'}"
      ]
     },
     "execution_count": 6,
     "metadata": {},
     "output_type": "execute_result"
    }
   ],
   "source": [
    "d_keys =   [\"Washington\",\"Jefferson\"]\n",
    "d_values = ['1732-02-22','1743-04-13']\n",
    "\n",
    "d = {}        # an empty dictionary\n",
    "for i in range(len(d_keys)):\n",
    "    d[d_keys[i]] = d_values[i]\n",
    "d"
   ]
  },
  {
   "cell_type": "markdown",
   "metadata": {},
   "source": [
    "While straightforward, this is not the most efficient way to generate a dictionary. There are actually two different one line equivalents that are both less code and more efficient. The first, using a dictionary comprehension expression, is explained below. The second, which relies on a tuple generation technique called _zipping_, is left for Lesson 10. "
   ]
  },
  {
   "cell_type": "markdown",
   "metadata": {},
   "source": [
    "### `dict` Comprehensions\n",
    "A dictionary comprehension is a lot like a list comprehension, which we covered in Lesson 8:\n",
    "```python\n",
    "{ key : value for item in items }\n",
    "```\n",
    "The key and/or value will vary from item to item."
   ]
  },
  {
   "cell_type": "code",
   "execution_count": 7,
   "metadata": {},
   "outputs": [
    {
     "data": {
      "text/plain": [
       "{'Washington': '1732-02-22', 'Jefferson': '1743-04-13'}"
      ]
     },
     "execution_count": 7,
     "metadata": {},
     "output_type": "execute_result"
    }
   ],
   "source": [
    "# reuses the d_keys and d_values from before\n",
    "\n",
    "{ d_keys[i] : d_values[i] for i in range(len(d_keys)) }"
   ]
  },
  {
   "cell_type": "markdown",
   "metadata": {},
   "source": [
    "There are other allowed forms (e.g., the pairs can be specified as tuples) but this is the most commonly used one. "
   ]
  },
  {
   "cell_type": "markdown",
   "metadata": {},
   "source": [
    "---\n",
    "## Exercise"
   ]
  },
  {
   "cell_type": "markdown",
   "metadata": {},
   "source": [
    "**Use your `waist2Hip_ratio()` function to process each of the dictionaries listed below.**\n",
    "```python\n",
    "[{'waist': 28, 'hip': 40, 'gender': 'F'},\n",
    " {'waist': 23, 'hip': 35, 'gender': 'F'},\n",
    " {'waist': 30, 'hip': 40, 'gender': 'M'},\n",
    " {'waist': 30, 'hip': 37, 'gender': 'M'},\n",
    " {'waist': 32, 'hip': 39, 'gender': 'M'}]\n",
    "```"
   ]
  },
  {
   "cell_type": "code",
   "execution_count": null,
   "metadata": {},
   "outputs": [],
   "source": [
    "# YOUR CODE HERE"
   ]
  }
 ],
 "metadata": {
  "kernelspec": {
   "display_name": "Python 3",
   "language": "python",
   "name": "python3"
  },
  "language_info": {
   "codemirror_mode": {
    "name": "ipython",
    "version": 3
   },
   "file_extension": ".py",
   "mimetype": "text/x-python",
   "name": "python",
   "nbconvert_exporter": "python",
   "pygments_lexer": "ipython3",
   "version": "3.7.7"
  }
 },
 "nbformat": 4,
 "nbformat_minor": 4
}
