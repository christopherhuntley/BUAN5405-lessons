{
 "cells": [
  {
   "cell_type": "markdown",
   "metadata": {},
   "source": [
    "<img src=\"https://github.com/christopherhuntley/BUAN5405-docs/blob/master/Slides/img/Dolan.png?raw=true\" width=\"180px\" align=\"right\">\n",
    "\n",
    "# Lesson 8: Lists\n",
    "_If you can only have one collection type, make it a list_"
   ]
  },
  {
   "cell_type": "markdown",
   "metadata": {},
   "source": [
    "# Learning Objectives\n",
    "\n",
    "## Theory / Be able to explain ...\n",
    "- aaa\n",
    "\n",
    "## Skills / Know how to  ...\n",
    "- aaa\n",
    "\n",
    "**What follows is adapted from Chapter 8 of the _Python For Everybody_ book. If you have not read it, then please do so before continuing on.**"
   ]
  },
  {
   "cell_type": "markdown",
   "metadata": {},
   "source": [
    "---\n",
    "## Pro Tips"
   ]
  },
  {
   "cell_type": "markdown",
   "metadata": {},
   "source": [
    "### Iterators, Generators, and Yield"
   ]
  },
  {
   "cell_type": "code",
   "execution_count": null,
   "metadata": {},
   "outputs": [],
   "source": [
    "divisor = 7\n",
    "dividend = 479\n",
    "\n",
    "def denom_digits(denominator):\n",
    "    digits = str(denominator)\n",
    "    for digit in digits:\n",
    "        yield digit\n",
    "\n",
    "remainder = 0\n",
    "quotient = 0\n",
    "for d in denom_digits(denominator):\n",
    "    remainder = remainder*10 + int(d)     # pull down the next digit into the remainder\n",
    "    q = remainder // divisor              # determine how many times the divisor fits into the remainder \n",
    "    product = q * divisor                 # calculate the product, and then ...\n",
    "    remainder -= product                  # subtract it from the remainder\n",
    "    \n",
    "    quotient = quotient*10 + q            # add the next digit to the quotient\n",
    "    \n",
    "print(str(quotient)+\"r\"+str(remainder))"
   ]
  }
 ],
 "metadata": {
  "kernelspec": {
   "display_name": "Python 3",
   "language": "python",
   "name": "python3"
  },
  "language_info": {
   "codemirror_mode": {
    "name": "ipython",
    "version": 3
   },
   "file_extension": ".py",
   "mimetype": "text/x-python",
   "name": "python",
   "nbconvert_exporter": "python",
   "pygments_lexer": "ipython3",
   "version": "3.7.7"
  }
 },
 "nbformat": 4,
 "nbformat_minor": 4
}
