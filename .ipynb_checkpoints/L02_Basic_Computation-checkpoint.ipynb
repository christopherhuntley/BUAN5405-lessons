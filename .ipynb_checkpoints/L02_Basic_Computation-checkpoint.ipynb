{
  "nbformat": 4,
  "nbformat_minor": 0,
  "metadata": {
    "kernelspec": {
      "display_name": "Python 3",
      "language": "python",
      "name": "python3"
    },
    "language_info": {
      "codemirror_mode": {
        "name": "ipython",
        "version": 3
      },
      "file_extension": ".py",
      "mimetype": "text/x-python",
      "name": "python",
      "nbconvert_exporter": "python",
      "pygments_lexer": "ipython3",
      "version": "3.7.7"
    },
    "colab": {
      "name": "L02_Basic_Computation-checkpoint.ipynb",
      "provenance": []
    }
  },
  "cells": [
    {
      "cell_type": "markdown",
      "metadata": {
        "id": "qOhaK8J6ezUc",
        "colab_type": "text"
      },
      "source": [
        "<img src=\"https://github.com/christopherhuntley/BUAN5405-docs/blob/master/Slides/img/Dolan.png?raw=true\" style=\"width:180px; float:right\">\n",
        "\n",
        "# Basic Computation\n",
        "_Variables, Expressions, and Statements_"
      ]
    },
    {
      "cell_type": "markdown",
      "metadata": {
        "id": "O-pbZB0JezUf",
        "colab_type": "text"
      },
      "source": [
        "# Learning Objectives\n",
        "\n",
        "## Theory / Be able to explain ...\n",
        "- Basic terminology like values, data types, statements, expressions, ... as they apply to Python\n",
        "- The key role of data types when writing, reading, and executing Python code \n",
        "- The rules for naming variables and other things in your code\n",
        "- How Python breaks down statements into their constituent parts\n",
        "- Order of operations and its effect on evaluating Python expressions\n",
        "- The concept of literate code and how comments and syntax highlighting can improve code readability\n",
        "\n",
        "## Skills / Know how to  ...\n",
        "- Use variables, expressions, and operators to perform calculations\n",
        "- Convert data from one type to another\n",
        "- Use comments to get Python to help you debug faulty code\n",
        "\n",
        "**What follows is adapted from Chapter 2 of the _Python For Everybody_ book. If you have not read it, then please do so before continuting on.**\n",
        "\n",
        "**COLAB NOTE: SOMETIMES GOOGLE COLAB \"FOLDS\" EMPTY CODE CELLS TO HIDE THEM. WHENEVER IT DOES THAT, CLICK TO REVEAL THEM.**"
      ]
    },
    {
      "cell_type": "markdown",
      "metadata": {
        "id": "IcCX7AxVezUg",
        "colab_type": "text"
      },
      "source": [
        "## Just the Highlights\n",
        "HIGHLIGHT VIDEO GOES HERE"
      ]
    },
    {
      "cell_type": "markdown",
      "metadata": {
        "id": "5IQ1fVdUezUi",
        "colab_type": "text"
      },
      "source": [
        "## Data, Information, and Knowledge\n",
        "The concepts in this lesson actually go all the way back to ancient times, when philosophers studied how they thought about ... thought. Plato, for example, spent significant time on the idea of [essentialism](https://en.wikipedia.org/wiki/Essentialism): the idea that **every entity (physical or conceptual) has an essential form** that defines its substance. That form has **features** that characterize facts that distinguish it from other entities. Entities also have **functions** that they carry out in the world. These essential forms and functions together define **types** or **categories** that are considered eternal, at which point philosophy starts to become theology ...\n",
        "\n",
        "Today, we still use this basic framework to model the world around us, though with slightly different terminology:\n",
        "\n",
        "- **Data** refers to facts. Each fact has a **value** that captures substance instead of importance or meaning. The number 42 can mean lots of things to different people. If you are a Monty Python fan then perhaps you remember it from _The Hitchiker's Guide to the Galaxy_. If you are baseball fan then it could mean Mariano Rivera or Jackie Robinson. Or it could just be the answer to \"What's 6 times 9?\" ... 42 of course, but only you are in base 13. \n",
        "- **Information** refers to facts that have an identified **meaning** and **structure**. When associating facts to entities the facts are given names, kind of like attaching sticky labels, so we know how each fact relates to the entity. For example we can say that 42 is the _Uniform Number_ (feature) of _Jackie Robinson, the famous baseball player_ (entity and essential type). Data can also have types, just like entities do. Is it 42 or \"42\" or 42.0? It matters a lot, at least to a data scientist. However, it's hard to tell without knowing how it is to be interpretted. \n",
        "- **Knowledge** refers to functionality: the ability to use information to do things. A knowledgable person can do a lot of things, once they have the necessary information. A less knowldgeable person might not be able to anything useful, even if given perfect information. In Python, **the programs that we write are knowledge.** It's how we get the computer to do what we want it to do. \n",
        "\n",
        "As you may have noticed, each of these things builds on the ones before it. We can of course continue on to wisdom (knowing what to do at a given time) and virtue (knowing right vs wrong), but it seems that we're getting back to theology again instead of science."
      ]
    },
    {
      "cell_type": "markdown",
      "metadata": {
        "id": "nuNyGhwZezUj",
        "colab_type": "text"
      },
      "source": [
        "## Values and Types\n",
        "In Python a **value** is a representation of a fact. Each value has a **data type** that defines what kinds of facts it can represent and how it can be used.\n",
        "\n",
        "Returning to the example from the last section, let's consider 42, which can be represented as:\n",
        "- \"42\", a string of text characters\n",
        "- 42, an integer number between 41 and 43\n",
        "- 42.0, a rational number \n",
        "- 41.99999 (repeating forever)\n",
        "\n",
        "Depending on the data type 42 could come about many ways:\n",
        "- If it is text then we can _literally_ extract it from a sentence. \n",
        "- If it is an integer then it might be the number of people at a holiday party.\n",
        "- If it is a rational number then it may the result of 420/10. \n",
        "- If it is a real number then it could be the value of the calculation 7.0 / 3.0 * 18.0, which is _of course_ 41.99999 (repeating). \n",
        "\n",
        "Let's see what Python thinks about this:"
      ]
    },
    {
      "cell_type": "code",
      "metadata": {
        "id": "ZewrIyCoezUl",
        "colab_type": "code",
        "colab": {},
        "outputId": "cf3c1a7f-6608-4f6b-de11-31147bfd935c"
      },
      "source": [
        "type(\"42\")"
      ],
      "execution_count": 0,
      "outputs": [
        {
          "output_type": "execute_result",
          "data": {
            "text/plain": [
              "str"
            ]
          },
          "metadata": {
            "tags": []
          },
          "execution_count": 1
        }
      ]
    },
    {
      "cell_type": "code",
      "metadata": {
        "id": "3uXwpmQiezU4",
        "colab_type": "code",
        "colab": {},
        "outputId": "f993d2d5-749d-411f-876d-8512d053120c"
      },
      "source": [
        "type(42)"
      ],
      "execution_count": 0,
      "outputs": [
        {
          "output_type": "execute_result",
          "data": {
            "text/plain": [
              "int"
            ]
          },
          "metadata": {
            "tags": []
          },
          "execution_count": 2
        }
      ]
    },
    {
      "cell_type": "code",
      "metadata": {
        "id": "8CXGe7HnezVY",
        "colab_type": "code",
        "colab": {},
        "outputId": "b06c5c06-c5b1-4612-8a19-d4444064cc1e"
      },
      "source": [
        "type(42.0)"
      ],
      "execution_count": 0,
      "outputs": [
        {
          "output_type": "execute_result",
          "data": {
            "text/plain": [
              "float"
            ]
          },
          "metadata": {
            "tags": []
          },
          "execution_count": 5
        }
      ]
    },
    {
      "cell_type": "code",
      "metadata": {
        "id": "TdmqLNIEezVe",
        "colab_type": "code",
        "colab": {},
        "outputId": "593c001f-f828-468d-ab95-b6ed57625c1c"
      },
      "source": [
        "type(7.0 / 3.0 * 18.0)"
      ],
      "execution_count": 0,
      "outputs": [
        {
          "output_type": "execute_result",
          "data": {
            "text/plain": [
              "float"
            ]
          },
          "metadata": {
            "tags": []
          },
          "execution_count": 34
        }
      ]
    },
    {
      "cell_type": "markdown",
      "metadata": {
        "id": "fI2_vqOzezVj",
        "colab_type": "text"
      },
      "source": [
        "Well, 3 out of 4 isn't too bad. `floats` are not quite the same thing as real numbers. It turns out that Python needs a little help to work with real numbers. We'll just have to make do with the `float` data type for now.\n",
        "\n",
        "So what do these things mean exactly:\n",
        "- `str` represents literal text\n",
        "- `int` represents any integer number\n",
        "- `float` represents any floating point (rational) number\n",
        "\n",
        "There are, of course, lots of data types built into Python, but these are the simplest to use, at first anyway. \n",
        "\n",
        "### Pulse Check ...\n",
        "For each of the following calculations, try to guess the result _before_ running the cell. Then explain what happened. If the result surprised you, say why. As always, don't worry so much about being right for now. To find out the right answers watch the video. "
      ]
    },
    {
      "cell_type": "code",
      "metadata": {
        "id": "uYUkZpnSezVj",
        "colab_type": "code",
        "colab": {},
        "outputId": "67f49a2d-656a-4bcd-ab4c-ba23b88c4ad4"
      },
      "source": [
        "type(7*6)"
      ],
      "execution_count": 0,
      "outputs": [
        {
          "output_type": "execute_result",
          "data": {
            "text/plain": [
              "int"
            ]
          },
          "metadata": {
            "tags": []
          },
          "execution_count": 35
        }
      ]
    },
    {
      "cell_type": "code",
      "metadata": {
        "id": "_bA0yWDWezVq",
        "colab_type": "code",
        "colab": {}
      },
      "source": [
        "YOUR ANSWER HERE"
      ],
      "execution_count": 0,
      "outputs": []
    },
    {
      "cell_type": "code",
      "metadata": {
        "id": "NkMVM7U8ezVu",
        "colab_type": "code",
        "colab": {},
        "outputId": "3921ff22-5569-4056-881e-eb2087d31073"
      },
      "source": [
        "type(42/6)"
      ],
      "execution_count": 0,
      "outputs": [
        {
          "output_type": "execute_result",
          "data": {
            "text/plain": [
              "float"
            ]
          },
          "metadata": {
            "tags": []
          },
          "execution_count": 14
        }
      ]
    },
    {
      "cell_type": "markdown",
      "metadata": {
        "id": "EWVwWTstezVx",
        "colab_type": "text"
      },
      "source": [
        "YOUR ANSWER HERE"
      ]
    },
    {
      "cell_type": "code",
      "metadata": {
        "id": "qnJArLGLezVx",
        "colab_type": "code",
        "colab": {},
        "outputId": "6c80e633-16d5-4cb4-c543-4c52e58465c8"
      },
      "source": [
        "\"42\"/6"
      ],
      "execution_count": 0,
      "outputs": [
        {
          "output_type": "error",
          "ename": "TypeError",
          "evalue": "unsupported operand type(s) for /: 'str' and 'int'",
          "traceback": [
            "\u001b[0;31m---------------------------------------------------------------------------\u001b[0m",
            "\u001b[0;31mTypeError\u001b[0m                                 Traceback (most recent call last)",
            "\u001b[0;32m<ipython-input-8-987b3858d50e>\u001b[0m in \u001b[0;36m<module>\u001b[0;34m\u001b[0m\n\u001b[0;32m----> 1\u001b[0;31m \u001b[0;34m\"42\"\u001b[0m\u001b[0;34m/\u001b[0m\u001b[0;36m6\u001b[0m\u001b[0;34m\u001b[0m\u001b[0;34m\u001b[0m\u001b[0m\n\u001b[0m",
            "\u001b[0;31mTypeError\u001b[0m: unsupported operand type(s) for /: 'str' and 'int'"
          ]
        }
      ]
    },
    {
      "cell_type": "markdown",
      "metadata": {
        "id": "les0WHJ-ezV0",
        "colab_type": "text"
      },
      "source": [
        "YOUR ANSWER HERE"
      ]
    },
    {
      "cell_type": "code",
      "metadata": {
        "id": "vE8WgWTiezV1",
        "colab_type": "code",
        "colab": {},
        "outputId": "44bbe414-c95a-48f8-e324-e3a07c98be36"
      },
      "source": [
        "\"42\"*6"
      ],
      "execution_count": 0,
      "outputs": [
        {
          "output_type": "execute_result",
          "data": {
            "text/plain": [
              "'424242424242'"
            ]
          },
          "metadata": {
            "tags": []
          },
          "execution_count": 11
        }
      ]
    },
    {
      "cell_type": "markdown",
      "metadata": {
        "id": "w_DI3hpQezV6",
        "colab_type": "text"
      },
      "source": [
        "YOUR ANSWER HERE"
      ]
    },
    {
      "cell_type": "code",
      "metadata": {
        "id": "DOWXIO8wezV6",
        "colab_type": "code",
        "colab": {},
        "outputId": "31d356c0-db9d-4498-fb83-cbaf384568f4"
      },
      "source": [
        "\"42\"*6.0"
      ],
      "execution_count": 0,
      "outputs": [
        {
          "output_type": "error",
          "ename": "TypeError",
          "evalue": "can't multiply sequence by non-int of type 'float'",
          "traceback": [
            "\u001b[0;31m---------------------------------------------------------------------------\u001b[0m",
            "\u001b[0;31mTypeError\u001b[0m                                 Traceback (most recent call last)",
            "\u001b[0;32m<ipython-input-12-b46fc8dcf48e>\u001b[0m in \u001b[0;36m<module>\u001b[0;34m\u001b[0m\n\u001b[0;32m----> 1\u001b[0;31m \u001b[0;34m\"42\"\u001b[0m\u001b[0;34m*\u001b[0m\u001b[0;36m6.0\u001b[0m\u001b[0;34m\u001b[0m\u001b[0;34m\u001b[0m\u001b[0m\n\u001b[0m",
            "\u001b[0;31mTypeError\u001b[0m: can't multiply sequence by non-int of type 'float'"
          ]
        }
      ]
    },
    {
      "cell_type": "markdown",
      "metadata": {
        "id": "KZlMsc95ezV9",
        "colab_type": "text"
      },
      "source": [
        "YOUR ANSWER HERE"
      ]
    },
    {
      "cell_type": "markdown",
      "metadata": {
        "id": "yfi39jN3ezV-",
        "colab_type": "text"
      },
      "source": [
        "DATA TYPE DEMO HERE"
      ]
    },
    {
      "cell_type": "markdown",
      "metadata": {
        "id": "72h8aV5LezV-",
        "colab_type": "text"
      },
      "source": [
        "## Type Conversions\n",
        "There are times when we might want to convert a value from one type or another. For that we use type conversion **functions** that come built into Python. For example:"
      ]
    },
    {
      "cell_type": "code",
      "metadata": {
        "id": "E_lisJZCezV-",
        "colab_type": "code",
        "colab": {},
        "outputId": "c08f502e-5030-4efb-f14a-f182307603f8"
      },
      "source": [
        "type(int(\"42\"))"
      ],
      "execution_count": 0,
      "outputs": [
        {
          "output_type": "execute_result",
          "data": {
            "text/plain": [
              "int"
            ]
          },
          "metadata": {
            "tags": []
          },
          "execution_count": 20
        }
      ]
    },
    {
      "cell_type": "code",
      "metadata": {
        "id": "o5IBFyx9ezWB",
        "colab_type": "code",
        "colab": {},
        "outputId": "3139367f-59f3-4b69-fbff-c23b5baa071f"
      },
      "source": [
        "type(str(42))"
      ],
      "execution_count": 0,
      "outputs": [
        {
          "output_type": "execute_result",
          "data": {
            "text/plain": [
              "str"
            ]
          },
          "metadata": {
            "tags": []
          },
          "execution_count": 21
        }
      ]
    },
    {
      "cell_type": "code",
      "metadata": {
        "id": "FMeXyz7tezWD",
        "colab_type": "code",
        "colab": {},
        "outputId": "8085acd9-67cb-4a1a-d39b-5c6f55fd573b"
      },
      "source": [
        "type(str(int(42.0)))"
      ],
      "execution_count": 0,
      "outputs": [
        {
          "output_type": "execute_result",
          "data": {
            "text/plain": [
              "str"
            ]
          },
          "metadata": {
            "tags": []
          },
          "execution_count": 22
        }
      ]
    },
    {
      "cell_type": "markdown",
      "metadata": {
        "id": "3mIPv6z8ezWG",
        "colab_type": "text"
      },
      "source": [
        "**How can you tell these are functions?**  \n",
        "Anytime you see a name followed by a left parenthesis (`(`), Python assumes you are trying to call a function. **The parentheses come in pairs.** As long as each left parenthesis is matched by one (and only one) right parenthesis (`)`), Python will find and call the function from among its many libraries. Also, note that **function calls can be nested inside each other**, with the innermost function call executed first."
      ]
    },
    {
      "cell_type": "markdown",
      "metadata": {
        "id": "aa_GSDzyezWG",
        "colab_type": "text"
      },
      "source": [
        "### Pulse Check ...\n",
        "Use type conversions to 'fix' the broken calculations below. Make each cell return a `float` data type."
      ]
    },
    {
      "cell_type": "markdown",
      "metadata": {
        "id": "QKBlImf6ezWH",
        "colab_type": "text"
      },
      "source": [
        "**\"42\"/6**"
      ]
    },
    {
      "cell_type": "code",
      "metadata": {
        "id": "moxm2Bn5ezWI",
        "colab_type": "code",
        "colab": {}
      },
      "source": [
        "\"42\"/6"
      ],
      "execution_count": 0,
      "outputs": []
    },
    {
      "cell_type": "markdown",
      "metadata": {
        "id": "a6FiqFftezWL",
        "colab_type": "text"
      },
      "source": [
        "**\"42\"*6**"
      ]
    },
    {
      "cell_type": "code",
      "metadata": {
        "id": "l3n80ueJezWL",
        "colab_type": "code",
        "colab": {}
      },
      "source": [
        "\"42\"*6"
      ],
      "execution_count": 0,
      "outputs": []
    },
    {
      "cell_type": "markdown",
      "metadata": {
        "id": "WEyoYJUcezWP",
        "colab_type": "text"
      },
      "source": [
        "**\"42\"*6.0**"
      ]
    },
    {
      "cell_type": "code",
      "metadata": {
        "id": "khMmWFAUezWP",
        "colab_type": "code",
        "colab": {}
      },
      "source": [
        "\"42\"*6.0"
      ],
      "execution_count": 0,
      "outputs": []
    },
    {
      "cell_type": "markdown",
      "metadata": {
        "id": "dgKdVNCnezWS",
        "colab_type": "text"
      },
      "source": [
        "TYPE CONVERSION DEMO HERE"
      ]
    },
    {
      "cell_type": "markdown",
      "metadata": {
        "id": "aSUtvhMGezWT",
        "colab_type": "text"
      },
      "source": [
        "----\n",
        "## Variables\n",
        "Remember those sticky labels we talked about in the section on _Data, Information, and Knowledge_ at the start of this lesson? These are what we call **variables**. A variable is a **name** we can use to refer to a value. It represents the smallest possible unit of information. However, just as we can move sticky notes around, so we can change what value a variable is referring to. That turns out to be pretty useful, as you will see in a moment. \n",
        "\n",
        "Variables references get set (or changed) through assignment:\n",
        "```python\n",
        "uniform_number = 42\n",
        "player_name = \"Jackie Robinson\"\n",
        "print(player_name + \" wore number \" + str(uniform_number))\n",
        "\n",
        "player_name = \"Mariano Rivera\"\n",
        "print(player_name + \" wore number \" + str(uniform_number))\n",
        "\n",
        "```\n",
        "Let's try it, but first predict what the above code will do."
      ]
    },
    {
      "cell_type": "markdown",
      "metadata": {
        "id": "FSb_IytOezWU",
        "colab_type": "text"
      },
      "source": [
        "YOUR PREDICTION HERE."
      ]
    },
    {
      "cell_type": "code",
      "metadata": {
        "id": "kDuiaAj2ezWU",
        "colab_type": "code",
        "colab": {},
        "outputId": "90a8e752-2e69-4d1b-dd14-74ecbfae4723"
      },
      "source": [
        "uniform_number = 42\n",
        "player_name = \"Jackie Robinson\"\n",
        "print(player_name + \" wore number \" + str(uniform_number))\n",
        "\n",
        "player_name = \"Mariano Rivera\"\n",
        "print(player_name + \" wore number \" + str(uniform_number))"
      ],
      "execution_count": 0,
      "outputs": [
        {
          "output_type": "stream",
          "text": [
            "Jackie Robinson wore number 42\n",
            "Mariano Rivera wore number 42\n"
          ],
          "name": "stdout"
        }
      ]
    },
    {
      "cell_type": "markdown",
      "metadata": {
        "id": "HPf6ltBRezWY",
        "colab_type": "text"
      },
      "source": [
        "There is actually a lot going on here. \n",
        "\n",
        "1. The variable `uniform_number` is used to refer to the integer `42`. If this is the first time we've used the variable `uniform_number` then it creates the variable name as well. \n",
        "2. The variable `player_name` is used to refer to the string `Jackie Robinson`. This does the same thing for the variable `player_name`. \n",
        "3. The code prints out `Jackie Robinson wore number 42`. This uses the two variables to construct the output string before printing. In order to append the number 42 to the end, we had to convert it to a string. \n",
        "4. The variable `player_name` is updated to refer to the string `Mariano Rivera`. This changes the value of the `player_name` variable. The old value, `Jackie Robinson` is forgotten. There is no way to refer to it anymore. \n",
        "5. The code prints out `Mariano Rivera wore number 42`. This uses the updated variable but with exact the same code as in #3.\n",
        "\n",
        "### Variable Assignment\n",
        "Before moving on to how we select variable names, it's worth nothing that even an assignment statement like `player_name = \"Jackie Robinson\"` is a multi-step process:\n",
        "\n",
        "1. The value to the right of the equal sign is calculated if needed.\n",
        "2. If the variable to the left of the equal sign doesn't exist yet, then define it. If does exist then recall it so you can use it again. \n",
        "3. The variable is set to refer to the value on the right. \n",
        "\n",
        "Consider the following example, which shows several possible variations on variable assignment:"
      ]
    },
    {
      "cell_type": "code",
      "metadata": {
        "id": "zLFIuOdrezWZ",
        "colab_type": "code",
        "colab": {},
        "outputId": "14c4adc9-2187-4bbc-c1a4-0288e53bce8c"
      },
      "source": [
        "first_name = \"Jackie\"\n",
        "last_name = \"Robinson\"\n",
        "person1 = first_name + \" \" + last_name\n",
        "person2 = person1\n",
        "person1 = \"Mariano Rivera\"\n",
        "print(person1)\n",
        "print(person2)"
      ],
      "execution_count": 0,
      "outputs": [
        {
          "output_type": "stream",
          "text": [
            "Mariano Rivera\n",
            "Jackie Robinson\n"
          ],
          "name": "stdout"
        }
      ]
    },
    {
      "cell_type": "markdown",
      "metadata": {
        "id": "ZFdIuzoMezWc",
        "colab_type": "text"
      },
      "source": [
        "Take your time to make sure you understand each line _given the lines above it_: \n",
        "- lines 1 and 2: create and set new variables `first_name` and `last_name`\n",
        "- line 3: calculate `first_name + \" \" + last_name`, create the variable `person1` and then assign it the value calculated to the right of the `=`\n",
        "- line 4: recall the value of `person1` and assign it to the new variable `person2`\n",
        "- line 5: update the value of `person1` to `Mariano Rivera`\n",
        "- line 6: print the value of `person1`\n",
        "- line 7: print the value of `person2`\n",
        "\n",
        "Note that even though in line 5 we updated `person1` to `Mariano Rivera`, the value of `person2` remained `Jackie Robinson`, just as it was before. This is how things tend to work in Python, though we will eventually see some exceptions when we discuss mutable data structures like lists and dictionaries. "
      ]
    },
    {
      "cell_type": "markdown",
      "metadata": {
        "id": "54CHjMWNezWc",
        "colab_type": "text"
      },
      "source": [
        "### Variable Naming\n",
        "\n",
        ">There are only two hard problems in Computer Science: naming things and cache invalidation. --Phil Karlton\n",
        "\n",
        "In order to use variables we have to give them names. A few basic principles apply, regardless of the language:\n",
        "\n",
        "- **Each name has to be unique** in the context they are being used. We can't, for example, have the same name for two different entities. We can label two different entities with the same name, but never at the same time. Variable assignment only allows one value at a time. \n",
        "- **Names should be descriptive** enough that we, the programmers, know what each one stands for. Otherwise we can't follow each other's code without a road map, and who's got time for that? Even if we are the only ones to ever see the code, once a program gets larger than a couple dozen lines or so, it can get hard to remember everything. You want it to fit nicely in your head. \n",
        "- **Names should also be short** enough that fat fingered typists can use them without lots of typos. \n",
        "\n",
        "The official [Python Language Definition](https://docs.python.org/3/reference/index.html) includes [some other rules](https://docs.python.org/3/reference/lexical_analysis.html#identifiers):\n",
        "- names can include letters, numbers, and underscores\n",
        "- names cannot start with a number\n",
        "- names can be any length, but anything over 79 characters may not work in older versions of Python\n",
        "- names must include at least one letter or an underscore (note: `_` is a special variable in Jupyter)\n",
        "\n",
        "These are some bad examples of variable names in Python:\n",
        "- `x`, `c`, `fizz`, `buzz`, `name` are not very descriptive. Only use these for very short sections of code where the meanings can easily be deduced by context.\n",
        "- `this_is_the_theme_for_garrys_show` is certainly descriptive if it refers to the theme some from the _Garry Shandling Show_ but it may also be a bit long and too specific. What if Garry had chosen to rename his theme song? All our code would be trashed. \n",
        "- `in`, `for`,`def`, etc. are keywords. They are already taken.\n",
        "- `My Drive` has spaces in it. Python can't tell that `My` and `Drive` are part of the same name. Use underscores (`_`) between the words instead. \n",
        "- `My_Drive` also is bad form. In Python **variables should be lower case letters only.** Python will accept capital letters, but other programmers will complain. It's just not done. \n",
        "- `dollar$` is a bad name because it includes an illegal character. Leave that stuff for other languages. Python wants it clean. \n",
        "\n",
        "While this section is about variable names, **many of these same rules also apply to just everything else**:\n",
        "- Functions\n",
        "- Files\n",
        "- Data types\n",
        "- Libaries and modules\n",
        "- ...\n",
        "\n",
        "There are a couple notable exceptions, though:\n",
        "- CONSTANTS (i.e., variables that don't actually vary) should be in `ALL_CAPS_WITH_UNDERSCORES`\n",
        "- Third-party data types (a.k.a., `classes`) should use `CamelCaseNaming` where the first letter of each word is capitalized and there are no underscores. \n",
        "\n",
        "These are nonstandard because they are _intended_ to stand out. That they don't follow the rules clues us in that they have special meanings and uses.    \n",
        "\n",
        "For more about Python naming conventions, take a peek at the official [Style Guide for Python Code](https://www.python.org/dev/peps/pep-0008/#naming-conventions), also known as PEP-8.\n",
        "\n",
        "### Pulse Check ...\n",
        "**Why do variable names need to be unique? What do you suppose we mean by \"in the context they are being used?\"**"
      ]
    },
    {
      "cell_type": "markdown",
      "metadata": {
        "id": "GGwbIyxIezWd",
        "colab_type": "text"
      },
      "source": [
        "YOUR ANSWER HERE"
      ]
    },
    {
      "cell_type": "markdown",
      "metadata": {
        "id": "HOQL_OEdezWd",
        "colab_type": "text"
      },
      "source": [
        "**What, if anything, is wrong with each of variable names below?**"
      ]
    },
    {
      "cell_type": "markdown",
      "metadata": {
        "id": "uswmFDRyezWd",
        "colab_type": "text"
      },
      "source": [
        "**`1password`**"
      ]
    },
    {
      "cell_type": "markdown",
      "metadata": {
        "id": "GGPn8h75ezWe",
        "colab_type": "text"
      },
      "source": [
        "YOUR ANSWER HERE"
      ]
    },
    {
      "cell_type": "markdown",
      "metadata": {
        "id": "p7EP-5MgezWe",
        "colab_type": "text"
      },
      "source": [
        "**`onePassword`**"
      ]
    },
    {
      "cell_type": "markdown",
      "metadata": {
        "id": "63ICZo0GezWe",
        "colab_type": "text"
      },
      "source": [
        "YOUR ANSWER HERE"
      ]
    },
    {
      "cell_type": "markdown",
      "metadata": {
        "id": "ItVWu7B3ezWf",
        "colab_type": "text"
      },
      "source": [
        "**`one password`**"
      ]
    },
    {
      "cell_type": "markdown",
      "metadata": {
        "id": "eziozgf5ezWf",
        "colab_type": "text"
      },
      "source": [
        "YOUR ANSWER HERE"
      ]
    },
    {
      "cell_type": "markdown",
      "metadata": {
        "id": "Q_otNNGSezWg",
        "colab_type": "text"
      },
      "source": [
        "**`one_password`**"
      ]
    },
    {
      "cell_type": "markdown",
      "metadata": {
        "id": "6-0RREo6ezWg",
        "colab_type": "text"
      },
      "source": [
        "YOUR ANSWER HERE"
      ]
    },
    {
      "cell_type": "markdown",
      "metadata": {
        "id": "_OYac0XfezWg",
        "colab_type": "text"
      },
      "source": [
        "**`onep@ssw0rd`**"
      ]
    },
    {
      "cell_type": "markdown",
      "metadata": {
        "id": "_eIuGqvOezWh",
        "colab_type": "text"
      },
      "source": [
        "YOUR ANSWER HERE"
      ]
    },
    {
      "cell_type": "markdown",
      "metadata": {
        "id": "MmT_2IT6ezWh",
        "colab_type": "text"
      },
      "source": [
        "VARIABLE DEMO VIDEO HERE"
      ]
    },
    {
      "cell_type": "markdown",
      "metadata": {
        "id": "BzD8ZU2TezWi",
        "colab_type": "text"
      },
      "source": [
        "----\n",
        "## Lexical Structure: Statements, Expressions, Operators, Literals, and Punctuation\n",
        "\n",
        "Sometimes you can learn a lot from just one line of code. For example, let's revisit a line from the section on variable assignment:\n",
        "```python\n",
        "person1 = first_name + \" \" + last_name\n",
        "```\n",
        "\n",
        "In this one line we see a **statement**, an **operator**, and **an expression**. (Actually, there are three expressions, two operators, and a text literal but who's counting?)\n",
        "- the entire line of code `person1 = first_name + \" \" + last_name` is an assignment **statement**\n",
        "- the addition **operator** is denoted by the plus sign `+`\n",
        "- the calculation `first_name + \" \" + last_name` is an **expression**\n",
        "\n",
        "**A statement is the Python equivalent of an imperative sentence. Statements _do_ things that change the state (value) of other things.** A statement is one semantically complete thought (for the programmer) or one syntactically complete unit of code for Python to execute. Each time we ask the computer to do something, we give it a statement. If we give the computer a sequence of statements then it executes them one at a time in the order they are given. \n",
        "\n",
        "Just as sentences in human language have syntactic structure (parts of speak), so do Python statements. In fact the precise grammar for all legal Python statements is defined in one surprisingly short document, [Python Language Definition](https://docs.python.org/3/reference/index.html). The grammar rules defined there break each sentence down into expressions, operations, and punctuation. Everything is covered in fine detail. Consider, for example, how Python defines integer number:   \n",
        "![Integer Grammar Rule](https://github.com/christopherhuntley/BUAN5405-lessons/blob/master/img/L2_1_Integer_Grammar.png)\n",
        "While the notation (called BNF grammar, first used to design Fortran) is pretty arcane, just know that these 10 rules (one per line) together describe every possible integer in every possible format recognized by Python. \n",
        "\n",
        "So far we have only see a few kinds of statements. The example here is an assignment statement, which _always_ follows the same pattern: _`variable = expression`_. As we learned before, the expression on the right is always evaluated first and then assigned to the variable on the left. \n",
        "\n",
        "**An expression is anything that can be evaluated to produce a value. Expressions _are_ things.** So, each calculation like `1+1` or `first_name + \" \" + last_name` is an expression, but so is recalling the value of a variable like `first_name` or `last_name`. They each produce a value when evaluated. Expressions can be composed of other expressions. In order to evaluate them Pythhon will break them down into smaller and smaller expressions, until all that left is some combination of variables, operators, and **literal** values. **Literals** (or tokens) are things like numbers or text strings that don't need to be broken down any further. They are the words that make up our Python expressions. \n",
        "\n",
        "**An operator represents a calculation with a symbol like `+` or `%`.** In order for operators to be useful they have to be applied to one or more **operands** according to a specific pattern. So, for example, the `+` operator follows this pattern: _`expression1 + expression2`_, where the operands are `expression1` and `expression2`.  In principle, an operator can have any number of operands: unary operators have one operand, binary operators have two, ternary operators have three, etc. However, all of Python's built-in operators are binary. \n",
        "\n",
        "When we apply an operator to a set of operands we call it an **operation**. Since operations always produce a value, they are also expressions and can be can also be broken down into smaller and smaller parts. When doing so we need to know which operations to evaluate first. For that we can use the same [PEMDAS rule](https://en.wikipedia.org/wiki/Order_of_operations) you likely learned in middle school. Operations are evaluated **left to right** _except_ ...\n",
        "- operations inside **parentheses** (or other grouping operation) must be evaluated before ...\n",
        "- **exponents** and roots, which must be evaluated before ...\n",
        "- **multiplication** and **division**, which must be evaluated before ...\n",
        "- **addition** and **subtraction**\n",
        "\n",
        "Thus, `3*6+1/2` evaluates to 18.5 while `3*(6+1)/2` evaluates to 10.5. If in doubt about how an expression is going to be evaluated, use parentheses to force it to go the way you want it to go. \n",
        "\n",
        "**Punctuation is everything else we need to structure our statements.** We haven't seen much of that yet but we will. Besides **white space** (which we learned about in lesson 1) we will also use dots `.`, colons `:`, parentheses `()`, brackets `[]` and other symbols as hints to help Python break statements down into their various parts.  \n",
        "\n",
        "### Pulse Check ..."
      ]
    },
    {
      "cell_type": "markdown",
      "metadata": {
        "id": "bqAXyYuOezWi",
        "colab_type": "text"
      },
      "source": [
        "**Why aren't expressions considered statements?** (After all, they do calculate things.)"
      ]
    },
    {
      "cell_type": "markdown",
      "metadata": {
        "id": "S3bjq3hrezWi",
        "colab_type": "text"
      },
      "source": [
        "YOUR ANSWER HERE"
      ]
    },
    {
      "cell_type": "markdown",
      "metadata": {
        "id": "uf04srd0ezWj",
        "colab_type": "text"
      },
      "source": [
        "**Why is the equals sign not an operator?** (This one is very subtle. Many professional programmers get it wrong.)"
      ]
    },
    {
      "cell_type": "markdown",
      "metadata": {
        "id": "gDa33kRDezWj",
        "colab_type": "text"
      },
      "source": [
        "YOUR ANSWER HERE"
      ]
    },
    {
      "cell_type": "markdown",
      "metadata": {
        "id": "sY0Pw32kezWj",
        "colab_type": "text"
      },
      "source": [
        "**In what order would the operations in `1 + int(\"1\")/float(2)` be executed?**"
      ]
    },
    {
      "cell_type": "markdown",
      "metadata": {
        "id": "V9UUNrmlezWj",
        "colab_type": "text"
      },
      "source": [
        "YOUR ANSWER HERE\n",
        "\n",
        "1. \n",
        "2.\n",
        "3.\n",
        "4. "
      ]
    },
    {
      "cell_type": "markdown",
      "metadata": {
        "id": "R6fx7UuoezWk",
        "colab_type": "text"
      },
      "source": [
        "**In the statement `person1 = first_name + \" \" + last_name` what are the variables, expressions, literals, and operators?**"
      ]
    },
    {
      "cell_type": "markdown",
      "metadata": {
        "id": "pRhwryk8ezWl",
        "colab_type": "text"
      },
      "source": [
        "YOUR ANSWER HERE\n",
        "\n",
        "- Variables:\n",
        "- Expressions:\n",
        "- Literals: \n",
        "- Operators: "
      ]
    },
    {
      "cell_type": "markdown",
      "metadata": {
        "id": "jm0ZosdPezWm",
        "colab_type": "text"
      },
      "source": [
        "LEXICAL STRUCTURE DEMO HERE"
      ]
    },
    {
      "cell_type": "markdown",
      "metadata": {
        "id": "tAcHEdtSezWm",
        "colab_type": "text"
      },
      "source": [
        "----\n",
        "## Code Comments\n",
        "\n",
        "In Jupyter we use Markdown to enter text for humans to read and code cells for Python. However, sometimes it is useful to mix human-friendly **comments** into our computer code. Comments are used like annotations, explaining what a bit of code does so we don't have to figure it out again later. \n",
        "\n",
        "In Python we use the _hash_ symbol `#` to indicate comments. Everything on a line of code after the `#` is ignored by Python. Those are just for us humans. \n",
        "```python\n",
        "# stock the fridge\n",
        "the_fridge = [\"bud\", \"bud\", \"stella\", \"miller\",\"homebrew\"]\n",
        "the_fridge += [\"heinie\"] # don't forget the Heineken\n",
        "\n",
        "# drink each beer in the fridge, one at a time\n",
        "for beer in the_fridge:\n",
        "    empty_bottle = drink(beer)\n",
        "    burp()                # that's why we drink beer, right? \n",
        "    dispose(empty_bottle) # don't just leave empties lying around\n",
        "    \n",
        "    # be joyful\n",
        "    print(beer)           \n",
        "    print(\"And another one gone, and another one gone, another one bites the dust.\")\n",
        "\n",
        "```\n",
        "\n",
        "**While it might be tempting to just skip writing the comments, please resist the urge to do so.** The comments are an important part of your code. In fact, you may want to **write the comments first, before writing any Python code.** That way you can plan things out in **pseudo-code** before having to think in Python. First write out the logic as pseudo-code comments and then add Python statements to implement them.   "
      ]
    },
    {
      "cell_type": "markdown",
      "metadata": {
        "id": "FYFZS7ooezWn",
        "colab_type": "text"
      },
      "source": [
        "### Literate Programming\n",
        "The best programs don't actually need a lot of comments beyond whatever is needed for basic documentation. Instead, every effort is made to make the code itself as easy to read and interpret as possible. Such code is said to be **literate** because an experienced programmer can read it like a book. When your code gets to book length -- an mobile app might have 100,000 lines of code -- you really start to appreciate the value of readibility. While it might not be possible to make your code readable while you are creating and debugging it, professionals always take the time to clean it up afterwards. The Python Style Guide for Code (PEP-8) provides lots of recommendations and even some tools to help you do the cleanup.  "
      ]
    },
    {
      "cell_type": "markdown",
      "metadata": {
        "id": "egVyQIYCezWo",
        "colab_type": "text"
      },
      "source": [
        "## Debugging Tips \n",
        "\n",
        "### Syntax Highlighting\n",
        "Programming environments like Jupyter often come with real-time (as you type) syntax parsing for whatever language you are using at the time. It is like it doing the first step of compiling your code and showing you how it will break things down from statements to expressions to ... The result is that code is highlighted according to function. The actual colors may vary (e.g., JupyterHub uses green for keywords while Google Colab uses purple in code cells and blue in text cells) but the actual Python grammar rules don't. So, if you forgot the second double-quote at the end of a string literal, then all code after that will appear in whatever color is used for string literals. Similarly, if a variable name appears in the same color as the one for keywords, you know that you are going to need to rename the variable to something else. That name is already taken. \n",
        "\n",
        "\n",
        "### Commenting Out\n",
        "Comments are used for more than just annotating code. When a block of code isn't working it can be useful to \"comment out\" code as we narrow down the source of the error. For example, consider what happens when we run the code above:"
      ]
    },
    {
      "cell_type": "code",
      "metadata": {
        "id": "YLzx-v-iezWp",
        "colab_type": "code",
        "colab": {},
        "outputId": "53dfb878-3c31-4660-eaa3-9f9248ff95b7"
      },
      "source": [
        "# stock the fridge\n",
        "the_fridge = [\"bud\", \"bud\", \"stella\", \"miller\",\"homebrew\"]\n",
        "the_fridge += [\"heinie\"] # don't forget the Heineken\n",
        "\n",
        "# drink each beer in the fridge, one at a time\n",
        "for beer in the_fridge:\n",
        "    empty_bottle = drink(beer)\n",
        "    burp()                # that's why we drink beer, right? \n",
        "    dispose(empty_bottle) # don't just leave empties lying around\n",
        "\n",
        "    # be joyful\n",
        "    print(beer)           \n",
        "    print(\"And another one gone, and another one gone, another one bites the dust.\")"
      ],
      "execution_count": 0,
      "outputs": [
        {
          "output_type": "error",
          "ename": "NameError",
          "evalue": "name 'drink' is not defined",
          "traceback": [
            "\u001b[0;31m---------------------------------------------------------------------------\u001b[0m",
            "\u001b[0;31mNameError\u001b[0m                                 Traceback (most recent call last)",
            "\u001b[0;32m<ipython-input-30-b0e9c397359b>\u001b[0m in \u001b[0;36m<module>\u001b[0;34m\u001b[0m\n\u001b[1;32m      5\u001b[0m \u001b[0;31m# drink each beer in the fridge, one at a time\u001b[0m\u001b[0;34m\u001b[0m\u001b[0;34m\u001b[0m\u001b[0;34m\u001b[0m\u001b[0m\n\u001b[1;32m      6\u001b[0m \u001b[0;32mfor\u001b[0m \u001b[0mbeer\u001b[0m \u001b[0;32min\u001b[0m \u001b[0mthe_fridge\u001b[0m\u001b[0;34m:\u001b[0m\u001b[0;34m\u001b[0m\u001b[0;34m\u001b[0m\u001b[0m\n\u001b[0;32m----> 7\u001b[0;31m     \u001b[0mempty_bottle\u001b[0m \u001b[0;34m=\u001b[0m \u001b[0mdrink\u001b[0m\u001b[0;34m(\u001b[0m\u001b[0mbeer\u001b[0m\u001b[0;34m)\u001b[0m\u001b[0;34m\u001b[0m\u001b[0;34m\u001b[0m\u001b[0m\n\u001b[0m\u001b[1;32m      8\u001b[0m     \u001b[0mburp\u001b[0m\u001b[0;34m(\u001b[0m\u001b[0;34m)\u001b[0m                \u001b[0;31m# that's why we drink beer, right?\u001b[0m\u001b[0;34m\u001b[0m\u001b[0;34m\u001b[0m\u001b[0m\n\u001b[1;32m      9\u001b[0m     \u001b[0mdispose\u001b[0m\u001b[0;34m(\u001b[0m\u001b[0mempty_bottle\u001b[0m\u001b[0;34m)\u001b[0m \u001b[0;31m# don't just leave empties lying around\u001b[0m\u001b[0;34m\u001b[0m\u001b[0;34m\u001b[0m\u001b[0m\n",
            "\u001b[0;31mNameError\u001b[0m: name 'drink' is not defined"
          ]
        }
      ]
    },
    {
      "cell_type": "markdown",
      "metadata": {
        "id": "V6sZ_HNzezWr",
        "colab_type": "text"
      },
      "source": [
        "Oops. It doesn't work! We've failed! Now we need to see if we can figure out exactly which lines are not working. \n",
        "\n",
        "Let's sart by commenting out the line 7 with the `drink` function in it."
      ]
    },
    {
      "cell_type": "code",
      "metadata": {
        "id": "6GT4h257ezWr",
        "colab_type": "code",
        "colab": {},
        "outputId": "7e20e53c-5f08-4d53-cfba-a419f6928009"
      },
      "source": [
        "# stock the fridge\n",
        "the_fridge = [\"bud\", \"bud\", \"stella\", \"miller\",\"homebrew\"]\n",
        "the_fridge += [\"heinie\"] # don't forget the Heineken\n",
        "\n",
        "# drink each beer in the fridge, one at a time\n",
        "for beer in the_fridge:\n",
        "    # empty_bottle = drink(beer)\n",
        "    burp()                # that's why we drink beer, right? \n",
        "    dispose(empty_bottle) # don't just leave empties lying around\n",
        "\n",
        "    # be joyful\n",
        "    print(beer)           \n",
        "    print(\"And another one gone, and another one gone, another one bites the dust.\")"
      ],
      "execution_count": 0,
      "outputs": [
        {
          "output_type": "error",
          "ename": "NameError",
          "evalue": "name 'burp' is not defined",
          "traceback": [
            "\u001b[0;31m---------------------------------------------------------------------------\u001b[0m",
            "\u001b[0;31mNameError\u001b[0m                                 Traceback (most recent call last)",
            "\u001b[0;32m<ipython-input-31-86326dab1fa7>\u001b[0m in \u001b[0;36m<module>\u001b[0;34m\u001b[0m\n\u001b[1;32m      6\u001b[0m \u001b[0;32mfor\u001b[0m \u001b[0mbeer\u001b[0m \u001b[0;32min\u001b[0m \u001b[0mthe_fridge\u001b[0m\u001b[0;34m:\u001b[0m\u001b[0;34m\u001b[0m\u001b[0;34m\u001b[0m\u001b[0m\n\u001b[1;32m      7\u001b[0m     \u001b[0;31m# empty_bottle = drink(beer)\u001b[0m\u001b[0;34m\u001b[0m\u001b[0;34m\u001b[0m\u001b[0;34m\u001b[0m\u001b[0m\n\u001b[0;32m----> 8\u001b[0;31m     \u001b[0mburp\u001b[0m\u001b[0;34m(\u001b[0m\u001b[0;34m)\u001b[0m                \u001b[0;31m# that's why we drink beer, right?\u001b[0m\u001b[0;34m\u001b[0m\u001b[0;34m\u001b[0m\u001b[0m\n\u001b[0m\u001b[1;32m      9\u001b[0m     \u001b[0mdispose\u001b[0m\u001b[0;34m(\u001b[0m\u001b[0mempty_bottle\u001b[0m\u001b[0;34m)\u001b[0m \u001b[0;31m# don't just leave empties lying around\u001b[0m\u001b[0;34m\u001b[0m\u001b[0;34m\u001b[0m\u001b[0m\n\u001b[1;32m     10\u001b[0m \u001b[0;34m\u001b[0m\u001b[0m\n",
            "\u001b[0;31mNameError\u001b[0m: name 'burp' is not defined"
          ]
        }
      ]
    },
    {
      "cell_type": "markdown",
      "metadata": {
        "id": "xBZHYSjmezWu",
        "colab_type": "text"
      },
      "source": [
        "Okay, so that led to another bug. The `burp` function doesn't exist either. Let's comment out line 8 too. "
      ]
    },
    {
      "cell_type": "code",
      "metadata": {
        "id": "sx7NpO4yezWu",
        "colab_type": "code",
        "colab": {},
        "outputId": "8e51afa6-394f-46cd-f2c8-4cf27c6bcdf8"
      },
      "source": [
        "# stock the fridge\n",
        "the_fridge = [\"bud\", \"bud\", \"stella\", \"miller\",\"homebrew\"]\n",
        "the_fridge += [\"heinie\"] # don't forget the Heineken\n",
        "\n",
        "# drink each beer in the fridge, one at a time\n",
        "for beer in the_fridge:\n",
        "    # empty_bottle = drink(beer)\n",
        "    # burp()                # that's why we drink beer, right? \n",
        "    dispose(empty_bottle) # don't just leave empties lying around\n",
        "\n",
        "    # be joyful\n",
        "    print(beer)           \n",
        "    print(\"And another one gone, and another one gone, another one bites the dust.\")"
      ],
      "execution_count": 0,
      "outputs": [
        {
          "output_type": "error",
          "ename": "NameError",
          "evalue": "name 'dispose' is not defined",
          "traceback": [
            "\u001b[0;31m---------------------------------------------------------------------------\u001b[0m",
            "\u001b[0;31mNameError\u001b[0m                                 Traceback (most recent call last)",
            "\u001b[0;32m<ipython-input-32-85b8e30f477c>\u001b[0m in \u001b[0;36m<module>\u001b[0;34m\u001b[0m\n\u001b[1;32m      7\u001b[0m     \u001b[0;31m# empty_bottle = drink(beer)\u001b[0m\u001b[0;34m\u001b[0m\u001b[0;34m\u001b[0m\u001b[0;34m\u001b[0m\u001b[0m\n\u001b[1;32m      8\u001b[0m     \u001b[0;31m# burp()                # that's why we drink beer, right?\u001b[0m\u001b[0;34m\u001b[0m\u001b[0;34m\u001b[0m\u001b[0;34m\u001b[0m\u001b[0m\n\u001b[0;32m----> 9\u001b[0;31m     \u001b[0mdispose\u001b[0m\u001b[0;34m(\u001b[0m\u001b[0mempty_bottle\u001b[0m\u001b[0;34m)\u001b[0m \u001b[0;31m# don't just leave empties lying around\u001b[0m\u001b[0;34m\u001b[0m\u001b[0;34m\u001b[0m\u001b[0m\n\u001b[0m\u001b[1;32m     10\u001b[0m \u001b[0;34m\u001b[0m\u001b[0m\n\u001b[1;32m     11\u001b[0m     \u001b[0;31m# be joyful\u001b[0m\u001b[0;34m\u001b[0m\u001b[0;34m\u001b[0m\u001b[0;34m\u001b[0m\u001b[0m\n",
            "\u001b[0;31mNameError\u001b[0m: name 'dispose' is not defined"
          ]
        }
      ]
    },
    {
      "cell_type": "markdown",
      "metadata": {
        "id": "rMTE-xkJezWw",
        "colab_type": "text"
      },
      "source": [
        "Yet again, Python is telling us that we forgot to define something. Let's comment out line 9."
      ]
    },
    {
      "cell_type": "code",
      "metadata": {
        "id": "eUBgxE26ezWx",
        "colab_type": "code",
        "colab": {},
        "outputId": "efd24b7d-9b68-4ba7-83c0-2905e455a804"
      },
      "source": [
        "# stock the fridge\n",
        "the_fridge = [\"bud\", \"bud\", \"stella\", \"miller\",\"homebrew\"]\n",
        "the_fridge += [\"heinie\"] # don't forget the Heineken\n",
        "\n",
        "# drink each beer in the fridge, one at a time\n",
        "for beer in the_fridge:\n",
        "    # empty_bottle = drink(beer)\n",
        "    # burp()                # that's why we drink beer, right? \n",
        "    # dispose(empty_bottle) # don't just leave empties lying around\n",
        "\n",
        "    # be joyful\n",
        "    print(beer)           \n",
        "    print(\"And another one gone, and another one gone, another one bites the dust.\")"
      ],
      "execution_count": 0,
      "outputs": [
        {
          "output_type": "stream",
          "text": [
            "bud\n",
            "And another one gone, and another one gone, another one bites the dust.\n",
            "bud\n",
            "And another one gone, and another one gone, another one bites the dust.\n",
            "stella\n",
            "And another one gone, and another one gone, another one bites the dust.\n",
            "miller\n",
            "And another one gone, and another one gone, another one bites the dust.\n",
            "homebrew\n",
            "And another one gone, and another one gone, another one bites the dust.\n",
            "heinie\n",
            "And another one gone, and another one gone, another one bites the dust.\n"
          ],
          "name": "stdout"
        }
      ]
    },
    {
      "cell_type": "markdown",
      "metadata": {
        "id": "eaIyzUp5ezWz",
        "colab_type": "text"
      },
      "source": [
        "Now the code runs at least, though it doesn't do everything we wanted. However, **we did learn something here**. By commenting out lines one at a time we let Python tell us exactly what we needed to do to get the code running: define the functions `drink`, `burp`, and `dispose`. If all we saw was the first error message (before we commented things out) then we would have only discovered the first error about the missing `drink` function.  "
      ]
    },
    {
      "cell_type": "markdown",
      "metadata": {
        "id": "L5L6z5KmezWz",
        "colab_type": "text"
      },
      "source": [
        "## Exercise\n",
        "Write a program to calculate a `waist2hip_ratio` given raw input from the user. Use the `variable names` as directed.  \n",
        "\n",
        "1. Read up on how [Waist to Hip Ratios are calculated](https://en.wikipedia.org/wiki/Waist%E2%80%93hip_ratio). \n",
        "2. Read section 2.10 of the Py4E textbook to learn about getting user input from the keyboard. \n",
        "3. Use `input()` function calls to ask for the waist size (`waist_str`) and height (`height_str`) in inches. \n",
        "4. Calculate the `waist2hip_ratio` from `waist_str` and `height_str`. Hints: You will have to do some type conversion to make this work. Also, each inch is equal to 2.54 centimeters. \n",
        "5. Print the ratio, prepended with the text `\"Your waist to hip ratio is \"`. \n",
        "6. Comment each step so we know exactly what its expected to do. "
      ]
    },
    {
      "cell_type": "code",
      "metadata": {
        "id": "_3nRWpXkezW0",
        "colab_type": "code",
        "colab": {}
      },
      "source": [
        "YOUR CODE HERE"
      ],
      "execution_count": 0,
      "outputs": []
    },
    {
      "cell_type": "markdown",
      "metadata": {
        "id": "gEYuCQcGezW1",
        "colab_type": "text"
      },
      "source": [
        "## Submit your work to GitHub\n",
        "1. Save this Notebook.\n",
        "2. Commit your changes and save/push to GitHub."
      ]
    }
  ]
}