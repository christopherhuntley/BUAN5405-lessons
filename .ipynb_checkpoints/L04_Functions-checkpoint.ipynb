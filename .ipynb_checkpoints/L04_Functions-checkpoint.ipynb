{
 "cells": [
  {
   "cell_type": "markdown",
   "metadata": {},
   "source": [
    "<img src=\"https://github.com/christopherhuntley/BUAN5405-docs/blob/master/Slides/img/Dolan.png?raw=true\" style=\"width:180px; float:right\">\n",
    "\n",
    "# Lesson 4: Functions\n",
    "_Parameterizing code for reuse_"
   ]
  },
  {
   "cell_type": "markdown",
   "metadata": {},
   "source": [
    "# Learning Objectives\n",
    "\n",
    "## Theory / Be able to explain ...\n",
    "- How functions encapsulate logic into reusable components\n",
    "- The Python Standard Library of built-in functions\n",
    "- The difference between defining a function and calling it\n",
    "- Function arguments vs function parameters\n",
    "- Default parameter values\n",
    "- Positional vs named arguments\n",
    "- Void functions, short-circuiting, and `None`\n",
    "\n",
    "## Skills / Know how to  ...\n",
    "- Define and call functions\n",
    "- Import modules (with functions, data types, constants, etc.) from libraries\n",
    "- Use positional and named arguments when calling a function\n",
    "- Use short-circuiting to simplify functional logic\n",
    "- Guard against bugs with short-circuiting \n",
    "- Create nameless lambda functions within calculations \n",
    "\n",
    "**What follows is adapted from Chapter 4 of the _Python For Everybody_ book. If you have not read it, then please do so before continuting on.**"
   ]
  },
  {
   "cell_type": "markdown",
   "metadata": {},
   "source": [
    "## Just the Highlights\n",
    "HIGHLIGHT VIDEO GOES HERE"
   ]
  },
  {
   "cell_type": "markdown",
   "metadata": {},
   "source": [
    "## Abstraction and the DRY Principle\n",
    "> \"A designer knows that he has achieved perfection not when there is nothing left to add, but when there is nothing left to take away.\" -- Antoine de Saint-Exupery\n",
    "\n",
    "While many novice programmers assume that the best programs have the most lines of code and the most features, it's usually quite the opposite. With every line of code you are potentially introducing a bug! Keeping it simple and lean is always best. By extension, the best programmers are, as Joel Spolsky once observed, \"lazy but smart.\" They tend to talk in simple, grammatically correct sentences, enunciating every word, perhaps even pronouncing the \"t\" in \"often.\" They are the most likely to wear tee-shirts and jeans to work because they are comfortable and what you wear doesn't define who you are anyway. There is a kind of geeky elegance in that that many others, especially their bosses but sometimes their spouses, tend to miss ... until crunch time when it really matters. Then suddenly everybody is waiting for the programmers to squash every bug and nobody cares what they wear. While nobody is advocating you wear a tee-shirt to your next staff meeting, there is something to be learned from watching programmers do their best work. \n",
    "\n",
    "In its highest forms, programming is about creating _elegant_ code that just works. A skilled programmer has the rare ability to **abstract the essential from the concrete.** Given a block of code that does X, they will winnow it down to its bare logical essence and then parameterize it (i.e., with variables) so it can be reused over and over again, even in novel situations that never occured to anybody before. They _are_ both lazy and smart. \n",
    "\n",
    "In many cases they will do this abstraction process without being asked. They call it the **DRY (\"Don't Repeat Yourself\") principle**. After you have done something the second or third time, it begins to become worth your time to see that it gets done right every time, with a minimum of effort. That, ultimately, is the essence of programming (pun intended). \n",
    "\n",
    "This lesson is about **functions** that **encapsulate** logic into reusable components. We will start with functions that come built into Python and then define some of our own.   "
   ]
  },
  {
   "cell_type": "markdown",
   "metadata": {},
   "source": [
    "## What's a Function?\n",
    "**A function is a named block of statements** that can be **called** as needed. If the function requires data to do its work, then the function call can supply input **arguments**. Often, but not always, a function may **return** a result (output) of the computation.\n",
    "\n",
    "We have already seen a few function calls:"
   ]
  },
  {
   "cell_type": "code",
   "execution_count": 1,
   "metadata": {},
   "outputs": [
    {
     "data": {
      "text/plain": [
       "int"
      ]
     },
     "execution_count": 1,
     "metadata": {},
     "output_type": "execute_result"
    }
   ],
   "source": [
    "type(32)"
   ]
  },
  {
   "cell_type": "code",
   "execution_count": 2,
   "metadata": {},
   "outputs": [
    {
     "name": "stdout",
     "output_type": "stream",
     "text": [
      "Go Stags!\n"
     ]
    }
   ],
   "source": [
    "print(\"Go Stags!\")"
   ]
  },
  {
   "cell_type": "code",
   "execution_count": 3,
   "metadata": {},
   "outputs": [
    {
     "data": {
      "text/plain": [
       "42"
      ]
     },
     "execution_count": 3,
     "metadata": {},
     "output_type": "execute_result"
    }
   ],
   "source": [
    "int(42.0)"
   ]
  },
  {
   "cell_type": "markdown",
   "metadata": {},
   "source": [
    "In each case the pattern is the same:\n",
    "```python\n",
    "function_name(argument)\n",
    "```\n",
    "with the expectation that the function call will return a value. In mathematical terms we say that a function is a mapping from a domain (set of inputs) to a range (set of outputs). Given one or more arguments, the function performs a calculation and returns the result. \n",
    "\n",
    "Python 3 ships with the dozens of built-in functions in its **standard library**:\n",
    "\n",
    "> ![](img/L4_standard_library_functions.png)\n",
    "\n",
    "We can classify them into several categories:\n",
    "- types: `bool()`, `int()`, `float()`, `complex()`, `str()`, `list()`, `dict()`, `tuple()`,`set()`, `frozenset()`,`type()`\n",
    "- math/logic: `all()`,`any()`,`bin()`,`oct()`,`hex()`,`abs()`,`round()`,`max()`, `min()`, `pow()`, `sum()`\n",
    "- strings/sequences: `ascii()`, `chr()`, `hash()`, `format()`, `len()`, `range()`, `iter()`, `filter()`, `enumerate()`, `slice()`, `sorted()`\n",
    "- text I/O: `input()`, `print()`, `repr()`\n",
    "- files: `open()` \n",
    "- plumbing: `bytes()`, `bytearray()`,`callable()`,`classmethod()`, `locals()`, `dir()`,`setattr()`, `getattr()`, `delattr()`, `compile()`, `eval()`,`exec()`, ...\n",
    "\n",
    "In addition to these functions that come pre-loaded, there are many more things that can be **imported** from the standard library. "
   ]
  },
  {
   "cell_type": "code",
   "execution_count": 4,
   "metadata": {},
   "outputs": [
    {
     "name": "stdout",
     "output_type": "stream",
     "text": [
      "3.141592653589793\n",
      "0.3058127038771399\n",
      "0.35167927102687957\n"
     ]
    }
   ],
   "source": [
    "import math\n",
    "print(math.pi)\n",
    "\n",
    "import random\n",
    "print(random.random())\n",
    "print(random.random())"
   ]
  },
  {
   "cell_type": "markdown",
   "metadata": {},
   "source": [
    "`math` and `random` are **modules** to bundle together collections of functions, constants, and other reusable components that we can use in our code. Once imported, we use \"dot notation\" to indicate what module Python should look to find it. The reference `math.pi` tells it to look for a constant called `pi` in the `math` module. Similarly, `random.random()` is the function `random()` in the `random` module. We use it to generate pseudo-random numbers betwen 0 and 1. \n",
    "\n",
    "We can use the same mechanism to import and use components from third-party libraries as well.  \n",
    "```python\n",
    "import pandas as pd\n",
    "```\n",
    "You will see the code above a lot in your data science classes, basically at the top of every notebook, including in the final project for this course. It imports the pandas library used for managing (sometimes impossibly huge) datasets, supplying a shorthand **alias** `pd` to save us from typing `pandas` over and over again. (We programmers really are a lazy bunch.)"
   ]
  },
  {
   "cell_type": "markdown",
   "metadata": {},
   "source": [
    "## Function Definitions & Calls\n",
    "\n",
    "Before a function can be called, it has to be defined. For that we use a `def` statement:\n",
    "```python\n",
    "def function_name( parameters ):\n",
    "    function_body\n",
    "```\n",
    "\n",
    "where\n",
    "- `function_name` follows exactly the same rules as variable names\n",
    "- `parameters` **declares** (names) a list of zero or more variables that can be **passed** as arguments in a function call\n",
    "- `function_body` is a block of statements to be executed one after the other\n",
    "\n",
    "Consider, for example, the following code, which includes one function definition and two function calls: "
   ]
  },
  {
   "cell_type": "code",
   "execution_count": 5,
   "metadata": {},
   "outputs": [
    {
     "name": "stdout",
     "output_type": "stream",
     "text": [
      "Go home!\n",
      "Go Stags!\n",
      "<function go_team at 0x1052ee170>\n"
     ]
    }
   ],
   "source": [
    "def go_team(school):\n",
    "    if school == \"Fairfield\":\n",
    "        return \"Go Stags!\"\n",
    "    else:\n",
    "        return \"Go home!\"\n",
    "\n",
    "print(go_team(\"Marist\"))\n",
    "print(go_team(\"Fairfield\"))\n",
    "print(go_team)"
   ]
  },
  {
   "cell_type": "markdown",
   "metadata": {},
   "source": [
    "- The `def` statement has to preceed the first function call. If we were to move the statement `print(go_team(\"Marist\"))` the top of the code before running the cell the first time then we would get `NameError: name 'go_team' is not defined`. \n",
    "- The `school` parameter is used inside the function body like any other variable. However, without more work on our part, `school` is a **local variable** that does not exist outside the function body. It's value is lost once the function is done.\n",
    "- `return` statements are used to tell the function to **terminate execution** and (optionally) what to **_pass back_** to the **_caller_**. Yes, it is possible for a function to return nothing. We'll come back to that in a bit\n",
    "- Each function call is considered to be independent of the others. The function body gets a fresh instance of the `school` parameter to work with. \n",
    "- Finally, **a function definition has no effect unless it is called.** Without the parentheses to indicate that we are calling it, it is just a software object like anything else. It's [Schrödinger's cat](https://en.wikipedia.org/wiki/Schr%C3%B6dinger%27s_cat), waiting for us to open the box to see if it is alive or dead.\n",
    "\n",
    "### Parameters and Arguments\n",
    "You may have noticed that we seem to be somewhat inconsistent with what we call the inputs to our functions. Function calls supply input _arguments_ but function definitions declare input _parameters_. If both are inputs why have two names? That's because they are not actually the same thing at all. An argument is any Python expression, while a parameter is a local variable that is assigned the _value_ of the argument. It's the difference between `1+1` and `2`. We have to evaluate `1+1` in order to get the value `2`. \n",
    "\n",
    "It is also possible that we might make some parameters optional by supplying **default values**:"
   ]
  },
  {
   "cell_type": "code",
   "execution_count": 6,
   "metadata": {},
   "outputs": [
    {
     "name": "stdout",
     "output_type": "stream",
     "text": [
      "Go home!\n",
      "Go Stags!\n",
      "Go Stags!\n"
     ]
    }
   ],
   "source": [
    "def go_team(school = \"Fairfield\"):\n",
    "    if school == \"Fairfield\":\n",
    "        return \"Go Stags!\"\n",
    "    else:\n",
    "        return \"Go home!\"\n",
    "\n",
    "print(go_team(\"Marist\"))\n",
    "print(go_team(\"Fairfield\"))\n",
    "print(go_team())"
   ]
  },
  {
   "cell_type": "markdown",
   "metadata": {},
   "source": [
    "Here we have set \"Fairfield\" as the default value for `school`. If no school is specified in the call then the function assumes you meant \"Fairfield\". \n",
    "\n",
    "So far we have only considered functions that have one parameter. When defining a function with multiple parameters, the parameters are declared in a particuar order, with parameters having a default value (e.g., school above) always listed _after_ those without them. When calling the function the inputs that are required (because the corresponding parameters lack defaults) are **positional arguments** because the have to listed in the same order as the parameter declarations. The optional inputs (with default values) are **named arguments**. "
   ]
  },
  {
   "cell_type": "code",
   "execution_count": 7,
   "metadata": {},
   "outputs": [
    {
     "name": "stdout",
     "output_type": "stream",
     "text": [
      "Go home!\n",
      "Go Lady Stags Lacrosse!\n",
      "Go Stags Tennis!\n",
      "Go Lady Stags Basketball!\n",
      "Go Stags Basketball!\n"
     ]
    }
   ],
   "source": [
    "def go_team(sport, school=\"Fairfield\", gender_modifier=\"\"):\n",
    "    if school != \"Fairfield\":\n",
    "        return \"Go home!\"\n",
    "    \n",
    "    gender_modifier_padded = gender_modifier + \" \" if gender_modifier else \"\"\n",
    "\n",
    "    return \"Go \"+ gender_modifier_padded + \"Stags \" + sport +\"!\"  \n",
    "\n",
    "print(go_team(\"Tennis\", school=\"Marist\"))\n",
    "print(go_team(\"Lacrosse\", gender_modifier=\"Lady\"))\n",
    "print(go_team(\"Tennis\",\"Fairfield\"))\n",
    "print(go_team(\"Basketball\", gender_modifier=\"Lady\", school = \"Fairfield\"))\n",
    "print(go_team(\"Basketball\"))"
   ]
  },
  {
   "cell_type": "markdown",
   "metadata": {},
   "source": [
    "A few observations (which may take a few passes for you to process):\n",
    "\n",
    "- The function short-circuits itself, returning \"Go home!\" for any `school` except \"Fairfield\". Everything after that is Fairfield-specific.\n",
    "- Named arguments (`school` and `gender_modifier`) can appear in any order as long as they appear after the positional arugments (`sport`).\n",
    "- We can also treat named arguments like positional arguments (without `name =` syntax) as long as they appear in the order the parameters were declared.\n",
    "- We can use the parameters like any other variables (and even change their values)\n",
    "- However, if we omit the `sport` arugment then we get an error. Positional argument are always required. "
   ]
  },
  {
   "cell_type": "code",
   "execution_count": 8,
   "metadata": {},
   "outputs": [
    {
     "ename": "TypeError",
     "evalue": "go_team() missing 1 required positional argument: 'sport'",
     "output_type": "error",
     "traceback": [
      "\u001b[0;31m---------------------------------------------------------------------------\u001b[0m",
      "\u001b[0;31mTypeError\u001b[0m                                 Traceback (most recent call last)",
      "\u001b[0;32m<ipython-input-8-79347a1500bd>\u001b[0m in \u001b[0;36m<module>\u001b[0;34m\u001b[0m\n\u001b[0;32m----> 1\u001b[0;31m \u001b[0mprint\u001b[0m\u001b[0;34m(\u001b[0m\u001b[0mgo_team\u001b[0m\u001b[0;34m(\u001b[0m\u001b[0mgender_modifier\u001b[0m\u001b[0;34m=\u001b[0m\u001b[0;34m\"Lady\"\u001b[0m\u001b[0;34m)\u001b[0m\u001b[0;34m)\u001b[0m\u001b[0;34m\u001b[0m\u001b[0;34m\u001b[0m\u001b[0m\n\u001b[0m",
      "\u001b[0;31mTypeError\u001b[0m: go_team() missing 1 required positional argument: 'sport'"
     ]
    }
   ],
   "source": [
    "print(go_team(gender_modifier=\"Lady\"))"
   ]
  },
  {
   "cell_type": "markdown",
   "metadata": {},
   "source": [
    "## Void Functions\n",
    "A function that returns a value is said to be _fruitful_. One that doesn't is a **void function**, which some languages call _subroutines_ or _procedures_. A void function is called not to perform a calculation but to carry out an **action** (\"side effect\") like printing to the screen or writing to a file. "
   ]
  },
  {
   "cell_type": "code",
   "execution_count": 9,
   "metadata": {},
   "outputs": [
    {
     "name": "stdout",
     "output_type": "stream",
     "text": [
      "Go Stags Tennis!\n",
      "-----\n",
      "Go Stags Tennis!\n",
      "None\n",
      "-----\n",
      "Go Stags Tennis!\n",
      "<class 'NoneType'>\n"
     ]
    }
   ],
   "source": [
    "def print_go_team(sport, school=\"Fairfield\", gender_modifier=\"\"):\n",
    "    print(go_team(sport,school,gender_modifier))\n",
    "\n",
    "print_go_team(\"Tennis\")\n",
    "print(\"-----\")\n",
    "print(print_go_team(\"Tennis\"))\n",
    "print(\"-----\")\n",
    "print(type(print_go_team(\"Tennis\")))"
   ]
  },
  {
   "cell_type": "markdown",
   "metadata": {},
   "source": [
    "Notes:\n",
    "- A void function returns at the bottom of the function body unless it is short-circuited with a `return` (by itself, without any value) somewhere before that.\n",
    "- Even a void function actually returns a value. It's just that the value is always `None` with datatype `NoneType`.  "
   ]
  },
  {
   "cell_type": "markdown",
   "metadata": {},
   "source": [
    "## Pro Tips\n",
    "### Sanitizing Inputs\n",
    "### Unit Testing"
   ]
  },
  {
   "cell_type": "markdown",
   "metadata": {},
   "source": [
    "## Exercise"
   ]
  },
  {
   "cell_type": "markdown",
   "metadata": {},
   "source": [
    "Repackage your `waist2hip_ratio` calculation from Lesson 3 as a function with the following requirements:\n",
    "- Name the function `w2h_ratio` with three parameters: `waist_inches`, `hip_inches`, `gender`\n",
    "- The function should return a string with the pattern \"For a G with waist W and hip H, the w2h ratio is R, with a shape S.\", where G, W, H, R, and S are placeholders for the actual values. (Be sure to use Pythonic names for any variables, however.)\n",
    "- Round the ratio R to 2 decimal places. \n",
    "- The shape S is either \"Apple\" or \"Pear\".\n",
    "- Do not use `input()` to get data. Let that be passed into the function via arguments. \n",
    "- `waist_inches` and `hip_inches` can be given as anything that can be converted to `floats`.\n",
    "- You will need to santize your inputs before doing the calculations. The waist and hip measurements should be in inches. The gender needs to be either \"M\" or \"F\". \n",
    "- If `waist_inches` or `hip_inches` are invalid then return the string \"w2h_ratio: Invalid measurement(s)\"\n",
    "- If the gender is not \"M\" or \"F\" then return the string \"w2h_ratio: Unknown gender\"\n",
    "\n",
    "Run the **unit tests** given below to check your work. **Do not modify the tests.** Instead, craft your code to pass them all. The `%%unittest` output will indicate which tests failed.  "
   ]
  },
  {
   "cell_type": "code",
   "execution_count": null,
   "metadata": {},
   "outputs": [],
   "source": [
    "# YOUR CODE HERE"
   ]
  },
  {
   "cell_type": "markdown",
   "metadata": {},
   "source": [
    "**Unit Tests**"
   ]
  },
  {
   "cell_type": "code",
   "execution_count": null,
   "metadata": {},
   "outputs": [],
   "source": [
    "# Run this cell to install the ipython-unittest library. You can clear the cell ouput after running. \n",
    "!pip install ipython_unittest\n",
    "!pip install jupyter_dojo\n",
    "%load_ext ipython_unittest"
   ]
  },
  {
   "cell_type": "code",
   "execution_count": null,
   "metadata": {},
   "outputs": [],
   "source": [
    "%%unittest\n",
    "\"function signature\"\n",
    "assert w2h_ratio(waist_inches=36,hip_inches=44,gender=\"M\") == 'For a M with waist 36.0 and hip 44.0 the w2h ratio is 0.82 with shape Pear.'\n",
    "\"divide by zero\"\n",
    "assert w2h_ratio(36,0,\"M\") == \"w2h_ratio: Invalid measurement(s)\"\n",
    "\"negative waist\"\n",
    "assert w2h_ratio(-36,44,\"M\") == \"w2h_ratio: Invalid measurement(s)\"\n",
    "\"negative hip\"\n",
    "assert w2h_ratio(36,-44,\"M\") == \"w2h_ratio: Invalid measurement(s)\"\n",
    "\"non-numercial waist\"\n",
    "assert w2h_ratio(\"36 and a half\",44,\"M\") == \"w2h_ratio: Invalid measurement(s)\"\n",
    "\"non-numercial hip\"\n",
    "assert w2h_ratio(\"36\",\"44 and a half\",\"M\") == \"w2h_ratio: Invalid measurement(s)\"\n",
    "\"numerical strings\"\n",
    "assert w2h_ratio(\"36\",\"44\",\"M\") == 'For a M with waist 36.0 and hip 44.0 the w2h ratio is 0.82 with shape Pear.'\n",
    "\"male Apple shape\"\n",
    "assert w2h_ratio(\"36\",\"38\",\"M\") == 'For a M with waist 36.0 and hip 38.0 the w2h ratio is 0.95 with shape Apple.'\n",
    "\"male Pear shape\"\n",
    "assert w2h_ratio(\"36\",\"42\",\"M\") == 'For a M with waist 36.0 and hip 42.0 the w2h ratio is 0.86 with shape Pear.'\n",
    "\"female Apple shape\"\n",
    "assert w2h_ratio(\"33\",\"36\",\"F\") == 'For a F with waist 33.0 and hip 36.0 the w2h ratio is 0.92 with shape Apple.'\n",
    "\"female Pear shape\"\n",
    "assert w2h_ratio(\"33\",\"44\",\"F\") == 'For a F with waist 33.0 and hip 44.0 the w2h ratio is 0.75 with shape Pear.'\n",
    "\"unknown gender\"\n",
    "assert w2h_ratio(36,44,\"B\") == \"w2h_ratio: Unknown gender\""
   ]
  },
  {
   "cell_type": "code",
   "execution_count": null,
   "metadata": {},
   "outputs": [],
   "source": []
  }
 ],
 "metadata": {
  "kernelspec": {
   "display_name": "Python 3",
   "language": "python",
   "name": "python3"
  },
  "language_info": {
   "codemirror_mode": {
    "name": "ipython",
    "version": 3
   },
   "file_extension": ".py",
   "mimetype": "text/x-python",
   "name": "python",
   "nbconvert_exporter": "python",
   "pygments_lexer": "ipython3",
   "version": "3.7.7"
  }
 },
 "nbformat": 4,
 "nbformat_minor": 4
}
