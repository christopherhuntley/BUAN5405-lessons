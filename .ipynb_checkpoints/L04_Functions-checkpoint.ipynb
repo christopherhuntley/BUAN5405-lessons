{
 "cells": [
  {
   "cell_type": "markdown",
   "metadata": {},
   "source": [
    "<img src=\"https://github.com/christopherhuntley/BUAN5405-docs/blob/master/Slides/img/Dolan.png?raw=true\" style=\"width:180px; float:right\">\n",
    "\n",
    "# Lesson 4: Functions\n",
    "_Parameterizing code for reuse_"
   ]
  },
  {
   "cell_type": "markdown",
   "metadata": {},
   "source": [
    "# Learning Objectives\n",
    "\n",
    "## Theory / Be able to explain ...\n",
    "- aaa\n",
    "\n",
    "## Skills / Know how to  ...\n",
    "- aaa\n",
    "\n",
    "**What follows is adapted from Chapter 4 of the _Python For Everybody_ book. If you have not read it, then please do so before continuting on.**"
   ]
  },
  {
   "cell_type": "code",
   "execution_count": null,
   "metadata": {},
   "outputs": [],
   "source": [
    "def animal_noise(animal_name):\n",
    "    if animal_name.startswith('Cat'):\n",
    "        return 'meow'\n",
    "    elif animal_name.startswith('Caterpillar'):\n",
    "        return '<caterpillar sound>'\n",
    "    else:\n",
    "        return '(silence)'\n",
    "print(animal_noise('Cat Stevens'))\n",
    "print(animal_noise('Caterpillar Jones'))\n",
    "print(animal_noise(789))"
   ]
  }
 ],
 "metadata": {
  "kernelspec": {
   "display_name": "Python 3",
   "language": "python",
   "name": "python3"
  },
  "language_info": {
   "codemirror_mode": {
    "name": "ipython",
    "version": 3
   },
   "file_extension": ".py",
   "mimetype": "text/x-python",
   "name": "python",
   "nbconvert_exporter": "python",
   "pygments_lexer": "ipython3",
   "version": "3.7.7"
  }
 },
 "nbformat": 4,
 "nbformat_minor": 4
}
