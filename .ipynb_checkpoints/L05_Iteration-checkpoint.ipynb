{
 "cells": [
  {
   "cell_type": "markdown",
   "metadata": {},
   "source": [
    "<img src=\"https://github.com/christopherhuntley/BUAN5405-docs/blob/master/Slides/img/Dolan.png?raw=true\" width=\"180px\" align=\"right\">\n",
    "\n",
    "# Lesson 5: Iteration\n",
    "_Keeping things DRY with loops_"
   ]
  },
  {
   "cell_type": "markdown",
   "metadata": {},
   "source": [
    "# Learning Objectives\n",
    "\n",
    "## Theory / Be able to explain ...\n",
    "- aaa\n",
    "\n",
    "## Skills / Know how to  ...\n",
    "- aaa\n",
    "\n",
    "**What follows is adapted from Chapter 5 of the _Python For Everybody_ book. If you have not read it, then please do so before continuing on.**"
   ]
  },
  {
   "cell_type": "markdown",
   "metadata": {},
   "source": [
    "## If You Can Count, Then You Can Iterate\n",
    "\n",
    ">\"There are only two hard things in Computer Science: cache invalidation, naming things, and off-by-one errors.\" -- Phil Karlton\n",
    "\n",
    "Counting is one of the first math skills we learn. By the age of 18 months, a child can usually carry out the basic steps of marking off the next item on a list. They might get confused by the sixth or seventh item -- perhaps counting the same item twice -- but **a toddler can usually count up to 5 items.** It's not like the process is that hard:\n",
    "\n",
    "1. Choose an item from the pile.\n",
    "2. Mark off the item by saying the next number in the sequence. \n",
    "3. Place the item into another pile. \n",
    "4. Repeat 1-3 until there are no items left in the original pile.\n",
    "\n",
    "However, it is surprising how hard some novice programmers find it to **iterate** (mark off) items one at time. Given a list (or other sequence) of items to be processed exactly the same way, they will try to use what we call \"copy/paste/edit\" logic, modifying the code a little for the specifics of each item. Wow, what a complete waste of time. Instead, they should do exactly like the babies do: \n",
    "1. Take an item (it) off the list.\n",
    "2. Process it, taking note of any effects.\n",
    "3. If needed again, add it to an out-list of processed items.\n",
    "4. Repeat until the list is exhausted. \n",
    "Besides being more efficient for the programmer, it is also less buggy. The logic in step 2 is always the same, no matter how many times repeat the loop. Why make things more difficult by doing it a different way each time?\n",
    "\n",
    "**This lesson is about iteration, the last of the four fundamental elements of Structured Programming.** By the end of this lesson you will know the basics of all programming logic. Everything else is somewhat dirivative, as Edsger Dijkstra prove so many years ago. "
   ]
  },
  {
   "cell_type": "markdown",
   "metadata": {},
   "source": [
    "---\n",
    "## More than Just Counting: How about Long Division?\n",
    "While counting may be the first iterative process we learn as children, it is far from the last. Another is **long division**, which children used to master as a right of passage in primary school, but today is (sadly) not seen as an educational necessity. Instead, children are told to use a calculator. While somewhat practical in an age when everybody has phones in their pockets, children are being cheated out of an important lesson in algorithmic thinking needed for higher forms of math like algebra and calculus. The effects are obvious to those of us who teach quantitative sciences for a living. Many young adults today cannot reliably calculate an average of ten numbers, **even when armed with a calculator to do the arithmetic**. Instead they rely on tools like MS Excel that turn averaging into a feature instead of a process, which over time leads to a lack of intuitive understanding of important analytical concepts like centrality and variability. And it all starts (or, more properly, ends for many people) with long division. \n",
    "\n",
    "Now that we have established its importance, what exactly is long division? Long division is a standard manual method for dividing one number (the **dividend**) by another (the **divisor**). The result is called the **quotient**, which may include a **remainder** if the first number cannot be evenly divided by the second. Like counting, it involves repetition of a fixed set of steps (with examples for the first pass): \n",
    "\n",
    "1. Identify the `dividend` and the `divisor`. For our purposes the dividend is treated as a series of digits that we can \"pull down\" (or, as we programmers call it, \"pop off\") one at a time starting from the left hand side. Similarly, we will build up the quotient, one digit a time by comparing the divisor with digits from the dividend. \n",
    "  * Set `dividend` = 1260257, `divisor` = 37, `quotient` = 0, `remainder` = 0\n",
    "2. Pull down a digit `d` from the dividend and add it to the `remainder`.\n",
    "  * Set `remainder = 0 + d = 0 + 1 = 1`\n",
    "3. Calculate a digit `q` by evenly dividing the `remainder` by the `divisor`, ignoring the non-integer fraction left over. (In Python we use the `//` operator for this sort of integer division.)\n",
    "  * Set `q = remainder // divisor = 1 // 37 = 0`; the first digit of the quotient is `0`. \n",
    "4. Calculate the `product` of `q` and the `divisor`.\n",
    "  * Set `product = q * divisor = 0`\n",
    "5. Subtract the `product` from the `remainder` and append the digit `q` to the `quotient`. \n",
    "  * The new `remainder` is (the previous) `remainder` - `product` or `1 - 0 = 1`.\n",
    "  * The new `quotient` is calculated as `quotient * 10 + q = 0 * 10 + 0 = 0`.\n",
    "6. Repeat steps 2-5 until no digits remain to pull down from the `dividend`. With each pass update the quotient by appending a digit to the right and update the remainder as indicated in step 5.  \n",
    "\n",
    "For those of you who like visuals, here is a useful animated GIF showing the rest of the process (after skipping the initial 0s in the quotient):\n",
    "\n",
    "![animated gif](https://upload.wikimedia.org/wikipedia/commons/f/f2/LongDivisionAnimated.gif)\n",
    "\n",
    "By <a href=\"//commons.wikimedia.org/wiki/User:Xanthoxyl\" title=\"User:Xanthoxyl\">Xanthoxyl</a> - <span class=\"int-own-work\" lang=\"en\">Own work</span>, <a href=\"https://creativecommons.org/licenses/by-sa/3.0\" title=\"Creative Commons Attribution-Share Alike 3.0\">CC BY-SA 3.0</a>, <a href=\"https://commons.wikimedia.org/w/index.php?curid=5818667\">Link</a> .\n",
    "\n",
    "That's a pretty complicated process, with at least six different variables to keep track of. Nonetheless a 9 year old can proudly show you if you forget how to do it.\n",
    "\n",
    "We will, _of course_, implement all this in Python. But first, let's consider the computational requirements:\n",
    "- **Pull down the next digit from the `dividend` in step 2.** We can easily do this by treating the dividend as a text string. However, we will consider a more advanced way in the Pro Tips at the end of the lesson. \n",
    "- **Calculate `q` and `product` in steps 3 and 4.** These are straightforward arithmetic (and can be folded into step 5 if we wanted to).\n",
    "- **Update the `remainder` in place in steps 2 and 5.** This is what we call **variable updating**, which we will get to in a moment. \n",
    "- **Repeat the process for each digit of the `dividend`.** This is iteration. We will spend most of our time here in this lesson. "
   ]
  },
  {
   "cell_type": "markdown",
   "metadata": {},
   "source": [
    "### Variable Updating\n",
    "Up to now whenever we have changed the value of a variable we have done it through variable (re-)assignment.\n",
    "```python\n",
    "x = 1\n",
    "something_happens()\n",
    "x = 2\n",
    "```\n",
    "**Variable updating deals with the case where the same variable is on both sides of the equal sign `=`.** The classic and simplest case is adding 1 to `x` (as in counting):\n",
    "```python\n",
    "x = x + 1\n",
    "```\n",
    "Since this is just a special case of variable assignment, the 3-step process we learned in Lesson 2 still applies:\n",
    "1. Recall the variable `x`, which already exists (or else we get an error).\n",
    "2. Evaluate the expression `x+1`, which adds 1 to the current value of `x` (but doesn't change `x` itself). \n",
    "3. Assign `x` the value calculated in step 2. \n",
    "It makes sense, but only if you understand the order of things. The variable only has one value at a time, even though at first it looks like we are saying something sort of like `1 = 2`. \n",
    "\n",
    "A couple remarks:\n",
    "- **The variable need not refer to numerical values.** We can do the same thing with strings, lists, or any other data type supported by Python. The steps are the same each time. \n",
    "- **We can subtract as easily as we can add.** In fact, any expression can be on the right side. It just has to include the variable. \n",
    "\n",
    "To improve execution efficiency and eliminate spelling errors, Python has built-in **update operators** (a.k.a. \"augmented assignment statements\") for certain special cases:\n",
    "- `x += 1` is the same as `x = x + 1`  \n",
    "- `x -= 1` is the same as `x = x - 1`  \n",
    "\n",
    "You should get the general idea. Other update operators include `/=`, `*=`, `@=` (for matrix multiplication), and a few more obscure ones. In practice you will likely only encounter `+=` and `-=`. \n",
    "\n",
    "## Variable Updating in Long Division\n",
    "The long division process includes 3 variable updates:\n",
    "- `remainder = remainder*10 + int(d)` (from step 2; recall that `d` was the next in a string of digits in the dividend)\n",
    "- `remainder -= product` (from step 5; subtracts the product from the remainder)\n",
    "- `quotient = quotient*10 + q` (also from step 5; appends the next digit to the quotient)"
   ]
  },
  {
   "cell_type": "markdown",
   "metadata": {},
   "source": [
    "## Pulse Check ...\n",
    "Consider this snippet of code: \n",
    "```python\n",
    "x = 22\n",
    "x *= 3\n",
    "x += 15\n",
    "x /= 3\n",
    "x -= 4\n",
    "```\n",
    "**What is the final value of `x`?**"
   ]
  },
  {
   "cell_type": "markdown",
   "metadata": {},
   "source": [
    "YOUR ANSWER HERE"
   ]
  },
  {
   "cell_type": "markdown",
   "metadata": {},
   "source": [
    "**Combine the four updating steps into one statement (using just one update operator).** Hint: you may need to do a little algebra. "
   ]
  },
  {
   "cell_type": "code",
   "execution_count": null,
   "metadata": {},
   "outputs": [],
   "source": [
    "# YOUR ANSWER HERE"
   ]
  },
  {
   "cell_type": "markdown",
   "metadata": {},
   "source": [
    "---\n",
    "## `while` Loops\n"
   ]
  },
  {
   "cell_type": "markdown",
   "metadata": {},
   "source": [
    "## `for` Loops"
   ]
  },
  {
   "cell_type": "markdown",
   "metadata": {},
   "source": [
    "## Pro Tips"
   ]
  },
  {
   "cell_type": "markdown",
   "metadata": {},
   "source": [
    "### Iterators, Generators, and Yield"
   ]
  },
  {
   "cell_type": "markdown",
   "metadata": {},
   "source": [
    "### The Accumulator Pattern"
   ]
  },
  {
   "cell_type": "code",
   "execution_count": 26,
   "metadata": {},
   "outputs": [
    {
     "name": "stdout",
     "output_type": "stream",
     "text": [
      "68r3\n"
     ]
    }
   ],
   "source": [
    "divisor = 7\n",
    "divident = 479\n",
    "\n",
    "def denom_digits(denominator):\n",
    "    digits = str(denominator)\n",
    "    for digit in digits:\n",
    "        yield digit\n",
    "\n",
    "remainder = 0\n",
    "quotient = 0\n",
    "for d in denom_digits(denominator):\n",
    "    remainder = remainder*10 + int(d)     # pull down the next digit into the remainder\n",
    "    q = remainder // divisor              # determine how many times the divisor fits into the remainder \n",
    "    product = q * divisor                 # calculate the product, and then ...\n",
    "    remainder -= product                  # subtract it from the remainder\n",
    "    \n",
    "    quotient = quotient*10 + q            # add the next digit to the quotient\n",
    "    \n",
    "print(str(quotient)+\"r\"+str(remainder))"
   ]
  },
  {
   "cell_type": "code",
   "execution_count": null,
   "metadata": {},
   "outputs": [],
   "source": []
  },
  {
   "cell_type": "markdown",
   "metadata": {},
   "source": [
    "---\n",
    "## Iteration as a General Pattern\n",
    "In any professional there eventually develops a kind of shorthand language that everybody uses that others outside the profession find totally baffling. In programming we call these shorthand terms **design patterns, defined as \"standard problems with standard solutions**. Need to do A? Then try solutions X, Y, and Z. \n",
    "\n",
    "Iteration itself is not a design pattern. It is not a problem, after all. Instead, it represents an entire class of solutions to wide variety of programming problems. In fact, there is a design pattern, _Iterator_, that describes many of these problems and how to use iteratio to solve them. Quite simply, any problem that involves acting on a set of things is likely to involve an iteration-based solution. We've already seen the iteration steps and have known them since we were children. We just need to learn how to implement them in software.\n",
    "\n",
    "We will look at iteration in three levels. The first is **variable updating**, which is often a key element of the \"process it\" step. It's how we \"remember\" what happened from one cycle to the next. The second is simple **`while` loops**, where the same logic is repeated over and over again, subject to some sort of stopping criterion. The last is **`for` loops**, which combine elements of variable updating with while loops to provide an almost infinitely flexible and reliable way to iterate over a set of items. The `for` loop is literally designed and built to make iteration as straightforward as possible.  "
   ]
  }
 ],
 "metadata": {
  "kernelspec": {
   "display_name": "Python 3",
   "language": "python",
   "name": "python3"
  },
  "language_info": {
   "codemirror_mode": {
    "name": "ipython",
    "version": 3
   },
   "file_extension": ".py",
   "mimetype": "text/x-python",
   "name": "python",
   "nbconvert_exporter": "python",
   "pygments_lexer": "ipython3",
   "version": "3.7.7"
  }
 },
 "nbformat": 4,
 "nbformat_minor": 4
}
