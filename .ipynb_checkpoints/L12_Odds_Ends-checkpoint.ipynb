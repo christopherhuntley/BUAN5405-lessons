{
 "cells": [
  {
   "cell_type": "markdown",
   "metadata": {},
   "source": [
    "<img src=\"https://github.com/christopherhuntley/BUAN5405-docs/blob/master/Slides/img/Dolan.png?raw=true\" width=\"180px\" align=\"right\">\n",
    "\n",
    "# Lesson 12: Odds and Ends\n",
    "_Tuples inside of lists inside of dictionaries ..._"
   ]
  },
  {
   "cell_type": "markdown",
   "metadata": {},
   "source": [
    "# Learning Objectives\n",
    "\n",
    "## Theory / Be able to explain ...\n",
    "- aaa\n",
    "\n",
    "## Skills / Know how to  ...\n",
    "- aaa\n",
    "\n",
    "**This is new content you won't find in the Py4E book. It is, however, somewhat related to the JSON materials in Chapter 13.**"
   ]
  },
  {
   "cell_type": "markdown",
   "metadata": {},
   "source": [
    "## So long, farewell, auf Wiedersehen, good night\n",
    "> This is the end, beautiful friend -- _The Doors_\n",
    "\n",
    "Now that we have pandas in our quiver, it would seem like \"what else do we need to know?\" Quite a lot actually. DataFrames and Series bring together so many best practices that programmers have earned and learned over the past decades. However, pandas does not say much about the types of data we pour into our DataFrames. For that we will often need to pull in other libraries with even more data types, many of which build on top of pandas or numpy to make our lives that much better. We will briefly cover two such data types: JSON trees and Time Series. \n",
    "\n",
    "Except for your final project, with this lesson we have reached the end of the course. I hope you have gotten what you needed while you were here. It's been fun putting all this together for you and I hope to see you in person sometime soon. \n",
    "\n",
    "Now it's your turn. You know just enough Python to learn the rest. If you want to get better then keep your hands on the keyboards working on your own projects. If happen to be on our Slack, then try out the `#python-slashes` channel to post your best one-liners. I heard a rumour that there might even be a prize for the best one. "
   ]
  },
  {
   "cell_type": "markdown",
   "metadata": {},
   "source": [
    "## ReST APIs and JSON Data\n",
    "In order to work with _really big data_ one usually has to gather it straight from the cloud. There is no concept of files, filenames, and filepaths in such an environment. Instead, we use **APIs** that provide **endpoints**, **query strings**, and ... **JSON data**. \n",
    "\n",
    "An Application Programming Interface (API) provides a standard set of functions (and perhaps a few configuration constants like security keys) for delivering a service. While there are APIs for lots of uses, the relevant ones for a data scientist are likely to be [ReST APIs](https://en.wikipedia.org/wiki/Representational_state_transfer). A ReST API uses the https protocol (i.e., the web) with specially-crafted request **endpoints** that tell the service what you want. Each endpoint combines a https command (GET, POST, PUT, PATCH, and DELETE) with a URL pattern indicating what data or other resource is being accessed. For example, the following ReST API call asks GitHub for details about this very notebook.  "
   ]
  },
  {
   "cell_type": "code",
   "execution_count": 22,
   "metadata": {},
   "outputs": [
    {
     "data": {
      "text/plain": [
       "'[{\"sha\":\"81943548d82515962b3d01b8c2774393804fff15\",\"node_id\":\"MDY6Q29tbWl0MjY5NzA5NTA2OjgxOTQzNTQ4ZDgyNTE1OTYyYjNkMDFiOGMyNzc0MzkzODA0ZmZmMTU=\",\"commit\":{\"author\":{\"name\":\"Christopher Huntley\",\"email\":\"christopher.huntley@gmail.com\",\"date\":\"2020-06-20T05:42:17Z\"},\"committer\":{\"name\":\"Christopher Huntley\",\"email\":\"christopher.huntley@gmail.com\",\"date\":\"2020-06-20T05:42:17Z\"},\"message\":\"Swapped assignment order and added intro to Lesson 12.\",\"tree\":{\"sha\":\"56519bc74c9a60615fd8af348d1e4144c77f3beb\",\"url\":\"https://api.github.com/repos/christopherhuntley/BUAN5405-lessons/git/trees/56519bc74c9a60615fd8af348d1e4144c77f3beb\"},\"url\":\"https://api.github.com/repos/christopherhuntley/BUAN5405-lessons/git/commits/81943548d82515962b3d01b8c2774393804fff15\",\"comment_count\":0,\"verification\":{\"verified\":false,\"reason\":\"unsigned\",\"signature\":null,\"payload\":null}},\"url\":\"https://api.github.com/repos/christopherhuntley/BUAN5405-lessons/commits/81943548d82515962b3d01b8c2774393804fff15\",\"html_url\":\"https://github.com/christopherhuntley/BUAN5405-lessons/commit/81943548d82515962b3d01b8c2774393804fff15\",\"comments_url\":\"https://api.github.com/repos/christopherhuntley/BUAN5405-lessons/commits/81943548d82515962b3d01b8c2774393804fff15/comments\",\"author\":{\"login\":\"christopherhuntley\",\"id\":6188254,\"node_id\":\"MDQ6VXNlcjYxODgyNTQ=\",\"avatar_url\":\"https://avatars1.githubusercontent.com/u/6188254?v=4\",\"gravatar_id\":\"\",\"url\":\"https://api.github.com/users/christopherhuntley\",\"html_url\":\"https://github.com/christopherhuntley\",\"followers_url\":\"https://api.github.com/users/christopherhuntley/followers\",\"following_url\":\"https://api.github.com/users/christopherhuntley/following{/other_user}\",\"gists_url\":\"https://api.github.com/users/christopherhuntley/gists{/gist_id}\",\"starred_url\":\"https://api.github.com/users/christopherhuntley/starred{/owner}{/repo}\",\"subscriptions_url\":\"https://api.github.com/users/christopherhuntley/subscriptions\",\"organizations_url\":\"https://api.github.com/users/christopherhuntley/orgs\",\"repos_url\":\"https://api.github.com/users/christopherhuntley/repos\",\"events_url\":\"https://api.github.com/users/christopherhuntley/events{/privacy}\",\"received_events_url\":\"https://api.github.com/users/christopherhuntley/received_events\",\"type\":\"User\",\"site_admin\":false},\"committer\":{\"login\":\"christopherhuntley\",\"id\":6188254,\"node_id\":\"MDQ6VXNlcjYxODgyNTQ=\",\"avatar_url\":\"https://avatars1.githubusercontent.com/u/6188254?v=4\",\"gravatar_id\":\"\",\"url\":\"https://api.github.com/users/christopherhuntley\",\"html_url\":\"https://github.com/christopherhuntley\",\"followers_url\":\"https://api.github.com/users/christopherhuntley/followers\",\"following_url\":\"https://api.github.com/users/christopherhuntley/following{/other_user}\",\"gists_url\":\"https://api.github.com/users/christopherhuntley/gists{/gist_id}\",\"starred_url\":\"https://api.github.com/users/christopherhuntley/starred{/owner}{/repo}\",\"subscriptions_url\":\"https://api.github.com/users/christopherhuntley/subscriptions\",\"organizations_url\":\"https://api.github.com/users/christopherhuntley/orgs\",\"repos_url\":\"https://api.github.com/users/christopherhuntley/repos\",\"events_url\":\"https://api.github.com/users/christopherhuntley/events{/privacy}\",\"received_events_url\":\"https://api.github.com/users/christopherhuntley/received_events\",\"type\":\"User\",\"site_admin\":false},\"parents\":[{\"sha\":\"1d0aab19350e49b0cdf234ca7e4b3f19122ec19a\",\"url\":\"https://api.github.com/repos/christopherhuntley/BUAN5405-lessons/commits/1d0aab19350e49b0cdf234ca7e4b3f19122ec19a\",\"html_url\":\"https://github.com/christopherhuntley/BUAN5405-lessons/commit/1d0aab19350e49b0cdf234ca7e4b3f19122ec19a\"}]}]'"
      ]
     },
     "execution_count": 22,
     "metadata": {},
     "output_type": "execute_result"
    }
   ],
   "source": [
    "import requests\n",
    "\n",
    "raw_json = requests.get(\"https://api.github.com/repos/christopherhuntley/BUAN5405-lessons/commits?path=L12_Odds_Ends.ipynb\")\n",
    "raw_json.text"
   ]
  },
  {
   "cell_type": "markdown",
   "metadata": {},
   "source": [
    "\n",
    "Lovely, isn't it? This is **JavaScript Object Notation (JSON)**, which has become the lingua franca of data over the web. We can make it a little prettier using Python's built-in `json` library."
   ]
  },
  {
   "cell_type": "code",
   "execution_count": 24,
   "metadata": {},
   "outputs": [
    {
     "name": "stdout",
     "output_type": "stream",
     "text": [
      "[\n",
      "    {\n",
      "        \"sha\": \"81943548d82515962b3d01b8c2774393804fff15\",\n",
      "        \"node_id\": \"MDY6Q29tbWl0MjY5NzA5NTA2OjgxOTQzNTQ4ZDgyNTE1OTYyYjNkMDFiOGMyNzc0MzkzODA0ZmZmMTU=\",\n",
      "        \"commit\": {\n",
      "            \"author\": {\n",
      "                \"name\": \"Christopher Huntley\",\n",
      "                \"email\": \"christopher.huntley@gmail.com\",\n",
      "                \"date\": \"2020-06-20T05:42:17Z\"\n",
      "            },\n",
      "            \"committer\": {\n",
      "                \"name\": \"Christopher Huntley\",\n",
      "                \"email\": \"christopher.huntley@gmail.com\",\n",
      "                \"date\": \"2020-06-20T05:42:17Z\"\n",
      "            },\n",
      "            \"message\": \"Swapped assignment order and added intro to Lesson 12.\",\n",
      "            \"tree\": {\n",
      "                \"sha\": \"56519bc74c9a60615fd8af348d1e4144c77f3beb\",\n",
      "                \"url\": \"https://api.github.com/repos/christopherhuntley/BUAN5405-lessons/git/trees/56519bc74c9a60615fd8af348d1e4144c77f3beb\"\n",
      "            },\n",
      "            \"url\": \"https://api.github.com/repos/christopherhuntley/BUAN5405-lessons/git/commits/81943548d82515962b3d01b8c2774393804fff15\",\n",
      "            \"comment_count\": 0,\n",
      "            \"verification\": {\n",
      "                \"verified\": false,\n",
      "                \"reason\": \"unsigned\",\n",
      "                \"signature\": null,\n",
      "                \"payload\": null\n",
      "            }\n",
      "        },\n",
      "        \"url\": \"https://api.github.com/repos/christopherhuntley/BUAN5405-lessons/commits/81943548d82515962b3d01b8c2774393804fff15\",\n",
      "        \"html_url\": \"https://github.com/christopherhuntley/BUAN5405-lessons/commit/81943548d82515962b3d01b8c2774393804fff15\",\n",
      "        \"comments_url\": \"https://api.github.com/repos/christopherhuntley/BUAN5405-lessons/commits/81943548d82515962b3d01b8c2774393804fff15/comments\",\n",
      "        \"author\": {\n",
      "            \"login\": \"christopherhuntley\",\n",
      "            \"id\": 6188254,\n",
      "            \"node_id\": \"MDQ6VXNlcjYxODgyNTQ=\",\n",
      "            \"avatar_url\": \"https://avatars1.githubusercontent.com/u/6188254?v=4\",\n",
      "            \"gravatar_id\": \"\",\n",
      "            \"url\": \"https://api.github.com/users/christopherhuntley\",\n",
      "            \"html_url\": \"https://github.com/christopherhuntley\",\n",
      "            \"followers_url\": \"https://api.github.com/users/christopherhuntley/followers\",\n",
      "            \"following_url\": \"https://api.github.com/users/christopherhuntley/following{/other_user}\",\n",
      "            \"gists_url\": \"https://api.github.com/users/christopherhuntley/gists{/gist_id}\",\n",
      "            \"starred_url\": \"https://api.github.com/users/christopherhuntley/starred{/owner}{/repo}\",\n",
      "            \"subscriptions_url\": \"https://api.github.com/users/christopherhuntley/subscriptions\",\n",
      "            \"organizations_url\": \"https://api.github.com/users/christopherhuntley/orgs\",\n",
      "            \"repos_url\": \"https://api.github.com/users/christopherhuntley/repos\",\n",
      "            \"events_url\": \"https://api.github.com/users/christopherhuntley/events{/privacy}\",\n",
      "            \"received_events_url\": \"https://api.github.com/users/christopherhuntley/received_events\",\n",
      "            \"type\": \"User\",\n",
      "            \"site_admin\": false\n",
      "        },\n",
      "        \"committer\": {\n",
      "            \"login\": \"christopherhuntley\",\n",
      "            \"id\": 6188254,\n",
      "            \"node_id\": \"MDQ6VXNlcjYxODgyNTQ=\",\n",
      "            \"avatar_url\": \"https://avatars1.githubusercontent.com/u/6188254?v=4\",\n",
      "            \"gravatar_id\": \"\",\n",
      "            \"url\": \"https://api.github.com/users/christopherhuntley\",\n",
      "            \"html_url\": \"https://github.com/christopherhuntley\",\n",
      "            \"followers_url\": \"https://api.github.com/users/christopherhuntley/followers\",\n",
      "            \"following_url\": \"https://api.github.com/users/christopherhuntley/following{/other_user}\",\n",
      "            \"gists_url\": \"https://api.github.com/users/christopherhuntley/gists{/gist_id}\",\n",
      "            \"starred_url\": \"https://api.github.com/users/christopherhuntley/starred{/owner}{/repo}\",\n",
      "            \"subscriptions_url\": \"https://api.github.com/users/christopherhuntley/subscriptions\",\n",
      "            \"organizations_url\": \"https://api.github.com/users/christopherhuntley/orgs\",\n",
      "            \"repos_url\": \"https://api.github.com/users/christopherhuntley/repos\",\n",
      "            \"events_url\": \"https://api.github.com/users/christopherhuntley/events{/privacy}\",\n",
      "            \"received_events_url\": \"https://api.github.com/users/christopherhuntley/received_events\",\n",
      "            \"type\": \"User\",\n",
      "            \"site_admin\": false\n",
      "        },\n",
      "        \"parents\": [\n",
      "            {\n",
      "                \"sha\": \"1d0aab19350e49b0cdf234ca7e4b3f19122ec19a\",\n",
      "                \"url\": \"https://api.github.com/repos/christopherhuntley/BUAN5405-lessons/commits/1d0aab19350e49b0cdf234ca7e4b3f19122ec19a\",\n",
      "                \"html_url\": \"https://github.com/christopherhuntley/BUAN5405-lessons/commit/1d0aab19350e49b0cdf234ca7e4b3f19122ec19a\"\n",
      "            }\n",
      "        ]\n",
      "    }\n",
      "]\n"
     ]
    }
   ],
   "source": [
    "# raw_json was retrieved above.\n",
    "import json \n",
    "\n",
    "github_data = json.loads(raw_json.text)  # convert to native Python objects\n",
    "print(json.dumps(github_data, indent=4)) # pretty-print the JSON tree"
   ]
  },
  {
   "cell_type": "markdown",
   "metadata": {},
   "source": [
    "While still not easy on the eyes, we can now at least start to make out the data structure. It looks to be a hierarchy (or **tree**) of **nested lists and dictionaries,** one inside another. In fact, that's exactly what it is. The `json` library's `loads()` function converted everything into native Python for us.  (Strangely, we had to convert it back to JSON using `dumps()` in order to pretty print it.)\n",
    "\n",
    "Once we have the data in a Python-native tree format, it's pretty easy to traverse it to do things. We can refer to each **node** (item in the tree) using `[]` notation. We can determine a node's type of data (`list`, `dict`, `int`, `float`, `string`, `bytes`) using the `type()` or `instance_of()` functions. We can even select just the parts of the tree we want using slices. Though we won't do it here, we can even iterate through the tree searching for nodes of interest."
   ]
  },
  {
   "cell_type": "code",
   "execution_count": 39,
   "metadata": {},
   "outputs": [
    {
     "name": "stdout",
     "output_type": "stream",
     "text": [
      "The root ofthe tree is a <class 'list'> with 1 items.\n",
      "The first branch is a <class 'dict'> with 1 items.\n",
      "The commit message for the last commit was Swapped assignment order and added intro to Lesson 12.\n",
      "The committer was \n",
      " {\n",
      "    \"login\": \"christopherhuntley\",\n",
      "    \"id\": 6188254,\n",
      "    \"node_id\": \"MDQ6VXNlcjYxODgyNTQ=\",\n",
      "    \"avatar_url\": \"https://avatars1.githubusercontent.com/u/6188254?v=4\",\n",
      "    \"gravatar_id\": \"\",\n",
      "    \"url\": \"https://api.github.com/users/christopherhuntley\",\n",
      "    \"html_url\": \"https://github.com/christopherhuntley\",\n",
      "    \"followers_url\": \"https://api.github.com/users/christopherhuntley/followers\",\n",
      "    \"following_url\": \"https://api.github.com/users/christopherhuntley/following{/other_user}\",\n",
      "    \"gists_url\": \"https://api.github.com/users/christopherhuntley/gists{/gist_id}\",\n",
      "    \"starred_url\": \"https://api.github.com/users/christopherhuntley/starred{/owner}{/repo}\",\n",
      "    \"subscriptions_url\": \"https://api.github.com/users/christopherhuntley/subscriptions\",\n",
      "    \"organizations_url\": \"https://api.github.com/users/christopherhuntley/orgs\",\n",
      "    \"repos_url\": \"https://api.github.com/users/christopherhuntley/repos\",\n",
      "    \"events_url\": \"https://api.github.com/users/christopherhuntley/events{/privacy}\",\n",
      "    \"received_events_url\": \"https://api.github.com/users/christopherhuntley/received_events\",\n",
      "    \"type\": \"User\",\n",
      "    \"site_admin\": false\n",
      "}\n"
     ]
    }
   ],
   "source": [
    "print(\"The root of the tree is a\", type(github_data), \"with\",len(github_data), \"items.\") # ReST JSONs are always dicts or lists ...\n",
    "print(\"The first branch is a\", type(github_data[0]), \"with\",len(github_data), \"items.\")  # With nested dicts/lists inside; each list/dict is a branch of the tree\n",
    "print(\"The commit message for the last commit was\", github_data[0]['commit']['message']) # And the commit message is a leaf\n",
    "print(\"The committer was \\n\",json.dumps(github_data[0]['committer'],indent=4))           # We can also take a cutting from the tree home with us."
   ]
  },
  {
   "cell_type": "markdown",
   "metadata": {},
   "source": [
    "## Time Series"
   ]
  },
  {
   "cell_type": "markdown",
   "metadata": {},
   "source": [
    "---\n",
    "## Exercises\n",
    "**1. The code below retrieves a JSON tree with information about _Space Jam_, the 1996 Looney Tunes and MJ classic. Write your own code using the preset `spacejam` variable to answer the following questions:**\n",
    "- What was the film's budget?\n",
    "- Is the movie a thriller?\n",
    "- What character does Michael Jordan play?\n",
    "- How many crew members were there? \n",
    "\n",
    "For an extra challenge answer each of these questions by traversing the tree programmatically (with iteration or recursion) instead of using hardwired lookups like `spacejam[0]['cast'][0]`. "
   ]
  },
  {
   "cell_type": "code",
   "execution_count": 37,
   "metadata": {},
   "outputs": [],
   "source": [
    "import json\n",
    "import requests\n",
    "\n",
    "# spacejam.json is adapted from data downloaded from the TMDB api\n",
    "spacejam = json.loads(requests.get(\"https://raw.githubusercontent.com/christopherhuntley/BUAN5405-lessons/master/spacejam.json\").text)"
   ]
  },
  {
   "cell_type": "code",
   "execution_count": null,
   "metadata": {},
   "outputs": [],
   "source": [
    "# YOUR CODE HERE"
   ]
  },
  {
   "cell_type": "markdown",
   "metadata": {},
   "source": [
    "**2. **"
   ]
  },
  {
   "cell_type": "code",
   "execution_count": null,
   "metadata": {},
   "outputs": [],
   "source": []
  }
 ],
 "metadata": {
  "kernelspec": {
   "display_name": "Python 3",
   "language": "python",
   "name": "python3"
  },
  "language_info": {
   "codemirror_mode": {
    "name": "ipython",
    "version": 3
   },
   "file_extension": ".py",
   "mimetype": "text/x-python",
   "name": "python",
   "nbconvert_exporter": "python",
   "pygments_lexer": "ipython3",
   "version": "3.7.7"
  }
 },
 "nbformat": 4,
 "nbformat_minor": 4
}
