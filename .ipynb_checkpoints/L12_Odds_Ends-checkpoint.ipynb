{
 "cells": [
  {
   "cell_type": "markdown",
   "metadata": {},
   "source": [
    "<img src=\"https://github.com/christopherhuntley/BUAN5405-docs/blob/master/Slides/img/Dolan.png?raw=true\" width=\"180px\" align=\"right\">\n",
    "\n",
    "# Lesson 12: Odds and Ends\n",
    "_Tuples inside of lists inside of dictionaries ..._"
   ]
  },
  {
   "cell_type": "markdown",
   "metadata": {},
   "source": [
    "# Learning Objectives\n",
    "\n",
    "## Theory / Be able to explain ...\n",
    "- aaa\n",
    "\n",
    "## Skills / Know how to  ...\n",
    "- aaa\n",
    "\n",
    "**This is new content you won't find in the Py4E book. It is, however, somewhat related to the JSON materials in Chapter 13.**"
   ]
  },
  {
   "cell_type": "markdown",
   "metadata": {},
   "source": [
    "## So long, farewell, auf Wiedersehen, good night\n",
    "> This is the end, beautiful friend -- _The Doors_\n",
    "\n",
    "Now that we have pandas in our quiver, it would seem like \"what else do we need to know?\" Quite a lot actually. pandas is great for collecting our dataset into one place where we can do our work. DataFrames and Series bring together so many best practices that programmers have earned and learned over the past decades. However, it does not say much about the types of data we pour into our DataFrames. For that we will often need to pull in other libraries with even more data types, many of which build on top of pandas or numpy to make our lives that much better. We will briefly cover three such data types: JSON, Time Series, and Geocoded data. \n",
    "\n",
    "With this lesson we have reached the end of the course. "
   ]
  },
  {
   "cell_type": "code",
   "execution_count": null,
   "metadata": {},
   "outputs": [],
   "source": []
  }
 ],
 "metadata": {
  "kernelspec": {
   "display_name": "Python 3",
   "language": "python",
   "name": "python3"
  },
  "language_info": {
   "codemirror_mode": {
    "name": "ipython",
    "version": 3
   },
   "file_extension": ".py",
   "mimetype": "text/x-python",
   "name": "python",
   "nbconvert_exporter": "python",
   "pygments_lexer": "ipython3",
   "version": "3.7.7"
  }
 },
 "nbformat": 4,
 "nbformat_minor": 4
}
