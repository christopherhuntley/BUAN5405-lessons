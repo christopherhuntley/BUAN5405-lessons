{
 "cells": [
  {
   "cell_type": "markdown",
   "metadata": {},
   "source": [
    "<img src=\"https://github.com/christopherhuntley/BUAN5405-docs/blob/master/Slides/img/Dolan.png?raw=true\" style=\"width:180px; float:right\">\n",
    "\n",
    "# Lesson 1: Preliminaries\n",
    "_Concepts you should know before your first program_"
   ]
  },
  {
   "cell_type": "markdown",
   "metadata": {},
   "source": [
    "# Learning Objectives\n",
    "\n",
    "## Theory / Be able to explain ...\n",
    "- Programming as \n",
    "- General programming terms like source code, interpreter, compiler, object code, comment, data type, etc.\n",
    "- The different types of errors that require debugging\n",
    "\n",
    "## Skills / Know how to  ...\n",
    "- Run Python statements in Jupyter Notebooks\n",
    "- Use GitHub to track, archive, and share your work"
   ]
  },
  {
   "cell_type": "markdown",
   "metadata": {},
   "source": [
    "**What follows is adapted from Chapter 1 of the _Python For Everybody_ book. If you have not read it, then please do so before continuting on.**\n",
    "\n",
    "# Just the Highlights \n",
    "INSERT VIDEO HERE\n",
    "\n",
    "# The Art of Programming\n",
    "While many people think of computer programming as a technical skill practiced by math nerds and engineering geeks, it is actually one of the most creative of all practical arts. It is sort of like science fiction. Think of a world in which all the rules are editable, where we can change the laws of physics if we want to and then see how the universe plays out. The only limitations would be on what you can imagine and how well you can craft the laws to match what you seeing in your head. That's computer programming! Programmers turn mind stuff into working code that can be run by anybody with a computer. What could be more creative!\n",
    "\n",
    "# What's a computer? Why do we care? \n",
    "Interestingly, the word \"computer\" has been around for hundreds of years. In the 18th and 19th centuries, a computer was a person, usually a woman, who was really good at math and computation. If you've seen the movie \"Hidden Figures\" then you saw what it was like to be a human computer. \n",
    "\n",
    "Nowadays when we talk about computers we usually mean something like this (from the Py4E book):  \n",
    "\n",
    "![ComputerHardware](img/L1_1_ComputerHardware.png)\n",
    "\n",
    "If we think of the computer like a student working on a group homework assignment (i.e., a program), then ...\n",
    "\n",
    "- The **CPU** is the student's brain. It thinks through and completes the assigned tasks one by one until the assignment is done. \n",
    "- The **main memory** (RAM) is a sheet of scrap paper or an app used to carry out the current task. It knows nothing of the past or the future, just the things necessary to complete the current task. \n",
    "- The **secondary memory** (disk) is a book, filing cabinet, or database used to recall facts left over from previous tasks. It knows nothing about what the computer is doing. It just stores and recalls data as requested. Because there may be a lot of things to sift through to find what you are looking for, it is a lot slower to use than the main memory.   \n",
    "- The **input and output** devices (built-in keyboard, monitor, mouse, etc.) are how the student communicates with other students in the workgroup. The communication is _almost_ immediate but it does take time to listen and respond.  \n",
    "- The **network** (bluetooth, wifi, internet, etc.) is how the student communicates with others outside the group. Communication over the network is much, much slower than within the group. It's also not as reliable, with plenty of miscommunciation and misunderstanding making some messages almost impossible to send and recieve. \n",
    "\n",
    "**Why do we care?** Because just as a student does not want to put in all nighters when they could be hanging with their roommates, we want our programs to run as efficiently as was can manage. The word \"manage\" here is intentional. Just as some people are able to manage their time much better than others, some computer programmers manage to write good code without having to work so hard at it. While some of that is talent, most of it is practice and the discipline to get better over time. As any sports coach will tell you. Practice alone does not win games. _Good_ practice, with your mind and body fully engaged, is what wins games. "
   ]
  },
  {
   "cell_type": "markdown",
   "metadata": {},
   "source": [
    "# Programming Languages and Environments\n",
    "When we talk about a programming technology like Python, we are actually talking about two very different things:\n",
    "\n",
    "- The programming language used by us humans to get out thoughts into a digital form (code) that the computer can understand\n",
    "- The programming environment made up of other people's code, packaged in a way that our we can use to create and run our own programs\n",
    "\n",
    "Programming languages share a lot of features with human langauges. Every language, human or computer, has \n",
    "- a syntax (grammar rules) that dictate what consitutes valid phrase and sentences\n",
    "- a vocabulary with parts of speech (nouns, verbs, conjunctives, etc.), key words with universally-accepted meanings (I, you, me, am, are, have, ...), and contextual words with definitions that may vary according to how they are used \n",
    "- an idiomatic structure that dictates the \"usual\" way of expressive ourselves using the syntax and vocabulary\n",
    "\n",
    "Programming environments are generally composed of ...\n",
    "- tools (editors, compilers, etc.) needed to write code and get it into a runnable state\n",
    "- libraries of prewritten code that we can borrow from to write our own code\n",
    "- runtimes that allow us to execute the code\n",
    "\n",
    "## Python as a Language\n",
    "Python is designed to be a very compact language, with minimal syntax and vocabulary. The idea is that it should fit into your head without having to learn hundreds of words and grammar rules. In fact, Python has a base vocabulary of just 30 reserved words! All Python code is written with these words plus whatever other words we make up on our own! \n",
    "\n",
    "As for syntax, it is a small language, with just a few types of statements, yet flexible enough that a surprisng variety of regular English sentences work can be made to work, though perhaps with slightly altered phrasing and punctuation. Can you tell what this program does?\n",
    "\n",
    "```python\n",
    "the_fridge = [\"bud\", \"bud\", \"stella\", \"miller\"]\n",
    "\n",
    "for beer in the_fridge:\n",
    "    empty_bottle = drink(beer)\n",
    "    dispose(empty_bottle)\n",
    "    print(beer)\n",
    "    print(\"Another one's gone, another one's, another one bites the dust.\")\n",
    "\n",
    "```\n",
    "\n",
    "While you might not be completely sure, you can probably tell that it is rumaging through a virtual refrigerator looking for beers. Notice how many actual words were used. Those are shown in green or blue: `for`, `in`,and `print`.   The syntax is also pretty sparse: an equal sign, some commas, a few brackets and parentheses, a colon, and **white space**. Yes, in Python the line ends and indentation matters. We'll come back to that shortly! \n",
    "\n",
    "## Python as an Environment\n"
   ]
  },
  {
   "cell_type": "code",
   "execution_count": null,
   "metadata": {},
   "outputs": [],
   "source": []
  }
 ],
 "metadata": {
  "kernelspec": {
   "display_name": "Python 3",
   "language": "python",
   "name": "python3"
  },
  "language_info": {
   "codemirror_mode": {
    "name": "ipython",
    "version": 3
   },
   "file_extension": ".py",
   "mimetype": "text/x-python",
   "name": "python",
   "nbconvert_exporter": "python",
   "pygments_lexer": "ipython3",
   "version": "3.7.7"
  }
 },
 "nbformat": 4,
 "nbformat_minor": 4
}
