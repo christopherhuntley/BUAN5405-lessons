{
 "cells": [
  {
   "cell_type": "markdown",
   "metadata": {},
   "source": [
    "<img src=\"https://github.com/christopherhuntley/BUAN5405-docs/blob/master/Slides/img/Dolan.png?raw=true\" width=\"180px\" align=\"right\">\n",
    "\n",
    "# Lesson 5: Iteration\n",
    "_Keeping things DRY with loops_"
   ]
  },
  {
   "cell_type": "markdown",
   "metadata": {},
   "source": [
    "# Learning Objectives\n",
    "\n",
    "## Theory / Be able to explain ...\n",
    "- The elements and flow of iteration processes\n",
    "- Variable updating and in-place update operators\n",
    "- `while` loops and `for` loops \n",
    "- The role of design patterns in software architecture\n",
    "- The Accumulator design pattern\n",
    "\n",
    "## Skills / Know how to  ...\n",
    "- Use variable updating to capture in process data\n",
    "- Implement iteration logic with `while` and `for` loops\n",
    "- Break or short-circuit loop logic as needed\n",
    "- Use accumulators to capture cumulative data\n",
    "\n",
    "**What follows is adapted from Chapter 5 of the _Python For Everybody_ book. If you have not read it, then please do so before continuing on.**"
   ]
  },
  {
   "cell_type": "markdown",
   "metadata": {},
   "source": [
    "## If You Can Count, Then You Can Iterate\n",
    "\n",
    ">\"There are only two hard things in Computer Science: cache invalidation, naming things, and off-by-one errors.\" -- Phil Karlton\n",
    "\n",
    "Counting is one of the first math skills we learn. By the age of 18 months, a child can usually carry out the basic steps of marking off the next item on a list. They might get confused by the sixth or seventh item -- perhaps counting the same item twice -- but **a toddler can usually count up to 5 items.** It's not like the process is that hard:\n",
    "\n",
    "1. Choose an item from the pile.\n",
    "2. Mark off the item by saying the next number in the sequence. \n",
    "3. Place the item into another pile. \n",
    "4. Repeat 1-3 until there are no items left in the original pile.\n",
    "\n",
    "However, it is surprising how hard some novice programmers find it to **iterate** (mark off) items one at time. Given a list (or other sequence) of items to be processed exactly the same way, they will try to use what we call \"copy/paste/edit\" logic, modifying the code a little for the specifics of each item. Wow, what a complete waste of time. Instead, they should do exactly like the babies do: \n",
    "1. Take an item (it) off the list.\n",
    "2. Process it, taking note of any effects.\n",
    "3. If needed again, add it to an out-list of processed items.\n",
    "4. Repeat until the list is exhausted. \n",
    "\n",
    "Besides being more efficient for the programmer, it is also less buggy. The logic in step 2 is always the same, no matter how many times we repeat the loop. Why make things more difficult by doing it a different way each time?\n",
    "\n",
    "**This lesson is about iteration, the last of the four fundamental elements of Structured Programming.** By the end of this lesson you will know the basics of all programming logic. Everything else is somewhat derivative, as Edsger Dijkstra proved so many years ago. "
   ]
  },
  {
   "cell_type": "markdown",
   "metadata": {},
   "source": [
    "---\n",
    "## More than Just Counting: How about Long Division?\n",
    "While counting may be the first iterative process we learn as children, it is far from the last. Another is **long division**, which children used to master as a right of passage in primary school, but today is (sadly) not seen as an educational necessity. Instead, children are told to use a calculator. While somewhat practical in an age when everybody has phones in their pockets, children are being cheated out of an important lesson in algorithmic thinking needed for higher forms of math like algebra and calculus. The effects are obvious to those of us who teach quantitative sciences for a living. Many young adults today cannot reliably calculate an average of ten numbers, **even when armed with a calculator to do the arithmetic**. Instead they rely on tools like MS Excel that turn averaging into a feature instead of a process, which over time leads to a lack of intuitive understanding of important analytical concepts like centrality and variability. They see the world as static, with all the processing already done, all the data already processed, when real world data is anything but static.  And it all starts (or, more properly, ends for many people) with long division. \n",
    "\n",
    "Now that we have established its importance, what exactly is long division? Long division is a standard manual method for dividing one number (the **dividend**) by another (the **divisor**). The result is called the **quotient**, which may include a **remainder** if the first number cannot be evenly divided by the second. Like counting, it involves repetition of a fixed set of steps (with examples shown for the first pass): \n",
    "\n",
    "1. Identify the `dividend` and the `divisor`. For our purposes the dividend is treated as a string of digits that we can \"pull down\" (or, as we programmers call it, \"pop off\") one at a time starting from the left hand side. Similarly, we will build up the quotient one digit at a time by comparing the divisor with digits from the dividend. \n",
    "  * Set `dividend` = 1260257, `divisor` = 37, `quotient` = 0, `remainder` = 0.\n",
    "2. Pull down a digit `d` from the dividend and add it to the `remainder`.\n",
    "  * Set `remainder = 0 + d = 0 + 1 = 1`.\n",
    "3. Calculate a digit `q` by evenly dividing the `remainder` by the `divisor`, ignoring the non-integer fraction left over. (In Python we use the `//` operator for this sort of integer division.)\n",
    "  * Set `q = remainder // divisor = 1 // 37 = 0`; the first digit of the quotient is `0`. \n",
    "4. Calculate the `product` of `q` and the `divisor`.\n",
    "  * Set `product = q * divisor = 0`\n",
    "5. Subtract the `product` from the `remainder` and append the digit `q` to the `quotient`. \n",
    "  * The new `remainder` is (the previous) `remainder` - `product` or `1 - 0 = 1`.\n",
    "  * The new `quotient` is calculated as `quotient * 10 + q = 0 * 10 + 0 = 0`.\n",
    "6. Repeat steps 2-5 until no digits remain to pull down from the `dividend`. With each pass update the quotient by appending a digit to the right and update the remainder as indicated in step 5.  \n",
    "\n",
    "For those of you who like visuals, here is a useful animated GIF showing the rest of the process (after skipping the initial 0s in the quotient):\n",
    "\n",
    "![animated gif](https://upload.wikimedia.org/wikipedia/commons/f/f2/LongDivisionAnimated.gif)\n",
    "\n",
    "By <a href=\"//commons.wikimedia.org/wiki/User:Xanthoxyl\" title=\"User:Xanthoxyl\">Xanthoxyl</a> - <span class=\"int-own-work\" lang=\"en\">Own work</span>, <a href=\"https://creativecommons.org/licenses/by-sa/3.0\" title=\"Creative Commons Attribution-Share Alike 3.0\">CC BY-SA 3.0</a>, <a href=\"https://commons.wikimedia.org/w/index.php?curid=5818667\">Link</a> .\n",
    "\n",
    "That's a pretty complicated process, with at least six different variables to keep track of. Nonetheless a 9 year old can proudly show you if you forget how to do it.\n",
    "\n",
    "We will, _of course_, implement all this in Python. But first, let's consider the computational requirements:\n",
    "- **Pull down the next digit from the `dividend` in step 2.** We can easily do this by treating the dividend as a text string. However, we will consider a more advanced way in Lesson 8. \n",
    "- **Calculate `q` and `product` in steps 3 and 4.** These are straightforward arithmetic (and can be folded into step 5 if we wanted to).\n",
    "- **Update the `remainder` in place in steps 2 and 5.** This is what we call **variable updating**, which we will get to in a moment. \n",
    "- **Repeat the process for each digit of the `dividend`.** This is iteration. We will spend most of our time here in this lesson. "
   ]
  },
  {
   "cell_type": "markdown",
   "metadata": {},
   "source": [
    "### Variable Updating\n",
    "Up to now whenever we have changed the value of a variable we have done it through variable (re-)assignment.\n",
    "```python\n",
    "x = 1\n",
    "something_happens()\n",
    "x = 2\n",
    "```\n",
    "**Variable updating deals with the case where the same variable is on both sides of the equal sign `=`.** The classic and simplest case is adding 1 to `x` (as in counting):\n",
    "```python\n",
    "x = x + 1\n",
    "```\n",
    "Since this is just a special case of variable assignment, the 3-step process we learned in Lesson 2 still applies:\n",
    "1. Recall the variable `x`, which already exists (or else we get an error).\n",
    "2. Evaluate the expression `x+1`, which adds 1 to the current value of `x` (but doesn't change `x` itself). \n",
    "3. Assign `x` the value calculated in step 2.  \n",
    "\n",
    "It makes sense, but only if you understand the order of things. The variable only has one value at a time, even though at first it looks like we are saying something sort of like `1 = 2`. \n",
    "\n",
    "A couple remarks:\n",
    "- **The variable `x` need not refer to numerical values.** We can do the same thing with strings, lists, or any other data type supported by Python. The steps are the same each time.   \n",
    "- **We can subtract as easily as we can add.** In fact, any expression can be on the right side. It just has to include the variable from the left hand side of the `=`. \n",
    "\n",
    "To improve execution efficiency and eliminate spelling errors, Python has built-in **update operators** (a.k.a. \"augmented assignment statements\") for certain special cases:\n",
    "- `x += 1` is the same as `x = x + 1`  \n",
    "- `x -= 1` is the same as `x = x - 1`  \n",
    "\n",
    "You should get the general idea. Other update operators include `/=`, `*=`, `@=` (for matrix multiplication), and a few more obscure ones. In practice you will likely only encounter `+=` and `-=`. \n",
    "\n",
    "## Variable Updating in Long Division\n",
    "The long division process includes 3 variable updates:\n",
    "- `remainder = remainder*10 + int(d)` (from step 2; recall that `d` was the next in a string of digits in the dividend)\n",
    "- `remainder -= product` (from step 5; subtracts the product from the remainder)\n",
    "- `quotient = quotient*10 + q` (also from step 5; appends the next digit to the quotient)"
   ]
  },
  {
   "cell_type": "markdown",
   "metadata": {},
   "source": [
    "## Pulse Check ...\n",
    "Consider this snippet of code: \n",
    "```python\n",
    "x = 22\n",
    "x *= 3\n",
    "x += 15\n",
    "x /= 3\n",
    "x -= 4\n",
    "```\n",
    "**1. What is the final value of `x`?**"
   ]
  },
  {
   "cell_type": "markdown",
   "metadata": {},
   "source": [
    "YOUR ANSWER HERE"
   ]
  },
  {
   "cell_type": "markdown",
   "metadata": {},
   "source": [
    "**2. Combine the four updating steps into one statement (using just one update operator).** Hint: you may need to do a little middle school pre-algebra. "
   ]
  },
  {
   "cell_type": "code",
   "execution_count": null,
   "metadata": {},
   "outputs": [],
   "source": [
    "# YOUR ANSWER HERE"
   ]
  },
  {
   "cell_type": "markdown",
   "metadata": {},
   "source": [
    "---\n",
    "## `while` Loops\n",
    "If what we want to do is repeat a task an indefinite number of times, we can always use a `while` loop:\n",
    "```python\n",
    "while boolean_expression:\n",
    "    loop_body_block\n",
    "else:\n",
    "    else_block\n",
    "```\n",
    "Python will execute the code like so:\n",
    "\n",
    "1. Evaluate the boolean expression. \n",
    "2. If the boolean expression is True then execute the loop body. Otherwise, execute the else block (if it exists) and **terminate** the loop.  \n",
    "3. Return to step 1. \n",
    "\n",
    "A few notes:\n",
    "- **The `else` clause is optional.** It's used in cases where we need to ensure that _something_ happens with each evaluation of the boolean expression. \n",
    "- Unless you know what you are doing, **make sure that the boolean expression eventually evaluates to False.** That means that something has to happen inside the body of the loop to cause the value of the expression to change.\n",
    "- Most of the time you will need to **initialize a variable (i.e., assign it a value)** used in your boolean expression so that it evaluates to True the first time. That same variable (often what is called an _accumulator_) will likely need to be updated with each pass of the loop. Often we do that at the end of the loop body. \n",
    "- **Just as with `if` statements, don't forget the colons.** They are needed by Python to know where the boolean expression ends.\n",
    "- **We can create infinite loops by short-circuiting the boolean expression** (e.g., `while True: ...`). Then it is up to the loop body to terminate the loop using a `break` statement, which works similarly to what `return` does for functions. **Anytime that Python encounters a `break` it terminates the enclosing loop.**\n",
    "- We can short-circuit the loop body itself by using a `continue` statement to return to the top of the loop immediately, without executing the rest of the loop. This can make some things much, much faster.  \n",
    "\n",
    "Here's an example that generates the square of every number from 1 to 20:"
   ]
  },
  {
   "cell_type": "code",
   "execution_count": null,
   "metadata": {},
   "outputs": [],
   "source": [
    "i = 1            # initialize the counter variable\n",
    "while i <= 20:   # stop when i > 20 \n",
    "    print(i * i) # output i squared\n",
    "    i += 1       # update the counter"
   ]
  },
  {
   "cell_type": "markdown",
   "metadata": {},
   "source": [
    "### Chained Assignment\n",
    "When initializing several variables at once it is convenient to use **chained assignment**:\n",
    "```python\n",
    "x = y = z = 1\n",
    "```\n",
    "The rightmost value is assigned to each of the variables to its left. In this case that means setting `x`, `y`, and `z` to 1."
   ]
  },
  {
   "cell_type": "markdown",
   "metadata": {},
   "source": [
    "### Long Division with `while`\n",
    "We can implement long division with a `while` loop. Read the comments to understand how it works."
   ]
  },
  {
   "cell_type": "code",
   "execution_count": null,
   "metadata": {},
   "outputs": [],
   "source": [
    "# Set up the problem; can also use input() statements for this. \n",
    "divisor = 7\n",
    "dividend = 479\n",
    "\n",
    "# Initialize variables\n",
    "remainder = quotient = 0 # required by the long division algorithm; note the use of chained assignment\n",
    "\n",
    "digits = str(dividend)   # convert dividend to a string of digit characters\n",
    "i = 0                    # our counter used to indicate the current digit; Python counts from 0, not 1\n",
    "\n",
    "while i < len(digits):   # len(digits) is the number of characters in the string\n",
    "    \n",
    "    remainder = remainder*10 + int(digits[i])     # pull down the i-th digit into the remainder\n",
    "    q = remainder // divisor                      # determine the next digit of the quotient \n",
    "    product = q * divisor                         # calculate the product, and then ...\n",
    "    remainder -= product                          # subtract it from the remainder\n",
    "    \n",
    "    quotient = quotient*10 + q                    # add the next digit to the quotient\n",
    "    i += 1                                        # update i to move to the next digit\n",
    "    \n",
    "    \n",
    "print(str(quotient)+\"r\"+str(remainder))"
   ]
  },
  {
   "cell_type": "markdown",
   "metadata": {},
   "source": [
    "## Pulse Check ...\n",
    "**1. What does the following code do?** Edit the Markdown cell to add a comment to each line and then a comment on the top of the coe summarizing what it does. "
   ]
  },
  {
   "cell_type": "markdown",
   "metadata": {},
   "source": [
    "```python\n",
    "i = total = 0\n",
    "while i <= 20:\n",
    "    total += i\n",
    "    i += 1\n",
    "```"
   ]
  },
  {
   "cell_type": "markdown",
   "metadata": {},
   "source": [
    "**2. How would you calculate the same result as the code above in one line without using a loop.** Hint: Gauss was a very smart and lazy child. "
   ]
  },
  {
   "cell_type": "code",
   "execution_count": null,
   "metadata": {},
   "outputs": [],
   "source": [
    "# Your code here. "
   ]
  },
  {
   "cell_type": "markdown",
   "metadata": {},
   "source": [
    "---\n",
    "## `for` Loops\n",
    "Though `while` loops can be very useful, they do come with a lot of ceremony around initializing variables, crafting the right boolean expression at the top of the loop, and updating variables at the bottom of the loop. \n",
    "\n",
    "`for` loops are functionally equivalent to `while` loops but with all of the ceremony handled by Python behind the scenes:\n",
    "```python\n",
    "for i in sequence:\n",
    "    do_something_with_i\n",
    "else:\n",
    "    handle_empty_sequence\n",
    "```\n",
    "Remarks: \n",
    "- **The `sequence` is evaluated exactly once, before anything else.** It could be a string of characters, a list of items, or any number of other things that can be ordered into a sequence.\n",
    "- **Each time through the loop the \"index\" variable `i` is updated to the next item in the sequence.** It does to have to be an integer. If we have a list of fruits, then each `i` is a fruit. \n",
    "- **The `else` clause, `continue`, and `break` apply here just like with `while` loops.** All are optional, of course. \n",
    "- **There are other special forms of indexing that we will learn about in later lesson.** The vast majority of the time the index is just like we have it here. \n",
    "\n",
    "Here is our \"squares up to 20\" code updated to use a `for` loop:"
   ]
  },
  {
   "cell_type": "code",
   "execution_count": null,
   "metadata": {},
   "outputs": [],
   "source": [
    "for i in range(1,21):     # range(21) generates the sequence of numbers 1, 2, 3, ... 20\n",
    "    print(i*i)"
   ]
  },
  {
   "cell_type": "markdown",
   "metadata": {},
   "source": [
    "While it is just two lines shorter than the `while` version, **this code is much easier to maintain**, with a lot less work on the part of the programmer. \n",
    "### Long Division with `for`"
   ]
  },
  {
   "cell_type": "code",
   "execution_count": null,
   "metadata": {},
   "outputs": [],
   "source": [
    "# Set up the problem; can also use input() statements for this. \n",
    "divisor = 7\n",
    "dividend = 479\n",
    "\n",
    "# Initialize variables\n",
    "remainder = quotient = 0                # required by the long division algorithm  \n",
    "                                          \n",
    "for d in str(dividend):                 # for each digit of the dividend:\n",
    "    remainder = remainder*10 + int(d)     # pull down the i-th digit into the remainder\n",
    "    q = remainder // divisor              # determine the next digit of the quotient \n",
    "    product = q * divisor                 # calculate the product, and then ...\n",
    "    remainder -= product                  # subtract it from the remainder\n",
    "    \n",
    "    quotient = quotient*10 + q            # add the next digit to the quotient\n",
    "    \n",
    "    \n",
    "print(str(quotient)+\"r\"+str(remainder))"
   ]
  },
  {
   "cell_type": "markdown",
   "metadata": {},
   "source": [
    "Can you spot what changed from the `while` loop version?\n",
    "- The conversion from an integer dividend to a string of digits is done with a single expression `str(dividend)`, without the need for initializing the `digits` variable. \n",
    "- The digit `d` _is_ the next digit. We no longer need to do the bookkeeping with `i` to mark out the digits.\n",
    "- There is no need to update anything from one pass to the next. The `for` loop does it for us. \n",
    "\n",
    "Perhaps this seems like nothing special but it really is easier to maintain this code. Instead of so much code to implement the loop controls, we now can focus pretty much entirely on the body of the loop, which is where the real work happens. `for` loops are the \"lazy, but smart\" version of `while` loops. When they are applicable, use them (unless there is an \"even lazier and smarter\" way with pandas or numpy). "
   ]
  },
  {
   "cell_type": "markdown",
   "metadata": {},
   "source": [
    "## Pulse Check ...\n",
    "**1. Replace the `while` loop below with an equivalent ` for` loop.**\n",
    "```python\n",
    "i = total = 0\n",
    "while i <= 20:\n",
    "    total += i\n",
    "    i += 1\n",
    "```"
   ]
  },
  {
   "cell_type": "code",
   "execution_count": null,
   "metadata": {},
   "outputs": [],
   "source": [
    "# YOUR CODE HERE"
   ]
  },
  {
   "cell_type": "markdown",
   "metadata": {},
   "source": [
    "**2. Explain what is happening in the code below. What does it tell us about how `for` loop indexes work in Python? How is it different from the way `while` loops work?** "
   ]
  },
  {
   "cell_type": "code",
   "execution_count": null,
   "metadata": {},
   "outputs": [],
   "source": [
    "for i in range(1,10):\n",
    "    print(i)\n",
    "    i += 10\n",
    "    print(i)\n",
    "    print(\"---\")"
   ]
  },
  {
   "cell_type": "markdown",
   "metadata": {},
   "source": [
    "YOUR ANSWER HERE."
   ]
  },
  {
   "cell_type": "markdown",
   "metadata": {},
   "source": [
    "---\n",
    "## Pro Tips"
   ]
  },
  {
   "cell_type": "markdown",
   "metadata": {},
   "source": [
    "### The Accumulator Pattern: Iteration as a General Design Principle\n",
    "In any profession there eventually develops a kind of shorthand language that everybody uses that others outside the profession find totally baffling. In programming we call these shorthand terms **[design patterns](https://en.wikipedia.org/wiki/Software_design_pattern), defined as \"standard problems with standard solutions\"**. Need to do A? Then try solutions X, Y, and Z. \n",
    "\n",
    "Iteration itself is not a design pattern. It is not a problem, after all. Instead, it represents an entire class of solutions to wide variety of programming problems.  Quite simply, any problem that involves acting on a set of things is likely to involve an iteration-based solution. The name we use for these sorts of problems is the **Accumulator Pattern**.  \n",
    "\n",
    "The Py4E textbook uses the term _accumulator_ for variables like `count` or `total` that are updated inside loops. Accumulators act as a kind of process memory, building up (accumulating) a record of what has happened so far. Another accumulator was the `quotient` in our long division codes. We built it up one digit at a time. \n",
    "\n",
    "While these sorts of accumulators are great for introducing the concept, they are but the simplest examples of a much broader set of possibilities. We can, for example, accumulate transaction records at an ATM, or grades in a course, or ... well, just about anything that requires a precise record of past _iterations_ of a process. A database accumulates data and makes it persistent. A CSV file accumulates records with each row that is added. A machine learning model accumulates accuracy statistics with each test exemplar. (Yes, \"exemplar\" is a word. Look it up.) In each case, the pattern is the same: accumulation of artifacts from iterating over a set of items. And now we know how to handle each of these cases in our code. "
   ]
  },
  {
   "cell_type": "markdown",
   "metadata": {},
   "source": [
    "---\n",
    "## Exercises\n",
    "**1. Rewrite your waist to hip ratio code to handle data from multiple people.**\n",
    "- Use `input()` statements to ask for waist, hip, and gender data. Then call your function and print the result.\n",
    "- Repeat the loop until you get a non-numerical waist or hip size, something like \"q\".\n",
    "- To minimize lines of code use an infinite loop with a `break`."
   ]
  },
  {
   "cell_type": "code",
   "execution_count": null,
   "metadata": {},
   "outputs": [],
   "source": [
    "# YOUR CODE HERE"
   ]
  },
  {
   "cell_type": "markdown",
   "metadata": {},
   "source": [
    "**2. Write a `for` loop to string together the first 20 natural numbers as a single integer. Then check to see if that integer is divisible by 3.** For the first 3 numbers the integer would be 123, which is 41*3. "
   ]
  },
  {
   "cell_type": "code",
   "execution_count": null,
   "metadata": {},
   "outputs": [],
   "source": [
    "# YOUR CODE HERE"
   ]
  },
  {
   "cell_type": "markdown",
   "metadata": {},
   "source": [
    "**3. Rewrite this code so that it prints all powers of 2 up to a certain number (e.g., 400) _without using multiplication * or exponentiation **_.**  Hint: You will need to change each of the last three lines _slightly_ to get it working.  \n",
    "```python\n",
    "i = 1            # initialize the counter variable\n",
    "while i <= 20:   # stop when i > 20 \n",
    "    print(i * i) # output i squared\n",
    "    i += 1       # update the counter\n",
    "```"
   ]
  },
  {
   "cell_type": "code",
   "execution_count": null,
   "metadata": {},
   "outputs": [],
   "source": [
    "# YOUR CODE HERE"
   ]
  },
  {
   "cell_type": "markdown",
   "metadata": {},
   "source": [
    "**4. Write a snippet of code to print out the first 10 numbers in the [Fibonacci sequence](https://en.wikipedia.org/wiki/Fibonacci_number).** Every programmer who has ever lived has done this exercise in some form or another.  "
   ]
  },
  {
   "cell_type": "code",
   "execution_count": null,
   "metadata": {},
   "outputs": [],
   "source": [
    "# Code to calculate the first 10 Fibonacci numbers.\n",
    "\n",
    "# YOUR CODE HERE. "
   ]
  }
 ],
 "metadata": {
  "kernelspec": {
   "display_name": "Python 3",
   "language": "python",
   "name": "python3"
  },
  "language_info": {
   "codemirror_mode": {
    "name": "ipython",
    "version": 3
   },
   "file_extension": ".py",
   "mimetype": "text/x-python",
   "name": "python",
   "nbconvert_exporter": "python",
   "pygments_lexer": "ipython3",
   "version": "3.7.7"
  }
 },
 "nbformat": 4,
 "nbformat_minor": 4
}
