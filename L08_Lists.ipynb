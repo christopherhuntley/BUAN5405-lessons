{
 "cells": [
  {
   "cell_type": "markdown",
   "metadata": {},
   "source": [
    "<img src=\"https://github.com/christopherhuntley/BUAN5405-docs/blob/master/Slides/img/Dolan.png?raw=true\" width=\"180px\" align=\"right\">\n",
    "\n",
    "# Lesson 8: Lists\n",
    "_If you can only have one collection type, make it a list_"
   ]
  },
  {
   "cell_type": "markdown",
   "metadata": {},
   "source": [
    "# Learning Objectives\n",
    "\n",
    "## Theory / Be able to explain ...\n",
    "- The list as a mutable sequential type\n",
    "- Slice Assignment\n",
    "- The various list methods and functions\n",
    "- The effects of list aliasing\n",
    "- The function and syntax of list comprehensions\n",
    "\n",
    "## Skills / Know how to  ...\n",
    "- Create and modify lists in place\n",
    "- Splice one list into another\n",
    "- Make shallow and deep copies of lists\n",
    "- Use list comprehensions as list-generating expressions\n",
    "\n",
    "**What follows is adapted from Chapter 8 of the _Python For Everybody_ book. If you have not read it, then please do so before continuing on.**"
   ]
  },
  {
   "cell_type": "markdown",
   "metadata": {},
   "source": [
    "## C Arrays: A Lingering Legacy\n",
    "If we dig deep enough into the Python libraries, we eventually find that much of Python itself is actually written in C, a language that is still used for operating systems and certain high performance applications. C is about as close to programming in assembly language, one step up from machine code, as we might ever want to venture. Writing C code is like driving a 1960s muscle car: it runs everything as fast as possible but lacks any and all safety features. It is, as Ralph Nader famously described one muscle car, _Unsafe at Any Speed_.  \n",
    "\n",
    "Writing code in C that dealt with collections of things meant using *arrays*. A C array was a block of raw memory (RAM) set aside in advance to fit whatever data was poured into it (as bytes). The array data itself was always of one data type (usually `int`, `float`, or `char`) and it was darn near impossible to safely resize the array after the memory was allocated. Fortunately there was often not enough data available to need to resize the array. \n",
    "\n",
    "To avoid the need to think too hard when creating arrays, smart and lazy programmers wrote utility code like this (from _Numerical Recipes in C_) to to handle basic memory management:\n",
    "```c\n",
    "\n",
    "float *vector(nl,nh)\n",
    "int nl, nh;\n",
    "Allocates a float Vector with range [n1..nh] \n",
    "{\n",
    "    v=(float *)malloc((unsigned) (nh-nl+1)*sizeof(float);\n",
    "    if ((!v) nerror(\"allocation failure in vector()\");\n",
    "    return v-nl;\n",
    "}\n",
    "```\n",
    "\n",
    "What a great innovation! We could specify that we wanted a `float` vector array with indexes `nl` to `nh` and it would do all the tricky math for us. \n",
    "\n",
    "Now, come the bad part. Let's say that we have allocated an array to hold 100 `floats` but then we try to insert 101 floats into it? C would just do it anyway, overwriting whatever was already in memory just beyond the alloctaed block of 100. The result? Usually either a major security bug or a random system crash. It was possible to write code that would run flawlessly for days at a time before randomly crashing. The programmer then might spend weeks hunting through the code looking for the error. \n",
    "\n",
    "So, it is perhaps no surprise that smart and lazy programmers tend to write their code in Python these days. It's just so much more time efficient. \n",
    "\n",
    "Python has an data type called `array` that is like the old C arrays but with all the data protections built in. Not many people use it, however. Instead they just use a `list` which is so much more convenient:\n",
    "\n",
    "- A list can contain **any number of items**, subject to how much memory is available.\n",
    "- Each list item can be of **any data type**. We can even **mix data types** within the list. \n",
    "- Lists can be **extended**, **sliced**, and even **truncated** as needed. \n",
    "\n",
    "We have already seen lists in action in the previous lessons. In this lesson we will fill in the details.  "
   ]
  },
  {
   "cell_type": "markdown",
   "metadata": {},
   "source": [
    "---\n",
    "## Lists as Mutable Sequences\n",
    "The two types of sequences we have looked at so far, files and strings, are very hard or impossible to modify in place. A list, however, is designed to modified. Its sort of why we make lists.\n",
    "\n",
    "So, for example, consider the following snippet:"
   ]
  },
  {
   "cell_type": "code",
   "execution_count": 1,
   "metadata": {},
   "outputs": [
    {
     "name": "stdout",
     "output_type": "stream",
     "text": [
      "Go Stags!\n",
      "['G', 'o', ' ', 'S', 't', 'a', 'g', 's', '!']\n",
      "['G', 'o', ' ', 'L', 'a', 'd', 'y', ' ', 'S', 't', 'a', 'g', 's', '!']\n",
      "['G', 'o', ' ', 'L', 'a', 'd', 'y', ' ', 'S', 't', 'a', 'g', 's']\n",
      "['G', 'o', ' ', 'L', 'a', 'd', 'y', ' ', 'S', 't', 'a', 'g', 's', '!', ' ', 'G', 'o', '!']\n",
      "Go Lady Stags! Go!\n"
     ]
    }
   ],
   "source": [
    "print(\"Go Stags!\")\n",
    "\n",
    "go_stags = list(\"Go Stags!\")   # Convert to a list\n",
    "print(go_stags)\n",
    "\n",
    "go_stags[3:3]=\"Lady \"          # Insert items into the middle of the list\n",
    "print(go_stags)\n",
    "\n",
    "del go_stags[len(go_stags)-1]  # Truncate the list \n",
    "print(go_stags)\n",
    "\n",
    "go_stags += list(\"! Go!\")      # Extend the list\n",
    "print(go_stags)\n",
    "\n",
    "print(\"\".join(go_stags))       # convert back to a string"
   ]
  },
  {
   "cell_type": "markdown",
   "metadata": {},
   "source": [
    "### Appending and Deleting List Items\n",
    "The `+=` operator works just like with strings except that it works in place. The expression to the right of the `+=` must evaluate to a list, even it is is just one item. \n",
    "\n",
    "To remove an item from a specific position in a list we use the `del` statement as shown in the example above, which removed the trailing exclamation point from the list.  "
   ]
  },
  {
   "cell_type": "markdown",
   "metadata": {},
   "source": [
    "### Lists of Lists\n",
    "Lists can contain items of any data type, including lists. To refer to elements in the inner (\"nested\") list you just add another bracket operator [] to the end. This works for string items as well."
   ]
  },
  {
   "cell_type": "code",
   "execution_count": 2,
   "metadata": {},
   "outputs": [
    {
     "name": "stdout",
     "output_type": "stream",
     "text": [
      "[1, ['alpha', 'beta', 'gamma'], 3, 4]\n",
      "['alpha', 'beta', 'gamma']\n",
      "gamma\n",
      "m\n"
     ]
    }
   ],
   "source": [
    "a_list = [1, [\"alpha\",\"beta\",\"gamma\"], 3, 4]\n",
    "\n",
    "print(a_list)           # the full list\n",
    "print(a_list[1])        # the nested sublist\n",
    "print(a_list[1][2])     # an item ('Gamma') in the nested sublist \n",
    "print(a_list[1][2][3])  # the second 'm' from the string 'Gamma'"
   ]
  },
  {
   "cell_type": "markdown",
   "metadata": {},
   "source": [
    "### Slice Assignment (Splicing)\n",
    "We used slices with strings. They work almost the same with lists, with one notable exception: we can use the slice operator in assigment statements. \n",
    "\n",
    "When we slice a list, the part \"sliced out\" is replaceable with something else. It's like Python creates a temporary variable that we can assign list values to as we please."
   ]
  },
  {
   "cell_type": "code",
   "execution_count": 3,
   "metadata": {},
   "outputs": [
    {
     "name": "stdout",
     "output_type": "stream",
     "text": [
      "[2, 3]\n",
      "[1, 'a', 'b', 'c', 'd', 4]\n"
     ]
    }
   ],
   "source": [
    "my_list = [1,2,3,4]\n",
    "\n",
    "print(my_list[1:3])\n",
    "\n",
    "my_list[1:3] = [\"a\",\"b\",\"c\",\"d\"]\n",
    "print(my_list)"
   ]
  },
  {
   "cell_type": "markdown",
   "metadata": {},
   "source": [
    "In essence we cut the list just before positions 1 and 3 (the slice) and then spliced a new sequence into the gap. If we want to do the splicing without losing any items in the list, then we just use a 0-position slice."
   ]
  },
  {
   "cell_type": "code",
   "execution_count": 4,
   "metadata": {},
   "outputs": [
    {
     "name": "stdout",
     "output_type": "stream",
     "text": [
      "[1, 'a', 'b', 'c', 'd', 2, 3, 4]\n"
     ]
    }
   ],
   "source": [
    "my_list = [1,2,3,4]\n",
    "my_list[1:1] = [\"a\",\"b\",\"c\",\"d\"]\n",
    "print(my_list)"
   ]
  },
  {
   "cell_type": "markdown",
   "metadata": {},
   "source": [
    "### Pulse Check ..."
   ]
  },
  {
   "cell_type": "markdown",
   "metadata": {},
   "source": [
    "---\n",
    "## List Methods\n",
    "While the methods available for lists are not as impressive as for strings, they are more than adequate:\n",
    "- `count()` counts the number of times a  given item appears in the list\n",
    "- `index()` returns the first position where a given item appears in the list\n",
    "- `reverse()` and `sort()` reorder the items in the list\n",
    "- `append()`, `extend()`, and `insert()` splice in new items into the list\n",
    "- `remove()`, `pop()`, and `clear()` delete items from the list\n",
    "- `copy()` returns a **shallow copy** of the list; we'll come back to this in a bit"
   ]
  },
  {
   "cell_type": "markdown",
   "metadata": {},
   "source": [
    "### Pulse Check ..."
   ]
  },
  {
   "cell_type": "code",
   "execution_count": null,
   "metadata": {},
   "outputs": [],
   "source": []
  },
  {
   "cell_type": "markdown",
   "metadata": {},
   "source": [
    "---\n",
    "## List Functions\n",
    "Many of Python's built-in functions work with lists.\n",
    "- `len()` counts the items in the list.\n",
    "- `sum()` totals the values of the items in the list.\n",
    "- `min()` and `max()` do what they appear to do.\n",
    "- `sorted()` and `reversed()` returns iterators of the list items in the indicated order.\n",
    "\n",
    "Other functions work too, once you translate the list to an iterator with `sorted()`, `reversed()` or `__iter__()`. "
   ]
  },
  {
   "cell_type": "markdown",
   "metadata": {},
   "source": [
    "### Pulse Check ..."
   ]
  },
  {
   "cell_type": "code",
   "execution_count": null,
   "metadata": {},
   "outputs": [],
   "source": []
  },
  {
   "cell_type": "markdown",
   "metadata": {},
   "source": [
    "---\n",
    "## Lists as Objects"
   ]
  },
  {
   "cell_type": "markdown",
   "metadata": {},
   "source": [
    "### Aliases vs Copies\n",
    "All of the data types we have considered so far can be considered as singular, (somewhat) immutable entities. In order to divide them we have to create new entities. While 2 = 1 + 1 that does not mean we can turn 1 into 2. Or, though \"Go\" is composed of the characters 'G' and 'o', the characters are each different strings from the original. \n",
    "\n",
    "A list is different. It exists to be a **container** for other entities. So, mull over the following: "
   ]
  },
  {
   "cell_type": "code",
   "execution_count": 5,
   "metadata": {},
   "outputs": [
    {
     "name": "stdout",
     "output_type": "stream",
     "text": [
      "1\n",
      "[1, 2, 'a', 4]\n"
     ]
    }
   ],
   "source": [
    "x = 1 \n",
    "y = x     # assignment y = value of x\n",
    "y = 2     # modify y\n",
    "print(x)  # x is unchanged\n",
    "\n",
    "a = [1,2,3,4]\n",
    "b = a     # assigment b = value of a\n",
    "b[2]=\"a\"  # modify b\n",
    "print(a)  # a is changed too!"
   ]
  },
  {
   "cell_type": "markdown",
   "metadata": {},
   "source": [
    "It's like voodoo. By changing `b` we also change `a`. How is that possible? Because the assignment `b = a` sets the value of `b` to the _container_ `a`. If we alter the contents of the container, we modify the value of both `a` and `b`. In Python terms we say that `a` and `b` are **aliases** for the same list.\n",
    "\n",
    "The alternative to an alias is to make a **copy** of the list. "
   ]
  },
  {
   "cell_type": "code",
   "execution_count": 6,
   "metadata": {},
   "outputs": [
    {
     "name": "stdout",
     "output_type": "stream",
     "text": [
      "[1, 2, 3, 4]\n"
     ]
    }
   ],
   "source": [
    "a = [1,2,3,4]\n",
    "b = list(a)\n",
    "b[2]=\"a\"\n",
    "print(a)"
   ]
  },
  {
   "cell_type": "markdown",
   "metadata": {},
   "source": [
    "Calling `list()` to construct a list from the original list, creates a **shallow copy**. The copy has _exactly_ the same items as the original list (but is nonetheless a new list). If any of those copied items is a nested list, then **the same container** (the nested list) is in both copies. "
   ]
  },
  {
   "cell_type": "code",
   "execution_count": 7,
   "metadata": {},
   "outputs": [
    {
     "name": "stdout",
     "output_type": "stream",
     "text": [
      "[1, ['alpha', 2, 'gamma'], 3, 4]\n"
     ]
    }
   ],
   "source": [
    "a_list = [1, [\"alpha\",\"beta\",\"gamma\"], 3, 4]\n",
    "b_shallow = list(a_list)         # a shallow copy of a_list\n",
    "b_shallow[1][1]=2                # modify the nested list\n",
    "print(a_list)                    # also modifies a_list"
   ]
  },
  {
   "cell_type": "markdown",
   "metadata": {},
   "source": [
    "To make a **deep copy** of a list we need the `copy` module from the standard library."
   ]
  },
  {
   "cell_type": "code",
   "execution_count": 8,
   "metadata": {},
   "outputs": [
    {
     "name": "stdout",
     "output_type": "stream",
     "text": [
      "[1, ['alpha', 'beta', 'gamma'], 3, 4]\n"
     ]
    }
   ],
   "source": [
    "import copy\n",
    "a_list = [1, [\"alpha\",\"beta\",\"gamma\"], 3, 4]\n",
    "b_deep = copy.deepcopy(a_list)   # deep copy of a_list\n",
    "b_deep[1][1]=2                   # modify the deep copy\n",
    "print(a_list)                    # a_list is unchanged"
   ]
  },
  {
   "cell_type": "markdown",
   "metadata": {},
   "source": [
    "### Impact of List Aliasing on Functions\n",
    "Just as assignment to a list creates an alias, so it also works for functions. After all, a function parameter is just a kind of local variable. The parameters get set via assignment from the arguments just before executing the funtion body. So, if the function modifies the list in any way, then the modifications live on after the function is done. If That is not what you want, then be sure to pass copies as arguments instead of the lists themselves. That way the _copies_ get aliased and then discarded after the function returns.  "
   ]
  },
  {
   "cell_type": "markdown",
   "metadata": {},
   "source": [
    "### Pulse Check ..."
   ]
  },
  {
   "cell_type": "code",
   "execution_count": null,
   "metadata": {},
   "outputs": [],
   "source": []
  },
  {
   "cell_type": "markdown",
   "metadata": {},
   "source": [
    "---\n",
    "## Pro Tips"
   ]
  },
  {
   "cell_type": "markdown",
   "metadata": {},
   "source": [
    "### List Comprehensions\n",
    "A list comprehension is a quirky one-line combination of a `for` loop with a conditional expression. The result is a list. The syntax is\n",
    "```python\n",
    "[ expression for item in sequence if condition]\n",
    "```\n",
    "- the `for` loop iterates through the sequence\n",
    "- if the condition (which likely includes `item`\n",
    "- the value of the expression (which also includes `item`) is added to the list\n",
    "\n",
    "It is equivalent to \n",
    "```python\n",
    "lst = [] # an empty list\n",
    "for item in sequence:\n",
    "    if condition:\n",
    "        lst += expression\n",
    "```\n",
    "Except, of course, that the comprehension doesnt need to create a local variable for the list. A comprehension is an expression to be evaluated, not a statement to be executed. If we want the comprehension to be remembered then we use an assignment statement. \n",
    "\n",
    "List comprehensions are very handy at times, especially when you ony need a list one time, say as an argument to a function call. You may never need to use one, but when you do, it can save a lot of effort. "
   ]
  },
  {
   "cell_type": "markdown",
   "metadata": {},
   "source": [
    "## Exercises"
   ]
  },
  {
   "cell_type": "code",
   "execution_count": null,
   "metadata": {},
   "outputs": [],
   "source": []
  }
 ],
 "metadata": {
  "kernelspec": {
   "display_name": "Python 3",
   "language": "python",
   "name": "python3"
  },
  "language_info": {
   "codemirror_mode": {
    "name": "ipython",
    "version": 3
   },
   "file_extension": ".py",
   "mimetype": "text/x-python",
   "name": "python",
   "nbconvert_exporter": "python",
   "pygments_lexer": "ipython3",
   "version": "3.7.7"
  }
 },
 "nbformat": 4,
 "nbformat_minor": 4
}
