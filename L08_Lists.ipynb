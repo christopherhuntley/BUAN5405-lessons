{
 "cells": [
  {
   "cell_type": "markdown",
   "metadata": {},
   "source": [
    "<img src=\"https://github.com/christopherhuntley/BUAN5405-docs/blob/master/Slides/img/Dolan.png?raw=true\" width=\"180px\" align=\"right\">\n",
    "\n",
    "# Lesson 8: Lists\n",
    "_If you can only have one collection type, make it a list_"
   ]
  },
  {
   "cell_type": "markdown",
   "metadata": {},
   "source": [
    "# Learning Objectives\n",
    "\n",
    "## Theory / Be able to explain ...\n",
    "- The list as a mutable sequential type\n",
    "- Slice Assignment\n",
    "- The various list methods and functions\n",
    "- The effects of list aliasing\n",
    "- The function and syntax of list comprehensions\n",
    "\n",
    "## Skills / Know how to  ...\n",
    "- Create and modify lists in place\n",
    "- Splice one list into another\n",
    "- Make shallow and deep copies of lists\n",
    "- Use list comprehensions as list-generating expressions\n",
    "\n",
    "**What follows is adapted from Chapter 8 of the _Python For Everybody_ book. If you have not read it, then please do so before continuing on.**"
   ]
  },
  {
   "cell_type": "markdown",
   "metadata": {},
   "source": [
    "## C Arrays: A Lingering Legacy\n",
    "If we dig deep enough into the Python libraries, we eventually find that much of Python itself is actually written in C, a language that is still commonly used for operating systems and certain high performance applications. C is about as close to programming in assembly language, one step up from machine code, as we might ever want to venture. Writing C code is like driving a 1960s muscle car: it runs everything as fast as possible but lacks any and all safety features. It is, as Ralph Nader famously described one muscle car, _Unsafe at Any Speed_.  \n",
    "\n",
    "Writing code in C that dealt with collections of things meant using *arrays*. A C array was a block of raw memory (RAM) set aside in advance to fit whatever data was poured into it (as bytes). The array data itself was always of one data type (usually `int`, `float`, or `char`) and it was darn near impossible to safely resize the array after the memory was allocated. Fortunately in the heyday of C for data analysis datasets tended to be small enough to estimate in advance how much memory was needed. \n",
    "\n",
    "To avoid the need to think too hard when creating arrays, smart and lazy programmers wrote utility code like this (from _Numerical Recipes in C_) to handle basic memory management with some degree of safety:\n",
    "```c\n",
    "\n",
    "float *vector(nl,nh)\n",
    "int nl, nh;\n",
    "Allocates a float Vector with range [n1..nh] \n",
    "{\n",
    "    v=(float *)malloc((unsigned) (nh-nl+1)*sizeof(float);\n",
    "    if ((!v) nerror(\"allocation failure in vector()\");\n",
    "    return v-nl;\n",
    "}\n",
    "```\n",
    "\n",
    "What a great innovation! We could specify that we wanted a `float` array of a given size (`nh-nl+1`) and it would do all the tricky math for us. \n",
    "\n",
    "Now for the scary part ... Let's say that we have allocated an array to hold 100 items but then we try to insert 101 items into it? C would just do it anyway, overwriting whatever was already in memory just beyond the end of the array. The result? Usually either a major security bug or a random system crash. It was possible to write code that would run flawlessly for days at a time before randomly crashing. The programmer then might spend weeks hunting through the code looking for the error. Imagine if you had to run something a week at a time just to test it one time! You would make sure you looked over every line of code a dozen times before kicking off the next test. \n",
    "\n",
    "So, it is perhaps no surprise that smart and lazy programmers tend to write their code in Python these days. It's just so much more time efficient. \n",
    "\n",
    "Python has a data type called `array` that is like the old C arrays but with all the proper data protections built in. Not many people use it, however. Instead they just use a `list` which is so much more convenient:\n",
    "\n",
    "- A list can contain **any number of items**, subject to how much memory is available.\n",
    "- Each list item can be of **any data type**. We can even **mix data types** within the list. \n",
    "- Lists can be **extended**, **sliced**, and even **truncated** as needed. \n",
    "\n",
    "We have already seen lists in action in the previous lessons. In this lesson we will fill in the details.  "
   ]
  },
  {
   "cell_type": "markdown",
   "metadata": {},
   "source": [
    "---\n",
    "## Lists as Mutable Sequences\n",
    "The two types of sequences we have looked at so far, files and strings, are very hard or impossible to modify in place. A list, however, is designed to be modified. It's sort of why we make lists.\n",
    "\n",
    "So, for example, consider the following snippet:"
   ]
  },
  {
   "cell_type": "code",
   "execution_count": 1,
   "metadata": {},
   "outputs": [
    {
     "name": "stdout",
     "output_type": "stream",
     "text": [
      "Go Stags!\n",
      "['G', 'o', ' ', 'S', 't', 'a', 'g', 's', '!']\n",
      "['G', 'o', ' ', 'L', 'a', 'd', 'y', ' ', 'S', 't', 'a', 'g', 's', '!']\n",
      "['G', 'o', ' ', 'L', 'a', 'd', 'y', ' ', 'S', 't', 'a', 'g', 's']\n",
      "['G', 'o', ' ', 'L', 'a', 'd', 'y', ' ', 'S', 't', 'a', 'g', 's', '!', ' ', 'G', 'o', '!']\n",
      "Go Lady Stags! Go!\n"
     ]
    }
   ],
   "source": [
    "print(\"Go Stags!\")\n",
    "\n",
    "go_stags = list(\"Go Stags!\")   # Convert to a list\n",
    "print(go_stags)\n",
    "\n",
    "go_stags[3:3]=\"Lady \"          # Insert items into the middle of the list\n",
    "print(go_stags)\n",
    "\n",
    "del go_stags[len(go_stags)-1]  # Truncate the list \n",
    "print(go_stags)\n",
    "\n",
    "go_stags += list(\"! Go!\")      # Extend the list\n",
    "print(go_stags)\n",
    "\n",
    "print(\"\".join(go_stags))       # convert back to a string"
   ]
  },
  {
   "cell_type": "markdown",
   "metadata": {},
   "source": [
    "### Appending and Deleting List Items\n",
    "The `+=` operator works just like with strings except that it works in place. The expression to the right of the `+=` must evaluate to a list, even if it is just one item. \n",
    "\n",
    "To remove an item from a specific position in a list we use the `del` statement as shown in the example above, which removed the trailing exclamation point from the list.  "
   ]
  },
  {
   "cell_type": "markdown",
   "metadata": {},
   "source": [
    "### Lists of Lists\n",
    "Lists can contain items of any data type, including lists. To refer to elements in the inner (\"nested\") list you just add another bracket operator [] to the end. This works for string items as well."
   ]
  },
  {
   "cell_type": "code",
   "execution_count": 2,
   "metadata": {},
   "outputs": [
    {
     "name": "stdout",
     "output_type": "stream",
     "text": [
      "[1, ['alpha', 'beta', 'gamma'], 3, 4]\n",
      "['alpha', 'beta', 'gamma']\n",
      "gamma\n",
      "m\n"
     ]
    }
   ],
   "source": [
    "a_list = [1, [\"alpha\",\"beta\",\"gamma\"], 3, 4]\n",
    "\n",
    "print(a_list)           # the full list\n",
    "print(a_list[1])        # the nested sublist\n",
    "print(a_list[1][2])     # an item ('Gamma') in the nested sublist \n",
    "print(a_list[1][2][3])  # the second 'm' from the string 'Gamma'"
   ]
  },
  {
   "cell_type": "markdown",
   "metadata": {},
   "source": [
    "### Slice Assignment (Splicing)\n",
    "We used slices with strings. They work almost the same with lists, with one notable exception: we can use the slice operator in assignment statements. \n",
    "\n",
    "When we slice a list, the part \"sliced out\" is replaceable with something else. It's like Python creates a temporary variable that we can assign list values to as we please."
   ]
  },
  {
   "cell_type": "code",
   "execution_count": 3,
   "metadata": {},
   "outputs": [
    {
     "name": "stdout",
     "output_type": "stream",
     "text": [
      "[2, 3]\n",
      "[1, 'a', 'b', 'c', 'd', 4]\n"
     ]
    }
   ],
   "source": [
    "my_list = [1,2,3,4]\n",
    "\n",
    "print(my_list[1:3])\n",
    "\n",
    "my_list[1:3] = [\"a\",\"b\",\"c\",\"d\"]\n",
    "print(my_list)"
   ]
  },
  {
   "cell_type": "markdown",
   "metadata": {},
   "source": [
    "In essence we cut the list just before positions 1 and 3 (the slice) and then spliced a new sequence into the gap. If we want to do the splicing without losing any items in the list, then we just use a 0-position slice."
   ]
  },
  {
   "cell_type": "code",
   "execution_count": 4,
   "metadata": {},
   "outputs": [
    {
     "name": "stdout",
     "output_type": "stream",
     "text": [
      "[1, 'a', 'b', 'c', 'd', 2, 3, 4]\n"
     ]
    }
   ],
   "source": [
    "my_list = [1,2,3,4]\n",
    "my_list[1:1] = [\"a\",\"b\",\"c\",\"d\"]\n",
    "print(my_list)"
   ]
  },
  {
   "cell_type": "markdown",
   "metadata": {},
   "source": [
    "### Pulse Check ...\n",
    "**Rewrite the code immediately above so that it inserts `[\"a\",\"b\",\"c\",\"d\"]` as a nested list.** The result should be `[1, ['a', 'b', 'c', 'd'], 2, 3, 4]`"
   ]
  },
  {
   "cell_type": "code",
   "execution_count": null,
   "metadata": {},
   "outputs": [],
   "source": [
    "# YOUR CODE HERE"
   ]
  },
  {
   "cell_type": "markdown",
   "metadata": {},
   "source": [
    "---\n",
    "## List Methods\n",
    "While the methods available for lists are not as impressive as for strings, they are more than adequate:\n",
    "- `count()` counts the number of times a  given item appears in the list\n",
    "- `index()` returns the first position where a given item appears in the list\n",
    "- `reverse()` and `sort()` reorder the items in the list\n",
    "- `append()`, `extend()`, and `insert()` splice in new items into the list\n",
    "- `remove()`, `pop()`, and `clear()` delete items from the list\n",
    "- `copy()` returns a **shallow copy** of the list; we'll come back to this in a bit"
   ]
  },
  {
   "cell_type": "markdown",
   "metadata": {},
   "source": [
    "### Pulse Check ...\n",
    "**Write a function called `mirror()` that returns the reverse of a string appended to itself.**\n",
    "`mirror(\"Go Stags!\")` = \"Go Stags!!sgatS oG\""
   ]
  },
  {
   "cell_type": "code",
   "execution_count": null,
   "metadata": {},
   "outputs": [],
   "source": [
    "# YOUR CODE HERE"
   ]
  },
  {
   "cell_type": "markdown",
   "metadata": {},
   "source": [
    "---\n",
    "## List Functions\n",
    "Many of Python's built-in functions work with lists.\n",
    "- `len()` counts the items in the list.\n",
    "- `sum()` totals the values of the items in the list.\n",
    "- `min()` and `max()` do what they appear to do.\n",
    "- `sorted()` and `reversed()` returns iterators of the list items in the indicated order.\n",
    "\n",
    "Other functions work too, once you translate the list to an iterator with `sorted()`, `reversed()` or `__iter__()`. "
   ]
  },
  {
   "cell_type": "markdown",
   "metadata": {},
   "source": [
    "### Pulse Check ...\n",
    "**Rewrite your `mirror()` function so that it uses the `reversed()` function.**  "
   ]
  },
  {
   "cell_type": "code",
   "execution_count": null,
   "metadata": {},
   "outputs": [],
   "source": []
  },
  {
   "cell_type": "markdown",
   "metadata": {},
   "source": [
    "---\n",
    "## Lists as Objects"
   ]
  },
  {
   "cell_type": "markdown",
   "metadata": {},
   "source": [
    "### Aliases vs Copies\n",
    "All of the data types we have considered so far can be considered as singular, (somewhat) immutable entities. In order to divide them we have to create new entities. While 2 = 1 + 1 that does not mean we can turn 1 into 2. Or, though \"Go\" is composed of the characters 'G' and 'o', the characters are each different strings from the original. \n",
    "\n",
    "A list is different. It exists to be a **container** for other entities. So, mull over the following: "
   ]
  },
  {
   "cell_type": "code",
   "execution_count": 5,
   "metadata": {},
   "outputs": [
    {
     "name": "stdout",
     "output_type": "stream",
     "text": [
      "1\n",
      "[1, 2, 'a', 4]\n"
     ]
    }
   ],
   "source": [
    "x = 1 \n",
    "y = x     # assignment y = value of x\n",
    "y = 2     # modify y\n",
    "print(x)  # x is unchanged\n",
    "\n",
    "a = [1,2,3,4]\n",
    "b = a     # assignment b = value of a\n",
    "b[2]=\"a\"  # modify b\n",
    "print(a)  # a is changed too!"
   ]
  },
  {
   "cell_type": "markdown",
   "metadata": {},
   "source": [
    "It's like voodoo. By changing `b` we also change `a`. How is that possible? Because the assignment `b = a` sets the value of `b` to the _container_ `a`. If we alter the contents of the container, we modify the value of both `a` and `b`. In Python terms we say that `a` and `b` are **aliases** for the same list.\n",
    "\n",
    "The alternative to an alias is to make a **copy** of the list. "
   ]
  },
  {
   "cell_type": "code",
   "execution_count": 6,
   "metadata": {},
   "outputs": [
    {
     "name": "stdout",
     "output_type": "stream",
     "text": [
      "[1, 2, 3, 4]\n"
     ]
    }
   ],
   "source": [
    "a = [1,2,3,4]\n",
    "b = list(a)\n",
    "b[2]=\"a\"\n",
    "print(a)"
   ]
  },
  {
   "cell_type": "markdown",
   "metadata": {},
   "source": [
    "Calling `list()` to construct a list from the original list, creates a **shallow copy**. The copy has _exactly_ the same items as the original list (but is nonetheless a new list). If any of those copied items is a nested list, then **the same container** (the nested list) is in both copies. "
   ]
  },
  {
   "cell_type": "code",
   "execution_count": 7,
   "metadata": {},
   "outputs": [
    {
     "name": "stdout",
     "output_type": "stream",
     "text": [
      "[1, ['alpha', 2, 'gamma'], 3, 4]\n"
     ]
    }
   ],
   "source": [
    "a_list = [1, [\"alpha\",\"beta\",\"gamma\"], 3, 4]\n",
    "b_shallow = list(a_list)         # a shallow copy of a_list\n",
    "b_shallow[1][1]=2                # modify the nested list\n",
    "print(a_list)                    # also modifies a_list"
   ]
  },
  {
   "cell_type": "markdown",
   "metadata": {},
   "source": [
    "To make a **deep copy** of a list we need the `copy` module from the standard library."
   ]
  },
  {
   "cell_type": "code",
   "execution_count": 8,
   "metadata": {},
   "outputs": [
    {
     "name": "stdout",
     "output_type": "stream",
     "text": [
      "[1, ['alpha', 'beta', 'gamma'], 3, 4]\n"
     ]
    }
   ],
   "source": [
    "import copy\n",
    "a_list = [1, [\"alpha\",\"beta\",\"gamma\"], 3, 4]\n",
    "b_deep = copy.deepcopy(a_list)   # deep copy of a_list\n",
    "b_deep[1][1]=2                   # modify the deep copy\n",
    "print(a_list)                    # a_list is unchanged"
   ]
  },
  {
   "cell_type": "markdown",
   "metadata": {},
   "source": [
    "### Impact of List Aliasing on Functions\n",
    "Just as assignment to a list creates an alias, so it also works for functions. After all, a function parameter is just a kind of local variable. The parameters get set via assignment from the arguments just before executing the function body. So, if the function modifies the list in any way, then the modifications live on after the function is done. If That is not what you want, then be sure to pass copies as arguments instead of the lists themselves. That way the _copies_ get aliased and then discarded after the function returns.  "
   ]
  },
  {
   "cell_type": "markdown",
   "metadata": {},
   "source": [
    "### Pulse Check ...\n",
    "**The code below has an infinite loop. Debug it to eliminate the loop.** \n",
    "\n",
    "```python\n",
    "\n",
    "def add_0(lst):\n",
    "    lst += [0]\n",
    "\n",
    "x = [1,2,3,4]\n",
    "for i in x:\n",
    "    add_0(x)\n",
    "    print(x)\n",
    "```\n",
    "After fixing the loop, the correct output is:\n",
    "```\n",
    "[1,2,3,4,0]\n",
    "[1,2,3,4,0,0]\n",
    "[1,2,3,4,0,0,0]\n",
    "[1,2,3,4,0,0,0,0]\n",
    "```\n",
    "Hints\n",
    "- You will need to make a shallow copy of `x` somewhere in your code.\n",
    "- The fix only affects one line of code and it is outside the loop body.\n",
    "- If you get stuck in an infinite loop, then restart the runtime."
   ]
  },
  {
   "cell_type": "code",
   "execution_count": 3,
   "metadata": {},
   "outputs": [
    {
     "name": "stderr",
     "output_type": "stream",
     "text": [
      "IOPub data rate exceeded.\n",
      "The notebook server will temporarily stop sending output\n",
      "to the client in order to avoid crashing it.\n",
      "To change this limit, set the config variable\n",
      "`--NotebookApp.iopub_data_rate_limit`.\n",
      "\n",
      "Current values:\n",
      "NotebookApp.iopub_data_rate_limit=1000000.0 (bytes/sec)\n",
      "NotebookApp.rate_limit_window=3.0 (secs)\n",
      "\n"
     ]
    },
    {
     "ename": "KeyboardInterrupt",
     "evalue": "",
     "output_type": "error",
     "traceback": [
      "\u001b[0;31m---------------------------------------------------------------------------\u001b[0m",
      "\u001b[0;31mKeyboardInterrupt\u001b[0m                         Traceback (most recent call last)",
      "\u001b[0;32m<ipython-input-3-d812cf2e2f82>\u001b[0m in \u001b[0;36m<module>\u001b[0;34m\u001b[0m\n\u001b[1;32m      6\u001b[0m \u001b[0;32mfor\u001b[0m \u001b[0mi\u001b[0m \u001b[0;32min\u001b[0m \u001b[0mx\u001b[0m\u001b[0;34m:\u001b[0m\u001b[0;34m\u001b[0m\u001b[0;34m\u001b[0m\u001b[0m\n\u001b[1;32m      7\u001b[0m     \u001b[0madd_0\u001b[0m\u001b[0;34m(\u001b[0m\u001b[0mx\u001b[0m\u001b[0;34m)\u001b[0m\u001b[0;34m\u001b[0m\u001b[0;34m\u001b[0m\u001b[0m\n\u001b[0;32m----> 8\u001b[0;31m     \u001b[0mprint\u001b[0m\u001b[0;34m(\u001b[0m\u001b[0mx\u001b[0m\u001b[0;34m)\u001b[0m\u001b[0;34m\u001b[0m\u001b[0;34m\u001b[0m\u001b[0m\n\u001b[0m",
      "\u001b[0;32m~/anaconda3/lib/python3.7/site-packages/ipykernel/iostream.py\u001b[0m in \u001b[0;36mwrite\u001b[0;34m(self, string)\u001b[0m\n\u001b[1;32m    400\u001b[0m             \u001b[0mis_child\u001b[0m \u001b[0;34m=\u001b[0m \u001b[0;34m(\u001b[0m\u001b[0;32mnot\u001b[0m \u001b[0mself\u001b[0m\u001b[0;34m.\u001b[0m\u001b[0m_is_master_process\u001b[0m\u001b[0;34m(\u001b[0m\u001b[0;34m)\u001b[0m\u001b[0;34m)\u001b[0m\u001b[0;34m\u001b[0m\u001b[0;34m\u001b[0m\u001b[0m\n\u001b[1;32m    401\u001b[0m             \u001b[0;31m# only touch the buffer in the IO thread to avoid races\u001b[0m\u001b[0;34m\u001b[0m\u001b[0;34m\u001b[0m\u001b[0;34m\u001b[0m\u001b[0m\n\u001b[0;32m--> 402\u001b[0;31m             \u001b[0mself\u001b[0m\u001b[0;34m.\u001b[0m\u001b[0mpub_thread\u001b[0m\u001b[0;34m.\u001b[0m\u001b[0mschedule\u001b[0m\u001b[0;34m(\u001b[0m\u001b[0;32mlambda\u001b[0m \u001b[0;34m:\u001b[0m \u001b[0mself\u001b[0m\u001b[0;34m.\u001b[0m\u001b[0m_buffer\u001b[0m\u001b[0;34m.\u001b[0m\u001b[0mwrite\u001b[0m\u001b[0;34m(\u001b[0m\u001b[0mstring\u001b[0m\u001b[0;34m)\u001b[0m\u001b[0;34m)\u001b[0m\u001b[0;34m\u001b[0m\u001b[0;34m\u001b[0m\u001b[0m\n\u001b[0m\u001b[1;32m    403\u001b[0m             \u001b[0;32mif\u001b[0m \u001b[0mis_child\u001b[0m\u001b[0;34m:\u001b[0m\u001b[0;34m\u001b[0m\u001b[0;34m\u001b[0m\u001b[0m\n\u001b[1;32m    404\u001b[0m                 \u001b[0;31m# newlines imply flush in subprocesses\u001b[0m\u001b[0;34m\u001b[0m\u001b[0;34m\u001b[0m\u001b[0;34m\u001b[0m\u001b[0m\n",
      "\u001b[0;32m~/anaconda3/lib/python3.7/site-packages/ipykernel/iostream.py\u001b[0m in \u001b[0;36mschedule\u001b[0;34m(self, f)\u001b[0m\n\u001b[1;32m    200\u001b[0m         \u001b[0mIf\u001b[0m \u001b[0mthe\u001b[0m \u001b[0mthread\u001b[0m \u001b[0;32mis\u001b[0m \u001b[0;32mnot\u001b[0m \u001b[0mrunning\u001b[0m\u001b[0;34m,\u001b[0m \u001b[0mcall\u001b[0m \u001b[0mimmediately\u001b[0m\u001b[0;34m.\u001b[0m\u001b[0;34m\u001b[0m\u001b[0;34m\u001b[0m\u001b[0m\n\u001b[1;32m    201\u001b[0m         \"\"\"\n\u001b[0;32m--> 202\u001b[0;31m         \u001b[0;32mif\u001b[0m \u001b[0mself\u001b[0m\u001b[0;34m.\u001b[0m\u001b[0mthread\u001b[0m\u001b[0;34m.\u001b[0m\u001b[0mis_alive\u001b[0m\u001b[0;34m(\u001b[0m\u001b[0;34m)\u001b[0m\u001b[0;34m:\u001b[0m\u001b[0;34m\u001b[0m\u001b[0;34m\u001b[0m\u001b[0m\n\u001b[0m\u001b[1;32m    203\u001b[0m             \u001b[0mself\u001b[0m\u001b[0;34m.\u001b[0m\u001b[0m_events\u001b[0m\u001b[0;34m.\u001b[0m\u001b[0mappend\u001b[0m\u001b[0;34m(\u001b[0m\u001b[0mf\u001b[0m\u001b[0;34m)\u001b[0m\u001b[0;34m\u001b[0m\u001b[0;34m\u001b[0m\u001b[0m\n\u001b[1;32m    204\u001b[0m             \u001b[0;31m# wake event thread (message content is ignored)\u001b[0m\u001b[0;34m\u001b[0m\u001b[0;34m\u001b[0m\u001b[0;34m\u001b[0m\u001b[0m\n",
      "\u001b[0;32m~/anaconda3/lib/python3.7/threading.py\u001b[0m in \u001b[0;36mis_alive\u001b[0;34m(self)\u001b[0m\n\u001b[1;32m   1101\u001b[0m         \u001b[0;32mif\u001b[0m \u001b[0mself\u001b[0m\u001b[0;34m.\u001b[0m\u001b[0m_is_stopped\u001b[0m \u001b[0;32mor\u001b[0m \u001b[0;32mnot\u001b[0m \u001b[0mself\u001b[0m\u001b[0;34m.\u001b[0m\u001b[0m_started\u001b[0m\u001b[0;34m.\u001b[0m\u001b[0mis_set\u001b[0m\u001b[0;34m(\u001b[0m\u001b[0;34m)\u001b[0m\u001b[0;34m:\u001b[0m\u001b[0;34m\u001b[0m\u001b[0;34m\u001b[0m\u001b[0m\n\u001b[1;32m   1102\u001b[0m             \u001b[0;32mreturn\u001b[0m \u001b[0;32mFalse\u001b[0m\u001b[0;34m\u001b[0m\u001b[0;34m\u001b[0m\u001b[0m\n\u001b[0;32m-> 1103\u001b[0;31m         \u001b[0mself\u001b[0m\u001b[0;34m.\u001b[0m\u001b[0m_wait_for_tstate_lock\u001b[0m\u001b[0;34m(\u001b[0m\u001b[0;32mFalse\u001b[0m\u001b[0;34m)\u001b[0m\u001b[0;34m\u001b[0m\u001b[0;34m\u001b[0m\u001b[0m\n\u001b[0m\u001b[1;32m   1104\u001b[0m         \u001b[0;32mreturn\u001b[0m \u001b[0;32mnot\u001b[0m \u001b[0mself\u001b[0m\u001b[0;34m.\u001b[0m\u001b[0m_is_stopped\u001b[0m\u001b[0;34m\u001b[0m\u001b[0;34m\u001b[0m\u001b[0m\n\u001b[1;32m   1105\u001b[0m \u001b[0;34m\u001b[0m\u001b[0m\n",
      "\u001b[0;32m~/anaconda3/lib/python3.7/threading.py\u001b[0m in \u001b[0;36m_wait_for_tstate_lock\u001b[0;34m(self, block, timeout)\u001b[0m\n\u001b[1;32m   1058\u001b[0m         \u001b[0;32mif\u001b[0m \u001b[0mlock\u001b[0m \u001b[0;32mis\u001b[0m \u001b[0;32mNone\u001b[0m\u001b[0;34m:\u001b[0m  \u001b[0;31m# already determined that the C code is done\u001b[0m\u001b[0;34m\u001b[0m\u001b[0;34m\u001b[0m\u001b[0m\n\u001b[1;32m   1059\u001b[0m             \u001b[0;32massert\u001b[0m \u001b[0mself\u001b[0m\u001b[0;34m.\u001b[0m\u001b[0m_is_stopped\u001b[0m\u001b[0;34m\u001b[0m\u001b[0;34m\u001b[0m\u001b[0m\n\u001b[0;32m-> 1060\u001b[0;31m         \u001b[0;32melif\u001b[0m \u001b[0mlock\u001b[0m\u001b[0;34m.\u001b[0m\u001b[0macquire\u001b[0m\u001b[0;34m(\u001b[0m\u001b[0mblock\u001b[0m\u001b[0;34m,\u001b[0m \u001b[0mtimeout\u001b[0m\u001b[0;34m)\u001b[0m\u001b[0;34m:\u001b[0m\u001b[0;34m\u001b[0m\u001b[0;34m\u001b[0m\u001b[0m\n\u001b[0m\u001b[1;32m   1061\u001b[0m             \u001b[0mlock\u001b[0m\u001b[0;34m.\u001b[0m\u001b[0mrelease\u001b[0m\u001b[0;34m(\u001b[0m\u001b[0;34m)\u001b[0m\u001b[0;34m\u001b[0m\u001b[0;34m\u001b[0m\u001b[0m\n\u001b[1;32m   1062\u001b[0m             \u001b[0mself\u001b[0m\u001b[0;34m.\u001b[0m\u001b[0m_stop\u001b[0m\u001b[0;34m(\u001b[0m\u001b[0;34m)\u001b[0m\u001b[0;34m\u001b[0m\u001b[0;34m\u001b[0m\u001b[0m\n",
      "\u001b[0;31mKeyboardInterrupt\u001b[0m: "
     ]
    }
   ],
   "source": [
    "# The Infinite Loop Code\n",
    "def add_0(lst):\n",
    "    lst += [0]\n",
    "\n",
    "x = [1,2,3,4]\n",
    "for i in x:\n",
    "    add_0(x)\n",
    "    print(x)"
   ]
  },
  {
   "cell_type": "markdown",
   "metadata": {},
   "source": [
    "---\n",
    "## Pro Tips"
   ]
  },
  {
   "cell_type": "markdown",
   "metadata": {},
   "source": [
    "### List Comprehensions\n",
    "A list comprehension is a quirky one-line combination of a `for` loop with a conditional expression. The result is a list. The syntax is\n",
    "```python\n",
    "[ expression for item in sequence if condition]\n",
    "```\n",
    "- the `for` loop iterates through the sequence\n",
    "- if the condition (which likely includes `item`\n",
    "- the value of the expression (which also includes `item`) is added to the list\n",
    "\n",
    "It is equivalent to \n",
    "```python\n",
    "lst = [] # an empty list\n",
    "for item in sequence:\n",
    "    if condition:\n",
    "        lst += expression\n",
    "```\n",
    "Except, of course, that the comprehension doesn't need to create a local variable for the list. A comprehension is an expression to be evaluated, not a statement to be executed. If we want the comprehension to be remembered then we use an assignment statement. \n",
    "\n",
    "List comprehensions are very handy at times, especially when you only need a list one time, say as an argument to a function call. You may never need to use one, but when you do, it can save a lot of effort. "
   ]
  },
  {
   "cell_type": "markdown",
   "metadata": {},
   "source": [
    "## Exercises\n",
    "**1. Write a code snippet that applies your `waist2hip_ratio()` function to each (W, H, G) triplet in the following list of lists:**\n",
    "`[[28,40,'F'],[23, 35, 'F'],[30,40,'M'],[30,37,'M'],[32,39,'M']]`"
   ]
  },
  {
   "cell_type": "code",
   "execution_count": null,
   "metadata": {},
   "outputs": [],
   "source": [
    "# YOUR CODE HERE"
   ]
  },
  {
   "cell_type": "markdown",
   "metadata": {},
   "source": [
    "**2. Write a function called `inside_out()` that works as follows:** \n",
    "- It takes as input a list with a nested inner list. \n",
    "- Call the original list `list_outer` and the nested one `list_inner`.\n",
    "- Remove `nested_list` from `list_outer`, remembering the `position` of `list_inner` within `list_outer`. \n",
    "- Insert `list_outer` (as a nested list) into the `list_inner` in the same `position` as `list_inner` was inside `list_outer`.\n",
    "- If `position` >= `len(list_inner)` then append `list_outer` (as a nested list) to the end of `list_inner`.\n",
    "\n",
    "For example, `inside_out([1,2,['a','b','c','d'],3, 4])` returns `['a','b',[1,2,3,4],'c','d']`."
   ]
  },
  {
   "cell_type": "code",
   "execution_count": null,
   "metadata": {},
   "outputs": [],
   "source": [
    "# YOUR CODE HERE"
   ]
  }
 ],
 "metadata": {
  "kernelspec": {
   "display_name": "Python 3",
   "language": "python",
   "name": "python3"
  },
  "language_info": {
   "codemirror_mode": {
    "name": "ipython",
    "version": 3
   },
   "file_extension": ".py",
   "mimetype": "text/x-python",
   "name": "python",
   "nbconvert_exporter": "python",
   "pygments_lexer": "ipython3",
   "version": "3.7.7"
  }
 },
 "nbformat": 4,
 "nbformat_minor": 4
}
